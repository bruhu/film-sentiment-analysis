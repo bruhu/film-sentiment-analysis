{
 "cells": [
  {
   "cell_type": "markdown",
   "metadata": {},
   "source": [
    "## Film Analysis\n",
    "\n",
    "The dataset **clean_films_id.csv** contains **(x) rows** and **(x) columns** with films released between **1906 and 2024**.\n",
    "\n",
    "### Questions to Explore:\n",
    "1. **Sentiment Scores**:  \n",
    "   - Compare sentiment scores across genres.  \n",
    "   - Investigate differences in sentiment between movies **with** and **without trigger warnings**.\n",
    "\n",
    "2. **Sentiment and Reviews**:  \n",
    "   - Analyze if there is a noticeable difference in sentiment of movie reviews based on **genre** and **trigger warnings**.\n",
    "\n",
    "3. **Correlations**:  \n",
    "   - Explore correlations between **sentiment scores**, **movie ratings**, and **box office earnings**.\n",
    "\n",
    "4. **Impact of Trigger Warnings on Ratings**:  \n",
    "   - Analyze how the presence of trigger warnings influences movie ratings across platforms (e.g., **IMDb**, **Rotten Tomatoes**).  \n",
    "   - Use trigger warnings as a categorical variable to compare movie ratings for films **with** and **without trigger warnings**.\n",
    "\n",
    "5. **Statistical Testing**:  \n",
    "   - Conduct statistical tests like **t-tests** or **ANOVA** to determine if there’s a significant difference in ratings based on trigger warnings.\n",
    "\n",
    "6. **Visualizations**:  \n",
    "   - Create visualizations to illustrate relationships, including:  \n",
    "     - **Box plots**  \n",
    "     - **Histograms**  \n",
    "     - **Scatter plots**\n",
    "\n",
    "7. **Additional Analysis**:  \n",
    "   - Perform correlation analysis, hypothesis testing, and trend detection."
   ]
  },
  {
   "cell_type": "code",
   "execution_count": null,
   "metadata": {},
   "outputs": [],
   "source": [
    "import pandas as pd"
   ]
  }
 ],
 "metadata": {
  "language_info": {
   "name": "python"
  }
 },
 "nbformat": 4,
 "nbformat_minor": 2
}
