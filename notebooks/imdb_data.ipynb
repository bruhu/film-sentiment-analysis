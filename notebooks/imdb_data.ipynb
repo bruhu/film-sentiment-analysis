{
 "cells": [
  {
   "cell_type": "markdown",
   "metadata": {},
   "source": [
    "# Handling IMDB Data\n",
    "- Clean IMDB datasets\n",
    "- Merge `title.basics` and `title.ratings` to obtain movie titles, genres, and ratings.\n",
    "- Generate new .csv files"
   ]
  },
  {
   "cell_type": "code",
   "execution_count": null,
   "metadata": {},
   "outputs": [],
   "source": [
    "import pandas as pd\n",
    "import pandas as pd\n",
    "import numpy as np\n",
    "from datetime import datetime\n",
    "import re"
   ]
  },
  {
   "cell_type": "code",
   "execution_count": null,
   "metadata": {},
   "outputs": [],
   "source": [
    "import sys\n",
    "sys.path.append('../utils')\n",
    "import functions"
   ]
  },
  {
   "cell_type": "code",
   "execution_count": null,
   "metadata": {},
   "outputs": [],
   "source": [
    "dtype_dict = {\n",
    "    'tconst': str,\n",
    "    'titleType': str,\n",
    "    'primaryTitle': str,\n",
    "    'originalTitle': str,\n",
    "    'isAdult': 'Int64',\n",
    "    'startYear': 'Int64',\n",
    "    'endYear': 'Int64',\n",
    "    'runtimeMinutes': str,\n",
    "    'genres': str\n",
    "}\n",
    "\n",
    "title_basics = pd.read_csv('../data/local/raw/title.basics.tsv', sep='\\t', dtype=dtype_dict, na_values=['\\\\N', ''], low_memory=True)"
   ]
  },
  {
   "cell_type": "code",
   "execution_count": null,
   "metadata": {},
   "outputs": [],
   "source": [
    "title_basics.head()"
   ]
  },
  {
   "cell_type": "markdown",
   "metadata": {},
   "source": [
    "## Handle Columns\n",
    "- Drop columns\n",
    "- Standardize and change column names"
   ]
  },
  {
   "cell_type": "code",
   "execution_count": null,
   "metadata": {},
   "outputs": [],
   "source": [
    "title_basics = title_basics.drop(columns=['endYear', 'isAdult'])"
   ]
  },
  {
   "cell_type": "code",
   "execution_count": null,
   "metadata": {},
   "outputs": [],
   "source": [
    "title_basics = functions.standardize_column_names(title_basics)\n",
    "\n",
    "new_column_names = {\n",
    "    'title_type': 'type',\n",
    "    'primary_title': 'title',\n",
    "    'original_title': 'original_title',\n",
    "    'start_year': 'year',\n",
    "    'runtime_minutes': 'runtime',\n",
    "    'genres': 'genre'\n",
    "}\n",
    "\n",
    "title_basics.rename(columns=new_column_names, inplace=True)\n",
    "title_basics.head()"
   ]
  },
  {
   "cell_type": "markdown",
   "metadata": {},
   "source": [
    "## Handle Rows"
   ]
  },
  {
   "cell_type": "markdown",
   "metadata": {},
   "source": [
    "Remove the following genres: Talk-Show, Reality-TV, News, Game-Show, Short, Adult"
   ]
  },
  {
   "cell_type": "code",
   "execution_count": null,
   "metadata": {},
   "outputs": [],
   "source": [
    "# genres to remove\n",
    "genres_to_remove = ['Talk-Show', 'Reality-TV', 'News', 'Game-Show', 'Short', 'Adult']\n",
    "\n",
    "rows_before = len(title_basics)\n",
    "\n",
    "title_basics = title_basics[~title_basics['genre'].str.contains('|'.join(genres_to_remove), case=False, na=False)]\n",
    "\n",
    "rows_after = len(title_basics)\n",
    "rows_deleted = rows_before - rows_after\n",
    "\n",
    "print(f'Number of rows deleted: {rows_deleted}')"
   ]
  },
  {
   "cell_type": "code",
   "execution_count": null,
   "metadata": {},
   "outputs": [],
   "source": [
    "title_basics.head()"
   ]
  },
  {
   "cell_type": "markdown",
   "metadata": {},
   "source": [
    "Keep 'movie' and 'tv movie' types"
   ]
  },
  {
   "cell_type": "code",
   "execution_count": null,
   "metadata": {},
   "outputs": [],
   "source": [
    "print(title_basics['type'].unique())\n",
    "\n",
    "# filter types, remove rows that don't match\n",
    "valid_title_types = ['movie', 'tvMovie']\n",
    "\n",
    "title_basics = title_basics[title_basics['type'].isin(valid_title_types)]"
   ]
  },
  {
   "cell_type": "markdown",
   "metadata": {},
   "source": [
    "Generate 'clean_title' column"
   ]
  },
  {
   "cell_type": "code",
   "execution_count": null,
   "metadata": {},
   "outputs": [],
   "source": [
    "title_basics['clean_title'] = functions.prepare_clean_titles(title_basics, 'title')"
   ]
  },
  {
   "cell_type": "code",
   "execution_count": null,
   "metadata": {},
   "outputs": [],
   "source": [
    "title_basics.head()"
   ]
  },
  {
   "cell_type": "markdown",
   "metadata": {},
   "source": [
    "Get duplicated rows based on the 'title' column and drop repeated instances"
   ]
  },
  {
   "cell_type": "code",
   "execution_count": null,
   "metadata": {},
   "outputs": [],
   "source": [
    "title_basics = functions.clean_and_remove_duplicates(title_basics, column_name='clean_title')\n",
    "\n",
    "title_basics.head()"
   ]
  },
  {
   "cell_type": "code",
   "execution_count": null,
   "metadata": {},
   "outputs": [],
   "source": [
    "title_basics = functions.clean_and_remove_duplicates(title_basics, column_name='original_title')"
   ]
  },
  {
   "cell_type": "code",
   "execution_count": null,
   "metadata": {},
   "outputs": [],
   "source": [
    "title_basics.head()"
   ]
  },
  {
   "cell_type": "markdown",
   "metadata": {},
   "source": [
    "Drop 'type' column"
   ]
  },
  {
   "cell_type": "code",
   "execution_count": null,
   "metadata": {},
   "outputs": [],
   "source": [
    "title_basics = title_basics.drop(columns=['type'])"
   ]
  },
  {
   "cell_type": "code",
   "execution_count": null,
   "metadata": {},
   "outputs": [],
   "source": [
    "functions.show_basic_info(title_basics)"
   ]
  },
  {
   "cell_type": "markdown",
   "metadata": {},
   "source": [
    "Remove rows with future years"
   ]
  },
  {
   "cell_type": "code",
   "execution_count": null,
   "metadata": {},
   "outputs": [],
   "source": [
    "title_basics = functions.filter_future_years(title_basics, 'year')"
   ]
  },
  {
   "cell_type": "markdown",
   "metadata": {},
   "source": [
    "Genres to lowcaps, separate with commas"
   ]
  },
  {
   "cell_type": "code",
   "execution_count": null,
   "metadata": {},
   "outputs": [],
   "source": [
    "title_basics['genre'] = functions.clean_genres(title_basics, 'genre')\n",
    "title_basics.head(20)"
   ]
  },
  {
   "cell_type": "markdown",
   "metadata": {},
   "source": [
    "Sort DF by year, reset index"
   ]
  },
  {
   "cell_type": "code",
   "execution_count": null,
   "metadata": {},
   "outputs": [],
   "source": [
    "title_basics = title_basics.sort_values(by='year').reset_index(drop=True)\n",
    "\n",
    "print('\\nSorted DataFrame with reset index:')\n",
    "print(title_basics)"
   ]
  },
  {
   "cell_type": "markdown",
   "metadata": {},
   "source": [
    "Create titles csv"
   ]
  },
  {
   "cell_type": "code",
   "execution_count": null,
   "metadata": {},
   "outputs": [],
   "source": [
    "title_basics.to_csv('../data/local/clean/imdb_titles.csv', index=False)"
   ]
  },
  {
   "cell_type": "markdown",
   "metadata": {},
   "source": [
    "## Get ratings from `title.ratings.tsv`"
   ]
  },
  {
   "cell_type": "code",
   "execution_count": null,
   "metadata": {},
   "outputs": [],
   "source": [
    "title_ratings = pd.read_csv('../data/local/raw/title.ratings.tsv', sep='\\t')"
   ]
  },
  {
   "cell_type": "code",
   "execution_count": null,
   "metadata": {},
   "outputs": [],
   "source": [
    "title_ratings.head()"
   ]
  },
  {
   "cell_type": "code",
   "execution_count": null,
   "metadata": {},
   "outputs": [],
   "source": [
    "functions.show_basic_info(title_ratings)"
   ]
  },
  {
   "cell_type": "markdown",
   "metadata": {},
   "source": [
    "Merge on 'tconst'"
   ]
  },
  {
   "cell_type": "code",
   "execution_count": null,
   "metadata": {},
   "outputs": [],
   "source": [
    "merged_df = pd.merge(title_basics, title_ratings[['tconst', 'averageRating', 'numVotes']], on='tconst', how='left')\n",
    "\n",
    "merged_df.head()"
   ]
  },
  {
   "cell_type": "code",
   "execution_count": null,
   "metadata": {},
   "outputs": [],
   "source": [
    "functions.show_basic_info(merged_df)"
   ]
  },
  {
   "cell_type": "code",
   "execution_count": null,
   "metadata": {},
   "outputs": [],
   "source": [
    "merged_df['numVotes'] = merged_df['numVotes'].fillna(0).astype(int)"
   ]
  },
  {
   "cell_type": "markdown",
   "metadata": {},
   "source": [
    "Rename columns"
   ]
  },
  {
   "cell_type": "code",
   "execution_count": null,
   "metadata": {},
   "outputs": [],
   "source": [
    "merged_df = merged_df.rename(columns={\n",
    "    'tconst' : 'title_id',\n",
    "    'averageRating': 'rating',\n",
    "    'numVotes': 'votes'\n",
    "})\n",
    "\n",
    "merged_df.head()"
   ]
  },
  {
   "cell_type": "markdown",
   "metadata": {},
   "source": [
    "Create .csv file"
   ]
  },
  {
   "cell_type": "code",
   "execution_count": null,
   "metadata": {},
   "outputs": [],
   "source": [
    "merged_df.to_csv('../data/local/clean/imdb_titles_ratings.csv', index=False)"
   ]
  }
 ],
 "metadata": {
  "kernelspec": {
   "display_name": "movie_env",
   "language": "python",
   "name": "python3"
  },
  "language_info": {
   "codemirror_mode": {
    "name": "ipython",
    "version": 3
   },
   "file_extension": ".py",
   "mimetype": "text/x-python",
   "name": "python",
   "nbconvert_exporter": "python",
   "pygments_lexer": "ipython3",
   "version": "3.12.3"
  }
 },
 "nbformat": 4,
 "nbformat_minor": 2
}
