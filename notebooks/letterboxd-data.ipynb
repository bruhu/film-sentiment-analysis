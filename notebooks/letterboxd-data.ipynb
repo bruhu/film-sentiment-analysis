{
 "cells": [
  {
   "cell_type": "markdown",
   "metadata": {},
   "source": [
    "Clean and handle letterboxd data\n",
    "- countries.csv\n",
    "- genres.csv\n",
    "- languages.csv\n",
    "- movies.csv\n",
    "- themes.csv"
   ]
  },
  {
   "cell_type": "code",
   "execution_count": 1,
   "metadata": {},
   "outputs": [],
   "source": [
    "import pandas as pd\n",
    "import re"
   ]
  },
  {
   "cell_type": "code",
   "execution_count": 2,
   "metadata": {},
   "outputs": [],
   "source": [
    "import sys\n",
    "sys.path.append('../utils')\n",
    "import data_cleaning\n",
    "import data_inspection\n",
    "import helpers"
   ]
  },
  {
   "cell_type": "code",
   "execution_count": 3,
   "metadata": {},
   "outputs": [],
   "source": [
    "genres = pd.read_csv('../data/local/letterboxd/genres.csv')\n",
    "countries = pd.read_csv('../data/local/letterboxd/countries.csv')\n",
    "languages = pd.read_csv('../data/local/letterboxd/languages.csv')\n",
    "movies = pd.read_csv('../data/local/letterboxd/movies.csv')\n",
    "themes = pd.read_csv('../data/local/letterboxd/themes.csv')\n",
    "crew = pd.read_csv('../data/local/letterboxd/crew.csv')"
   ]
  },
  {
   "cell_type": "code",
   "execution_count": null,
   "metadata": {},
   "outputs": [],
   "source": [
    "data_inspection.show_basic_info(movies)"
   ]
  },
  {
   "cell_type": "code",
   "execution_count": null,
   "metadata": {},
   "outputs": [],
   "source": [
    "data_inspection.check_for_duplicates(movies)"
   ]
  },
  {
   "cell_type": "code",
   "execution_count": null,
   "metadata": {},
   "outputs": [],
   "source": [
    "# convert rows to int\n",
    "columns_to_convert = ['date', 'minute']\n",
    "data_cleaning.convert_columns_to_int(movies, columns_to_convert)"
   ]
  },
  {
   "cell_type": "code",
   "execution_count": null,
   "metadata": {},
   "outputs": [],
   "source": [
    "movies_sample = movies.copy()\n",
    "\n",
    "# get sample df with movies with no empty rows\n",
    "movies_sample = movies_sample.dropna()\n",
    "\n",
    "display(movies_sample)"
   ]
  },
  {
   "cell_type": "code",
   "execution_count": null,
   "metadata": {},
   "outputs": [],
   "source": [
    "# drop rows with runtime under 40'\n",
    "helpers.drop_rows_by_runtime(movies_sample, 'minute', 40)"
   ]
  },
  {
   "cell_type": "code",
   "execution_count": 9,
   "metadata": {},
   "outputs": [],
   "source": [
    "movies_sample = data_cleaning.group_and_join_columns(\n",
    "    df_main=movies_sample,\n",
    "    df_to_group=genres,\n",
    "    group_by_col='id',\n",
    "    join_col='genre',\n",
    "    new_col_name='genres',\n",
    "    separator=', ',\n",
    ")"
   ]
  },
  {
   "cell_type": "code",
   "execution_count": 10,
   "metadata": {},
   "outputs": [],
   "source": [
    "movies_sample = data_cleaning.group_and_join_columns(\n",
    "    df_main=movies_sample,\n",
    "    df_to_group=languages,\n",
    "    group_by_col='id',\n",
    "    join_col='language',\n",
    "    new_col_name='language',\n",
    "    separator=', ',\n",
    ")"
   ]
  },
  {
   "cell_type": "code",
   "execution_count": 11,
   "metadata": {},
   "outputs": [],
   "source": [
    "movies_sample = data_cleaning.group_and_join_columns(\n",
    "    df_main=movies_sample,\n",
    "    df_to_group=countries,\n",
    "    group_by_col='id',\n",
    "    join_col='country',\n",
    "    new_col_name='country',\n",
    "    separator=', ',\n",
    ")"
   ]
  },
  {
   "cell_type": "code",
   "execution_count": 12,
   "metadata": {},
   "outputs": [],
   "source": [
    "themes_grouped = themes.groupby('id')['theme'].apply(lambda x: list(x)).reset_index()\n",
    "\n",
    "# grouped themes into movies_sample based on 'id'\n",
    "movies_sample = movies_sample.merge(themes_grouped, on='id', how='left')\n",
    "\n",
    "movies_sample['theme'] = movies_sample['theme'].apply(lambda x: x if isinstance(x, list) else ['No themes'])"
   ]
  },
  {
   "cell_type": "code",
   "execution_count": 13,
   "metadata": {},
   "outputs": [],
   "source": [
    "directors = crew[crew['role'] == 'Director']"
   ]
  },
  {
   "cell_type": "code",
   "execution_count": 14,
   "metadata": {},
   "outputs": [],
   "source": [
    "movies_sample = data_cleaning.group_and_join_columns(\n",
    "    df_main=movies_sample,\n",
    "    df_to_group=directors,\n",
    "    group_by_col='id',\n",
    "    join_col='name',\n",
    "    new_col_name='director',\n",
    "    separator=', ',\n",
    "    fillna_value='Unknown'\n",
    ")"
   ]
  },
  {
   "cell_type": "code",
   "execution_count": null,
   "metadata": {},
   "outputs": [],
   "source": [
    "data_inspection.show_missing_values(movies_sample)"
   ]
  },
  {
   "cell_type": "code",
   "execution_count": null,
   "metadata": {},
   "outputs": [],
   "source": [
    "data_inspection.show_column_value_counts(movies_sample, 'genres')"
   ]
  },
  {
   "cell_type": "code",
   "execution_count": null,
   "metadata": {},
   "outputs": [],
   "source": [
    "data_inspection.show_column_values(movies_sample, 'director')"
   ]
  },
  {
   "cell_type": "code",
   "execution_count": null,
   "metadata": {},
   "outputs": [],
   "source": [
    "data_inspection.show_column_values(movies_sample, 'genre')"
   ]
  },
  {
   "cell_type": "code",
   "execution_count": null,
   "metadata": {},
   "outputs": [],
   "source": [
    "# filter out rows where 'theme' column contains ['No themes']\n",
    "clean_letterboxd_movies = movies_sample[movies_sample['theme'].apply(lambda x: x != ['No themes'])].copy()\n",
    "\n",
    "print(f'Number of rows after cleaning: {clean_letterboxd_movies.shape[0]}')"
   ]
  },
  {
   "cell_type": "code",
   "execution_count": 20,
   "metadata": {},
   "outputs": [],
   "source": [
    "rename_dict = {\n",
    "    'id' : 'letterboxd_id',\n",
    "    'name' : 'title',\n",
    "    'date' : 'release_year',\n",
    "    'description' : 'summary',\n",
    "    'rating' : 'letterboxd_rating',\n",
    "    'minute' : 'runtime',\n",
    "    'theme' : 'themes',\n",
    "    'country' : 'countries'\n",
    "}\n",
    "\n",
    "clean_letterboxd_movies = data_cleaning.rename_columns(clean_letterboxd_movies, rename_dict)"
   ]
  },
  {
   "cell_type": "code",
   "execution_count": null,
   "metadata": {},
   "outputs": [],
   "source": [
    "clean_letterboxd_movies.head()"
   ]
  },
  {
   "cell_type": "code",
   "execution_count": 22,
   "metadata": {},
   "outputs": [],
   "source": [
    "# reorder columns\n",
    "new_column_order_letterboxd = [\n",
    "    'letterboxd_id', 'title', 'release_year', 'tagline', 'summary',\n",
    "    'runtime', 'letterboxd_rating', 'genres', 'language', 'countries',\n",
    "    'themes', 'director'\n",
    "]\n",
    "\n",
    "clean_letterboxd_movies = clean_letterboxd_movies[new_column_order_letterboxd]"
   ]
  },
  {
   "cell_type": "code",
   "execution_count": null,
   "metadata": {},
   "outputs": [],
   "source": [
    "clean_letterboxd_movies.reset_index(drop=True, inplace=True)\n",
    "\n",
    "# # create csv\n",
    "# clean_letterboxd_movies.to_csv('../data/clean/letterboxd_clean_films.csv', index=False)\n",
    "\n",
    "print('CSV file has been created successfully.')"
   ]
  },
  {
   "cell_type": "markdown",
   "metadata": {},
   "source": [
    "#### **Add Data from TMDb df and backup df from get request**"
   ]
  },
  {
   "cell_type": "code",
   "execution_count": 24,
   "metadata": {},
   "outputs": [],
   "source": [
    "letterboxd_backup = pd.read_csv('../data/local/letterboxd/letterboxd_request_secondbatch.csv')\n",
    "tmdb_df = pd.read_csv('../data/clean/tmdb_clean_films.csv')"
   ]
  },
  {
   "cell_type": "code",
   "execution_count": null,
   "metadata": {},
   "outputs": [],
   "source": [
    "letterboxd_backup.head(2)"
   ]
  },
  {
   "cell_type": "code",
   "execution_count": null,
   "metadata": {},
   "outputs": [],
   "source": [
    "tmdb_df.head(2)"
   ]
  },
  {
   "cell_type": "code",
   "execution_count": null,
   "metadata": {},
   "outputs": [],
   "source": [
    "data_inspection.check_for_duplicates(tmdb_df)"
   ]
  },
  {
   "cell_type": "code",
   "execution_count": null,
   "metadata": {},
   "outputs": [],
   "source": [
    "clean_letterboxd_movies.head(2)"
   ]
  },
  {
   "cell_type": "code",
   "execution_count": null,
   "metadata": {},
   "outputs": [],
   "source": [
    "# merge on 'letterboxd_id'\n",
    "clean_letterboxd_movies = clean_letterboxd_movies.merge(\n",
    "    letterboxd_backup[['letterboxd_id', 'topics', 'doesthedog_id']],\n",
    "    on='letterboxd_id', \n",
    "    how='left'\n",
    ")\n",
    "\n",
    "print(clean_letterboxd_movies.head())"
   ]
  },
  {
   "cell_type": "code",
   "execution_count": null,
   "metadata": {},
   "outputs": [],
   "source": [
    "# clean titles and remove hyphens\n",
    "def clean_title(title):\n",
    "    title = title.replace(' - ', ' ')\n",
    "    title = re.sub(r'[^a-zA-Z0-9\\s]', '', title)\n",
    "    title = ' '.join(title.split())\n",
    "    return title\n",
    "\n",
    "clean_letterboxd_movies['title'] = clean_letterboxd_movies['title'].apply(clean_title)\n",
    "print(clean_letterboxd_movies['title'].head(3))"
   ]
  },
  {
   "cell_type": "code",
   "execution_count": null,
   "metadata": {},
   "outputs": [],
   "source": [
    "# handle ducplicates keeping the first occurrence of each 'title'\n",
    "tmdb_dedup = tmdb_df.drop_duplicates(subset='title', keep='first')\n",
    "\n",
    "# update columns\n",
    "clean_letterboxd_movies = data_cleaning.update_empty_column(\n",
    "    df_main=clean_letterboxd_movies,\n",
    "    df_mapping=tmdb_dedup,\n",
    "    main_column='title',\n",
    "    mapping_column='doesthedog_id',\n",
    "    new_column='doesthedog_id'\n",
    ")\n",
    "\n",
    "if 'topics' in tmdb_dedup.columns:\n",
    "    clean_letterboxd_movies = data_cleaning.update_empty_column(\n",
    "        df_main=clean_letterboxd_movies,\n",
    "        df_mapping=tmdb_dedup,\n",
    "        main_column='title',\n",
    "        mapping_column='topics',\n",
    "        new_column='topics'\n",
    "    )\n",
    "else:\n",
    "    print('Warning: topics column is missing in tmdb_dedup. Skipping mapping.')\n",
    "\n",
    "if 'events' in tmdb_dedup.columns:\n",
    "    clean_letterboxd_movies = data_cleaning.update_empty_column(\n",
    "        df_main=clean_letterboxd_movies,\n",
    "        df_mapping=tmdb_dedup,\n",
    "        main_column='title',\n",
    "        mapping_column='events',\n",
    "        new_column='events'\n",
    "    )\n",
    "else:\n",
    "    print('Warning: events column is missing in tmdb_dedup. Skipping mapping.')\n",
    "\n",
    "print(clean_letterboxd_movies.head())"
   ]
  },
  {
   "cell_type": "code",
   "execution_count": null,
   "metadata": {},
   "outputs": [],
   "source": [
    "data_inspection.show_missing_values(clean_letterboxd_movies)"
   ]
  },
  {
   "cell_type": "code",
   "execution_count": 33,
   "metadata": {},
   "outputs": [],
   "source": [
    "request_backup = pd.read_csv('../data/local/letterboxd/letterboxd_content_request_unfinished.csv')"
   ]
  },
  {
   "cell_type": "code",
   "execution_count": null,
   "metadata": {},
   "outputs": [],
   "source": [
    "# update columns\n",
    "clean_letterboxd_movies = data_cleaning.update_empty_column(\n",
    "    df_main=clean_letterboxd_movies,\n",
    "    df_mapping=request_backup,\n",
    "    main_column='letterboxd_id',\n",
    "    mapping_column='doesthedog_id',\n",
    "    new_column='doesthedog_id'\n",
    ")\n",
    "\n",
    "if 'topics' in request_backup.columns:\n",
    "    clean_letterboxd_movies = data_cleaning.update_empty_column(\n",
    "        df_main=clean_letterboxd_movies,\n",
    "        df_mapping=request_backup,\n",
    "        main_column='letterboxd_id',\n",
    "        mapping_column='topics',\n",
    "        new_column='topics'\n",
    "    )\n",
    "else:\n",
    "    print('Warning: topics column is missing in request_backup. Skipping mapping.')\n",
    "\n",
    "print(clean_letterboxd_movies.head())"
   ]
  },
  {
   "cell_type": "code",
   "execution_count": null,
   "metadata": {},
   "outputs": [],
   "source": [
    "# get new df from empty id rows\n",
    "missing_doesthedog_df = clean_letterboxd_movies[clean_letterboxd_movies['doesthedog_id'].isna()]\n",
    "\n",
    "print(missing_doesthedog_df.head())\n",
    "print(f'Rows with empty ids: {len(missing_doesthedog_df)}')\n",
    "\n",
    "# # convert to .csv\n",
    "# missing_doesthedog_df.to_csv('../data/local/raw/pending_letterboxd_films_for_request.csv')"
   ]
  },
  {
   "cell_type": "code",
   "execution_count": 36,
   "metadata": {},
   "outputs": [],
   "source": [
    "clean_letterboxd_movies['title'] = clean_letterboxd_movies['title'].apply(clean_title)"
   ]
  },
  {
   "cell_type": "code",
   "execution_count": 37,
   "metadata": {},
   "outputs": [],
   "source": [
    "# clean_letterboxd_movies.to_csv('../data/clean/letterboxd_clean_films.csv', index=False)"
   ]
  }
 ],
 "metadata": {
  "kernelspec": {
   "display_name": "movie_env",
   "language": "python",
   "name": "python3"
  },
  "language_info": {
   "codemirror_mode": {
    "name": "ipython",
    "version": 3
   },
   "file_extension": ".py",
   "mimetype": "text/x-python",
   "name": "python",
   "nbconvert_exporter": "python",
   "pygments_lexer": "ipython3",
   "version": "3.12.3"
  }
 },
 "nbformat": 4,
 "nbformat_minor": 2
}
