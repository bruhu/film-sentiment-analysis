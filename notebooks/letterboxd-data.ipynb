{
 "cells": [
  {
   "cell_type": "markdown",
   "metadata": {},
   "source": [
    "Clean and handle letterboxd data\n",
    "- countries.csv\n",
    "- genres.csv\n",
    "- languages.csv\n",
    "- movies.csv\n",
    "- themes.csv"
   ]
  },
  {
   "cell_type": "code",
   "execution_count": 78,
   "metadata": {},
   "outputs": [],
   "source": [
    "import pandas as pd\n",
    "import re\n",
    "import numpy as np"
   ]
  },
  {
   "cell_type": "code",
   "execution_count": 79,
   "metadata": {},
   "outputs": [],
   "source": [
    "import sys\n",
    "sys.path.append('../utils')\n",
    "import data_cleaning\n",
    "import data_inspection\n",
    "import helpers"
   ]
  },
  {
   "cell_type": "code",
   "execution_count": 80,
   "metadata": {},
   "outputs": [],
   "source": [
    "genres = pd.read_csv('../data/local/letterboxd/genres.csv')\n",
    "countries = pd.read_csv('../data/local/letterboxd/countries.csv')\n",
    "languages = pd.read_csv('../data/local/letterboxd/languages.csv')\n",
    "movies = pd.read_csv('../data/local/letterboxd/movies.csv')\n",
    "themes = pd.read_csv('../data/local/letterboxd/themes.csv')\n",
    "crew = pd.read_csv('../data/local/letterboxd/crew.csv')"
   ]
  },
  {
   "cell_type": "code",
   "execution_count": null,
   "metadata": {},
   "outputs": [],
   "source": [
    "display(movies)"
   ]
  },
  {
   "cell_type": "code",
   "execution_count": null,
   "metadata": {},
   "outputs": [],
   "source": [
    "data_inspection.show_basic_info(movies)"
   ]
  },
  {
   "cell_type": "code",
   "execution_count": null,
   "metadata": {},
   "outputs": [],
   "source": [
    "data_inspection.check_for_duplicates(movies)"
   ]
  },
  {
   "cell_type": "code",
   "execution_count": null,
   "metadata": {},
   "outputs": [],
   "source": [
    "# convert rows to int\n",
    "columns_to_convert = ['date', 'minute']\n",
    "data_cleaning.convert_columns_to_int(movies, columns_to_convert)"
   ]
  },
  {
   "cell_type": "code",
   "execution_count": null,
   "metadata": {},
   "outputs": [],
   "source": [
    "# get sample df with movies with no empty rows\n",
    "movies_sample = movies.dropna()\n",
    "\n",
    "display(movies_sample)"
   ]
  },
  {
   "cell_type": "code",
   "execution_count": null,
   "metadata": {},
   "outputs": [],
   "source": [
    "# drop rows with runtime under 40'\n",
    "helpers.drop_rows_by_runtime(movies_sample, 'minute', 40)"
   ]
  },
  {
   "cell_type": "code",
   "execution_count": null,
   "metadata": {},
   "outputs": [],
   "source": [
    "data_inspection.show_missing_values(themes)"
   ]
  },
  {
   "cell_type": "code",
   "execution_count": 88,
   "metadata": {},
   "outputs": [],
   "source": [
    "# Group genres by 'id' and join the genre values into a comma-separated string\n",
    "genres_grouped = genres.groupby('id')['genre'].apply(lambda x: ', '.join(x)).reset_index()\n",
    "\n",
    "# Rename 'genre' column to 'genres' for clarity\n",
    "genres_grouped.rename(columns={'genre': 'genres'}, inplace=True)\n",
    "\n",
    "# Merge the grouped genres into movies_sample based on 'id'\n",
    "movies_sample = movies_sample.merge(genres_grouped, on='id', how='left')\n",
    "\n",
    "# Replace NaN values in 'genres' column with an empty string if needed\n",
    "movies_sample['genres'] = movies_sample['genres'].fillna('')"
   ]
  },
  {
   "cell_type": "code",
   "execution_count": 89,
   "metadata": {},
   "outputs": [],
   "source": [
    "# Group genres by 'id' and join the genre values into a comma-separated string\n",
    "language_grouped = languages.groupby('id')['language'].apply(lambda x: ', '.join(x)).reset_index()\n",
    "\n",
    "# Rename 'genre' column to 'language' for clarity\n",
    "language_grouped.rename(columns={'language': 'language'}, inplace=True)\n",
    "\n",
    "# Merge the grouped language into movies_sample based on 'id'\n",
    "movies_sample = movies_sample.merge(language_grouped, on='id', how='left')\n",
    "\n",
    "# Replace NaN values in 'language' column with an empty string if needed\n",
    "movies_sample['language'] = movies_sample['language'].fillna('')"
   ]
  },
  {
   "cell_type": "code",
   "execution_count": 90,
   "metadata": {},
   "outputs": [],
   "source": [
    "# Group genres by 'id' and join the genre values into a comma-separated string\n",
    "countries_grouped = countries.groupby('id')['country'].apply(lambda x: ', '.join(x)).reset_index()\n",
    "\n",
    "# Rename 'genre' column to 'countries' for clarity\n",
    "countries_grouped.rename(columns={'country': 'country'}, inplace=True)\n",
    "\n",
    "# Merge the grouped countries into movies_sample based on 'id'\n",
    "movies_sample = movies_sample.merge(countries_grouped, on='id', how='left')\n",
    "\n",
    "# Replace NaN values in 'countries' column with an empty string if needed\n",
    "movies_sample['country'] = movies_sample['country'].fillna('')"
   ]
  },
  {
   "cell_type": "code",
   "execution_count": 91,
   "metadata": {},
   "outputs": [],
   "source": [
    "# Group themes by 'id' and combine the 'theme' column values into a list\n",
    "themes_grouped = themes.groupby('id')['theme'].apply(lambda x: list(x)).reset_index()\n",
    "\n",
    "# Merge the grouped themes into movies_sample based on 'id'\n",
    "movies_sample = movies_sample.merge(themes_grouped, on='id', how='left')\n",
    "\n",
    "# Replace NaN values in 'theme' column with a list containing a single placeholder or a default message\n",
    "movies_sample['theme'] = movies_sample['theme'].apply(lambda x: x if isinstance(x, list) else ['No themes'])"
   ]
  },
  {
   "cell_type": "code",
   "execution_count": null,
   "metadata": {},
   "outputs": [],
   "source": [
    "# Filter for rows where the role is 'Director'\n",
    "directors_df = crew[crew['role'] == 'Director']\n",
    "\n",
    "# Group by 'id' and join director names into a comma-separated string\n",
    "directors_grouped = directors_df.groupby('id')['name'].apply(lambda x: ', '.join(x)).reset_index()\n",
    "\n",
    "# Rename 'name' column to 'director' for clarity\n",
    "directors_grouped.rename(columns={'name': 'director'}, inplace=True)\n",
    "\n",
    "# Merge the grouped directors into movies_sample based on 'id'\n",
    "movies_sample = movies_sample.merge(directors_grouped, on='id', how='left')\n",
    "\n",
    "# Replace NaN values in 'director' column with an empty string\n",
    "movies_sample['director'] = movies_sample['director'].fillna('')\n",
    "\n",
    "# Display the updated movies_sample DataFrame\n",
    "print(movies_sample)"
   ]
  },
  {
   "cell_type": "code",
   "execution_count": null,
   "metadata": {},
   "outputs": [],
   "source": [
    "data_inspection.show_missing_values(movies_sample)"
   ]
  },
  {
   "cell_type": "code",
   "execution_count": null,
   "metadata": {},
   "outputs": [],
   "source": [
    "display(movies_sample)"
   ]
  },
  {
   "cell_type": "code",
   "execution_count": null,
   "metadata": {},
   "outputs": [],
   "source": [
    "data_inspection.show_column_value_counts(movies_sample, 'genres')"
   ]
  },
  {
   "cell_type": "code",
   "execution_count": null,
   "metadata": {},
   "outputs": [],
   "source": [
    "data_inspection.show_column_values(movies_sample, 'director')"
   ]
  },
  {
   "cell_type": "code",
   "execution_count": null,
   "metadata": {},
   "outputs": [],
   "source": [
    "data_inspection.show_column_values(movies_sample, 'genre')"
   ]
  },
  {
   "cell_type": "code",
   "execution_count": null,
   "metadata": {},
   "outputs": [],
   "source": [
    "# filter out rows where 'theme' column contains ['No themes']\n",
    "clean_letterboxd_movies = movies_sample[movies_sample['theme'].apply(lambda x: x != ['No themes'])].copy()\n",
    "\n",
    "print(f'Number of rows after cleaning: {clean_letterboxd_movies.shape[0]}')\n",
    "print(clean_letterboxd_movies.head())"
   ]
  },
  {
   "cell_type": "code",
   "execution_count": 99,
   "metadata": {},
   "outputs": [],
   "source": [
    "rename_dict = {\n",
    "    'id' : 'letterboxd_id',\n",
    "    'name' : 'title',\n",
    "    'date' : 'release_year',\n",
    "    'description' : 'summary',\n",
    "    'rating' : 'letterboxd_rating',\n",
    "    'minute' : 'runtime',\n",
    "    'theme' : 'themes',\n",
    "    'country' : 'countries'\n",
    "}\n",
    "\n",
    "clean_letterboxd_movies = data_cleaning.rename_columns(clean_letterboxd_movies, rename_dict)"
   ]
  },
  {
   "cell_type": "code",
   "execution_count": 100,
   "metadata": {},
   "outputs": [],
   "source": [
    "# reorder columns\n",
    "new_column_order_letterboxd = [\n",
    "    'letterboxd_id', 'title', 'release_year', 'tagline', 'summary',\n",
    "    'runtime', 'letterboxd_rating', 'genres', 'language', 'countries',\n",
    "    'themes', 'director'\n",
    "]\n",
    "\n",
    "clean_letterboxd_movies = clean_letterboxd_movies[new_column_order_letterboxd]"
   ]
  },
  {
   "cell_type": "code",
   "execution_count": null,
   "metadata": {},
   "outputs": [],
   "source": [
    "clean_letterboxd_movies.reset_index(drop=True, inplace=True)\n",
    "\n",
    "## df to csv\n",
    "# clean_letterboxd_movies.to_csv('../data/clean/letterboxd_clean_films.csv', index=False)\n",
    "\n",
    "print('CSV file has been created successfully.')"
   ]
  },
  {
   "cell_type": "markdown",
   "metadata": {},
   "source": [
    "#### Add Data from TMDb df and backup df from get request"
   ]
  },
  {
   "cell_type": "code",
   "execution_count": 102,
   "metadata": {},
   "outputs": [],
   "source": [
    "letterboxd_backup = pd.read_csv('../data/local/letterboxd/letterboxd_request_secondbatch.csv')\n",
    "tmdb_df = pd.read_csv('../data/clean/tmdb_clean_films.csv')"
   ]
  },
  {
   "cell_type": "code",
   "execution_count": null,
   "metadata": {},
   "outputs": [],
   "source": [
    "letterboxd_backup.head(2)"
   ]
  },
  {
   "cell_type": "code",
   "execution_count": null,
   "metadata": {},
   "outputs": [],
   "source": [
    "tmdb_df.head(2)"
   ]
  },
  {
   "cell_type": "code",
   "execution_count": null,
   "metadata": {},
   "outputs": [],
   "source": [
    "data_inspection.check_for_duplicates(tmdb_df)"
   ]
  },
  {
   "cell_type": "code",
   "execution_count": null,
   "metadata": {},
   "outputs": [],
   "source": [
    "clean_letterboxd_movies.head(2)"
   ]
  },
  {
   "cell_type": "code",
   "execution_count": null,
   "metadata": {},
   "outputs": [],
   "source": [
    "# merge on 'letterboxd_id'\n",
    "clean_letterboxd_movies = clean_letterboxd_movies.merge(\n",
    "    letterboxd_backup[['letterboxd_id', 'topics', 'doesthedog_id']],\n",
    "    on='letterboxd_id', \n",
    "    how='left'\n",
    ")\n",
    "\n",
    "print(clean_letterboxd_movies.head())"
   ]
  },
  {
   "cell_type": "code",
   "execution_count": null,
   "metadata": {},
   "outputs": [],
   "source": [
    "# clean titles and remove hyphens\n",
    "def clean_title(title):\n",
    "    # Replace ' - ' with a space\n",
    "    title = title.replace(' - ', ' ')\n",
    "    title = re.sub(r'[^a-zA-Z0-9\\s]', '', title)\n",
    "    title = ' '.join(title.split())\n",
    "    return title\n",
    "\n",
    "clean_letterboxd_movies['title'] = clean_letterboxd_movies['title'].apply(clean_title)\n",
    "print(clean_letterboxd_movies['title'].head(3))"
   ]
  },
  {
   "cell_type": "code",
   "execution_count": null,
   "metadata": {},
   "outputs": [],
   "source": [
    "# handle duplicates in 'tmdb_df' by keeping the first occurrence of each 'title'\n",
    "tmdb_dedup = tmdb_df.drop_duplicates(subset='title', keep='first')\n",
    "\n",
    "# Update 'doesthedog_id' where NaN by mapping from 'tmdb_dedup'\n",
    "clean_letterboxd_movies['doesthedog_id'] = clean_letterboxd_movies['doesthedog_id'].combine_first(\n",
    "    clean_letterboxd_movies['title'].map(tmdb_dedup.set_index('title')['doesthedog_id'])\n",
    ")\n",
    "\n",
    "# update empty 'topics' rows\n",
    "if 'topics' in tmdb_dedup.columns:\n",
    "    clean_letterboxd_movies['topics'] = clean_letterboxd_movies['topics'].combine_first(\n",
    "        clean_letterboxd_movies['title'].map(tmdb_dedup.set_index('title')['topics'])\n",
    "    )\n",
    "else:\n",
    "    print(\"Warning: 'topics' column is missing in tmdb_df. Skipping 'topics' mapping.\")\n",
    "\n",
    "print(clean_letterboxd_movies.head())"
   ]
  },
  {
   "cell_type": "code",
   "execution_count": null,
   "metadata": {},
   "outputs": [],
   "source": [
    "data_inspection.show_missing_values(clean_letterboxd_movies)"
   ]
  },
  {
   "cell_type": "code",
   "execution_count": null,
   "metadata": {},
   "outputs": [],
   "source": [
    "request_backup = pd.read_csv('../data/local/letterboxd/letterboxd_content_request_unfinished.csv')"
   ]
  },
  {
   "cell_type": "code",
   "execution_count": null,
   "metadata": {},
   "outputs": [],
   "source": [
    "# Update 'doesthedog_id' where NaN by mapping from 'request_backup'\n",
    "clean_letterboxd_movies['doesthedog_id'] = clean_letterboxd_movies['doesthedog_id'].combine_first(\n",
    "    clean_letterboxd_movies['letterboxd_id'].map(request_backup.set_index('letterboxd_id')['doesthedog_id'])\n",
    ")\n",
    "\n",
    "# update empty 'topics' rows\n",
    "if 'topics' in request_backup.columns:\n",
    "    clean_letterboxd_movies['topics'] = clean_letterboxd_movies['topics'].combine_first(\n",
    "        clean_letterboxd_movies['letterboxd_id'].map(request_backup.set_index('letterboxd_id')['topics'])\n",
    "    )\n",
    "else:\n",
    "    print(\"Warning: 'topics' column is missing in tmdb_df. Skipping 'topics' mapping.\")\n",
    "\n",
    "print(clean_letterboxd_movies.head())"
   ]
  },
  {
   "cell_type": "code",
   "execution_count": null,
   "metadata": {},
   "outputs": [],
   "source": [
    "# get new df from empty id rows\n",
    "missing_doesthedog_df = clean_letterboxd_movies[clean_letterboxd_movies['doesthedog_id'].isna()]\n",
    "\n",
    "print(missing_doesthedog_df.head())\n",
    "print(f\"Number of rows with empty 'doesthedog_id': {len(missing_doesthedog_df)}\")\n",
    "\n",
    "## convert to .csv\n",
    "# missing_doesthedog_df.to_csv('../data/local/raw/pending_letterboxd_films_for_request.csv')"
   ]
  },
  {
   "cell_type": "code",
   "execution_count": 115,
   "metadata": {},
   "outputs": [],
   "source": [
    "clean_letterboxd_movies['title'] = clean_letterboxd_movies['title'].apply(clean_title)"
   ]
  },
  {
   "cell_type": "code",
   "execution_count": 116,
   "metadata": {},
   "outputs": [],
   "source": [
    "# clean_letterboxd_movies.to_csv('../data/clean/letterboxd_clean_films.csv', index=False)"
   ]
  }
 ],
 "metadata": {
  "kernelspec": {
   "display_name": "movie_env",
   "language": "python",
   "name": "python3"
  },
  "language_info": {
   "codemirror_mode": {
    "name": "ipython",
    "version": 3
   },
   "file_extension": ".py",
   "mimetype": "text/x-python",
   "name": "python",
   "nbconvert_exporter": "python",
   "pygments_lexer": "ipython3",
   "version": "3.12.3"
  }
 },
 "nbformat": 4,
 "nbformat_minor": 2
}
