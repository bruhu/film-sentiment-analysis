{
 "cells": [
  {
   "cell_type": "markdown",
   "metadata": {},
   "source": [
    "Clean and handle letterboxd data\n",
    "- countries.csv\n",
    "- genres.csv\n",
    "- languages.csv\n",
    "- movies.csv\n",
    "- themes.csv"
   ]
  },
  {
   "cell_type": "code",
   "execution_count": 62,
   "metadata": {},
   "outputs": [],
   "source": [
    "import pandas as pd\n",
    "import numpy as np"
   ]
  },
  {
   "cell_type": "code",
   "execution_count": 63,
   "metadata": {},
   "outputs": [],
   "source": [
    "import sys\n",
    "sys.path.append('../utils')\n",
    "import data_cleaning\n",
    "import data_inspection\n",
    "import helpers"
   ]
  },
  {
   "cell_type": "code",
   "execution_count": null,
   "metadata": {},
   "outputs": [],
   "source": [
    "genres = pd.read_csv('../data/local/letterboxd/genres.csv')\n",
    "countries = pd.read_csv('../data/local/letterboxd/countries.csv')\n",
    "languages = pd.read_csv('../data/local/letterboxd/languages.csv')\n",
    "movies = pd.read_csv('../data/local/letterboxd/movies.csv')\n",
    "themes = pd.read_csv('../data/local/letterboxd/themes.csv')\n",
    "crew = pd.read_csv('../data/local/letterboxd/crew.csv')"
   ]
  },
  {
   "cell_type": "code",
   "execution_count": null,
   "metadata": {},
   "outputs": [],
   "source": [
    "display(movies)"
   ]
  },
  {
   "cell_type": "code",
   "execution_count": null,
   "metadata": {},
   "outputs": [],
   "source": [
    "data_inspection.show_basic_info(movies)"
   ]
  },
  {
   "cell_type": "code",
   "execution_count": null,
   "metadata": {},
   "outputs": [],
   "source": [
    "data_inspection.check_for_duplicates(movies)"
   ]
  },
  {
   "cell_type": "code",
   "execution_count": null,
   "metadata": {},
   "outputs": [],
   "source": [
    "# convert rows to int\n",
    "columns_to_convert = ['date', 'minute']\n",
    "data_cleaning.convert_columns_to_int(movies, columns_to_convert)"
   ]
  },
  {
   "cell_type": "code",
   "execution_count": null,
   "metadata": {},
   "outputs": [],
   "source": [
    "# get sample df with movies with no empty rows\n",
    "movies_sample = movies.dropna()\n",
    "\n",
    "display(movies_sample)"
   ]
  },
  {
   "cell_type": "code",
   "execution_count": null,
   "metadata": {},
   "outputs": [],
   "source": [
    "# drop rows with runtime under 40'\n",
    "helpers.drop_rows_by_runtime(movies_sample, 'minute', 40)"
   ]
  },
  {
   "cell_type": "code",
   "execution_count": null,
   "metadata": {},
   "outputs": [],
   "source": [
    "data_inspection.show_missing_values(themes)"
   ]
  },
  {
   "cell_type": "code",
   "execution_count": 69,
   "metadata": {},
   "outputs": [],
   "source": [
    "# Group genres by 'id' and join the genre values into a comma-separated string\n",
    "genres_grouped = genres.groupby('id')['genre'].apply(lambda x: ', '.join(x)).reset_index()\n",
    "\n",
    "# Rename 'genre' column to 'genres' for clarity\n",
    "genres_grouped.rename(columns={'genre': 'genres'}, inplace=True)\n",
    "\n",
    "# Merge the grouped genres into movies_sample based on 'id'\n",
    "movies_sample = movies_sample.merge(genres_grouped, on='id', how='left')\n",
    "\n",
    "# Replace NaN values in 'genres' column with an empty string if needed\n",
    "movies_sample['genres'] = movies_sample['genres'].fillna('')"
   ]
  },
  {
   "cell_type": "code",
   "execution_count": 70,
   "metadata": {},
   "outputs": [],
   "source": [
    "# Group genres by 'id' and join the genre values into a comma-separated string\n",
    "language_grouped = languages.groupby('id')['language'].apply(lambda x: ', '.join(x)).reset_index()\n",
    "\n",
    "# Rename 'genre' column to 'language' for clarity\n",
    "language_grouped.rename(columns={'language': 'language'}, inplace=True)\n",
    "\n",
    "# Merge the grouped language into movies_sample based on 'id'\n",
    "movies_sample = movies_sample.merge(language_grouped, on='id', how='left')\n",
    "\n",
    "# Replace NaN values in 'language' column with an empty string if needed\n",
    "movies_sample['language'] = movies_sample['language'].fillna('')"
   ]
  },
  {
   "cell_type": "code",
   "execution_count": 71,
   "metadata": {},
   "outputs": [],
   "source": [
    "# Group genres by 'id' and join the genre values into a comma-separated string\n",
    "countries_grouped = countries.groupby('id')['country'].apply(lambda x: ', '.join(x)).reset_index()\n",
    "\n",
    "# Rename 'genre' column to 'countries' for clarity\n",
    "countries_grouped.rename(columns={'country': 'country'}, inplace=True)\n",
    "\n",
    "# Merge the grouped countries into movies_sample based on 'id'\n",
    "movies_sample = movies_sample.merge(countries_grouped, on='id', how='left')\n",
    "\n",
    "# Replace NaN values in 'countries' column with an empty string if needed\n",
    "movies_sample['country'] = movies_sample['country'].fillna('')"
   ]
  },
  {
   "cell_type": "code",
   "execution_count": 72,
   "metadata": {},
   "outputs": [],
   "source": [
    "# Group themes by 'id' and combine the 'theme' column values into a list\n",
    "themes_grouped = themes.groupby('id')['theme'].apply(lambda x: list(x)).reset_index()\n",
    "\n",
    "# Merge the grouped themes into movies_sample based on 'id'\n",
    "movies_sample = movies_sample.merge(themes_grouped, on='id', how='left')\n",
    "\n",
    "# Replace NaN values in 'theme' column with a list containing a single placeholder or a default message\n",
    "movies_sample['theme'] = movies_sample['theme'].apply(lambda x: x if isinstance(x, list) else ['No themes'])"
   ]
  },
  {
   "cell_type": "code",
   "execution_count": null,
   "metadata": {},
   "outputs": [],
   "source": [
    "# Filter for rows where the role is 'Director'\n",
    "directors_df = crew[crew['role'] == 'Director']\n",
    "\n",
    "# Group by 'id' and join director names into a comma-separated string\n",
    "directors_grouped = directors_df.groupby('id')['name'].apply(lambda x: ', '.join(x)).reset_index()\n",
    "\n",
    "# Rename 'name' column to 'director' for clarity\n",
    "directors_grouped.rename(columns={'name': 'director'}, inplace=True)\n",
    "\n",
    "# Merge the grouped directors into movies_sample based on 'id'\n",
    "movies_sample = movies_sample.merge(directors_grouped, on='id', how='left')\n",
    "\n",
    "# Replace NaN values in 'director' column with an empty string\n",
    "movies_sample['director'] = movies_sample['director'].fillna('')\n",
    "\n",
    "# Display the updated movies_sample DataFrame\n",
    "print(movies_sample)"
   ]
  },
  {
   "cell_type": "code",
   "execution_count": null,
   "metadata": {},
   "outputs": [],
   "source": [
    "data_inspection.show_missing_values(movies_sample)"
   ]
  },
  {
   "cell_type": "code",
   "execution_count": null,
   "metadata": {},
   "outputs": [],
   "source": [
    "display(movies_sample)"
   ]
  },
  {
   "cell_type": "code",
   "execution_count": null,
   "metadata": {},
   "outputs": [],
   "source": [
    "data_inspection.show_column_value_counts(movies_sample, 'genres')"
   ]
  },
  {
   "cell_type": "code",
   "execution_count": null,
   "metadata": {},
   "outputs": [],
   "source": [
    "data_inspection.show_column_values(movies_sample, 'director')"
   ]
  },
  {
   "cell_type": "code",
   "execution_count": null,
   "metadata": {},
   "outputs": [],
   "source": [
    "data_inspection.show_column_values(movies_sample, 'genre')"
   ]
  },
  {
   "cell_type": "code",
   "execution_count": null,
   "metadata": {},
   "outputs": [],
   "source": [
    "# Count rows where 'theme' column contains exactly ['No themes']\n",
    "no_themes_count = movies_sample['theme'].apply(lambda x: x == ['No themes']).sum()\n",
    "\n",
    "# Display the count\n",
    "print(f\"Number of rows with ['No themes']: {no_themes_count}\")"
   ]
  },
  {
   "cell_type": "code",
   "execution_count": null,
   "metadata": {},
   "outputs": [],
   "source": [
    "# Filter out rows where 'theme' column contains ['No themes']\n",
    "clean_letterboxd_movies = movies_sample[movies_sample['theme'].apply(lambda x: x != ['No themes'])].copy()\n",
    "\n",
    "# Display the shape and a preview of the cleaned DataFrame\n",
    "print(f'Number of rows after cleaning: {clean_letterboxd_movies.shape[0]}')\n",
    "print(clean_letterboxd_movies.head())\n"
   ]
  },
  {
   "cell_type": "code",
   "execution_count": 81,
   "metadata": {},
   "outputs": [],
   "source": [
    "rename_dict = {\n",
    "    'id' : 'letterboxd_id',\n",
    "    'name' : 'title',\n",
    "    'date' : 'release_year',\n",
    "    'description' : 'summary',\n",
    "    'rating' : 'letterboxd_rating',\n",
    "    'minute' : 'runtime',\n",
    "    'theme' : 'themes',\n",
    "    'country' : 'countries'\n",
    "}\n",
    "\n",
    "clean_letterboxd_movies = data_cleaning.rename_columns(clean_letterboxd_movies, rename_dict)"
   ]
  },
  {
   "cell_type": "code",
   "execution_count": null,
   "metadata": {},
   "outputs": [],
   "source": [
    "display(clean_letterboxd_movies)"
   ]
  },
  {
   "cell_type": "code",
   "execution_count": null,
   "metadata": {},
   "outputs": [],
   "source": [
    "# Display the column names in the DataFrame\n",
    "print(clean_letterboxd_movies.columns)\n"
   ]
  },
  {
   "cell_type": "code",
   "execution_count": null,
   "metadata": {},
   "outputs": [],
   "source": [
    "# Define the new column order for letterboxd_clean\n",
    "new_column_order_letterboxd = [\n",
    "    'letterboxd_id', 'title', 'release_year', 'tagline', 'summary',\n",
    "    'runtime', 'letterboxd_rating', 'genres', 'language', 'countries',\n",
    "    'themes', 'director'\n",
    "]\n",
    "\n",
    "# Apply the new column order to letterboxd_clean\n",
    "clean_letterboxd_movies = clean_letterboxd_movies[new_column_order_letterboxd]\n",
    "\n",
    "# Display the updated clean_letterboxd_movies DataFrame columns\n",
    "print('Columns in clean_letterboxd_movies after reordering:', clean_letterboxd_movies.columns)\n"
   ]
  },
  {
   "cell_type": "code",
   "execution_count": null,
   "metadata": {},
   "outputs": [],
   "source": [
    "# Reset the index of the cleaned DataFrame\n",
    "clean_letterboxd_movies.reset_index(drop=True, inplace=True)\n",
    "\n",
    "# Save the cleaned DataFrame to a CSV file\n",
    "# clean_letterboxd_movies.to_csv('../data/clean/letterboxd_clean_films.csv', index=False)\n",
    "\n",
    "# Confirm the process\n",
    "print('CSV file has been created successfully.')\n"
   ]
  },
  {
   "cell_type": "code",
   "execution_count": 48,
   "metadata": {},
   "outputs": [],
   "source": [
    "clean_films_id = pd.read_csv('../data/clean/clean_films_id.csv')"
   ]
  },
  {
   "cell_type": "code",
   "execution_count": null,
   "metadata": {},
   "outputs": [],
   "source": [
    "display(clean_films_id)"
   ]
  },
  {
   "cell_type": "code",
   "execution_count": null,
   "metadata": {},
   "outputs": [],
   "source": [
    "# Find common titles in both DataFrames\n",
    "common_titles = clean_letterboxd_movies[clean_letterboxd_movies['title'].isin(clean_films_id['title'])]\n",
    "\n",
    "# Count how many titles match\n",
    "matching_titles_count = common_titles.shape[0]\n",
    "\n",
    "# Display the result\n",
    "print(f'Number of matching titles: {matching_titles_count}')\n"
   ]
  },
  {
   "cell_type": "code",
   "execution_count": null,
   "metadata": {},
   "outputs": [],
   "source": [
    "# Find titles in clean_letterboxd_movies that are NOT in clean_films_id\n",
    "non_matching_titles = clean_letterboxd_movies[~clean_letterboxd_movies['title'].isin(clean_films_id['title'])].copy()\n",
    "\n",
    "# Display the shape and a preview of the non-matching titles DataFrame\n",
    "print(f'Number of non-matching titles: {non_matching_titles.shape[0]}')\n",
    "print(non_matching_titles.head())\n"
   ]
  },
  {
   "cell_type": "code",
   "execution_count": 52,
   "metadata": {},
   "outputs": [],
   "source": [
    "non_matching_titles.to_csv('../data/local/clean/non_matching_titles_letterboxd.csv', index=False)\n"
   ]
  },
  {
   "cell_type": "code",
   "execution_count": null,
   "metadata": {},
   "outputs": [],
   "source": [
    "display(non_matching_titles)"
   ]
  },
  {
   "cell_type": "code",
   "execution_count": null,
   "metadata": {},
   "outputs": [],
   "source": []
  }
 ],
 "metadata": {
  "kernelspec": {
   "display_name": "movie_env",
   "language": "python",
   "name": "python3"
  },
  "language_info": {
   "codemirror_mode": {
    "name": "ipython",
    "version": 3
   },
   "file_extension": ".py",
   "mimetype": "text/x-python",
   "name": "python",
   "nbconvert_exporter": "python",
   "pygments_lexer": "ipython3",
   "version": "3.12.3"
  }
 },
 "nbformat": 4,
 "nbformat_minor": 2
}
