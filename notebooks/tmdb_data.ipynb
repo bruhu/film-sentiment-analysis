{
 "cells": [
  {
   "cell_type": "markdown",
   "metadata": {},
   "source": [
    "# Work with TMDB + IMDB dataset \n",
    "- [Source](https://www.kaggle.com/datasets/alanvourch/tmdb-movies-daily-updates)\n",
    "\n",
    "**Metadata**\n",
    "\n",
    "| **#** | **Column**               | **Description**                                                                                     |\n",
    "|-------|--------------------------|-----------------------------------------------------------------------------------------------------|\n",
    "| 1     | **id**                   | Unique identifier for the film in the TMDB.                                                        |\n",
    "| 2     | **title**                | The official title of the movie.                                                                   |\n",
    "| 3     | **vote_average**         | Average rating of the movie on a scale from 0 to 10.                                               |\n",
    "| 4     | **vote_count**           | Number of votes that contributed to the movie's rating.                                            |\n",
    "| 5     | **status**               | The current release status of the movie (e.g., *Released*, *Post-Production*).                     |\n",
    "| 6     | **release_date**         | The date when the film was officially released.                                                    |\n",
    "| 7     | **revenue**              | Box office earnings of the movie.                                                                  |\n",
    "| 8     | **runtime**              | Duration of the movie in minutes.                                                                  |\n",
    "| 9     | **budget**               | Financial budget allocated for the movie production.                                               |\n",
    "| 10    | **imdb_id**              | Identifier for the movie in the Internet Movie Database (IMDB).                                    |\n",
    "| 11    | **original_language**    | The language in which the movie was originally produced.                                           |\n",
    "| 12    | **original_title**       | The title of the movie in its original language.                                                   |\n",
    "| 13    | **overview**             | Brief summary of the movie's plot.                                                                 |\n",
    "| 14    | **popularity**           | Popularity score of the movie on TMDB.                                                             |\n",
    "| 15    | **tagline**              | Official tagline of the movie.                                                                     |\n",
    "| 16    | **genres**               | Categories of genres the movie belongs to.                                                         |\n",
    "| 17    | **production_companies** | Companies involved in producing the movie.                                                        |\n",
    "| 18    | **production_countries** | Countries where the movie was produced.                                                            |\n",
    "| 19    | **spoken_languages**     | Languages spoken in the movie.                                                                     |\n",
    "| 20    | **cast**                 | All cast.                                                                                          |\n",
    "| 21    | **director**             | All director(s).                                                                                   |\n",
    "| 22    | **director_of_photography** | All DOP (cinematographers).                                                                       |\n",
    "| 23    | **writers**              | All writers.                                                                                       |\n",
    "| 24    | **producers**            | Producers and executive producers.                                                                 |\n",
    "| 25    | **music_composer**       | Music by.                                                                                          |\n",
    "| 26    | **imdb_rating**          | IMDB rating.                                                                                       |\n",
    "| 27    | **imdb_votes**           | IMDB vote count.                                                                                   |\n",
    "| 28    | **poster_path**          | Path to the movie's poster image.                                                                  |\n",
    "\n",
    "\n"
   ]
  },
  {
   "cell_type": "code",
   "execution_count": 20,
   "metadata": {},
   "outputs": [],
   "source": [
    "import pandas as pd\n",
    "import re\n",
    "import matplotlib.pyplot as plt\n",
    "import seaborn as sns"
   ]
  },
  {
   "cell_type": "code",
   "execution_count": 21,
   "metadata": {},
   "outputs": [],
   "source": [
    "import sys\n",
    "sys.path.append('../utils')\n",
    "import data_cleaning\n",
    "import data_inspection\n",
    "import helpers"
   ]
  },
  {
   "cell_type": "code",
   "execution_count": 22,
   "metadata": {},
   "outputs": [],
   "source": [
    "tmdb_df = pd.read_csv('../data/local/raw/1_TMDB_all_movies.csv')"
   ]
  },
  {
   "cell_type": "code",
   "execution_count": null,
   "metadata": {},
   "outputs": [],
   "source": [
    "data_inspection.show_basic_info(tmdb_df)"
   ]
  },
  {
   "cell_type": "code",
   "execution_count": 24,
   "metadata": {},
   "outputs": [],
   "source": [
    "# drop columns\n",
    "tmdb_df.drop(columns=['cast', 'director_of_photography', 'music_composer', 'poster_path', 'writers', 'spoken_languages', 'producers'], inplace=True)"
   ]
  },
  {
   "cell_type": "code",
   "execution_count": null,
   "metadata": {},
   "outputs": [],
   "source": [
    "# check for duplicates\n",
    "data_inspection.check_for_duplicates(tmdb_df)"
   ]
  },
  {
   "cell_type": "code",
   "execution_count": null,
   "metadata": {},
   "outputs": [],
   "source": [
    "# remove rows where 'status' is not 'Released'\n",
    "print(f'Unique values in status column:\\n{tmdb_df['status'].unique()}\\n')\n",
    "\n",
    "initial_rows = len(tmdb_df)\n",
    "tmdb_df = tmdb_df[tmdb_df['status'] == 'Released'] # keep rows where 'status' is 'Released'\n",
    "final_rows = len(tmdb_df)\n",
    "removed_rows = initial_rows - final_rows\n",
    "print(f'\\nNumber of rows removed: {removed_rows}')"
   ]
  },
  {
   "cell_type": "code",
   "execution_count": 27,
   "metadata": {},
   "outputs": [],
   "source": [
    "# remove 'status' column after sorting\n",
    "tmdb_df.drop(['status'], axis=1, inplace=True)"
   ]
  },
  {
   "cell_type": "code",
   "execution_count": 28,
   "metadata": {},
   "outputs": [],
   "source": [
    "# create copy\n",
    "df = tmdb_df.copy()"
   ]
  },
  {
   "cell_type": "code",
   "execution_count": null,
   "metadata": {},
   "outputs": [],
   "source": [
    "# convert 'release_date' to datetime, extract year and convert it to int\n",
    "df['release_date'] = pd.to_datetime(df['release_date'], errors='coerce')\n",
    "df['release_year'] = df['release_date'].dt.year.astype('Int64')\n",
    "print(df[['release_date', 'release_year']].head())"
   ]
  },
  {
   "cell_type": "code",
   "execution_count": 30,
   "metadata": {},
   "outputs": [],
   "source": [
    "# drop 'release_date' column\n",
    "df.drop(columns='release_date', inplace=True)"
   ]
  },
  {
   "cell_type": "code",
   "execution_count": null,
   "metadata": {},
   "outputs": [],
   "source": [
    "release_year_counts = df['release_year'].value_counts().sort_index()\n",
    "print(f'Movie releases per year:\\n{release_year_counts}')"
   ]
  },
  {
   "cell_type": "code",
   "execution_count": null,
   "metadata": {},
   "outputs": [],
   "source": [
    "# filter out rows for a specific timeframe (eg between 1906 and 2018)\n",
    "initial_count = len(df)\n",
    "df = df[(df['release_year'] >= 1906) & (df['release_year'] <= 2024)]\n",
    "final_count = len(df)\n",
    "rows_dropped = initial_count - final_count\n",
    "print(f'Rows dropped after filtering year: {rows_dropped}')\n",
    "display(df)"
   ]
  },
  {
   "cell_type": "code",
   "execution_count": null,
   "metadata": {},
   "outputs": [],
   "source": [
    "release_year_counts = df['release_year'].value_counts().sort_index()\n",
    "print(f'Movie releases per year:\\n{release_year_counts}')"
   ]
  },
  {
   "cell_type": "code",
   "execution_count": null,
   "metadata": {},
   "outputs": [],
   "source": [
    "data_inspection.show_missing_values(df)"
   ]
  },
  {
   "cell_type": "code",
   "execution_count": null,
   "metadata": {},
   "outputs": [],
   "source": [
    "# drop missing titles\n",
    "df = data_cleaning.drop_empty_rows_from_column(df, 'title')"
   ]
  },
  {
   "cell_type": "code",
   "execution_count": null,
   "metadata": {},
   "outputs": [],
   "source": [
    "# data conversion to int\n",
    "columns_to_convert = ['imdb_votes', 'revenue', 'budget', 'runtime', 'vote_count']\n",
    "data_cleaning.convert_columns_to_int(df, columns_to_convert)"
   ]
  },
  {
   "cell_type": "code",
   "execution_count": 18,
   "metadata": {},
   "outputs": [],
   "source": [
    "# df.to_csv('../data/local/raw/2_tmdb_backup.csv', index=False)"
   ]
  },
  {
   "cell_type": "code",
   "execution_count": null,
   "metadata": {},
   "outputs": [],
   "source": [
    "# backup df while testing notebook\n",
    "df = pd.read_csv('../data/local/raw/2_tmdb_backup.csv')"
   ]
  },
  {
   "cell_type": "code",
   "execution_count": null,
   "metadata": {},
   "outputs": [],
   "source": [
    "display(df)"
   ]
  },
  {
   "cell_type": "code",
   "execution_count": 21,
   "metadata": {},
   "outputs": [],
   "source": [
    "# get language names\n",
    "df['language'] = df['original_language'].apply(helpers.get_language_name)"
   ]
  },
  {
   "cell_type": "code",
   "execution_count": null,
   "metadata": {},
   "outputs": [],
   "source": [
    "# handle unknown language(s)\n",
    "print(f'Unique values in language column:\\n{df['language'].unique()}')\n",
    "print(f'Value counts in language column:\\n{df['language'].value_counts()}')"
   ]
  },
  {
   "cell_type": "code",
   "execution_count": 23,
   "metadata": {},
   "outputs": [],
   "source": [
    "# replace [cn] with a proper label\n",
    "unknown_lang = df[df['original_language'] == 'cn']\n",
    "df['language'] = df['language'].replace('Unknown language [cn]', 'Cantonese')"
   ]
  },
  {
   "cell_type": "code",
   "execution_count": 24,
   "metadata": {},
   "outputs": [],
   "source": [
    "# replace [xx] with a proper label\n",
    "unknown_lang = df[df['original_language'] == 'xx']\n",
    "df['language'] = df['language'].replace('Unknown language [xx]', 'Unknown')"
   ]
  },
  {
   "cell_type": "code",
   "execution_count": null,
   "metadata": {},
   "outputs": [],
   "source": [
    "print(f'Unique values in language column after re labeling: {df['language'].unique()}')"
   ]
  },
  {
   "cell_type": "code",
   "execution_count": 26,
   "metadata": {},
   "outputs": [],
   "source": [
    "# drop column after extracting languages\n",
    "df.drop(columns='original_language', inplace=True)"
   ]
  },
  {
   "cell_type": "code",
   "execution_count": null,
   "metadata": {},
   "outputs": [],
   "source": [
    "# parse 'genres' column, make sure they're al lowcase, no extra empty spaces, separated by commas\n",
    "df['genres'] = helpers.clean_genres(df, 'genres')\n",
    "print('Unique genres:')\n",
    "print(df['genres'].unique())"
   ]
  },
  {
   "cell_type": "code",
   "execution_count": null,
   "metadata": {},
   "outputs": [],
   "source": [
    "def drop_rows_with_specific_genres(df, column_name='genres', genres_to_exclude=None):\n",
    "    if genres_to_exclude is None:\n",
    "        genres_to_exclude = {'documentary', 'music'}\n",
    "\n",
    "    def contains_excluded_genre(genres):\n",
    "        if isinstance(genres, list):  # If genres is a list\n",
    "            return any(genre.strip().lower() in genres_to_exclude for genre in genres)\n",
    "        elif isinstance(genres, str):  # If genres is a comma-separated string\n",
    "            return any(genre.strip().lower() in genres_to_exclude for genre in genres.split(','))\n",
    "        return False  # For NaN or other invalid cases\n",
    "\n",
    "    rows_before = len(df)  # Number of rows before filtering\n",
    "    filtered_df = df[~df[column_name].apply(contains_excluded_genre)]\n",
    "    rows_after = len(filtered_df)  # Number of rows after filtering\n",
    "\n",
    "    rows_dropped = rows_before - rows_after\n",
    "    print(f'Number of rows dropped: {rows_dropped}')\n",
    "\n",
    "    return filtered_df\n",
    "\n",
    "df = drop_rows_with_specific_genres(df, column_name='genres')"
   ]
  },
  {
   "cell_type": "code",
   "execution_count": null,
   "metadata": {},
   "outputs": [],
   "source": [
    "df = helpers.drop_rows_by_runtime(df, column_name='runtime', min_runtime=40)"
   ]
  },
  {
   "cell_type": "code",
   "execution_count": 30,
   "metadata": {},
   "outputs": [],
   "source": [
    "# Replace 'United States of America' with 'USA' and 'United Kingdom' with 'UK' in 'countries' column\n",
    "df['production_countries'] = df['production_countries'].replace(\n",
    "    {'United States of America': 'USA', 'United Kingdom': 'UK'}, regex=True\n",
    ")"
   ]
  },
  {
   "cell_type": "code",
   "execution_count": null,
   "metadata": {},
   "outputs": [],
   "source": [
    "def remove_title_keywords(df, column_name, words_list):\n",
    "    if df is None:\n",
    "        raise ValueError(\"Input DataFrame is None\")\n",
    "    \n",
    "    pattern = '|'.join([rf'\\b{re.escape(word)}\\b' for word in words_list])\n",
    "    \n",
    "    initial_count = len(df)  # This will fail if df is None\n",
    "\n",
    "    df_filtered = df[~df[column_name].str.contains(pattern, case=False, na=False)]\n",
    "\n",
    "    filtered_count = len(df_filtered)\n",
    "    print(f'Rows removed: {initial_count - filtered_count}')\n",
    "    \n",
    "    return df_filtered\n",
    "\n",
    "words_to_remove = ['vixen', 'rape', 'slut', 'playboy', 'live at', 'baby einstein', 'championship', 'standup', 'wwe', 'wec', 'fia', 'playoff', 'ufc', 'mma', 'wcw', 'porn', 'snuff', 'nfl', 'nhl', 'raw sex', 'milf', 'molester', 'bondage', 'nba', 'tits', 'f1']\n",
    "df = remove_title_keywords(df, 'title', words_to_remove)"
   ]
  },
  {
   "cell_type": "code",
   "execution_count": null,
   "metadata": {},
   "outputs": [],
   "source": [
    "data_inspection.show_missing_values(df)"
   ]
  },
  {
   "cell_type": "code",
   "execution_count": 33,
   "metadata": {},
   "outputs": [],
   "source": [
    "rename_columns = {\n",
    "    'id': 'tmdb_id',\n",
    "    'vote_average': 'tmdb_rating',\n",
    "    'vote_count': 'tmdb_votes'\n",
    "}\n",
    "\n",
    "df.rename(columns=rename_columns, inplace=True)"
   ]
  },
  {
   "cell_type": "code",
   "execution_count": 34,
   "metadata": {},
   "outputs": [],
   "source": [
    "# round decimals\n",
    "df['popularity'] = df['popularity'].round(1)\n",
    "df['tmdb_rating'] = df['tmdb_rating'].round(1)"
   ]
  },
  {
   "cell_type": "code",
   "execution_count": 35,
   "metadata": {},
   "outputs": [],
   "source": [
    "# generate clean title column\n",
    "df['clean_title'] = helpers.prepare_clean_titles(df, 'title')"
   ]
  },
  {
   "cell_type": "code",
   "execution_count": null,
   "metadata": {},
   "outputs": [],
   "source": [
    "display(df)"
   ]
  },
  {
   "cell_type": "code",
   "execution_count": 36,
   "metadata": {},
   "outputs": [],
   "source": [
    "## create .csv file\n",
    "df = df.sort_values(by='tmdb_id').reset_index(drop=True)\n",
    "# df.to_csv('../data/local/raw/3_tmdb_released_movies.csv', index=False)"
   ]
  },
  {
   "cell_type": "markdown",
   "metadata": {},
   "source": [
    "## Check some stats"
   ]
  },
  {
   "cell_type": "markdown",
   "metadata": {},
   "source": [
    "### Top 10s"
   ]
  },
  {
   "cell_type": "code",
   "execution_count": null,
   "metadata": {},
   "outputs": [],
   "source": [
    "# most popular genres:\n",
    "# split column by commas\n",
    "df_exploded_genres = df['genres'].str.split(',').explode().str.strip()\n",
    "\n",
    "# add column for popularity\n",
    "df_genres_popularity = df_exploded_genres.to_frame(name='genre').join(df['popularity'])\n",
    "\n",
    "# calculate average popularity\n",
    "genre_popularity = df_genres_popularity.groupby('genre')['popularity'].mean().sort_values(ascending=False)\n",
    "\n",
    "print('Most Popular Genres:')\n",
    "print(genre_popularity.head(10))\n",
    "\n",
    "# calculate average popularity\n",
    "language_popularity = df.groupby('language')['popularity'].mean().sort_values(ascending=False)\n",
    "\n",
    "print('\\nMost Popular Languages:')\n",
    "print(language_popularity.head(10))"
   ]
  },
  {
   "cell_type": "code",
   "execution_count": null,
   "metadata": {},
   "outputs": [],
   "source": [
    "# split 'genres' by commas, explode it, create a row for each genre\n",
    "df_exploded_genres = df['genres'].str.split(',').explode().str.strip()\n",
    "\n",
    "# 'popularity' column to exploded genres\n",
    "df_genres_imdb_rating = df_exploded_genres.to_frame(name='genre').join(df['imdb_rating'])\n",
    "\n",
    "# calculate average imdb_rating\n",
    "genre_imdb_rating = df_genres_imdb_rating.groupby('genre')['imdb_rating'].mean().sort_values(ascending=False)\n",
    "\n",
    "print('Most Popular Genres:')\n",
    "print(genre_imdb_rating.head(10))\n",
    "\n",
    "# most popular languages:\n",
    "# calculate average imdb_rating\n",
    "language_imdb_rating = df.groupby('language')['imdb_rating'].mean().sort_values(ascending=False)\n",
    "\n",
    "print('\\nMost Popular Languages:')\n",
    "print(language_popularity.head(10))"
   ]
  },
  {
   "cell_type": "markdown",
   "metadata": {},
   "source": [
    "### Correlation Plots"
   ]
  },
  {
   "cell_type": "code",
   "execution_count": null,
   "metadata": {},
   "outputs": [],
   "source": [
    "# correlations for numeric columns\n",
    "numeric_columns = ['popularity', 'revenue', 'budget', 'runtime', 'imdb_rating', 'imdb_votes']\n",
    "correlation_matrix = df[numeric_columns].corr()\n",
    "\n",
    "# correlation matrix heatmap\n",
    "plt.figure(figsize=(10, 6))\n",
    "sns.heatmap(correlation_matrix, annot=True, cmap='winter', vmin=-1, vmax=1)\n",
    "plt.title('Correlation Heatmap of Numeric Columns')\n",
    "plt.show()"
   ]
  },
  {
   "cell_type": "code",
   "execution_count": null,
   "metadata": {},
   "outputs": [],
   "source": [
    "# most popular genres\n",
    "# split and explode the genres column\n",
    "df_exploded_genres = df['genres'].str.split(',').explode().str.strip()\n",
    "df_genres_popularity = df_exploded_genres.to_frame(name='genre').join(df['popularity'])\n",
    "\n",
    "# group and calculate average popularity\n",
    "genre_popularity = df_genres_popularity.groupby('genre')['popularity'].mean().sort_values(ascending=False)\n",
    "top_20_genres = genre_popularity.head(20)\n",
    "\n",
    "top_20_genres.index = top_20_genres.index.str.title()\n",
    "\n",
    "# top 20 plot\n",
    "plt.figure(figsize=(10, 8))\n",
    "sns.barplot(x=top_20_genres.values, y=top_20_genres.index, palette='viridis')\n",
    "plt.title('Top 20 Most Popular Genres (2018)')\n",
    "plt.xlabel('Average Popularity')\n",
    "plt.ylabel('Genre')\n",
    "plt.show()"
   ]
  },
  {
   "cell_type": "code",
   "execution_count": null,
   "metadata": {},
   "outputs": [],
   "source": [
    "# most popular languages\n",
    "language_popularity = df.groupby('language')['popularity'].mean().sort_values(ascending=False)\n",
    "top_10_languages = language_popularity.head(10)\n",
    "\n",
    "plt.figure(figsize=(10, 6))\n",
    "sns.barplot(x=top_10_languages.values, y=top_10_languages.index, palette='magma')\n",
    "plt.title('Top 10 Most Popular Languages (2018)')\n",
    "plt.xlabel('Average Popularity')\n",
    "plt.ylabel('Language')\n",
    "plt.show()"
   ]
  }
 ],
 "metadata": {
  "kernelspec": {
   "display_name": "movie_env",
   "language": "python",
   "name": "python3"
  },
  "language_info": {
   "codemirror_mode": {
    "name": "ipython",
    "version": 3
   },
   "file_extension": ".py",
   "mimetype": "text/x-python",
   "name": "python",
   "nbconvert_exporter": "python",
   "pygments_lexer": "ipython3",
   "version": "3.12.3"
  }
 },
 "nbformat": 4,
 "nbformat_minor": 2
}
