{
 "cells": [
  {
   "cell_type": "markdown",
   "metadata": {},
   "source": [
    "# Work with TMDB + IMDB dataset \n",
    "- [Source](https://www.kaggle.com/datasets/alanvourch/tmdb-movies-daily-updates)\n",
    "\n",
    "**Metadata**\n",
    "\n",
    "| **#** | **Column**               | **Description**                                                                                     |\n",
    "|-------|--------------------------|-----------------------------------------------------------------------------------------------------|\n",
    "| 1     | **id**                   | Unique identifier for the film in the TMDB.                                                        |\n",
    "| 2     | **title**                | The official title of the movie.                                                                   |\n",
    "| 3     | **vote_average**         | Average rating of the movie on a scale from 0 to 10.                                               |\n",
    "| 4     | **vote_count**           | Number of votes that contributed to the movie's rating.                                            |\n",
    "| 5     | **status**               | The current release status of the movie (e.g., *Released*, *Post-Production*).                     |\n",
    "| 6     | **release_date**         | The date when the film was officially released.                                                    |\n",
    "| 7     | **revenue**              | Box office earnings of the movie.                                                                  |\n",
    "| 8     | **runtime**              | Duration of the movie in minutes.                                                                  |\n",
    "| 9     | **budget**               | Financial budget allocated for the movie production.                                               |\n",
    "| 10    | **imdb_id**              | Identifier for the movie in the Internet Movie Database (IMDB).                                    |\n",
    "| 11    | **original_language**    | The language in which the movie was originally produced.                                           |\n",
    "| 12    | **original_title**       | The title of the movie in its original language.                                                   |\n",
    "| 13    | **overview**             | Brief summary of the movie's plot.                                                                 |\n",
    "| 14    | **popularity**           | Popularity score of the movie on TMDB.                                                             |\n",
    "| 15    | **tagline**              | Official tagline of the movie.                                                                     |\n",
    "| 16    | **genres**               | Categories of genres the movie belongs to.                                                         |\n",
    "| 17    | **production_companies** | Companies involved in producing the movie.                                                        |\n",
    "| 18    | **production_countries** | Countries where the movie was produced.                                                            |\n",
    "| 19    | **spoken_languages**     | Languages spoken in the movie.                                                                     |\n",
    "| 20    | **cast**                 | All cast.                                                                                          |\n",
    "| 21    | **director**             | All director(s).                                                                                   |\n",
    "| 22    | **director_of_photography** | All DOP (cinematographers).                                                                       |\n",
    "| 23    | **writers**              | All writers.                                                                                       |\n",
    "| 24    | **producers**            | Producers and executive producers.                                                                 |\n",
    "| 25    | **music_composer**       | Music by.                                                                                          |\n",
    "| 26    | **imdb_rating**          | IMDB rating.                                                                                       |\n",
    "| 27    | **imdb_votes**           | IMDB vote count.                                                                                   |\n",
    "| 28    | **poster_path**          | Path to the movie's poster image.                                                                  |\n",
    "\n",
    "\n"
   ]
  },
  {
   "cell_type": "code",
   "execution_count": null,
   "metadata": {},
   "outputs": [],
   "source": [
    "import pandas as pd\n",
    "import numpy as np\n",
    "from datetime import datetime\n",
    "import re\n",
    "import matplotlib.pyplot as plt\n",
    "import seaborn as sns\n",
    "import langcodes\n"
   ]
  },
  {
   "cell_type": "code",
   "execution_count": null,
   "metadata": {},
   "outputs": [],
   "source": [
    "import sys\n",
    "sys.path.append('../utils')\n",
    "import functions"
   ]
  },
  {
   "cell_type": "code",
   "execution_count": null,
   "metadata": {},
   "outputs": [],
   "source": [
    "tmdb_df = pd.read_csv('../data/local/raw/TMDB_all_movies.csv')"
   ]
  },
  {
   "cell_type": "code",
   "execution_count": null,
   "metadata": {},
   "outputs": [],
   "source": [
    "functions.show_basic_info(tmdb_df)"
   ]
  },
  {
   "cell_type": "code",
   "execution_count": null,
   "metadata": {},
   "outputs": [],
   "source": [
    "# functions.show_column_summary(tmdb_df)"
   ]
  },
  {
   "cell_type": "markdown",
   "metadata": {},
   "source": [
    "Columns to drop:\n",
    "- cast\n",
    "- director_of_photography\n",
    "- music_composer\n",
    "- poster_path\n",
    "- writers\n",
    "- tagline"
   ]
  },
  {
   "cell_type": "code",
   "execution_count": null,
   "metadata": {},
   "outputs": [],
   "source": [
    "tmdb_df.drop(columns=['cast', 'director_of_photography', 'music_composer', 'poster_path', 'writers', 'tagline'], inplace=True)\n",
    "tmdb_df.head()"
   ]
  },
  {
   "cell_type": "code",
   "execution_count": null,
   "metadata": {},
   "outputs": [],
   "source": [
    "functions.check_for_duplicates(tmdb_df)"
   ]
  },
  {
   "cell_type": "markdown",
   "metadata": {},
   "source": [
    "Remove all rows where 'status' is not 'Released'"
   ]
  },
  {
   "cell_type": "code",
   "execution_count": null,
   "metadata": {},
   "outputs": [],
   "source": [
    "print(tmdb_df['status'].unique())"
   ]
  },
  {
   "cell_type": "code",
   "execution_count": null,
   "metadata": {},
   "outputs": [],
   "source": [
    "initial_rows = len(tmdb_df)\n",
    "tmdb_df = tmdb_df[tmdb_df['status'] == 'Released'] # keep rows where 'status' is 'Released'\n",
    "final_rows = len(tmdb_df)\n",
    "removed_rows = initial_rows - final_rows\n",
    "print(f'Number of rows removed: {removed_rows}')"
   ]
  },
  {
   "cell_type": "markdown",
   "metadata": {},
   "source": [
    "#### 'release_date' column\n",
    "- Convert to datetime\n",
    "- Extract year only\n",
    "- Convert year to integer"
   ]
  },
  {
   "cell_type": "code",
   "execution_count": null,
   "metadata": {},
   "outputs": [],
   "source": [
    "df = tmdb_df.copy()"
   ]
  },
  {
   "cell_type": "code",
   "execution_count": null,
   "metadata": {},
   "outputs": [],
   "source": [
    "df['release_date'] = pd.to_datetime(df['release_date'], errors='coerce')\n",
    "df['release_year'] = df['release_date'].dt.year.astype('Int64')\n",
    "print(df[['release_date', 'release_year']].head())"
   ]
  },
  {
   "cell_type": "markdown",
   "metadata": {},
   "source": [
    "Get released movie count per year in df"
   ]
  },
  {
   "cell_type": "code",
   "execution_count": null,
   "metadata": {},
   "outputs": [],
   "source": [
    "release_year_counts = df['release_year'].value_counts().sort_index()\n",
    "print(release_year_counts)"
   ]
  },
  {
   "cell_type": "code",
   "execution_count": null,
   "metadata": {},
   "outputs": [],
   "source": [
    "release_year_counts = df['release_year'].value_counts().sort_index()\n",
    "\n",
    "top_20_years = release_year_counts.nlargest(20).sort_index()\n",
    "\n",
    "top_20_years.index = top_20_years.index.astype(str)\n",
    "\n",
    "# Create the line plot\n",
    "plt.figure(figsize=(10, 6))\n",
    "sns.lineplot(x=top_20_years.index, y=top_20_years.values, color='lightcoral')\n",
    "\n",
    "plt.title('Top 20 Years with Most Film Releases')\n",
    "plt.xlabel('Year')\n",
    "plt.ylabel('Releases')\n",
    "plt.xticks(rotation=45)\n",
    "plt.grid(True)\n",
    "\n",
    "plt.show()"
   ]
  },
  {
   "cell_type": "markdown",
   "metadata": {},
   "source": [
    "### Create new DF from one specific year"
   ]
  },
  {
   "cell_type": "code",
   "execution_count": null,
   "metadata": {},
   "outputs": [],
   "source": [
    "df_2018 = df[df['release_year'] == 2018]\n",
    "\n",
    "df_2018 = df_2018.reset_index(drop=True)\n",
    "\n",
    "print(f'Number of rows in the 2018 dataset: {len(df_2018)}')"
   ]
  },
  {
   "cell_type": "code",
   "execution_count": null,
   "metadata": {},
   "outputs": [],
   "source": [
    "df_2018.head()"
   ]
  },
  {
   "cell_type": "markdown",
   "metadata": {},
   "source": [
    "Drop Columns\n",
    "- 'id'\n",
    "- 'imdb_id'\n",
    "- 'overview'\n",
    "- 'production_companies'\n",
    "- 'production_countries'\n",
    "- 'producers'\n",
    "- 'release_date'\n",
    "- 'spoken_languages'\n",
    "- 'status'\n",
    "- 'vote_average'\n",
    "- 'vote_count'"
   ]
  },
  {
   "cell_type": "code",
   "execution_count": null,
   "metadata": {},
   "outputs": [],
   "source": [
    "# Drop specified columns\n",
    "columns_to_drop = ['id', 'imdb_id', 'overview', 'production_companies', 'production_countries', 'producers', 'release_date', 'spoken_languages', 'status', 'vote_average', 'vote_count']\n",
    "\n",
    "df_2018 = df_2018.drop(columns=columns_to_drop)"
   ]
  },
  {
   "cell_type": "code",
   "execution_count": null,
   "metadata": {},
   "outputs": [],
   "source": [
    "df_2018['clean_title'] = functions.prepare_clean_titles(df_2018, 'title')\n",
    "\n",
    "# reorder columns\n",
    "df_2018 = df_2018[['title', 'original_title', 'clean_title', 'release_year', 'imdb_rating', 'imdb_votes', 'genres', 'director', 'revenue', 'budget', 'runtime', 'original_language', 'popularity']]"
   ]
  },
  {
   "cell_type": "code",
   "execution_count": null,
   "metadata": {},
   "outputs": [],
   "source": [
    "# clean genres\n",
    "df_2018['genres'] = functions.clean_genres(df_2018, 'genres')\n",
    "df_2018.head()"
   ]
  },
  {
   "cell_type": "code",
   "execution_count": null,
   "metadata": {},
   "outputs": [],
   "source": [
    "# float columns to int\n",
    "\n",
    "columns_to_convert = ['imdb_votes', 'revenue', 'budget', 'runtime']\n",
    "\n",
    "df_2018[columns_to_convert] = df_2018[columns_to_convert].astype('Int64', errors='ignore')\n",
    "\n",
    "df_2018.head()"
   ]
  },
  {
   "cell_type": "code",
   "execution_count": null,
   "metadata": {},
   "outputs": [],
   "source": [
    "# Check empty rows\n",
    "total_rows = len(df_2018)\n",
    "\n",
    "empty_rows = df_2018.isna().any(axis=1).sum()\n",
    "\n",
    "print(f'Total number of rows: {total_rows}')\n",
    "print(f'Number of rows with empty values: {empty_rows}')\n"
   ]
  },
  {
   "cell_type": "code",
   "execution_count": null,
   "metadata": {},
   "outputs": [],
   "source": [
    "df_2018['language'] = df_2018['original_language'].apply(functions.get_language_name)\n",
    "\n",
    "df_2018.head()"
   ]
  },
  {
   "cell_type": "markdown",
   "metadata": {},
   "source": [
    "### Top 10s"
   ]
  },
  {
   "cell_type": "code",
   "execution_count": null,
   "metadata": {},
   "outputs": [],
   "source": [
    "# For most popular genres:\n",
    "# Split the 'genres' column by commas and explode it to create a new row for each genre\n",
    "df_exploded_genres = df_2018['genres'].str.split(',').explode().str.strip()\n",
    "\n",
    "# Add the 'popularity' column to the exploded genres\n",
    "df_genres_popularity = df_exploded_genres.to_frame(name='genre').join(df_2018['popularity'])\n",
    "\n",
    "# Group by genre and calculate average popularity\n",
    "genre_popularity = df_genres_popularity.groupby('genre')['popularity'].mean().sort_values(ascending=False)\n",
    "\n",
    "# Display top 10 most popular genres\n",
    "print('Most Popular Genres:')\n",
    "print(genre_popularity.head(10))\n",
    "\n",
    "# For most popular languages:\n",
    "# Group by 'original_language' and calculate average popularity\n",
    "language_popularity = df_2018.groupby('language')['popularity'].mean().sort_values(ascending=False)\n",
    "\n",
    "# Display top 10 most popular languages\n",
    "print('\\nMost Popular Languages:')\n",
    "print(language_popularity.head(10))\n"
   ]
  },
  {
   "cell_type": "code",
   "execution_count": null,
   "metadata": {},
   "outputs": [],
   "source": [
    "# Split the 'genres' column by commas and explode it to create a new row for each genre\n",
    "df_exploded_genres = df_2018['genres'].str.split(',').explode().str.strip()\n",
    "\n",
    "# Add the 'popularity' column to the exploded genres\n",
    "df_genres_imdb_rating = df_exploded_genres.to_frame(name='genre').join(df_2018['imdb_rating'])\n",
    "\n",
    "# Group by genre and calculate average imdb_rating\n",
    "genre_imdb_rating = df_genres_imdb_rating.groupby('genre')['imdb_rating'].mean().sort_values(ascending=False)\n",
    "\n",
    "# Display top 10 most popular genres\n",
    "print('Most Popular Genres:')\n",
    "print(genre_imdb_rating.head(10))\n",
    "\n",
    "# For most popular languages:\n",
    "# Group by 'original_language' and calculate average imdb_rating\n",
    "language_imdb_rating = df_2018.groupby('language')['imdb_rating'].mean().sort_values(ascending=False)\n",
    "\n",
    "# Display top 10 most popular languages\n",
    "print('\\nMost Popular Languages:')\n",
    "print(language_popularity.head(10))"
   ]
  },
  {
   "cell_type": "markdown",
   "metadata": {},
   "source": [
    "### Correlations"
   ]
  },
  {
   "cell_type": "code",
   "execution_count": null,
   "metadata": {},
   "outputs": [],
   "source": [
    "# 1. Calculate correlations for numeric columns\n",
    "numeric_columns = ['popularity', 'revenue', 'budget', 'runtime', 'imdb_rating', 'imdb_votes']\n",
    "correlation_matrix = df_2018[numeric_columns].corr()"
   ]
  },
  {
   "cell_type": "code",
   "execution_count": null,
   "metadata": {},
   "outputs": [],
   "source": [
    "# 2. Plot correlation matrix heatmap\n",
    "plt.figure(figsize=(10, 6))\n",
    "sns.heatmap(correlation_matrix, annot=True, cmap='winter', vmin=-1, vmax=1)\n",
    "plt.title('Correlation Heatmap of Numeric Columns')\n",
    "plt.show()"
   ]
  },
  {
   "cell_type": "code",
   "execution_count": null,
   "metadata": {},
   "outputs": [],
   "source": [
    "# 3. Top 10 or 20 most popular genres\n",
    "# For genres, split and explode the genres column\n",
    "df_exploded_genres = df_2018['genres'].str.split(',').explode().str.strip()\n",
    "df_genres_popularity = df_exploded_genres.to_frame(name='genre').join(df_2018['popularity'])"
   ]
  },
  {
   "cell_type": "code",
   "execution_count": null,
   "metadata": {},
   "outputs": [],
   "source": [
    "# Group by genre and calculate average popularity\n",
    "genre_popularity = df_genres_popularity.groupby('genre')['popularity'].mean().sort_values(ascending=False)\n",
    "top_20_genres = genre_popularity.head(20)"
   ]
  },
  {
   "cell_type": "code",
   "execution_count": null,
   "metadata": {},
   "outputs": [],
   "source": [
    "# Capitalize the first letter of each genre\n",
    "top_20_genres.index = top_20_genres.index.str.title()\n",
    "\n",
    "# Plot the top 20 most popular genres\n",
    "plt.figure(figsize=(10, 8))\n",
    "sns.barplot(x=top_20_genres.values, y=top_20_genres.index, palette='viridis')\n",
    "plt.title('Top 20 Most Popular Genres (2018)')\n",
    "plt.xlabel('Average Popularity')\n",
    "plt.ylabel('Genre')\n",
    "plt.show()\n"
   ]
  },
  {
   "cell_type": "code",
   "execution_count": null,
   "metadata": {},
   "outputs": [],
   "source": [
    "# 4. Top 10 most popular languages\n",
    "language_popularity = df_2018.groupby('language')['popularity'].mean().sort_values(ascending=False)\n",
    "top_10_languages = language_popularity.head(10)"
   ]
  },
  {
   "cell_type": "code",
   "execution_count": null,
   "metadata": {},
   "outputs": [],
   "source": [
    "# Plot the top 10 most popular languages\n",
    "plt.figure(figsize=(10, 6))\n",
    "sns.barplot(x=top_10_languages.values, y=top_10_languages.index, palette='magma')\n",
    "plt.title('Top 10 Most Popular Languages (2018)')\n",
    "plt.xlabel('Average Popularity')\n",
    "plt.ylabel('Language')\n",
    "plt.show()"
   ]
  },
  {
   "cell_type": "code",
   "execution_count": null,
   "metadata": {},
   "outputs": [],
   "source": []
  }
 ],
 "metadata": {
  "kernelspec": {
   "display_name": "movie_env",
   "language": "python",
   "name": "python3"
  },
  "language_info": {
   "codemirror_mode": {
    "name": "ipython",
    "version": 3
   },
   "file_extension": ".py",
   "mimetype": "text/x-python",
   "name": "python",
   "nbconvert_exporter": "python",
   "pygments_lexer": "ipython3",
   "version": "3.12.3"
  }
 },
 "nbformat": 4,
 "nbformat_minor": 2
}
