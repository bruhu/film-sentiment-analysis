{
 "cells": [
  {
   "cell_type": "markdown",
   "metadata": {},
   "source": [
    "# Work with TMDB + IMDB dataset \n",
    "- [Source](https://www.kaggle.com/datasets/alanvourch/tmdb-movies-daily-updates)\n",
    "\n",
    "**Metadata**\n",
    "\n",
    "| **#** | **Column**               | **Description**                                                                                     |\n",
    "|-------|--------------------------|-----------------------------------------------------------------------------------------------------|\n",
    "| 1     | **id**                   | Unique identifier for the film in the TMDB.                                                        |\n",
    "| 2     | **title**                | The official title of the movie.                                                                   |\n",
    "| 3     | **vote_average**         | Average rating of the movie on a scale from 0 to 10.                                               |\n",
    "| 4     | **vote_count**           | Number of votes that contributed to the movie's rating.                                            |\n",
    "| 5     | **status**               | The current release status of the movie (e.g., *Released*, *Post-Production*).                     |\n",
    "| 6     | **release_date**         | The date when the film was officially released.                                                    |\n",
    "| 7     | **revenue**              | Box office earnings of the movie.                                                                  |\n",
    "| 8     | **runtime**              | Duration of the movie in minutes.                                                                  |\n",
    "| 9     | **budget**               | Financial budget allocated for the movie production.                                               |\n",
    "| 10    | **imdb_id**              | Identifier for the movie in the Internet Movie Database (IMDB).                                    |\n",
    "| 11    | **original_language**    | The language in which the movie was originally produced.                                           |\n",
    "| 12    | **original_title**       | The title of the movie in its original language.                                                   |\n",
    "| 13    | **overview**             | Brief summary of the movie's plot.                                                                 |\n",
    "| 14    | **popularity**           | Popularity score of the movie on TMDB.                                                             |\n",
    "| 15    | **tagline**              | Official tagline of the movie.                                                                     |\n",
    "| 16    | **genres**               | Categories of genres the movie belongs to.                                                         |\n",
    "| 17    | **production_companies** | Companies involved in producing the movie.                                                        |\n",
    "| 18    | **production_countries** | Countries where the movie was produced.                                                            |\n",
    "| 19    | **spoken_languages**     | Languages spoken in the movie.                                                                     |\n",
    "| 20    | **cast**                 | All cast.                                                                                          |\n",
    "| 21    | **director**             | All director(s).                                                                                   |\n",
    "| 22    | **director_of_photography** | All DOP (cinematographers).                                                                       |\n",
    "| 23    | **writers**              | All writers.                                                                                       |\n",
    "| 24    | **producers**            | Producers and executive producers.                                                                 |\n",
    "| 25    | **music_composer**       | Music by.                                                                                          |\n",
    "| 26    | **imdb_rating**          | IMDB rating.                                                                                       |\n",
    "| 27    | **imdb_votes**           | IMDB vote count.                                                                                   |\n",
    "| 28    | **poster_path**          | Path to the movie's poster image.                                                                  |\n",
    "\n",
    "\n"
   ]
  },
  {
   "cell_type": "code",
   "execution_count": null,
   "metadata": {},
   "outputs": [],
   "source": [
    "import pandas as pd\n",
    "import numpy as np\n",
    "from datetime import datetime\n",
    "import re\n",
    "import matplotlib.pyplot as plt\n",
    "import seaborn as sns\n",
    "import langcodes"
   ]
  },
  {
   "cell_type": "code",
   "execution_count": null,
   "metadata": {},
   "outputs": [],
   "source": [
    "import sys\n",
    "sys.path.append('../utils')\n",
    "import functions"
   ]
  },
  {
   "cell_type": "code",
   "execution_count": null,
   "metadata": {},
   "outputs": [],
   "source": [
    "tmdb_df = pd.read_csv('../data/local/raw/TMDB_all_movies.csv')"
   ]
  },
  {
   "cell_type": "code",
   "execution_count": null,
   "metadata": {},
   "outputs": [],
   "source": [
    "functions.show_basic_info(tmdb_df)"
   ]
  },
  {
   "cell_type": "code",
   "execution_count": null,
   "metadata": {},
   "outputs": [],
   "source": [
    "# functions.show_column_summary(tmdb_df)"
   ]
  },
  {
   "cell_type": "markdown",
   "metadata": {},
   "source": [
    "Columns to drop:\n",
    "- cast\n",
    "- director_of_photography\n",
    "- music_composer\n",
    "- poster_path\n",
    "- writers\n",
    "- tagline"
   ]
  },
  {
   "cell_type": "code",
   "execution_count": null,
   "metadata": {},
   "outputs": [],
   "source": [
    "tmdb_df.drop(columns=['cast', 'director_of_photography', 'music_composer', 'poster_path', 'writers', 'tagline'], inplace=True)\n",
    "tmdb_df.head()"
   ]
  },
  {
   "cell_type": "code",
   "execution_count": null,
   "metadata": {},
   "outputs": [],
   "source": [
    "functions.check_for_duplicates(tmdb_df)"
   ]
  },
  {
   "cell_type": "markdown",
   "metadata": {},
   "source": [
    "Remove all rows where 'status' is not 'Released'"
   ]
  },
  {
   "cell_type": "code",
   "execution_count": null,
   "metadata": {},
   "outputs": [],
   "source": [
    "print(tmdb_df['status'].unique())"
   ]
  },
  {
   "cell_type": "code",
   "execution_count": null,
   "metadata": {},
   "outputs": [],
   "source": [
    "initial_rows = len(tmdb_df)\n",
    "tmdb_df = tmdb_df[tmdb_df['status'] == 'Released'] # keep rows where 'status' is 'Released'\n",
    "final_rows = len(tmdb_df)\n",
    "removed_rows = initial_rows - final_rows\n",
    "print(f'Number of rows removed: {removed_rows}')"
   ]
  },
  {
   "cell_type": "markdown",
   "metadata": {},
   "source": [
    "#### 'release_date' column\n",
    "- Convert to datetime\n",
    "- Extract year only\n",
    "- Convert year to integer"
   ]
  },
  {
   "cell_type": "code",
   "execution_count": null,
   "metadata": {},
   "outputs": [],
   "source": [
    "df = tmdb_df.copy()"
   ]
  },
  {
   "cell_type": "code",
   "execution_count": null,
   "metadata": {},
   "outputs": [],
   "source": [
    "df['release_date'] = pd.to_datetime(df['release_date'], errors='coerce')\n",
    "df['release_year'] = df['release_date'].dt.year.astype('Int64')\n",
    "print(df[['release_date', 'release_year']].head())"
   ]
  },
  {
   "cell_type": "markdown",
   "metadata": {},
   "source": [
    "Get released movie count per year in df"
   ]
  },
  {
   "cell_type": "code",
   "execution_count": null,
   "metadata": {},
   "outputs": [],
   "source": [
    "release_year_counts = df['release_year'].value_counts().sort_index()\n",
    "print(release_year_counts)"
   ]
  },
  {
   "cell_type": "code",
   "execution_count": null,
   "metadata": {},
   "outputs": [],
   "source": [
    "# release_year_counts = df['release_year'].value_counts().sort_index()\n",
    "\n",
    "# top_20_years = release_year_counts.nlargest(20).sort_index()\n",
    "\n",
    "# top_20_years.index = top_20_years.index.astype(str)\n",
    "\n",
    "# # Create the line plot\n",
    "# plt.figure(figsize=(10, 6))\n",
    "# sns.lineplot(x=top_20_years.index, y=top_20_years.values, color='lightcoral')\n",
    "\n",
    "# plt.title('Top 20 Years with Most Film Releases')\n",
    "# plt.xlabel('Year')\n",
    "# plt.ylabel('Releases')\n",
    "# plt.xticks(rotation=45)\n",
    "# plt.grid(True)\n",
    "\n",
    "# plt.show()"
   ]
  },
  {
   "cell_type": "code",
   "execution_count": null,
   "metadata": {},
   "outputs": [],
   "source": [
    "df.drop(['overview', 'production_companies', 'production_countries', 'producers', 'status', 'spoken_languages'], axis=1, inplace=True)"
   ]
  },
  {
   "cell_type": "code",
   "execution_count": null,
   "metadata": {},
   "outputs": [],
   "source": [
    "df.head()"
   ]
  },
  {
   "cell_type": "code",
   "execution_count": null,
   "metadata": {},
   "outputs": [],
   "source": [
    "functions.show_missing_values(df)"
   ]
  },
  {
   "cell_type": "markdown",
   "metadata": {},
   "source": [
    "### New DF from a year span\n",
    "- Titles between 2019 and 2024\n",
    "- Drop empty rows in columns 'genre', 'director', 'original_title', and 'title'\n",
    "- 174702 rows × 17 columns"
   ]
  },
  {
   "cell_type": "code",
   "execution_count": null,
   "metadata": {},
   "outputs": [],
   "source": [
    "# Filter rows where 'release_year' is between 2019 and 2024\n",
    "filtered_df = df[(df['release_year'] >= 2019) & (df['release_year'] <= 2024)]\n",
    "\n",
    "# Drop rows where 'genres' or 'director' have empty or missing values\n",
    "filtered_df = filtered_df.dropna(subset=['genres', 'director', 'original_title', 'title'])\n"
   ]
  },
  {
   "cell_type": "code",
   "execution_count": null,
   "metadata": {},
   "outputs": [],
   "source": [
    "functions.show_missing_values(filtered_df)"
   ]
  },
  {
   "cell_type": "code",
   "execution_count": null,
   "metadata": {},
   "outputs": [],
   "source": [
    "display(filtered_df)"
   ]
  },
  {
   "cell_type": "code",
   "execution_count": null,
   "metadata": {},
   "outputs": [],
   "source": [
    "movie_df = filtered_df.copy()"
   ]
  },
  {
   "cell_type": "code",
   "execution_count": null,
   "metadata": {},
   "outputs": [],
   "source": [
    "# drop columns\n",
    "columns_to_drop = ['release_date']\n",
    "\n",
    "movie_df = movie_df.drop(columns=columns_to_drop)"
   ]
  },
  {
   "cell_type": "code",
   "execution_count": null,
   "metadata": {},
   "outputs": [],
   "source": [
    "movie_df['clean_title'] = functions.prepare_clean_titles(movie_df, 'title')\n",
    "\n",
    "# # reorder columns\n",
    "# movie_df = movie_df[['id', 'title', 'original_title', 'clean_title', 'release_year', 'imdb_id', 'imdb_rating', 'imdb_votes', 'genres', 'director', 'revenue', 'budget', 'runtime', 'original_language', 'popularity']]"
   ]
  },
  {
   "cell_type": "code",
   "execution_count": null,
   "metadata": {},
   "outputs": [],
   "source": [
    "# clean genres\n",
    "movie_df['genres'] = functions.clean_genres(movie_df, 'genres')\n",
    "movie_df.head()"
   ]
  },
  {
   "cell_type": "code",
   "execution_count": null,
   "metadata": {},
   "outputs": [],
   "source": [
    "columns_to_convert = ['imdb_votes', 'revenue', 'budget', 'runtime', 'vote_count']\n",
    "\n",
    "# Check if the columns exist in the DataFrame\n",
    "columns_to_convert = [col for col in columns_to_convert if col in movie_df.columns]\n",
    "\n",
    "# Convert the specified columns to 'Int64' type, handling errors gracefully\n",
    "movie_df[columns_to_convert] = movie_df[columns_to_convert].apply(pd.to_numeric, errors='coerce').astype('Int64')\n",
    "\n",
    "# Now the DataFrame should have the correct data types\n",
    "print(movie_df.head())\n"
   ]
  },
  {
   "cell_type": "code",
   "execution_count": null,
   "metadata": {},
   "outputs": [],
   "source": [
    "# # Check empty rows\n",
    "# total_rows = len(movie_df)\n",
    "\n",
    "# empty_rows = movie_df.isna().any(axis=1).sum()\n",
    "\n",
    "# print(f'Total number of rows:\\n{total_rows}')\n",
    "# print(f'\\nNumber of rows with empty values:\\n{empty_rows}')"
   ]
  },
  {
   "cell_type": "code",
   "execution_count": null,
   "metadata": {},
   "outputs": [],
   "source": [
    "movie_df['language'] = movie_df['original_language'].apply(functions.get_language_name)\n",
    "\n",
    "movie_df.head()"
   ]
  },
  {
   "cell_type": "markdown",
   "metadata": {},
   "source": [
    "Handle unknown languages"
   ]
  },
  {
   "cell_type": "code",
   "execution_count": null,
   "metadata": {},
   "outputs": [],
   "source": [
    "print(f'Unique values in language column:\\n{movie_df['language'].unique()}')"
   ]
  },
  {
   "cell_type": "code",
   "execution_count": null,
   "metadata": {},
   "outputs": [],
   "source": [
    "print(f'Value counts in language column:\\n{movie_df['language'].value_counts()}')"
   ]
  },
  {
   "cell_type": "code",
   "execution_count": null,
   "metadata": {},
   "outputs": [],
   "source": [
    "# occurrences of [cn]\n",
    "unknown_lang = movie_df[movie_df['original_language'] == 'cn']\n",
    "# print(unknown_lang)"
   ]
  },
  {
   "cell_type": "code",
   "execution_count": null,
   "metadata": {},
   "outputs": [],
   "source": [
    "# replace [cn] with a proper label\n",
    "movie_df['language'] = movie_df['language'].replace('Unknown language [cn]', 'Cantonese')"
   ]
  },
  {
   "cell_type": "code",
   "execution_count": null,
   "metadata": {},
   "outputs": [],
   "source": [
    "# occurrences of xx\n",
    "unknown_lang = movie_df[movie_df['original_language'] == 'xx']\n",
    "# print(unknown_lang)"
   ]
  },
  {
   "cell_type": "code",
   "execution_count": null,
   "metadata": {},
   "outputs": [],
   "source": [
    "# replace [xx] with a proper label\n",
    "movie_df['language'] = movie_df['language'].replace('Unknown language [xx]', 'Unknown')"
   ]
  },
  {
   "cell_type": "code",
   "execution_count": null,
   "metadata": {},
   "outputs": [],
   "source": [
    "print(f'Unique values in language column after re labeling: {movie_df['language'].unique()}')"
   ]
  },
  {
   "cell_type": "code",
   "execution_count": null,
   "metadata": {},
   "outputs": [],
   "source": [
    "movie_df.drop(columns=['original_language'], inplace=True)"
   ]
  },
  {
   "cell_type": "code",
   "execution_count": null,
   "metadata": {},
   "outputs": [],
   "source": [
    "movie_df.head(50)"
   ]
  },
  {
   "cell_type": "markdown",
   "metadata": {},
   "source": [
    "Popularity to one decimal"
   ]
  },
  {
   "cell_type": "code",
   "execution_count": null,
   "metadata": {},
   "outputs": [],
   "source": [
    "movie_df['popularity'] = movie_df['popularity'].round(1)\n",
    "movie_df['vote_average'] = movie_df['vote_average'].round(1)\n",
    "\n",
    "display(movie_df)"
   ]
  },
  {
   "cell_type": "code",
   "execution_count": null,
   "metadata": {},
   "outputs": [],
   "source": [
    "functions.show_missing_values(movie_df)"
   ]
  },
  {
   "cell_type": "code",
   "execution_count": null,
   "metadata": {},
   "outputs": [],
   "source": [
    "display(movie_df)"
   ]
  },
  {
   "cell_type": "markdown",
   "metadata": {},
   "source": [
    "#### Check runtime\n",
    "- Movies with less than 40' runtime are considered short films.\n",
    "- There's likely a lot of missing values."
   ]
  },
  {
   "cell_type": "code",
   "execution_count": null,
   "metadata": {},
   "outputs": [],
   "source": [
    "rows_to_remove = movie_df[(movie_df['runtime'] >= 1) & (movie_df['runtime'] <= 40)]\n",
    "\n",
    "removed_count = rows_to_remove.shape[0]\n",
    "\n",
    "movie_df = movie_df[~((movie_df['runtime'] >= 1) & (movie_df['runtime'] <= 40))]\n",
    "\n",
    "print(f'Number of rows removed: {removed_count}')"
   ]
  },
  {
   "cell_type": "code",
   "execution_count": null,
   "metadata": {},
   "outputs": [],
   "source": [
    "display(movie_df)"
   ]
  },
  {
   "cell_type": "markdown",
   "metadata": {},
   "source": [
    "#### Rename and reorder columns"
   ]
  },
  {
   "cell_type": "code",
   "execution_count": null,
   "metadata": {},
   "outputs": [],
   "source": [
    "rename_columns = {\n",
    "    'id': 'tmdb_id',\n",
    "    'vote_average': 'tmdb_rating',\n",
    "    'vote_count': 'tmdb_votes'\n",
    "}\n",
    "\n",
    "movie_df.rename(columns=rename_columns, inplace=True)"
   ]
  },
  {
   "cell_type": "code",
   "execution_count": null,
   "metadata": {},
   "outputs": [],
   "source": [
    "new_column_order = [\n",
    "    'title', 'clean_title', 'original_title', 'genres', 'director', 'release_year',\n",
    "    'runtime', 'budget', 'revenue', 'popularity', 'tmdb_rating', 'tmdb_votes', \n",
    "    'imdb_rating', 'imdb_votes', 'language', 'tmdb_id', 'imdb_id'\n",
    "]\n",
    "\n",
    "# Reorder the DataFrame columns\n",
    "movie_df = movie_df[new_column_order]\n"
   ]
  },
  {
   "cell_type": "code",
   "execution_count": null,
   "metadata": {},
   "outputs": [],
   "source": [
    "display(movie_df)"
   ]
  },
  {
   "cell_type": "markdown",
   "metadata": {},
   "source": [
    "#### df to csv"
   ]
  },
  {
   "cell_type": "code",
   "execution_count": null,
   "metadata": {},
   "outputs": [],
   "source": [
    "movie_df = movie_df.sort_values(by='tmdb_id').reset_index(drop=True)\n",
    "\n",
    "movie_df.to_csv('../data/local/clean/films_19to24.csv', index=False)"
   ]
  },
  {
   "cell_type": "markdown",
   "metadata": {},
   "source": [
    "### Top 10s"
   ]
  },
  {
   "cell_type": "code",
   "execution_count": null,
   "metadata": {},
   "outputs": [],
   "source": [
    "# most popular genres:\n",
    "# split column by commas\n",
    "df_exploded_genres = movie_df['genres'].str.split(',').explode().str.strip()\n",
    "\n",
    "# add column for popularity\n",
    "df_genres_popularity = df_exploded_genres.to_frame(name='genre').join(movie_df['popularity'])\n",
    "\n",
    "# calculate average popularity\n",
    "genre_popularity = df_genres_popularity.groupby('genre')['popularity'].mean().sort_values(ascending=False)\n",
    "\n",
    "print('Most Popular Genres:')\n",
    "print(genre_popularity.head(10))\n",
    "\n",
    "# calculate average popularity\n",
    "language_popularity = movie_df.groupby('language')['popularity'].mean().sort_values(ascending=False)\n",
    "\n",
    "print('\\nMost Popular Languages:')\n",
    "print(language_popularity.head(10))"
   ]
  },
  {
   "cell_type": "code",
   "execution_count": null,
   "metadata": {},
   "outputs": [],
   "source": [
    "# split 'genres' by commas, explode it, create a row for each genre\n",
    "df_exploded_genres = movie_df['genres'].str.split(',').explode().str.strip()\n",
    "\n",
    "# 'popularity' column to exploded genres\n",
    "df_genres_imdb_rating = df_exploded_genres.to_frame(name='genre').join(movie_df['imdb_rating'])\n",
    "\n",
    "# calculate average imdb_rating\n",
    "genre_imdb_rating = df_genres_imdb_rating.groupby('genre')['imdb_rating'].mean().sort_values(ascending=False)\n",
    "\n",
    "print('Most Popular Genres:')\n",
    "print(genre_imdb_rating.head(10))\n",
    "\n",
    "# most popular languages:\n",
    "# calculate average imdb_rating\n",
    "language_imdb_rating = movie_df.groupby('language')['imdb_rating'].mean().sort_values(ascending=False)\n",
    "\n",
    "print('\\nMost Popular Languages:')\n",
    "print(language_popularity.head(10))"
   ]
  },
  {
   "cell_type": "markdown",
   "metadata": {},
   "source": [
    "### Correlation Plots"
   ]
  },
  {
   "cell_type": "code",
   "execution_count": null,
   "metadata": {},
   "outputs": [],
   "source": [
    "# correlations for numeric columns\n",
    "numeric_columns = ['popularity', 'revenue', 'budget', 'runtime', 'imdb_rating', 'imdb_votes']\n",
    "correlation_matrix = movie_df[numeric_columns].corr()\n",
    "\n",
    "# correlation matrix heatmap\n",
    "plt.figure(figsize=(10, 6))\n",
    "sns.heatmap(correlation_matrix, annot=True, cmap='winter', vmin=-1, vmax=1)\n",
    "plt.title('Correlation Heatmap of Numeric Columns')\n",
    "plt.show()"
   ]
  },
  {
   "cell_type": "code",
   "execution_count": null,
   "metadata": {},
   "outputs": [],
   "source": [
    "# most popular genres\n",
    "# split and explode the genres column\n",
    "df_exploded_genres = movie_df['genres'].str.split(',').explode().str.strip()\n",
    "df_genres_popularity = df_exploded_genres.to_frame(name='genre').join(movie_df['popularity'])\n",
    "\n",
    "# group and calculate average popularity\n",
    "genre_popularity = df_genres_popularity.groupby('genre')['popularity'].mean().sort_values(ascending=False)\n",
    "top_20_genres = genre_popularity.head(20)\n",
    "\n",
    "top_20_genres.index = top_20_genres.index.str.title()\n",
    "\n",
    "# top 20 plot\n",
    "plt.figure(figsize=(10, 8))\n",
    "sns.barplot(x=top_20_genres.values, y=top_20_genres.index, palette='viridis')\n",
    "plt.title('Top 20 Most Popular Genres (2018)')\n",
    "plt.xlabel('Average Popularity')\n",
    "plt.ylabel('Genre')\n",
    "plt.show()"
   ]
  },
  {
   "cell_type": "code",
   "execution_count": null,
   "metadata": {},
   "outputs": [],
   "source": [
    "# most popular languages\n",
    "language_popularity = movie_df.groupby('language')['popularity'].mean().sort_values(ascending=False)\n",
    "top_10_languages = language_popularity.head(10)\n",
    "\n",
    "plt.figure(figsize=(10, 6))\n",
    "sns.barplot(x=top_10_languages.values, y=top_10_languages.index, palette='magma')\n",
    "plt.title('Top 10 Most Popular Languages (2018)')\n",
    "plt.xlabel('Average Popularity')\n",
    "plt.ylabel('Language')\n",
    "plt.show()"
   ]
  }
 ],
 "metadata": {
  "kernelspec": {
   "display_name": "movie_env",
   "language": "python",
   "name": "python3"
  },
  "language_info": {
   "codemirror_mode": {
    "name": "ipython",
    "version": 3
   },
   "file_extension": ".py",
   "mimetype": "text/x-python",
   "name": "python",
   "nbconvert_exporter": "python",
   "pygments_lexer": "ipython3",
   "version": "3.12.3"
  }
 },
 "nbformat": 4,
 "nbformat_minor": 2
}
