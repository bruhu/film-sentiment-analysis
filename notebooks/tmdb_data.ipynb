{
 "cells": [
  {
   "cell_type": "markdown",
   "metadata": {},
   "source": [
    "# Work with TMDB + IMDB dataset \n",
    "- [Source](https://www.kaggle.com/datasets/alanvourch/tmdb-movies-daily-updates)\n",
    "\n",
    "**Metadata**\n",
    "\n",
    "| **#** | **Column**               | **Description**                                                                                     |\n",
    "|-------|--------------------------|-----------------------------------------------------------------------------------------------------|\n",
    "| 1     | **id**                   | Unique identifier for the film in the TMDB.                                                        |\n",
    "| 2     | **title**                | The official title of the movie.                                                                   |\n",
    "| 3     | **vote_average**         | Average rating of the movie on a scale from 0 to 10.                                               |\n",
    "| 4     | **vote_count**           | Number of votes that contributed to the movie's rating.                                            |\n",
    "| 5     | **status**               | The current release status of the movie (e.g., *Released*, *Post-Production*).                     |\n",
    "| 6     | **release_date**         | The date when the film was officially released.                                                    |\n",
    "| 7     | **revenue**              | Box office earnings of the movie.                                                                  |\n",
    "| 8     | **runtime**              | Duration of the movie in minutes.                                                                  |\n",
    "| 9     | **budget**               | Financial budget allocated for the movie production.                                               |\n",
    "| 10    | **imdb_id**              | Identifier for the movie in the Internet Movie Database (IMDB).                                    |\n",
    "| 11    | **original_language**    | The language in which the movie was originally produced.                                           |\n",
    "| 12    | **original_title**       | The title of the movie in its original language.                                                   |\n",
    "| 13    | **overview**             | Brief summary of the movie's plot.                                                                 |\n",
    "| 14    | **popularity**           | Popularity score of the movie on TMDB.                                                             |\n",
    "| 15    | **tagline**              | Official tagline of the movie.                                                                     |\n",
    "| 16    | **genres**               | Categories of genres the movie belongs to.                                                         |\n",
    "| 17    | **production_companies** | Companies involved in producing the movie.                                                        |\n",
    "| 18    | **production_countries** | Countries where the movie was produced.                                                            |\n",
    "| 19    | **spoken_languages**     | Languages spoken in the movie.                                                                     |\n",
    "| 20    | **cast**                 | All cast.                                                                                          |\n",
    "| 21    | **director**             | All director(s).                                                                                   |\n",
    "| 22    | **director_of_photography** | All DOP (cinematographers).                                                                       |\n",
    "| 23    | **writers**              | All writers.                                                                                       |\n",
    "| 24    | **producers**            | Producers and executive producers.                                                                 |\n",
    "| 25    | **music_composer**       | Music by.                                                                                          |\n",
    "| 26    | **imdb_rating**          | IMDB rating.                                                                                       |\n",
    "| 27    | **imdb_votes**           | IMDB vote count.                                                                                   |\n",
    "| 28    | **poster_path**          | Path to the movie's poster image.                                                                  |\n",
    "\n",
    "\n"
   ]
  },
  {
   "cell_type": "code",
   "execution_count": 1,
   "metadata": {},
   "outputs": [],
   "source": [
    "import pandas as pd\n",
    "import numpy as np\n",
    "from datetime import datetime\n",
    "import re\n",
    "import matplotlib.pyplot as plt\n",
    "import seaborn as sns\n",
    "import langcodes"
   ]
  },
  {
   "cell_type": "code",
   "execution_count": 2,
   "metadata": {},
   "outputs": [],
   "source": [
    "import sys\n",
    "sys.path.append('../utils')\n",
    "import functions"
   ]
  },
  {
   "cell_type": "code",
   "execution_count": 3,
   "metadata": {},
   "outputs": [],
   "source": [
    "tmdb_df = pd.read_csv('../data/local/raw/TMDB_all_movies.csv')"
   ]
  },
  {
   "cell_type": "code",
   "execution_count": 4,
   "metadata": {},
   "outputs": [
    {
     "name": "stdout",
     "output_type": "stream",
     "text": [
      "\n",
      "DataFrame Shape: (1028026, 28)\n",
      "Number of Rows: 1028026\n",
      "Number of Columns: 28\n",
      "\n",
      "Data Types of Columns:\n",
      "id                           int64\n",
      "title                       object\n",
      "vote_average               float64\n",
      "vote_count                 float64\n",
      "status                      object\n",
      "release_date                object\n",
      "revenue                    float64\n",
      "runtime                    float64\n",
      "budget                     float64\n",
      "imdb_id                     object\n",
      "original_language           object\n",
      "original_title              object\n",
      "overview                    object\n",
      "popularity                 float64\n",
      "tagline                     object\n",
      "genres                      object\n",
      "production_companies        object\n",
      "production_countries        object\n",
      "spoken_languages            object\n",
      "cast                        object\n",
      "director                    object\n",
      "director_of_photography     object\n",
      "writers                     object\n",
      "producers                   object\n",
      "music_composer              object\n",
      "imdb_rating                float64\n",
      "imdb_votes                 float64\n",
      "poster_path                 object\n",
      "dtype: object\n",
      "\n",
      "Missing Values per Column:\n",
      "id                              0\n",
      "title                          12\n",
      "vote_average                    2\n",
      "vote_count                      2\n",
      "status                          2\n",
      "release_date               114553\n",
      "revenue                         2\n",
      "runtime                         2\n",
      "budget                          2\n",
      "imdb_id                    433481\n",
      "original_language               2\n",
      "original_title                 12\n",
      "overview                   181834\n",
      "popularity                      2\n",
      "tagline                    875008\n",
      "genres                     297624\n",
      "production_companies       552740\n",
      "production_countries       406120\n",
      "spoken_languages           394147\n",
      "cast                       341356\n",
      "director                   185043\n",
      "director_of_photography    780406\n",
      "writers                    529209\n",
      "producers                  700075\n",
      "music_composer             926867\n",
      "imdb_rating                596028\n",
      "imdb_votes                 596028\n",
      "poster_path                299349\n",
      "dtype: int64\n",
      "\n",
      "First 5 Rows of Data:\n",
      "   id                             title  vote_average  vote_count    status  \\\n",
      "0   2                             Ariel           7.1       335.0  Released   \n",
      "1   3               Shadows in Paradise           7.3       369.0  Released   \n",
      "2   5                        Four Rooms           5.8      2628.0  Released   \n",
      "3   6                    Judgment Night           6.5       331.0  Released   \n",
      "4   8  Life in Loops (A Megacities RMX)           7.5        27.0  Released   \n",
      "\n",
      "  release_date     revenue  runtime      budget    imdb_id  ...  \\\n",
      "0   1988-10-21         0.0     73.0         0.0  tt0094675  ...   \n",
      "1   1986-10-17         0.0     74.0         0.0  tt0092149  ...   \n",
      "2   1995-12-09   4257354.0     98.0   4000000.0  tt0113101  ...   \n",
      "3   1993-10-15  12136938.0    109.0  21000000.0  tt0107286  ...   \n",
      "4   2006-01-01         0.0     80.0     42000.0  tt0825671  ...   \n",
      "\n",
      "                         spoken_languages  \\\n",
      "0                                   suomi   \n",
      "1                 suomi, English, svenska   \n",
      "2                                 English   \n",
      "3                                 English   \n",
      "4  English, हिन्दी, 日本語, Pусский, Español   \n",
      "\n",
      "                                                cast  \\\n",
      "0  Heikki Salomaa, Hanna Jokinen, Matti Pellonpää...   \n",
      "1  Kati Outinen, Ulla Kuosmanen, Jaakko Talaskivi...   \n",
      "2  Bruce Willis, Tamlyn Tomita, Ione Skye, Sammi ...   \n",
      "3  Cuba Gooding Jr., Peter Greene, David L. Crowl...   \n",
      "4                                                NaN   \n",
      "\n",
      "                                            director  \\\n",
      "0                                     Aki Kaurismäki   \n",
      "1                                     Aki Kaurismäki   \n",
      "2  Quentin Tarantino, Robert Rodriguez, Alexandre...   \n",
      "3                                    Stephen Hopkins   \n",
      "4                                       Timo Novotny   \n",
      "\n",
      "                             director_of_photography  \\\n",
      "0                                      Timo Salminen   \n",
      "1                                      Timo Salminen   \n",
      "2  Guillermo Navarro, Andrzej Sekula, Phil Parmet...   \n",
      "3                                         Peter Levy   \n",
      "4                                    Wolfgang Thaler   \n",
      "\n",
      "                                             writers  \\\n",
      "0                                     Aki Kaurismäki   \n",
      "1                                     Aki Kaurismäki   \n",
      "2  Quentin Tarantino, Robert Rodriguez, Alexandre...   \n",
      "3                      Jere Cunningham, Lewis Colick   \n",
      "4                    Michael Glawogger, Timo Novotny   \n",
      "\n",
      "                                           producers      music_composer  \\\n",
      "0                                     Aki Kaurismäki                 NaN   \n",
      "1                                    Mika Kaurismäki                 NaN   \n",
      "2  Quentin Tarantino, Alexandre Rockwell, Lawrenc...  Combustible Edison   \n",
      "3              Gene Levy, Lloyd Segan, Marilyn Vance      Alan Silvestri   \n",
      "4                     Ulrich Gehmacher, Timo Novotny                 NaN   \n",
      "\n",
      "  imdb_rating imdb_votes                       poster_path  \n",
      "0         7.4     8812.0  /ojDg0PGvs6R9xYFodRct2kdI6wC.jpg  \n",
      "1         7.5     7587.0  /nj01hspawPof0mJmlgfjuLyJuRN.jpg  \n",
      "2         6.7   112798.0  /75aHn1NOYXh4M7L5shoeQ6NGykP.jpg  \n",
      "3         6.6    19361.0  /3rvvpS9YPM5HB2f4HYiNiJVtdam.jpg  \n",
      "4         8.2      284.0  /7ln81BRnPR2wqxuITZxEciCe1lc.jpg  \n",
      "\n",
      "[5 rows x 28 columns]\n"
     ]
    }
   ],
   "source": [
    "functions.show_basic_info(tmdb_df)"
   ]
  },
  {
   "cell_type": "code",
   "execution_count": 5,
   "metadata": {},
   "outputs": [],
   "source": [
    "# functions.show_column_summary(tmdb_df)"
   ]
  },
  {
   "cell_type": "markdown",
   "metadata": {},
   "source": [
    "Columns to drop:\n",
    "- cast\n",
    "- director_of_photography\n",
    "- music_composer\n",
    "- poster_path\n",
    "- writers\n",
    "- tagline"
   ]
  },
  {
   "cell_type": "code",
   "execution_count": 6,
   "metadata": {},
   "outputs": [
    {
     "data": {
      "text/html": [
       "<div>\n",
       "<style scoped>\n",
       "    .dataframe tbody tr th:only-of-type {\n",
       "        vertical-align: middle;\n",
       "    }\n",
       "\n",
       "    .dataframe tbody tr th {\n",
       "        vertical-align: top;\n",
       "    }\n",
       "\n",
       "    .dataframe thead th {\n",
       "        text-align: right;\n",
       "    }\n",
       "</style>\n",
       "<table border=\"1\" class=\"dataframe\">\n",
       "  <thead>\n",
       "    <tr style=\"text-align: right;\">\n",
       "      <th></th>\n",
       "      <th>id</th>\n",
       "      <th>title</th>\n",
       "      <th>vote_average</th>\n",
       "      <th>vote_count</th>\n",
       "      <th>status</th>\n",
       "      <th>release_date</th>\n",
       "      <th>revenue</th>\n",
       "      <th>runtime</th>\n",
       "      <th>budget</th>\n",
       "      <th>imdb_id</th>\n",
       "      <th>...</th>\n",
       "      <th>overview</th>\n",
       "      <th>popularity</th>\n",
       "      <th>genres</th>\n",
       "      <th>production_companies</th>\n",
       "      <th>production_countries</th>\n",
       "      <th>spoken_languages</th>\n",
       "      <th>director</th>\n",
       "      <th>producers</th>\n",
       "      <th>imdb_rating</th>\n",
       "      <th>imdb_votes</th>\n",
       "    </tr>\n",
       "  </thead>\n",
       "  <tbody>\n",
       "    <tr>\n",
       "      <th>0</th>\n",
       "      <td>2</td>\n",
       "      <td>Ariel</td>\n",
       "      <td>7.1</td>\n",
       "      <td>335.0</td>\n",
       "      <td>Released</td>\n",
       "      <td>1988-10-21</td>\n",
       "      <td>0.0</td>\n",
       "      <td>73.0</td>\n",
       "      <td>0.0</td>\n",
       "      <td>tt0094675</td>\n",
       "      <td>...</td>\n",
       "      <td>After the coal mine he works at closes and his...</td>\n",
       "      <td>11.915</td>\n",
       "      <td>Comedy, Drama, Romance, Crime</td>\n",
       "      <td>Villealfa Filmproductions</td>\n",
       "      <td>Finland</td>\n",
       "      <td>suomi</td>\n",
       "      <td>Aki Kaurismäki</td>\n",
       "      <td>Aki Kaurismäki</td>\n",
       "      <td>7.4</td>\n",
       "      <td>8812.0</td>\n",
       "    </tr>\n",
       "    <tr>\n",
       "      <th>1</th>\n",
       "      <td>3</td>\n",
       "      <td>Shadows in Paradise</td>\n",
       "      <td>7.3</td>\n",
       "      <td>369.0</td>\n",
       "      <td>Released</td>\n",
       "      <td>1986-10-17</td>\n",
       "      <td>0.0</td>\n",
       "      <td>74.0</td>\n",
       "      <td>0.0</td>\n",
       "      <td>tt0092149</td>\n",
       "      <td>...</td>\n",
       "      <td>Nikander, a rubbish collector and would-be ent...</td>\n",
       "      <td>16.287</td>\n",
       "      <td>Comedy, Drama, Romance</td>\n",
       "      <td>Villealfa Filmproductions</td>\n",
       "      <td>Finland</td>\n",
       "      <td>suomi, English, svenska</td>\n",
       "      <td>Aki Kaurismäki</td>\n",
       "      <td>Mika Kaurismäki</td>\n",
       "      <td>7.5</td>\n",
       "      <td>7587.0</td>\n",
       "    </tr>\n",
       "    <tr>\n",
       "      <th>2</th>\n",
       "      <td>5</td>\n",
       "      <td>Four Rooms</td>\n",
       "      <td>5.8</td>\n",
       "      <td>2628.0</td>\n",
       "      <td>Released</td>\n",
       "      <td>1995-12-09</td>\n",
       "      <td>4257354.0</td>\n",
       "      <td>98.0</td>\n",
       "      <td>4000000.0</td>\n",
       "      <td>tt0113101</td>\n",
       "      <td>...</td>\n",
       "      <td>It's Ted the Bellhop's first night on the job....</td>\n",
       "      <td>21.312</td>\n",
       "      <td>Comedy</td>\n",
       "      <td>Miramax, A Band Apart</td>\n",
       "      <td>United States of America</td>\n",
       "      <td>English</td>\n",
       "      <td>Quentin Tarantino, Robert Rodriguez, Alexandre...</td>\n",
       "      <td>Quentin Tarantino, Alexandre Rockwell, Lawrenc...</td>\n",
       "      <td>6.7</td>\n",
       "      <td>112798.0</td>\n",
       "    </tr>\n",
       "    <tr>\n",
       "      <th>3</th>\n",
       "      <td>6</td>\n",
       "      <td>Judgment Night</td>\n",
       "      <td>6.5</td>\n",
       "      <td>331.0</td>\n",
       "      <td>Released</td>\n",
       "      <td>1993-10-15</td>\n",
       "      <td>12136938.0</td>\n",
       "      <td>109.0</td>\n",
       "      <td>21000000.0</td>\n",
       "      <td>tt0107286</td>\n",
       "      <td>...</td>\n",
       "      <td>Four young friends, while taking a shortcut en...</td>\n",
       "      <td>8.924</td>\n",
       "      <td>Action, Crime, Thriller</td>\n",
       "      <td>Largo Entertainment, JVC, Universal Pictures</td>\n",
       "      <td>United States of America</td>\n",
       "      <td>English</td>\n",
       "      <td>Stephen Hopkins</td>\n",
       "      <td>Gene Levy, Lloyd Segan, Marilyn Vance</td>\n",
       "      <td>6.6</td>\n",
       "      <td>19361.0</td>\n",
       "    </tr>\n",
       "    <tr>\n",
       "      <th>4</th>\n",
       "      <td>8</td>\n",
       "      <td>Life in Loops (A Megacities RMX)</td>\n",
       "      <td>7.5</td>\n",
       "      <td>27.0</td>\n",
       "      <td>Released</td>\n",
       "      <td>2006-01-01</td>\n",
       "      <td>0.0</td>\n",
       "      <td>80.0</td>\n",
       "      <td>42000.0</td>\n",
       "      <td>tt0825671</td>\n",
       "      <td>...</td>\n",
       "      <td>Timo Novotny labels his new project an experim...</td>\n",
       "      <td>3.203</td>\n",
       "      <td>Documentary</td>\n",
       "      <td>inLoops</td>\n",
       "      <td>Austria</td>\n",
       "      <td>English, हिन्दी, 日本語, Pусский, Español</td>\n",
       "      <td>Timo Novotny</td>\n",
       "      <td>Ulrich Gehmacher, Timo Novotny</td>\n",
       "      <td>8.2</td>\n",
       "      <td>284.0</td>\n",
       "    </tr>\n",
       "  </tbody>\n",
       "</table>\n",
       "<p>5 rows × 22 columns</p>\n",
       "</div>"
      ],
      "text/plain": [
       "   id                             title  vote_average  vote_count    status  \\\n",
       "0   2                             Ariel           7.1       335.0  Released   \n",
       "1   3               Shadows in Paradise           7.3       369.0  Released   \n",
       "2   5                        Four Rooms           5.8      2628.0  Released   \n",
       "3   6                    Judgment Night           6.5       331.0  Released   \n",
       "4   8  Life in Loops (A Megacities RMX)           7.5        27.0  Released   \n",
       "\n",
       "  release_date     revenue  runtime      budget    imdb_id  ...  \\\n",
       "0   1988-10-21         0.0     73.0         0.0  tt0094675  ...   \n",
       "1   1986-10-17         0.0     74.0         0.0  tt0092149  ...   \n",
       "2   1995-12-09   4257354.0     98.0   4000000.0  tt0113101  ...   \n",
       "3   1993-10-15  12136938.0    109.0  21000000.0  tt0107286  ...   \n",
       "4   2006-01-01         0.0     80.0     42000.0  tt0825671  ...   \n",
       "\n",
       "                                            overview popularity  \\\n",
       "0  After the coal mine he works at closes and his...     11.915   \n",
       "1  Nikander, a rubbish collector and would-be ent...     16.287   \n",
       "2  It's Ted the Bellhop's first night on the job....     21.312   \n",
       "3  Four young friends, while taking a shortcut en...      8.924   \n",
       "4  Timo Novotny labels his new project an experim...      3.203   \n",
       "\n",
       "                          genres  \\\n",
       "0  Comedy, Drama, Romance, Crime   \n",
       "1         Comedy, Drama, Romance   \n",
       "2                         Comedy   \n",
       "3        Action, Crime, Thriller   \n",
       "4                    Documentary   \n",
       "\n",
       "                           production_companies      production_countries  \\\n",
       "0                     Villealfa Filmproductions                   Finland   \n",
       "1                     Villealfa Filmproductions                   Finland   \n",
       "2                         Miramax, A Band Apart  United States of America   \n",
       "3  Largo Entertainment, JVC, Universal Pictures  United States of America   \n",
       "4                                       inLoops                   Austria   \n",
       "\n",
       "                         spoken_languages  \\\n",
       "0                                   suomi   \n",
       "1                 suomi, English, svenska   \n",
       "2                                 English   \n",
       "3                                 English   \n",
       "4  English, हिन्दी, 日本語, Pусский, Español   \n",
       "\n",
       "                                            director  \\\n",
       "0                                     Aki Kaurismäki   \n",
       "1                                     Aki Kaurismäki   \n",
       "2  Quentin Tarantino, Robert Rodriguez, Alexandre...   \n",
       "3                                    Stephen Hopkins   \n",
       "4                                       Timo Novotny   \n",
       "\n",
       "                                           producers imdb_rating imdb_votes  \n",
       "0                                     Aki Kaurismäki         7.4     8812.0  \n",
       "1                                    Mika Kaurismäki         7.5     7587.0  \n",
       "2  Quentin Tarantino, Alexandre Rockwell, Lawrenc...         6.7   112798.0  \n",
       "3              Gene Levy, Lloyd Segan, Marilyn Vance         6.6    19361.0  \n",
       "4                     Ulrich Gehmacher, Timo Novotny         8.2      284.0  \n",
       "\n",
       "[5 rows x 22 columns]"
      ]
     },
     "execution_count": 6,
     "metadata": {},
     "output_type": "execute_result"
    }
   ],
   "source": [
    "tmdb_df.drop(columns=['cast', 'director_of_photography', 'music_composer', 'poster_path', 'writers', 'tagline'], inplace=True)\n",
    "tmdb_df.head()"
   ]
  },
  {
   "cell_type": "code",
   "execution_count": null,
   "metadata": {},
   "outputs": [],
   "source": [
    "functions.check_for_duplicates(tmdb_df)"
   ]
  },
  {
   "cell_type": "markdown",
   "metadata": {},
   "source": [
    "Remove all rows where 'status' is not 'Released'"
   ]
  },
  {
   "cell_type": "code",
   "execution_count": null,
   "metadata": {},
   "outputs": [],
   "source": [
    "print(tmdb_df['status'].unique())"
   ]
  },
  {
   "cell_type": "code",
   "execution_count": null,
   "metadata": {},
   "outputs": [],
   "source": [
    "initial_rows = len(tmdb_df)\n",
    "tmdb_df = tmdb_df[tmdb_df['status'] == 'Released'] # keep rows where 'status' is 'Released'\n",
    "final_rows = len(tmdb_df)\n",
    "removed_rows = initial_rows - final_rows\n",
    "print(f'Number of rows removed: {removed_rows}')"
   ]
  },
  {
   "cell_type": "markdown",
   "metadata": {},
   "source": [
    "#### 'release_date' column\n",
    "- Convert to datetime\n",
    "- Extract year only\n",
    "- Convert year to integer"
   ]
  },
  {
   "cell_type": "code",
   "execution_count": null,
   "metadata": {},
   "outputs": [],
   "source": [
    "df = tmdb_df.copy()"
   ]
  },
  {
   "cell_type": "code",
   "execution_count": null,
   "metadata": {},
   "outputs": [],
   "source": [
    "df['release_date'] = pd.to_datetime(df['release_date'], errors='coerce')\n",
    "df['release_year'] = df['release_date'].dt.year.astype('Int64')\n",
    "print(df[['release_date', 'release_year']].head())"
   ]
  },
  {
   "cell_type": "markdown",
   "metadata": {},
   "source": [
    "Get released movie count per year in df"
   ]
  },
  {
   "cell_type": "code",
   "execution_count": null,
   "metadata": {},
   "outputs": [],
   "source": [
    "release_year_counts = df['release_year'].value_counts().sort_index()\n",
    "print(release_year_counts)"
   ]
  },
  {
   "cell_type": "code",
   "execution_count": null,
   "metadata": {},
   "outputs": [],
   "source": [
    "# release_year_counts = df['release_year'].value_counts().sort_index()\n",
    "\n",
    "# top_20_years = release_year_counts.nlargest(20).sort_index()\n",
    "\n",
    "# top_20_years.index = top_20_years.index.astype(str)\n",
    "\n",
    "# # Create the line plot\n",
    "# plt.figure(figsize=(10, 6))\n",
    "# sns.lineplot(x=top_20_years.index, y=top_20_years.values, color='lightcoral')\n",
    "\n",
    "# plt.title('Top 20 Years with Most Film Releases')\n",
    "# plt.xlabel('Year')\n",
    "# plt.ylabel('Releases')\n",
    "# plt.xticks(rotation=45)\n",
    "# plt.grid(True)\n",
    "\n",
    "# plt.show()"
   ]
  },
  {
   "cell_type": "code",
   "execution_count": null,
   "metadata": {},
   "outputs": [],
   "source": [
    "df.drop(['overview', 'production_companies', 'production_countries', 'producers', 'status', 'spoken_languages'], axis=1, inplace=True)"
   ]
  },
  {
   "cell_type": "code",
   "execution_count": null,
   "metadata": {},
   "outputs": [],
   "source": [
    "df.head()"
   ]
  },
  {
   "cell_type": "code",
   "execution_count": null,
   "metadata": {},
   "outputs": [],
   "source": [
    "functions.show_missing_values(df)"
   ]
  },
  {
   "cell_type": "markdown",
   "metadata": {},
   "source": [
    "New DF from a year span"
   ]
  },
  {
   "cell_type": "code",
   "execution_count": null,
   "metadata": {},
   "outputs": [],
   "source": [
    "# Filter rows where 'release_year' is between 2019 and 2024\n",
    "filtered_df = df[(df['release_year'] >= 2019) & (df['release_year'] <= 2024)]\n",
    "\n",
    "# Drop rows where 'genres' or 'director' have empty or missing values\n",
    "filtered_df = filtered_df.dropna(subset=['genres', 'director', 'original_title', 'title'])\n"
   ]
  },
  {
   "cell_type": "code",
   "execution_count": null,
   "metadata": {},
   "outputs": [],
   "source": [
    "functions.show_missing_values(filtered_df)"
   ]
  },
  {
   "cell_type": "code",
   "execution_count": null,
   "metadata": {},
   "outputs": [],
   "source": [
    "display(filtered_df)"
   ]
  },
  {
   "cell_type": "markdown",
   "metadata": {},
   "source": [
    "### Create new DF from one specific year"
   ]
  },
  {
   "cell_type": "code",
   "execution_count": null,
   "metadata": {},
   "outputs": [],
   "source": [
    "# # Assuming 'df' is your original DataFrame\n",
    "# # Filter rows where the 'year' column is between 2019 and 2024\n",
    "# filtered_df = df[(df['release_year'] >= 2019) & (df['release_year'] <= 2024)]\n",
    "\n",
    "# # Drop rows with any NaN values\n",
    "# filtered_df = filtered_df.dropna()\n",
    "\n",
    "# # Resulting DataFrame is stored in 'filtered_df'\n",
    "# print(filtered_df)"
   ]
  },
  {
   "cell_type": "code",
   "execution_count": null,
   "metadata": {},
   "outputs": [],
   "source": [
    "# df_2018 = df[df['release_year'] == 2018]\n",
    "\n",
    "# df_2018 = df_2018.reset_index(drop=True)\n",
    "\n",
    "# print(f'Number of rows in the 2018 dataset: {len(df_2018)}')"
   ]
  },
  {
   "cell_type": "code",
   "execution_count": null,
   "metadata": {},
   "outputs": [],
   "source": [
    "# df_2018.head()"
   ]
  },
  {
   "cell_type": "markdown",
   "metadata": {},
   "source": [
    "Drop Columns\n",
    "- 'id'\n",
    "- 'imdb_id'\n",
    "- 'overview'\n",
    "- 'production_companies'\n",
    "- 'production_countries'\n",
    "- 'producers'\n",
    "- 'release_date'\n",
    "- 'spoken_languages'\n",
    "- 'status'\n",
    "- 'vote_average'\n",
    "- 'vote_count'"
   ]
  },
  {
   "cell_type": "code",
   "execution_count": null,
   "metadata": {},
   "outputs": [],
   "source": [
    "# # drop columns\n",
    "# columns_to_drop = ['overview', 'production_companies', 'production_countries', 'producers', 'release_date', 'spoken_languages', 'status', 'vote_average', 'vote_count']\n",
    "\n",
    "# df_2018 = df_2018.drop(columns=columns_to_drop)"
   ]
  },
  {
   "cell_type": "code",
   "execution_count": null,
   "metadata": {},
   "outputs": [],
   "source": [
    "# df_2018['clean_title'] = functions.prepare_clean_titles(df_2018, 'title')\n",
    "\n",
    "# # reorder columns\n",
    "# df_2018 = df_2018[['id', 'title', 'original_title', 'clean_title', 'release_year', 'imdb_id', 'imdb_rating', 'imdb_votes', 'genres', 'director', 'revenue', 'budget', 'runtime', 'original_language', 'popularity']]"
   ]
  },
  {
   "cell_type": "code",
   "execution_count": null,
   "metadata": {},
   "outputs": [],
   "source": [
    "# # clean genres\n",
    "# df_2018['genres'] = functions.clean_genres(df_2018, 'genres')\n",
    "# df_2018.head()"
   ]
  },
  {
   "cell_type": "code",
   "execution_count": null,
   "metadata": {},
   "outputs": [],
   "source": [
    "# # float columns to int\n",
    "\n",
    "# columns_to_convert = ['imdb_votes', 'revenue', 'budget', 'runtime']\n",
    "\n",
    "# df_2018[columns_to_convert] = df_2018[columns_to_convert].astype('Int64', errors='ignore')\n",
    "\n",
    "# df_2018.head()"
   ]
  },
  {
   "cell_type": "code",
   "execution_count": null,
   "metadata": {},
   "outputs": [],
   "source": [
    "# # Check empty rows\n",
    "# total_rows = len(df_2018)\n",
    "\n",
    "# empty_rows = df_2018.isna().any(axis=1).sum()\n",
    "\n",
    "# print(f'Total number of rows:\\n{total_rows}')\n",
    "# print(f'\\nNumber of rows with empty values:\\n{empty_rows}')"
   ]
  },
  {
   "cell_type": "code",
   "execution_count": null,
   "metadata": {},
   "outputs": [],
   "source": [
    "# df_2018['language'] = df_2018['original_language'].apply(functions.get_language_name)\n",
    "\n",
    "# df_2018.head()"
   ]
  },
  {
   "cell_type": "markdown",
   "metadata": {},
   "source": [
    "Handle unknown languages"
   ]
  },
  {
   "cell_type": "code",
   "execution_count": null,
   "metadata": {},
   "outputs": [],
   "source": [
    "print(f'Unique values in language column:\\n{df_2018['language'].unique()}')"
   ]
  },
  {
   "cell_type": "code",
   "execution_count": null,
   "metadata": {},
   "outputs": [],
   "source": [
    "print(f'Value counts in language column:\\n{df_2018['language'].value_counts()}')"
   ]
  },
  {
   "cell_type": "code",
   "execution_count": null,
   "metadata": {},
   "outputs": [],
   "source": [
    "# occurrences of [cn]\n",
    "unknown_lang = df_2018[df_2018['original_language'] == 'cn']\n",
    "# print(unknown_lang)"
   ]
  },
  {
   "cell_type": "code",
   "execution_count": null,
   "metadata": {},
   "outputs": [],
   "source": [
    "# replace [cn] with a proper label\n",
    "df_2018['language'] = df_2018['language'].replace('Unknown language [cn]', 'Cantonese')"
   ]
  },
  {
   "cell_type": "code",
   "execution_count": null,
   "metadata": {},
   "outputs": [],
   "source": [
    "# occurrences of xx\n",
    "unknown_lang = df_2018[df_2018['original_language'] == 'xx']\n",
    "# print(unknown_lang)"
   ]
  },
  {
   "cell_type": "code",
   "execution_count": null,
   "metadata": {},
   "outputs": [],
   "source": [
    "# replace [xx] with a proper label\n",
    "df_2018['language'] = df_2018['language'].replace('Unknown language [xx]', 'Unknown')"
   ]
  },
  {
   "cell_type": "code",
   "execution_count": null,
   "metadata": {},
   "outputs": [],
   "source": [
    "print(f'Unique values in language column after re labeling: {df_2018['language'].unique()}')"
   ]
  },
  {
   "cell_type": "code",
   "execution_count": null,
   "metadata": {},
   "outputs": [],
   "source": [
    "df_2018.head(50)"
   ]
  },
  {
   "cell_type": "markdown",
   "metadata": {},
   "source": [
    "#### Check runtime\n",
    "- Movies with less than 40' runtime are considered short films.\n",
    "- There's likely a lot of missing values."
   ]
  },
  {
   "cell_type": "code",
   "execution_count": null,
   "metadata": {},
   "outputs": [],
   "source": [
    "count_below_40_or_0 = ((df_2018['runtime'] < 40) & (df_2018['runtime'] > 1)).sum()\n",
    "\n",
    "print(f'Number of rows with runtime below 40: {count_below_40_or_0}')"
   ]
  },
  {
   "cell_type": "markdown",
   "metadata": {},
   "source": [
    "Popularity to one decimal"
   ]
  },
  {
   "cell_type": "code",
   "execution_count": null,
   "metadata": {},
   "outputs": [],
   "source": [
    "df_2018['popularity'] = df_2018['popularity'].round(1)\n",
    "display(df_2018)"
   ]
  },
  {
   "cell_type": "code",
   "execution_count": null,
   "metadata": {},
   "outputs": [],
   "source": [
    "functions.show_missing_values(df_2018)"
   ]
  },
  {
   "cell_type": "code",
   "execution_count": null,
   "metadata": {},
   "outputs": [],
   "source": [
    "df_2018.to_csv('../data/local/clean/2018_films.csv')"
   ]
  },
  {
   "cell_type": "markdown",
   "metadata": {},
   "source": [
    "### Top 10s"
   ]
  },
  {
   "cell_type": "code",
   "execution_count": null,
   "metadata": {},
   "outputs": [],
   "source": [
    "# most popular genres:\n",
    "# split column by commas\n",
    "df_exploded_genres = df_2018['genres'].str.split(',').explode().str.strip()\n",
    "\n",
    "# add column for popularity\n",
    "df_genres_popularity = df_exploded_genres.to_frame(name='genre').join(df_2018['popularity'])\n",
    "\n",
    "# calculate average popularity\n",
    "genre_popularity = df_genres_popularity.groupby('genre')['popularity'].mean().sort_values(ascending=False)\n",
    "\n",
    "print('Most Popular Genres:')\n",
    "print(genre_popularity.head(10))\n",
    "\n",
    "# calculate average popularity\n",
    "language_popularity = df_2018.groupby('language')['popularity'].mean().sort_values(ascending=False)\n",
    "\n",
    "print('\\nMost Popular Languages:')\n",
    "print(language_popularity.head(10))"
   ]
  },
  {
   "cell_type": "code",
   "execution_count": null,
   "metadata": {},
   "outputs": [],
   "source": [
    "# split 'genres' by commas, explode it, create a row for each genre\n",
    "df_exploded_genres = df_2018['genres'].str.split(',').explode().str.strip()\n",
    "\n",
    "# 'popularity' column to exploded genres\n",
    "df_genres_imdb_rating = df_exploded_genres.to_frame(name='genre').join(df_2018['imdb_rating'])\n",
    "\n",
    "# calculate average imdb_rating\n",
    "genre_imdb_rating = df_genres_imdb_rating.groupby('genre')['imdb_rating'].mean().sort_values(ascending=False)\n",
    "\n",
    "print('Most Popular Genres:')\n",
    "print(genre_imdb_rating.head(10))\n",
    "\n",
    "# most popular languages:\n",
    "# calculate average imdb_rating\n",
    "language_imdb_rating = df_2018.groupby('language')['imdb_rating'].mean().sort_values(ascending=False)\n",
    "\n",
    "print('\\nMost Popular Languages:')\n",
    "print(language_popularity.head(10))"
   ]
  },
  {
   "cell_type": "markdown",
   "metadata": {},
   "source": [
    "### Correlation Plots"
   ]
  },
  {
   "cell_type": "code",
   "execution_count": null,
   "metadata": {},
   "outputs": [],
   "source": [
    "# correlations for numeric columns\n",
    "numeric_columns = ['popularity', 'revenue', 'budget', 'runtime', 'imdb_rating', 'imdb_votes']\n",
    "correlation_matrix = df_2018[numeric_columns].corr()\n",
    "\n",
    "# correlation matrix heatmap\n",
    "plt.figure(figsize=(10, 6))\n",
    "sns.heatmap(correlation_matrix, annot=True, cmap='winter', vmin=-1, vmax=1)\n",
    "plt.title('Correlation Heatmap of Numeric Columns')\n",
    "plt.show()"
   ]
  },
  {
   "cell_type": "code",
   "execution_count": null,
   "metadata": {},
   "outputs": [],
   "source": [
    "# most popular genres\n",
    "# split and explode the genres column\n",
    "df_exploded_genres = df_2018['genres'].str.split(',').explode().str.strip()\n",
    "df_genres_popularity = df_exploded_genres.to_frame(name='genre').join(df_2018['popularity'])\n",
    "\n",
    "# group and calculate average popularity\n",
    "genre_popularity = df_genres_popularity.groupby('genre')['popularity'].mean().sort_values(ascending=False)\n",
    "top_20_genres = genre_popularity.head(20)\n",
    "\n",
    "top_20_genres.index = top_20_genres.index.str.title()\n",
    "\n",
    "# top 20 plot\n",
    "plt.figure(figsize=(10, 8))\n",
    "sns.barplot(x=top_20_genres.values, y=top_20_genres.index, palette='viridis')\n",
    "plt.title('Top 20 Most Popular Genres (2018)')\n",
    "plt.xlabel('Average Popularity')\n",
    "plt.ylabel('Genre')\n",
    "plt.show()"
   ]
  },
  {
   "cell_type": "code",
   "execution_count": null,
   "metadata": {},
   "outputs": [],
   "source": [
    "# most popular languages\n",
    "language_popularity = df_2018.groupby('language')['popularity'].mean().sort_values(ascending=False)\n",
    "top_10_languages = language_popularity.head(10)\n",
    "\n",
    "plt.figure(figsize=(10, 6))\n",
    "sns.barplot(x=top_10_languages.values, y=top_10_languages.index, palette='magma')\n",
    "plt.title('Top 10 Most Popular Languages (2018)')\n",
    "plt.xlabel('Average Popularity')\n",
    "plt.ylabel('Language')\n",
    "plt.show()"
   ]
  }
 ],
 "metadata": {
  "kernelspec": {
   "display_name": "movie_env",
   "language": "python",
   "name": "python3"
  },
  "language_info": {
   "codemirror_mode": {
    "name": "ipython",
    "version": 3
   },
   "file_extension": ".py",
   "mimetype": "text/x-python",
   "name": "python",
   "nbconvert_exporter": "python",
   "pygments_lexer": "ipython3",
   "version": "3.12.3"
  }
 },
 "nbformat": 4,
 "nbformat_minor": 2
}
