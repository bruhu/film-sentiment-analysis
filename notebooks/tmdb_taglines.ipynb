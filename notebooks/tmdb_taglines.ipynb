{
 "cells": [
  {
   "cell_type": "markdown",
   "metadata": {},
   "source": [
    "### Get overview, taglines and countries from TMBD raw dataset, add them to clean df, rename it, generate new file."
   ]
  },
  {
   "cell_type": "code",
   "execution_count": 1,
   "metadata": {},
   "outputs": [],
   "source": [
    "import pandas as pd"
   ]
  },
  {
   "cell_type": "code",
   "execution_count": 2,
   "metadata": {},
   "outputs": [],
   "source": [
    "import sys\n",
    "sys.path.append('../utils')\n",
    "import data_cleaning\n",
    "import data_inspection\n",
    "import helpers"
   ]
  },
  {
   "cell_type": "code",
   "execution_count": 3,
   "metadata": {},
   "outputs": [],
   "source": [
    "tmdb_clean = pd.read_csv('../data/clean/clean_films_id.csv')\n",
    "tmdb_raw = pd.read_csv('../data/local/raw/TMDB_released_movies.csv')"
   ]
  },
  {
   "cell_type": "code",
   "execution_count": null,
   "metadata": {},
   "outputs": [],
   "source": [
    "data_inspection.show_basic_info(tmdb_raw)"
   ]
  },
  {
   "cell_type": "code",
   "execution_count": null,
   "metadata": {},
   "outputs": [],
   "source": [
    "tmdb_clean.head(3)"
   ]
  },
  {
   "cell_type": "code",
   "execution_count": null,
   "metadata": {},
   "outputs": [],
   "source": [
    "tmdb_raw.head(3)"
   ]
  },
  {
   "cell_type": "markdown",
   "metadata": {},
   "source": [
    "#### Get overview, tagline and production countries"
   ]
  },
  {
   "cell_type": "code",
   "execution_count": null,
   "metadata": {},
   "outputs": [],
   "source": [
    "# Merge tmdb_clean with tmdb_raw based on the 'tmdb_id' (from tmdb_clean) and 'id' (from tmdb_raw)\n",
    "tmdb_clean = tmdb_clean.merge(\n",
    "    tmdb_raw[['tmdb_id', 'production_countries', 'overview', 'tagline']], \n",
    "    left_on='tmdb_id', \n",
    "    right_on='tmdb_id', \n",
    "    how='left',\n",
    ")\n",
    "\n",
    "# If there are multiple values for 'production_countries' (they could be lists), concatenate them with a comma\n",
    "tmdb_clean['production_countries'] = tmdb_clean.groupby('tmdb_id')['production_countries'].transform(lambda x: ', '.join(x.astype(str)))\n",
    "\n",
    "# Now check if there are any missing values after filling\n",
    "missing_ids = tmdb_clean[tmdb_clean['production_countries'].isna()]['tmdb_id']\n",
    "\n",
    "# Print missing IDs (if any)\n",
    "if not missing_ids.empty:\n",
    "    print(f'IDs not found in tmdb_raw: {missing_ids.tolist()}')\n",
    "else:\n",
    "    print('All IDs from tmdb_clean were found in tmdb_raw.')\n",
    "\n",
    "print(tmdb_clean.head())\n"
   ]
  },
  {
   "cell_type": "code",
   "execution_count": null,
   "metadata": {},
   "outputs": [],
   "source": [
    "data_inspection.show_missing_values(tmdb_clean)"
   ]
  },
  {
   "cell_type": "code",
   "execution_count": 9,
   "metadata": {},
   "outputs": [],
   "source": [
    "# rename column\n",
    "tmdb_clean.rename(columns={'production_countries': 'countries'}, inplace=True)"
   ]
  },
  {
   "cell_type": "code",
   "execution_count": 10,
   "metadata": {},
   "outputs": [],
   "source": [
    "# reorder columns\n",
    "new_column_order = [\n",
    "    'tmdb_id', 'imdb_id', 'doesthedog_id',\n",
    "    'title', 'original_title', 'genres', 'director', 'release_year',\n",
    "    'runtime', 'budget', 'revenue', 'profit', 'popularity',\n",
    "    'tmdb_rating', 'tmdb_votes', 'imdb_rating', 'imdb_votes',\n",
    "    'language', 'countries', 'overview', 'tagline',\n",
    "    'events', 'has_warnings'\n",
    "]\n",
    "\n",
    "tmdb_clean = tmdb_clean[new_column_order]\n"
   ]
  },
  {
   "cell_type": "code",
   "execution_count": 11,
   "metadata": {},
   "outputs": [],
   "source": [
    "tmdb_clean = tmdb_clean.sort_values(by='tmdb_id')\n",
    "\n",
    "tmdb_clean.reset_index(drop=True, inplace=True)\n",
    "\n",
    "# tmdb_clean.to_csv('../data/clean/tmdb_clean_films.csv', index=False)"
   ]
  }
 ],
 "metadata": {
  "kernelspec": {
   "display_name": "movie_env",
   "language": "python",
   "name": "python3"
  },
  "language_info": {
   "codemirror_mode": {
    "name": "ipython",
    "version": 3
   },
   "file_extension": ".py",
   "mimetype": "text/x-python",
   "name": "python",
   "nbconvert_exporter": "python",
   "pygments_lexer": "ipython3",
   "version": "3.12.3"
  }
 },
 "nbformat": 4,
 "nbformat_minor": 2
}
