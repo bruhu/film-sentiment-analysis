{
 "cells": [
  {
   "cell_type": "markdown",
   "metadata": {},
   "source": [
    "Extract category names out of category codes from the responses in doesthedogdie.com"
   ]
  },
  {
   "cell_type": "code",
   "execution_count": 1,
   "metadata": {},
   "outputs": [],
   "source": [
    "import json"
   ]
  },
  {
   "cell_type": "code",
   "execution_count": null,
   "metadata": {},
   "outputs": [],
   "source": [
    "with open('../data/doesthedog_response.json', 'r') as file:\n",
    "    data = json.load(file)\n",
    "\n",
    "categories_dict = {}\n",
    "\n",
    "if isinstance(data.get('topicItemStats'), list):\n",
    "    # Iterate over the list of topic items\n",
    "    for item in data['topicItemStats']:\n",
    "        # Check if 'topic' is present in the current item and is a dictionary\n",
    "        if isinstance(item.get('topic'), dict):\n",
    "            topic = item['topic']\n",
    "            # Extract 'id' and 'smmwDescription' (or other fields)\n",
    "            category = topic.get('id')\n",
    "            event = topic.get('smmwDescription')\n",
    "            \n",
    "            # Store the values in the dictionary\n",
    "            if category is not None and event is not None:\n",
    "                categories_dict[category] = event\n",
    "                print(f'Category: {category}, Event: {event}')\n",
    "        else:\n",
    "            print(f'Topic is not a dictionary in item {item.get('topicItemId')}')\n",
    "else:\n",
    "    print('topicItemStats is not a list.')\n",
    "\n",
    "print(categories_dict)"
   ]
  }
 ],
 "metadata": {
  "kernelspec": {
   "display_name": "movie_env",
   "language": "python",
   "name": "python3"
  },
  "language_info": {
   "codemirror_mode": {
    "name": "ipython",
    "version": 3
   },
   "file_extension": ".py",
   "mimetype": "text/x-python",
   "name": "python",
   "nbconvert_exporter": "python",
   "pygments_lexer": "ipython3",
   "version": "3.12.3"
  }
 },
 "nbformat": 4,
 "nbformat_minor": 2
}
