{
 "cells": [
  {
   "cell_type": "code",
   "execution_count": null,
   "metadata": {
    "vscode": {
     "languageId": "plaintext"
    }
   },
   "outputs": [],
   "source": [
    "Extract category names out of category codes from the responses in doesthedogdie.com"
   ]
  },
  {
   "cell_type": "code",
   "execution_count": null,
   "metadata": {},
   "outputs": [],
   "source": [
    "import json\n",
    "\n",
    "# Open and load the JSON file\n",
    "with open('data.json', 'r') as file:\n",
    "    data = json.load(file)\n",
    "\n",
    "# Example JSON structure:\n",
    "# {\n",
    "#     \"library\": [\n",
    "#         {\"name\": \"Book A\", \"author\": \"Author 1\", \"year\": 2001},\n",
    "#         {\"name\": \"Book B\", \"author\": \"Author 2\", \"year\": 2003},\n",
    "#         {\"name\": \"Book C\", \"author\": \"Author 3\", \"year\": 2005}\n",
    "#     ]\n",
    "# }\n",
    "\n",
    "# Initialize an empty dictionary to hold the \"library\"\n",
    "library_dict = {}\n",
    "\n",
    "# Extract the 'library' from the loaded data\n",
    "for item in data['library']:  # Assuming 'library' is the key holding a list of book info\n",
    "    name = item.get('name')  # Extract the book name\n",
    "    author = item.get('author')  # Extract the author\n",
    "    \n",
    "    if name and author:\n",
    "        library_dict[name] = author  # Create a dictionary with the book name as the key and author as the value\n",
    "\n",
    "# Output the dictionary\n",
    "print(library_dict)\n"
   ]
  }
 ],
 "metadata": {
  "language_info": {
   "name": "python"
  }
 },
 "nbformat": 4,
 "nbformat_minor": 2
}
