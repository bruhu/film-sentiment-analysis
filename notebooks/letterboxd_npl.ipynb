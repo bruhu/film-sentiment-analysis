{
 "cells": [
  {
   "cell_type": "markdown",
   "metadata": {},
   "source": [
    "NLP on Letterboxd df\n",
    "- Check word frequency in several columns -> 'tagline', 'summary', 'genres', 'themes', 'events'\n",
    "- Based on correlations, rate from 0 to 5\n",
    "- Tie back to whether a title has warnings or not\n",
    "- Figure how it impacts sentiment on movies\n",
    "- Sentiment-o-meter\n",
    "\n",
    "The Data\n",
    "- `cleaned_films` contains 4203 titles and 13 columns.\n",
    "- There are no Null values.\n",
    "\n",
    "| **Column Name**        | **Data Type**   | **Description**                                                                 |\n",
    "|------------------------|-----------------|----------------------------------------------------------------------------------|\n",
    "| **title**              | object          | The title of the movie.                                                          |\n",
    "| **release_year**       | int64           | The year the movie was released.                                                 |\n",
    "| **tagline**            | object          | The movie's tagline (promotional phrase).                                        |\n",
    "| **summary**            | object          | A brief description of the movie's plot.                                         |\n",
    "| **runtime**            | int64           | The total runtime of the movie in minutes.                                       |\n",
    "| **letterboxd_rating**  | float64         | The movie's average rating on Letterboxd.                                        |\n",
    "| **genres**             | object          | A list of genres the movie belongs to (e.g., Drama, Comedy).                     |\n",
    "| **language**           | object          | The languages the movie was produced in.                                         |\n",
    "| **countries**          | object          | The countries where the movie was made or released.                              |\n",
    "| **themes**             | object          | The central themes explored in the movie (e.g., Love, War, Friendship).          |\n",
    "| **director**           | object          | The director(s) of the movie.                                                   |\n",
    "| **events**             | object          | Key events or warnings in the movie (e.g., violence, strong language).           |\n",
    "| **has_warnings**       | bool            | A boolean indicating if the movie contains warnings for sensitive content.       |\n"
   ]
  },
  {
   "cell_type": "code",
   "execution_count": null,
   "metadata": {},
   "outputs": [],
   "source": [
    "import pandas as pd\n",
    "import re\n",
    "from collections import Counter\n",
    "import nltk \n",
    "from nltk.corpus import stopwords\n",
    "from nltk.tokenize import word_tokenize\n",
    "import plotly.express as px\n",
    "from sklearn.feature_extraction.text import CountVectorizer\n",
    "from scipy.stats import spearmanr"
   ]
  },
  {
   "cell_type": "code",
   "execution_count": null,
   "metadata": {},
   "outputs": [],
   "source": [
    "nltk.download('punkt_tab')"
   ]
  },
  {
   "cell_type": "code",
   "execution_count": null,
   "metadata": {},
   "outputs": [],
   "source": [
    "\n",
    "films = pd.read_csv('../data/clean/letterboxd_clean_films.csv')\n",
    "films.head(2)"
   ]
  },
  {
   "cell_type": "code",
   "execution_count": 4,
   "metadata": {},
   "outputs": [],
   "source": [
    "cleaned_films = films.copy()\n",
    "cleaned_films.drop(columns=['topics', 'doesthedog_id', 'letterboxd_id'], inplace=True)"
   ]
  },
  {
   "cell_type": "code",
   "execution_count": 5,
   "metadata": {},
   "outputs": [],
   "source": [
    "cleaned_films = cleaned_films.dropna()"
   ]
  },
  {
   "cell_type": "code",
   "execution_count": null,
   "metadata": {},
   "outputs": [],
   "source": [
    "display(cleaned_films)\n"
   ]
  },
  {
   "cell_type": "markdown",
   "metadata": {},
   "source": [
    "### 1. Data Preprocessing"
   ]
  },
  {
   "cell_type": "markdown",
   "metadata": {},
   "source": [
    "**Tagline Word Count**"
   ]
  },
  {
   "cell_type": "code",
   "execution_count": null,
   "metadata": {},
   "outputs": [],
   "source": [
    "def preprocess_text(text):\n",
    "    # Lowercase the text\n",
    "    text = text.lower()\n",
    "    # Remove punctuation\n",
    "    text = re.sub(r'[^a-z\\s]', '', text)\n",
    "    # Tokenize\n",
    "    tokens = word_tokenize(text)\n",
    "    # Remove stopwords\n",
    "    stop_words = set(stopwords.words('english'))\n",
    "    tokens = [word for word in tokens if word not in stop_words]\n",
    "    return tokens\n",
    "\n",
    "cleaned_films['processed_tagline'] = cleaned_films['tagline'].apply(preprocess_text)\n",
    " \n",
    "all_tokens = [word for tokens in cleaned_films['processed_tagline'] for word in tokens]\n",
    " \n",
    "word_freq = Counter(all_tokens)\n",
    " \n",
    "most_common_words_tagline = word_freq.most_common(50)\n",
    "print('Most common words in taglines:')\n",
    "print(most_common_words_tagline)"
   ]
  },
  {
   "cell_type": "code",
   "execution_count": null,
   "metadata": {},
   "outputs": [],
   "source": [
    "words, counts = zip(*most_common_words_tagline)\n",
    "fig = px.bar(x=words, y=counts, title='Most Common Words in Taglines',\n",
    "             labels={'x': 'Words', 'y': 'Frequency'}, color=counts)\n",
    "fig.update_layout(xaxis_tickangle=-45)\n",
    "fig.show()"
   ]
  },
  {
   "cell_type": "markdown",
   "metadata": {},
   "source": [
    "**Summary Word Count**"
   ]
  },
  {
   "cell_type": "code",
   "execution_count": null,
   "metadata": {},
   "outputs": [],
   "source": [
    "cleaned_films['processed_summary'] = cleaned_films['summary'].apply(preprocess_text)\n",
    " \n",
    "all_tokens = [word for tokens in cleaned_films['processed_summary'] for word in tokens]\n",
    " \n",
    "word_freq = Counter(all_tokens)\n",
    " \n",
    "most_common_words_summary = word_freq.most_common(50)\n",
    "print('Most common words in summaries:')\n",
    "print(most_common_words_summary)"
   ]
  },
  {
   "cell_type": "code",
   "execution_count": null,
   "metadata": {},
   "outputs": [],
   "source": [
    "words, counts = zip(*most_common_words_summary)\n",
    "fig = px.bar(x=words, y=counts, title='Most Common Words in Summaries',\n",
    "             labels={'x': 'Words', 'y': 'Frequency'}, color=counts)\n",
    "fig.update_layout(xaxis_tickangle=-45)\n",
    "fig.show()"
   ]
  },
  {
   "cell_type": "markdown",
   "metadata": {},
   "source": [
    "**Genre Word Count**"
   ]
  },
  {
   "cell_type": "code",
   "execution_count": null,
   "metadata": {},
   "outputs": [],
   "source": [
    "cleaned_films['processed_genres'] = cleaned_films['genres'].apply(preprocess_text)\n",
    " \n",
    "all_tokens = [word for tokens in cleaned_films['processed_genres'] for word in tokens]\n",
    " \n",
    "word_freq = Counter(all_tokens)\n",
    " \n",
    "most_common_words_genres = word_freq.most_common(50)\n",
    "print('Most common words in Genres:')\n",
    "print(most_common_words_genres)"
   ]
  },
  {
   "cell_type": "code",
   "execution_count": null,
   "metadata": {},
   "outputs": [],
   "source": [
    "words, counts = zip(*most_common_words_genres)\n",
    "fig = px.bar(x=words, y=counts, title='Most Common Words in Genres',\n",
    "             labels={'x': 'Words', 'y': 'Frequency'}, color=counts)\n",
    "fig.update_layout(xaxis_tickangle=-45)\n",
    "fig.show()\n"
   ]
  },
  {
   "cell_type": "markdown",
   "metadata": {},
   "source": [
    "**Themes Word Count**"
   ]
  },
  {
   "cell_type": "code",
   "execution_count": null,
   "metadata": {},
   "outputs": [],
   "source": [
    "cleaned_films['processed_themes'] = cleaned_films['themes'].apply(preprocess_text)\n",
    " \n",
    "all_tokens = [word for tokens in cleaned_films['processed_themes'] for word in tokens]\n",
    " \n",
    "word_freq = Counter(all_tokens)\n",
    " \n",
    "most_common_words_themes = word_freq.most_common(50)\n",
    "print('Most common words in Themes:')\n",
    "print(most_common_words_themes)"
   ]
  },
  {
   "cell_type": "code",
   "execution_count": null,
   "metadata": {},
   "outputs": [],
   "source": [
    " \n",
    "words, counts = zip(*most_common_words_themes)\n",
    "fig = px.bar(x=words, y=counts, title='Most Common Words in Themes',\n",
    "             labels={'x': 'Words', 'y': 'Frequency'}, color=counts)\n",
    "fig.update_layout(xaxis_tickangle=-45)\n",
    "fig.show()\n"
   ]
  },
  {
   "cell_type": "markdown",
   "metadata": {},
   "source": [
    "**Events Word Count**"
   ]
  },
  {
   "cell_type": "code",
   "execution_count": null,
   "metadata": {},
   "outputs": [],
   "source": [
    "cleaned_films['processed_events'] = cleaned_films['events'].apply(preprocess_text)\n",
    " \n",
    "all_tokens = [word for tokens in cleaned_films['processed_events'] for word in tokens]\n",
    " \n",
    "word_freq = Counter(all_tokens)\n",
    " \n",
    "most_common_words_events = word_freq.most_common(50)\n",
    "print('Most common words in Events:')\n",
    "print(most_common_words_events)"
   ]
  },
  {
   "cell_type": "code",
   "execution_count": null,
   "metadata": {},
   "outputs": [],
   "source": [
    "words, counts = zip(*most_common_words_events)\n",
    "fig = px.bar(x=words, y=counts, title='Most Common Words in Events',\n",
    "             labels={'x': 'Words', 'y': 'Frequency'}, color=counts)\n",
    "fig.update_layout(xaxis_tickangle=-45)\n",
    "fig.show()"
   ]
  },
  {
   "cell_type": "markdown",
   "metadata": {},
   "source": []
  },
  {
   "cell_type": "code",
   "execution_count": 17,
   "metadata": {},
   "outputs": [],
   "source": [
    "df = cleaned_films.copy()"
   ]
  },
  {
   "cell_type": "code",
   "execution_count": null,
   "metadata": {},
   "outputs": [],
   "source": [
    "# Vectorize the processed tagline text\n",
    "vectorizer = CountVectorizer()\n",
    "x = vectorizer.fit_transform(df['processed_tagline'])\n",
    "\n",
    "# Convert word counts to DataFrame\n",
    "word_count_df = pd.DataFrame(x.toarray(), columns=vectorizer.get_feature_names_out())\n",
    "\n",
    "# Compute correlations between word frequencies and ratings\n",
    "correlations = {}\n",
    "for word in word_count_df.columns:\n",
    "    corr, _ = spearmanr(word_count_df[word], df['rating'])\n",
    "    correlations[word] = corr\n",
    "\n",
    "# Sort correlations\n",
    "sorted_correlations = sorted(correlations.items(), key=lambda x: abs(x[1]), reverse=True)\n",
    "\n",
    "# Display top correlated words\n",
    "top_correlated_words = sorted_correlations[:10]\n",
    "print(\"Top 10 Words Correlated with Ratings:\")\n",
    "for word, corr in top_correlated_words:\n",
    "    print(f\"{word}: {corr:.2f}\")\n",
    "\n",
    "# Plot the top 10 correlated words using Plotly\n",
    "words, corrs = zip(*top_correlated_words)\n",
    "fig = px.bar(x=words, y=corrs, title='Top 10 Words Correlated with Ratings',\n",
    "             labels={'x': 'Words', 'y': 'Spearman Correlation'}, color=corrs)\n",
    "fig.update_layout(xaxis_tickangle=-45)\n",
    "fig.show()\n"
   ]
  },
  {
   "cell_type": "code",
   "execution_count": null,
   "metadata": {},
   "outputs": [],
   "source": [
    "# Vectorize the processed tagline text\n",
    "vectorizer = CountVectorizer()\n",
    "x = vectorizer.fit_transform(df['processed_tagline'])\n",
    "\n",
    "# Convert word counts to DataFrame\n",
    "word_count_df = pd.DataFrame(x.toarray(), columns=vectorizer.get_feature_names_out())\n",
    "\n",
    "# Compute correlations between word frequencies and ratings\n",
    "correlations = {}\n",
    "for word in word_count_df.columns:\n",
    "    corr, _ = spearmanr(word_count_df[word], df['rating'])\n",
    "    correlations[word] = corr\n",
    "\n",
    "# Sort correlations\n",
    "sorted_correlations = sorted(correlations.items(), key=lambda x: abs(x[1]), reverse=True)\n",
    "\n",
    "# Display top correlated words\n",
    "top_correlated_words = sorted_correlations[:10]\n",
    "print(\"Top 10 Words Correlated with Ratings:\")\n",
    "for word, corr in top_correlated_words:\n",
    "    print(f\"{word}: {corr:.2f}\")\n",
    "\n",
    "# Plot the top 10 correlated words using Plotly\n",
    "words, corrs = zip(*top_correlated_words)\n",
    "fig = px.bar(x=words, y=corrs, title='Top 10 Words Correlated with Ratings',\n",
    "             labels={'x': 'Words', 'y': 'Spearman Correlation'}, color=corrs)\n",
    "fig.update_layout(xaxis_tickangle=-45)\n",
    "fig.show()"
   ]
  }
 ],
 "metadata": {
  "kernelspec": {
   "display_name": "movie_env",
   "language": "python",
   "name": "python3"
  },
  "language_info": {
   "codemirror_mode": {
    "name": "ipython",
    "version": 3
   },
   "file_extension": ".py",
   "mimetype": "text/x-python",
   "name": "python",
   "nbconvert_exporter": "python",
   "pygments_lexer": "ipython3",
   "version": "3.12.3"
  }
 },
 "nbformat": 4,
 "nbformat_minor": 2
}
