{
 "cells": [
  {
   "cell_type": "markdown",
   "metadata": {},
   "source": [
    "NLP on Letterboxd df\n",
    "- Check word frequency in several columns -> 'tagline', 'summary', 'genres', 'themes', 'events'\n",
    "- Based on correlations, rate from 0 to 5\n",
    "- Tie back to whether a title has warnings or not\n",
    "- Figure how it impacts sentiment on movies\n",
    "- Sentiment-o-meter\n",
    "\n",
    "The Data\n",
    "- `cleaned_films` contains 4203 titles and 13 columns.\n",
    "- There are no Null values.\n",
    "\n",
    "| **Column Name**        | **Data Type**   | **Description**                                                                 |\n",
    "|------------------------|-----------------|----------------------------------------------------------------------------------|\n",
    "| **title**              | object          | The title of the movie.                                                          |\n",
    "| **release_year**       | int64           | The year the movie was released.                                                 |\n",
    "| **tagline**            | object          | The movie's tagline (promotional phrase).                                        |\n",
    "| **summary**            | object          | A brief description of the movie's plot.                                         |\n",
    "| **runtime**            | int64           | The total runtime of the movie in minutes.                                       |\n",
    "| **letterboxd_rating**  | float64         | The movie's average rating on Letterboxd.                                        |\n",
    "| **genres**             | object          | A list of genres the movie belongs to (e.g., Drama, Comedy).                     |\n",
    "| **language**           | object          | The languages the movie was produced in.                                         |\n",
    "| **countries**          | object          | The countries where the movie was made or released.                              |\n",
    "| **themes**             | object          | The central themes explored in the movie (e.g., Love, War, Friendship).          |\n",
    "| **director**           | object          | The director(s) of the movie.                                                   |\n",
    "| **events**             | object          | Key events or warnings in the movie (e.g., violence, strong language).           |\n",
    "| **has_warnings**       | bool            | A boolean indicating if the movie contains warnings for sensitive content.       |\n"
   ]
  },
  {
   "cell_type": "code",
   "execution_count": 19,
   "metadata": {},
   "outputs": [],
   "source": [
    "import pandas as pd\n",
    "import re\n",
    "from collections import Counter\n",
    "from nltk.corpus import stopwords\n",
    "from nltk.tokenize import word_tokenize\n",
    "import matplotlib.pyplot as plt\n",
    "import nltk\n",
    "\n",
    "import pandas as pd\n",
    "import re\n",
    "from collections import Counter\n",
    "from nltk.corpus import stopwords\n",
    "from nltk.tokenize import word_tokenize\n",
    "import plotly.express as px"
   ]
  },
  {
   "cell_type": "code",
   "execution_count": 14,
   "metadata": {},
   "outputs": [
    {
     "name": "stderr",
     "output_type": "stream",
     "text": [
      "[nltk_data] Downloading package punkt_tab to /home/bru/nltk_data...\n",
      "[nltk_data]   Unzipping tokenizers/punkt_tab.zip.\n"
     ]
    },
    {
     "data": {
      "text/plain": [
       "True"
      ]
     },
     "execution_count": 14,
     "metadata": {},
     "output_type": "execute_result"
    }
   ],
   "source": [
    "nltk.download('punkt_tab')"
   ]
  },
  {
   "cell_type": "code",
   "execution_count": 5,
   "metadata": {},
   "outputs": [
    {
     "data": {
      "text/html": [
       "<div>\n",
       "<style scoped>\n",
       "    .dataframe tbody tr th:only-of-type {\n",
       "        vertical-align: middle;\n",
       "    }\n",
       "\n",
       "    .dataframe tbody tr th {\n",
       "        vertical-align: top;\n",
       "    }\n",
       "\n",
       "    .dataframe thead th {\n",
       "        text-align: right;\n",
       "    }\n",
       "</style>\n",
       "<table border=\"1\" class=\"dataframe\">\n",
       "  <thead>\n",
       "    <tr style=\"text-align: right;\">\n",
       "      <th></th>\n",
       "      <th>letterboxd_id</th>\n",
       "      <th>title</th>\n",
       "      <th>release_year</th>\n",
       "      <th>tagline</th>\n",
       "      <th>summary</th>\n",
       "      <th>runtime</th>\n",
       "      <th>letterboxd_rating</th>\n",
       "      <th>genres</th>\n",
       "      <th>language</th>\n",
       "      <th>countries</th>\n",
       "      <th>themes</th>\n",
       "      <th>director</th>\n",
       "      <th>topics</th>\n",
       "      <th>doesthedog_id</th>\n",
       "      <th>events</th>\n",
       "      <th>has_warnings</th>\n",
       "    </tr>\n",
       "  </thead>\n",
       "  <tbody>\n",
       "    <tr>\n",
       "      <th>0</th>\n",
       "      <td>1000001</td>\n",
       "      <td>Barbie</td>\n",
       "      <td>2023</td>\n",
       "      <td>She's everything. He's just Ken.</td>\n",
       "      <td>Barbie and Ken are having the time of their li...</td>\n",
       "      <td>114</td>\n",
       "      <td>3.86</td>\n",
       "      <td>Comedy, Adventure</td>\n",
       "      <td>English</td>\n",
       "      <td>UK, USA</td>\n",
       "      <td>['Humanity and the world around us', 'Crude hu...</td>\n",
       "      <td>Greta Gerwig</td>\n",
       "      <td>NaN</td>\n",
       "      <td>381345.0</td>\n",
       "      <td>NaN</td>\n",
       "      <td>False</td>\n",
       "    </tr>\n",
       "    <tr>\n",
       "      <th>1</th>\n",
       "      <td>1000002</td>\n",
       "      <td>Parasite</td>\n",
       "      <td>2019</td>\n",
       "      <td>Act like you own the place.</td>\n",
       "      <td>All unemployed, Ki-taek's family takes peculia...</td>\n",
       "      <td>133</td>\n",
       "      <td>4.56</td>\n",
       "      <td>Comedy, Thriller, Drama</td>\n",
       "      <td>Korean, English, German, Korean</td>\n",
       "      <td>South Korea</td>\n",
       "      <td>['Humanity and the world around us', 'Intense ...</td>\n",
       "      <td>Bong Joon-ho</td>\n",
       "      <td>NaN</td>\n",
       "      <td>19408.0</td>\n",
       "      <td>NaN</td>\n",
       "      <td>False</td>\n",
       "    </tr>\n",
       "    <tr>\n",
       "      <th>2</th>\n",
       "      <td>1000003</td>\n",
       "      <td>Everything Everywhere All at Once</td>\n",
       "      <td>2022</td>\n",
       "      <td>The universe is so much bigger than you realize.</td>\n",
       "      <td>An aging Chinese immigrant is swept up in an i...</td>\n",
       "      <td>140</td>\n",
       "      <td>4.30</td>\n",
       "      <td>Science Fiction, Adventure, Comedy, Action</td>\n",
       "      <td>English, Cantonese, Chinese, English</td>\n",
       "      <td>USA</td>\n",
       "      <td>['Humanity and the world around us', 'Moving r...</td>\n",
       "      <td>Daniel Scheinert, Daniel Kwan</td>\n",
       "      <td>NaN</td>\n",
       "      <td>121671.0</td>\n",
       "      <td>NaN</td>\n",
       "      <td>False</td>\n",
       "    </tr>\n",
       "    <tr>\n",
       "      <th>3</th>\n",
       "      <td>1000004</td>\n",
       "      <td>Fight Club</td>\n",
       "      <td>1999</td>\n",
       "      <td>Mischief. Mayhem. Soap.</td>\n",
       "      <td>A ticking-time-bomb insomniac and a slippery s...</td>\n",
       "      <td>139</td>\n",
       "      <td>4.27</td>\n",
       "      <td>Drama</td>\n",
       "      <td>English</td>\n",
       "      <td>Germany, USA</td>\n",
       "      <td>['Intense violence and sexual transgression', ...</td>\n",
       "      <td>David Fincher</td>\n",
       "      <td>NaN</td>\n",
       "      <td>9593.0</td>\n",
       "      <td>NaN</td>\n",
       "      <td>False</td>\n",
       "    </tr>\n",
       "    <tr>\n",
       "      <th>4</th>\n",
       "      <td>1000005</td>\n",
       "      <td>La La Land</td>\n",
       "      <td>2016</td>\n",
       "      <td>Here's to the fools who dream.</td>\n",
       "      <td>Mia, an aspiring actress, serves lattes to mov...</td>\n",
       "      <td>129</td>\n",
       "      <td>4.09</td>\n",
       "      <td>Drama, Comedy, Music, Romance</td>\n",
       "      <td>English</td>\n",
       "      <td>Hong Kong, USA</td>\n",
       "      <td>['Song and dance', 'Humanity and the world aro...</td>\n",
       "      <td>Damien Chazelle</td>\n",
       "      <td>167,176,222,260,266,269,339,363</td>\n",
       "      <td>12823.0</td>\n",
       "      <td>flashing lights or images, shower scenes, sad ...</td>\n",
       "      <td>True</td>\n",
       "    </tr>\n",
       "  </tbody>\n",
       "</table>\n",
       "</div>"
      ],
      "text/plain": [
       "   letterboxd_id                              title  release_year  \\\n",
       "0        1000001                             Barbie          2023   \n",
       "1        1000002                           Parasite          2019   \n",
       "2        1000003  Everything Everywhere All at Once          2022   \n",
       "3        1000004                         Fight Club          1999   \n",
       "4        1000005                         La La Land          2016   \n",
       "\n",
       "                                            tagline  \\\n",
       "0                  She's everything. He's just Ken.   \n",
       "1                       Act like you own the place.   \n",
       "2  The universe is so much bigger than you realize.   \n",
       "3                           Mischief. Mayhem. Soap.   \n",
       "4                    Here's to the fools who dream.   \n",
       "\n",
       "                                             summary  runtime  \\\n",
       "0  Barbie and Ken are having the time of their li...      114   \n",
       "1  All unemployed, Ki-taek's family takes peculia...      133   \n",
       "2  An aging Chinese immigrant is swept up in an i...      140   \n",
       "3  A ticking-time-bomb insomniac and a slippery s...      139   \n",
       "4  Mia, an aspiring actress, serves lattes to mov...      129   \n",
       "\n",
       "   letterboxd_rating                                      genres  \\\n",
       "0               3.86                           Comedy, Adventure   \n",
       "1               4.56                     Comedy, Thriller, Drama   \n",
       "2               4.30  Science Fiction, Adventure, Comedy, Action   \n",
       "3               4.27                                       Drama   \n",
       "4               4.09               Drama, Comedy, Music, Romance   \n",
       "\n",
       "                               language       countries  \\\n",
       "0                               English         UK, USA   \n",
       "1       Korean, English, German, Korean     South Korea   \n",
       "2  English, Cantonese, Chinese, English             USA   \n",
       "3                               English    Germany, USA   \n",
       "4                               English  Hong Kong, USA   \n",
       "\n",
       "                                              themes  \\\n",
       "0  ['Humanity and the world around us', 'Crude hu...   \n",
       "1  ['Humanity and the world around us', 'Intense ...   \n",
       "2  ['Humanity and the world around us', 'Moving r...   \n",
       "3  ['Intense violence and sexual transgression', ...   \n",
       "4  ['Song and dance', 'Humanity and the world aro...   \n",
       "\n",
       "                        director                           topics  \\\n",
       "0                   Greta Gerwig                              NaN   \n",
       "1                   Bong Joon-ho                              NaN   \n",
       "2  Daniel Scheinert, Daniel Kwan                              NaN   \n",
       "3                  David Fincher                              NaN   \n",
       "4                Damien Chazelle  167,176,222,260,266,269,339,363   \n",
       "\n",
       "   doesthedog_id                                             events  \\\n",
       "0       381345.0                                                NaN   \n",
       "1        19408.0                                                NaN   \n",
       "2       121671.0                                                NaN   \n",
       "3         9593.0                                                NaN   \n",
       "4        12823.0  flashing lights or images, shower scenes, sad ...   \n",
       "\n",
       "   has_warnings  \n",
       "0         False  \n",
       "1         False  \n",
       "2         False  \n",
       "3         False  \n",
       "4          True  "
      ]
     },
     "execution_count": 5,
     "metadata": {},
     "output_type": "execute_result"
    }
   ],
   "source": [
    "films = pd.read_csv('../data/clean/letterboxd_clean_films.csv')\n",
    "films.head()"
   ]
  },
  {
   "cell_type": "code",
   "execution_count": 6,
   "metadata": {},
   "outputs": [],
   "source": [
    "cleaned_films = films.copy()\n",
    "cleaned_films.drop(columns=['topics', 'doesthedog_id', 'letterboxd_id'], inplace=True)"
   ]
  },
  {
   "cell_type": "code",
   "execution_count": 7,
   "metadata": {},
   "outputs": [],
   "source": [
    "cleaned_films = cleaned_films.dropna()\n"
   ]
  },
  {
   "cell_type": "code",
   "execution_count": 9,
   "metadata": {},
   "outputs": [
    {
     "data": {
      "text/html": [
       "<div>\n",
       "<style scoped>\n",
       "    .dataframe tbody tr th:only-of-type {\n",
       "        vertical-align: middle;\n",
       "    }\n",
       "\n",
       "    .dataframe tbody tr th {\n",
       "        vertical-align: top;\n",
       "    }\n",
       "\n",
       "    .dataframe thead th {\n",
       "        text-align: right;\n",
       "    }\n",
       "</style>\n",
       "<table border=\"1\" class=\"dataframe\">\n",
       "  <thead>\n",
       "    <tr style=\"text-align: right;\">\n",
       "      <th></th>\n",
       "      <th>title</th>\n",
       "      <th>release_year</th>\n",
       "      <th>tagline</th>\n",
       "      <th>summary</th>\n",
       "      <th>runtime</th>\n",
       "      <th>letterboxd_rating</th>\n",
       "      <th>genres</th>\n",
       "      <th>language</th>\n",
       "      <th>countries</th>\n",
       "      <th>themes</th>\n",
       "      <th>director</th>\n",
       "      <th>events</th>\n",
       "      <th>has_warnings</th>\n",
       "    </tr>\n",
       "  </thead>\n",
       "  <tbody>\n",
       "    <tr>\n",
       "      <th>4</th>\n",
       "      <td>La La Land</td>\n",
       "      <td>2016</td>\n",
       "      <td>Here's to the fools who dream.</td>\n",
       "      <td>Mia, an aspiring actress, serves lattes to mov...</td>\n",
       "      <td>129</td>\n",
       "      <td>4.09</td>\n",
       "      <td>Drama, Comedy, Music, Romance</td>\n",
       "      <td>English</td>\n",
       "      <td>Hong Kong, USA</td>\n",
       "      <td>['Song and dance', 'Humanity and the world aro...</td>\n",
       "      <td>Damien Chazelle</td>\n",
       "      <td>flashing lights or images, shower scenes, sad ...</td>\n",
       "      <td>True</td>\n",
       "    </tr>\n",
       "    <tr>\n",
       "      <th>11</th>\n",
       "      <td>Whiplash</td>\n",
       "      <td>2014</td>\n",
       "      <td>The road to greatness can take you to the edge.</td>\n",
       "      <td>Under the direction of a ruthless instructor, ...</td>\n",
       "      <td>107</td>\n",
       "      <td>4.43</td>\n",
       "      <td>Drama, Music</td>\n",
       "      <td>English</td>\n",
       "      <td>USA</td>\n",
       "      <td>['Moving relationship stories', 'Student comin...</td>\n",
       "      <td>Damien Chazelle</td>\n",
       "      <td>finger or toe mutilation, spitting, car crashe...</td>\n",
       "      <td>True</td>\n",
       "    </tr>\n",
       "    <tr>\n",
       "      <th>32</th>\n",
       "      <td>Once Upon a Time in Hollywood</td>\n",
       "      <td>2019</td>\n",
       "      <td>In this town, it can all change… like that</td>\n",
       "      <td>Los Angeles, 1969. TV star Rick Dalton, a stru...</td>\n",
       "      <td>162</td>\n",
       "      <td>3.76</td>\n",
       "      <td>Drama, Thriller, Comedy</td>\n",
       "      <td>English, English, Italian, Spanish</td>\n",
       "      <td>China, UK, USA</td>\n",
       "      <td>['Humanity and the world around us', 'Fascinat...</td>\n",
       "      <td>Quentin Tarantino</td>\n",
       "      <td>people being burned alive, spitting, blood or ...</td>\n",
       "      <td>True</td>\n",
       "    </tr>\n",
       "    <tr>\n",
       "      <th>39</th>\n",
       "      <td>Glass Onion</td>\n",
       "      <td>2022</td>\n",
       "      <td>When the game ends, the mystery begins.</td>\n",
       "      <td>World-famous detective Benoit Blanc heads to G...</td>\n",
       "      <td>140</td>\n",
       "      <td>3.45</td>\n",
       "      <td>Comedy, Crime, Mystery</td>\n",
       "      <td>English</td>\n",
       "      <td>USA</td>\n",
       "      <td>['Thrillers and murder mysteries', 'Intriguing...</td>\n",
       "      <td>Rian Johnson</td>\n",
       "      <td>flashing lights or images, car crashes, people...</td>\n",
       "      <td>True</td>\n",
       "    </tr>\n",
       "    <tr>\n",
       "      <th>68</th>\n",
       "      <td>Coco</td>\n",
       "      <td>2017</td>\n",
       "      <td>The celebration of a lifetime</td>\n",
       "      <td>Despite his family’s baffling generations-old ...</td>\n",
       "      <td>105</td>\n",
       "      <td>4.12</td>\n",
       "      <td>Adventure, Animation, Music, Family</td>\n",
       "      <td>English, English, Spanish</td>\n",
       "      <td>USA</td>\n",
       "      <td>['Moving relationship stories', 'Song and danc...</td>\n",
       "      <td>Lee Unkrich</td>\n",
       "      <td>parents dying, spitting, ghosts, child abuse, ...</td>\n",
       "      <td>True</td>\n",
       "    </tr>\n",
       "    <tr>\n",
       "      <th>...</th>\n",
       "      <td>...</td>\n",
       "      <td>...</td>\n",
       "      <td>...</td>\n",
       "      <td>...</td>\n",
       "      <td>...</td>\n",
       "      <td>...</td>\n",
       "      <td>...</td>\n",
       "      <td>...</td>\n",
       "      <td>...</td>\n",
       "      <td>...</td>\n",
       "      <td>...</td>\n",
       "      <td>...</td>\n",
       "      <td>...</td>\n",
       "    </tr>\n",
       "    <tr>\n",
       "      <th>18425</th>\n",
       "      <td>The Triangle</td>\n",
       "      <td>2001</td>\n",
       "      <td>In the Bermuda Triangle, nothing stays lost fo...</td>\n",
       "      <td>This made-for-TV movie follows a group of frie...</td>\n",
       "      <td>92</td>\n",
       "      <td>2.89</td>\n",
       "      <td>Thriller, Horror, TV Movie</td>\n",
       "      <td>English</td>\n",
       "      <td>USA, Canada, Barbados</td>\n",
       "      <td>['Horror, the undead and monster classics', 'T...</td>\n",
       "      <td>Lewis Teague</td>\n",
       "      <td>kids dying, parents dying, shaving or cutting,...</td>\n",
       "      <td>True</td>\n",
       "    </tr>\n",
       "    <tr>\n",
       "      <th>18427</th>\n",
       "      <td>CAT</td>\n",
       "      <td>2022</td>\n",
       "      <td>Drugs. Deceit. Danger.</td>\n",
       "      <td>Living under an alias, a former police informa...</td>\n",
       "      <td>360</td>\n",
       "      <td>3.50</td>\n",
       "      <td>Crime, Drama</td>\n",
       "      <td>Hindi</td>\n",
       "      <td>India</td>\n",
       "      <td>['Crime, drugs and gangsters', 'Intense politi...</td>\n",
       "      <td>Balwinder Singh Janjua</td>\n",
       "      <td>people being burned alive, flashing lights or ...</td>\n",
       "      <td>True</td>\n",
       "    </tr>\n",
       "    <tr>\n",
       "      <th>18429</th>\n",
       "      <td>Wraith</td>\n",
       "      <td>2017</td>\n",
       "      <td>There's Something in My Room</td>\n",
       "      <td>After living in an old mansion for almost 10 y...</td>\n",
       "      <td>99</td>\n",
       "      <td>2.61</td>\n",
       "      <td>Mystery, Thriller, Horror</td>\n",
       "      <td>English</td>\n",
       "      <td>USA</td>\n",
       "      <td>['Faith and religion', 'Terrifying, haunted, a...</td>\n",
       "      <td>Michael O. Sajbel</td>\n",
       "      <td>people being burned alive, spitting, shaky cam...</td>\n",
       "      <td>True</td>\n",
       "    </tr>\n",
       "    <tr>\n",
       "      <th>18436</th>\n",
       "      <td>Tulsa</td>\n",
       "      <td>2020</td>\n",
       "      <td>Big changes come in small packages</td>\n",
       "      <td>A desperate marine biker’s life is turned upsi...</td>\n",
       "      <td>120</td>\n",
       "      <td>2.97</td>\n",
       "      <td>Comedy, Drama</td>\n",
       "      <td>English</td>\n",
       "      <td>USA</td>\n",
       "      <td>['Faith and religion', 'Moving relationship st...</td>\n",
       "      <td>Gloria Stella, Scott Pryor</td>\n",
       "      <td>kids dying, parents dying, car crashes, people...</td>\n",
       "      <td>True</td>\n",
       "    </tr>\n",
       "    <tr>\n",
       "      <th>18449</th>\n",
       "      <td>Lies Illusions</td>\n",
       "      <td>2009</td>\n",
       "      <td>A writer, torn between two lovers is hunted by...</td>\n",
       "      <td>When a menacing smuggler coolly insists that b...</td>\n",
       "      <td>92</td>\n",
       "      <td>2.73</td>\n",
       "      <td>Comedy, Action, Thriller</td>\n",
       "      <td>English</td>\n",
       "      <td>USA</td>\n",
       "      <td>['Crude humor and satire', 'Action comedy and ...</td>\n",
       "      <td>Tibor Takács</td>\n",
       "      <td>claustrophobic scenes, gun violence, kidnappin...</td>\n",
       "      <td>True</td>\n",
       "    </tr>\n",
       "  </tbody>\n",
       "</table>\n",
       "<p>4203 rows × 13 columns</p>\n",
       "</div>"
      ],
      "text/plain": [
       "                               title  release_year  \\\n",
       "4                         La La Land          2016   \n",
       "11                          Whiplash          2014   \n",
       "32     Once Upon a Time in Hollywood          2019   \n",
       "39                       Glass Onion          2022   \n",
       "68                              Coco          2017   \n",
       "...                              ...           ...   \n",
       "18425                   The Triangle          2001   \n",
       "18427                            CAT          2022   \n",
       "18429                         Wraith          2017   \n",
       "18436                          Tulsa          2020   \n",
       "18449                 Lies Illusions          2009   \n",
       "\n",
       "                                                 tagline  \\\n",
       "4                         Here's to the fools who dream.   \n",
       "11       The road to greatness can take you to the edge.   \n",
       "32            In this town, it can all change… like that   \n",
       "39               When the game ends, the mystery begins.   \n",
       "68                         The celebration of a lifetime   \n",
       "...                                                  ...   \n",
       "18425  In the Bermuda Triangle, nothing stays lost fo...   \n",
       "18427                             Drugs. Deceit. Danger.   \n",
       "18429                       There's Something in My Room   \n",
       "18436                 Big changes come in small packages   \n",
       "18449  A writer, torn between two lovers is hunted by...   \n",
       "\n",
       "                                                 summary  runtime  \\\n",
       "4      Mia, an aspiring actress, serves lattes to mov...      129   \n",
       "11     Under the direction of a ruthless instructor, ...      107   \n",
       "32     Los Angeles, 1969. TV star Rick Dalton, a stru...      162   \n",
       "39     World-famous detective Benoit Blanc heads to G...      140   \n",
       "68     Despite his family’s baffling generations-old ...      105   \n",
       "...                                                  ...      ...   \n",
       "18425  This made-for-TV movie follows a group of frie...       92   \n",
       "18427  Living under an alias, a former police informa...      360   \n",
       "18429  After living in an old mansion for almost 10 y...       99   \n",
       "18436  A desperate marine biker’s life is turned upsi...      120   \n",
       "18449  When a menacing smuggler coolly insists that b...       92   \n",
       "\n",
       "       letterboxd_rating                               genres  \\\n",
       "4                   4.09        Drama, Comedy, Music, Romance   \n",
       "11                  4.43                         Drama, Music   \n",
       "32                  3.76              Drama, Thriller, Comedy   \n",
       "39                  3.45               Comedy, Crime, Mystery   \n",
       "68                  4.12  Adventure, Animation, Music, Family   \n",
       "...                  ...                                  ...   \n",
       "18425               2.89           Thriller, Horror, TV Movie   \n",
       "18427               3.50                         Crime, Drama   \n",
       "18429               2.61            Mystery, Thriller, Horror   \n",
       "18436               2.97                        Comedy, Drama   \n",
       "18449               2.73             Comedy, Action, Thriller   \n",
       "\n",
       "                                 language              countries  \\\n",
       "4                                 English         Hong Kong, USA   \n",
       "11                                English                    USA   \n",
       "32     English, English, Italian, Spanish         China, UK, USA   \n",
       "39                                English                    USA   \n",
       "68              English, English, Spanish                    USA   \n",
       "...                                   ...                    ...   \n",
       "18425                             English  USA, Canada, Barbados   \n",
       "18427                               Hindi                  India   \n",
       "18429                             English                    USA   \n",
       "18436                             English                    USA   \n",
       "18449                             English                    USA   \n",
       "\n",
       "                                                  themes  \\\n",
       "4      ['Song and dance', 'Humanity and the world aro...   \n",
       "11     ['Moving relationship stories', 'Student comin...   \n",
       "32     ['Humanity and the world around us', 'Fascinat...   \n",
       "39     ['Thrillers and murder mysteries', 'Intriguing...   \n",
       "68     ['Moving relationship stories', 'Song and danc...   \n",
       "...                                                  ...   \n",
       "18425  ['Horror, the undead and monster classics', 'T...   \n",
       "18427  ['Crime, drugs and gangsters', 'Intense politi...   \n",
       "18429  ['Faith and religion', 'Terrifying, haunted, a...   \n",
       "18436  ['Faith and religion', 'Moving relationship st...   \n",
       "18449  ['Crude humor and satire', 'Action comedy and ...   \n",
       "\n",
       "                         director  \\\n",
       "4                 Damien Chazelle   \n",
       "11                Damien Chazelle   \n",
       "32              Quentin Tarantino   \n",
       "39                   Rian Johnson   \n",
       "68                    Lee Unkrich   \n",
       "...                           ...   \n",
       "18425                Lewis Teague   \n",
       "18427      Balwinder Singh Janjua   \n",
       "18429           Michael O. Sajbel   \n",
       "18436  Gloria Stella, Scott Pryor   \n",
       "18449                Tibor Takács   \n",
       "\n",
       "                                                  events  has_warnings  \n",
       "4      flashing lights or images, shower scenes, sad ...          True  \n",
       "11     finger or toe mutilation, spitting, car crashe...          True  \n",
       "32     people being burned alive, spitting, blood or ...          True  \n",
       "39     flashing lights or images, car crashes, people...          True  \n",
       "68     parents dying, spitting, ghosts, child abuse, ...          True  \n",
       "...                                                  ...           ...  \n",
       "18425  kids dying, parents dying, shaving or cutting,...          True  \n",
       "18427  people being burned alive, flashing lights or ...          True  \n",
       "18429  people being burned alive, spitting, shaky cam...          True  \n",
       "18436  kids dying, parents dying, car crashes, people...          True  \n",
       "18449  claustrophobic scenes, gun violence, kidnappin...          True  \n",
       "\n",
       "[4203 rows x 13 columns]"
      ]
     },
     "metadata": {},
     "output_type": "display_data"
    }
   ],
   "source": [
    "display(cleaned_films)\n"
   ]
  },
  {
   "cell_type": "markdown",
   "metadata": {},
   "source": [
    "1. Data Preprocessing"
   ]
  },
  {
   "cell_type": "markdown",
   "metadata": {},
   "source": [
    "Preprocess the 'tagline' column"
   ]
  },
  {
   "cell_type": "code",
   "execution_count": 15,
   "metadata": {},
   "outputs": [],
   "source": [
    "def preprocess_text(text):\n",
    "    # Lowercase the text\n",
    "    text = text.lower()\n",
    "    # Remove punctuation\n",
    "    text = re.sub(r'[^a-z\\s]', '', text)\n",
    "    # Tokenize\n",
    "    tokens = word_tokenize(text)\n",
    "    # Remove stopwords\n",
    "    stop_words = set(stopwords.words('english'))\n",
    "    tokens = [word for word in tokens if word not in stop_words]\n",
    "    return tokens\n",
    "\n",
    "cleaned_films['processed_tagline'] = cleaned_films['tagline'].apply(preprocess_text)"
   ]
  },
  {
   "cell_type": "code",
   "execution_count": 18,
   "metadata": {},
   "outputs": [
    {
     "name": "stdout",
     "output_type": "stream",
     "text": [
      "Most common words in taglines:\n",
      "[('one', 249), ('love', 237), ('story', 155), ('never', 154), ('life', 137), ('world', 123), ('time', 111), ('dont', 100), ('evil', 90), ('new', 85), ('every', 84), ('family', 81), ('terror', 78), ('get', 70), ('man', 65), ('go', 64), ('cant', 62), ('true', 62), ('die', 62), ('hell', 62), ('back', 60), ('like', 58), ('fear', 58), ('hes', 58), ('kill', 58), ('woman', 57), ('lives', 56), ('death', 56), ('way', 56), ('theres', 55), ('find', 55), ('would', 55), ('us', 53), ('ever', 53), ('take', 50), ('make', 50), ('first', 47), ('live', 47), ('come', 47), ('nothing', 47), ('know', 46), ('dead', 46), ('human', 44), ('people', 43), ('night', 43), ('home', 42), ('see', 42), ('could', 41), ('everything', 40), ('everyone', 40)]\n"
     ]
    }
   ],
   "source": [
    "# Flatten the list of tokens across all taglines\n",
    "all_tokens = [word for tokens in cleaned_films['processed_tagline'] for word in tokens]\n",
    "\n",
    "# Count word frequencies\n",
    "word_freq = Counter(all_tokens)\n",
    "\n",
    "# Display the most common words\n",
    "most_common_words = word_freq.most_common(50)\n",
    "print('Most common words in taglines:')\n",
    "print(most_common_words)"
   ]
  },
  {
   "cell_type": "code",
   "execution_count": 20,
   "metadata": {},
   "outputs": [
    {
     "data": {
      "application/vnd.plotly.v1+json": {
       "config": {
        "plotlyServerURL": "https://plot.ly"
       },
       "data": [
        {
         "alignmentgroup": "True",
         "hovertemplate": "Words=%{x}<br>Frequency=%{y}<br>color=%{marker.color}<extra></extra>",
         "legendgroup": "",
         "marker": {
          "color": [
           249,
           237,
           155,
           154,
           137,
           123,
           111,
           100,
           90,
           85,
           84,
           81,
           78,
           70,
           65,
           64,
           62,
           62,
           62,
           62,
           60,
           58,
           58,
           58,
           58,
           57,
           56,
           56,
           56,
           55,
           55,
           55,
           53,
           53,
           50,
           50,
           47,
           47,
           47,
           47,
           46,
           46,
           44,
           43,
           43,
           42,
           42,
           41,
           40,
           40
          ],
          "coloraxis": "coloraxis",
          "pattern": {
           "shape": ""
          }
         },
         "name": "",
         "offsetgroup": "",
         "orientation": "v",
         "showlegend": false,
         "textposition": "auto",
         "type": "bar",
         "x": [
          "one",
          "love",
          "story",
          "never",
          "life",
          "world",
          "time",
          "dont",
          "evil",
          "new",
          "every",
          "family",
          "terror",
          "get",
          "man",
          "go",
          "cant",
          "true",
          "die",
          "hell",
          "back",
          "like",
          "fear",
          "hes",
          "kill",
          "woman",
          "lives",
          "death",
          "way",
          "theres",
          "find",
          "would",
          "us",
          "ever",
          "take",
          "make",
          "first",
          "live",
          "come",
          "nothing",
          "know",
          "dead",
          "human",
          "people",
          "night",
          "home",
          "see",
          "could",
          "everything",
          "everyone"
         ],
         "xaxis": "x",
         "y": [
          249,
          237,
          155,
          154,
          137,
          123,
          111,
          100,
          90,
          85,
          84,
          81,
          78,
          70,
          65,
          64,
          62,
          62,
          62,
          62,
          60,
          58,
          58,
          58,
          58,
          57,
          56,
          56,
          56,
          55,
          55,
          55,
          53,
          53,
          50,
          50,
          47,
          47,
          47,
          47,
          46,
          46,
          44,
          43,
          43,
          42,
          42,
          41,
          40,
          40
         ],
         "yaxis": "y"
        }
       ],
       "layout": {
        "barmode": "relative",
        "coloraxis": {
         "colorbar": {
          "title": {
           "text": "color"
          }
         },
         "colorscale": [
          [
           0,
           "#0d0887"
          ],
          [
           0.1111111111111111,
           "#46039f"
          ],
          [
           0.2222222222222222,
           "#7201a8"
          ],
          [
           0.3333333333333333,
           "#9c179e"
          ],
          [
           0.4444444444444444,
           "#bd3786"
          ],
          [
           0.5555555555555556,
           "#d8576b"
          ],
          [
           0.6666666666666666,
           "#ed7953"
          ],
          [
           0.7777777777777778,
           "#fb9f3a"
          ],
          [
           0.8888888888888888,
           "#fdca26"
          ],
          [
           1,
           "#f0f921"
          ]
         ]
        },
        "legend": {
         "tracegroupgap": 0
        },
        "template": {
         "data": {
          "bar": [
           {
            "error_x": {
             "color": "#2a3f5f"
            },
            "error_y": {
             "color": "#2a3f5f"
            },
            "marker": {
             "line": {
              "color": "#E5ECF6",
              "width": 0.5
             },
             "pattern": {
              "fillmode": "overlay",
              "size": 10,
              "solidity": 0.2
             }
            },
            "type": "bar"
           }
          ],
          "barpolar": [
           {
            "marker": {
             "line": {
              "color": "#E5ECF6",
              "width": 0.5
             },
             "pattern": {
              "fillmode": "overlay",
              "size": 10,
              "solidity": 0.2
             }
            },
            "type": "barpolar"
           }
          ],
          "carpet": [
           {
            "aaxis": {
             "endlinecolor": "#2a3f5f",
             "gridcolor": "white",
             "linecolor": "white",
             "minorgridcolor": "white",
             "startlinecolor": "#2a3f5f"
            },
            "baxis": {
             "endlinecolor": "#2a3f5f",
             "gridcolor": "white",
             "linecolor": "white",
             "minorgridcolor": "white",
             "startlinecolor": "#2a3f5f"
            },
            "type": "carpet"
           }
          ],
          "choropleth": [
           {
            "colorbar": {
             "outlinewidth": 0,
             "ticks": ""
            },
            "type": "choropleth"
           }
          ],
          "contour": [
           {
            "colorbar": {
             "outlinewidth": 0,
             "ticks": ""
            },
            "colorscale": [
             [
              0,
              "#0d0887"
             ],
             [
              0.1111111111111111,
              "#46039f"
             ],
             [
              0.2222222222222222,
              "#7201a8"
             ],
             [
              0.3333333333333333,
              "#9c179e"
             ],
             [
              0.4444444444444444,
              "#bd3786"
             ],
             [
              0.5555555555555556,
              "#d8576b"
             ],
             [
              0.6666666666666666,
              "#ed7953"
             ],
             [
              0.7777777777777778,
              "#fb9f3a"
             ],
             [
              0.8888888888888888,
              "#fdca26"
             ],
             [
              1,
              "#f0f921"
             ]
            ],
            "type": "contour"
           }
          ],
          "contourcarpet": [
           {
            "colorbar": {
             "outlinewidth": 0,
             "ticks": ""
            },
            "type": "contourcarpet"
           }
          ],
          "heatmap": [
           {
            "colorbar": {
             "outlinewidth": 0,
             "ticks": ""
            },
            "colorscale": [
             [
              0,
              "#0d0887"
             ],
             [
              0.1111111111111111,
              "#46039f"
             ],
             [
              0.2222222222222222,
              "#7201a8"
             ],
             [
              0.3333333333333333,
              "#9c179e"
             ],
             [
              0.4444444444444444,
              "#bd3786"
             ],
             [
              0.5555555555555556,
              "#d8576b"
             ],
             [
              0.6666666666666666,
              "#ed7953"
             ],
             [
              0.7777777777777778,
              "#fb9f3a"
             ],
             [
              0.8888888888888888,
              "#fdca26"
             ],
             [
              1,
              "#f0f921"
             ]
            ],
            "type": "heatmap"
           }
          ],
          "heatmapgl": [
           {
            "colorbar": {
             "outlinewidth": 0,
             "ticks": ""
            },
            "colorscale": [
             [
              0,
              "#0d0887"
             ],
             [
              0.1111111111111111,
              "#46039f"
             ],
             [
              0.2222222222222222,
              "#7201a8"
             ],
             [
              0.3333333333333333,
              "#9c179e"
             ],
             [
              0.4444444444444444,
              "#bd3786"
             ],
             [
              0.5555555555555556,
              "#d8576b"
             ],
             [
              0.6666666666666666,
              "#ed7953"
             ],
             [
              0.7777777777777778,
              "#fb9f3a"
             ],
             [
              0.8888888888888888,
              "#fdca26"
             ],
             [
              1,
              "#f0f921"
             ]
            ],
            "type": "heatmapgl"
           }
          ],
          "histogram": [
           {
            "marker": {
             "pattern": {
              "fillmode": "overlay",
              "size": 10,
              "solidity": 0.2
             }
            },
            "type": "histogram"
           }
          ],
          "histogram2d": [
           {
            "colorbar": {
             "outlinewidth": 0,
             "ticks": ""
            },
            "colorscale": [
             [
              0,
              "#0d0887"
             ],
             [
              0.1111111111111111,
              "#46039f"
             ],
             [
              0.2222222222222222,
              "#7201a8"
             ],
             [
              0.3333333333333333,
              "#9c179e"
             ],
             [
              0.4444444444444444,
              "#bd3786"
             ],
             [
              0.5555555555555556,
              "#d8576b"
             ],
             [
              0.6666666666666666,
              "#ed7953"
             ],
             [
              0.7777777777777778,
              "#fb9f3a"
             ],
             [
              0.8888888888888888,
              "#fdca26"
             ],
             [
              1,
              "#f0f921"
             ]
            ],
            "type": "histogram2d"
           }
          ],
          "histogram2dcontour": [
           {
            "colorbar": {
             "outlinewidth": 0,
             "ticks": ""
            },
            "colorscale": [
             [
              0,
              "#0d0887"
             ],
             [
              0.1111111111111111,
              "#46039f"
             ],
             [
              0.2222222222222222,
              "#7201a8"
             ],
             [
              0.3333333333333333,
              "#9c179e"
             ],
             [
              0.4444444444444444,
              "#bd3786"
             ],
             [
              0.5555555555555556,
              "#d8576b"
             ],
             [
              0.6666666666666666,
              "#ed7953"
             ],
             [
              0.7777777777777778,
              "#fb9f3a"
             ],
             [
              0.8888888888888888,
              "#fdca26"
             ],
             [
              1,
              "#f0f921"
             ]
            ],
            "type": "histogram2dcontour"
           }
          ],
          "mesh3d": [
           {
            "colorbar": {
             "outlinewidth": 0,
             "ticks": ""
            },
            "type": "mesh3d"
           }
          ],
          "parcoords": [
           {
            "line": {
             "colorbar": {
              "outlinewidth": 0,
              "ticks": ""
             }
            },
            "type": "parcoords"
           }
          ],
          "pie": [
           {
            "automargin": true,
            "type": "pie"
           }
          ],
          "scatter": [
           {
            "fillpattern": {
             "fillmode": "overlay",
             "size": 10,
             "solidity": 0.2
            },
            "type": "scatter"
           }
          ],
          "scatter3d": [
           {
            "line": {
             "colorbar": {
              "outlinewidth": 0,
              "ticks": ""
             }
            },
            "marker": {
             "colorbar": {
              "outlinewidth": 0,
              "ticks": ""
             }
            },
            "type": "scatter3d"
           }
          ],
          "scattercarpet": [
           {
            "marker": {
             "colorbar": {
              "outlinewidth": 0,
              "ticks": ""
             }
            },
            "type": "scattercarpet"
           }
          ],
          "scattergeo": [
           {
            "marker": {
             "colorbar": {
              "outlinewidth": 0,
              "ticks": ""
             }
            },
            "type": "scattergeo"
           }
          ],
          "scattergl": [
           {
            "marker": {
             "colorbar": {
              "outlinewidth": 0,
              "ticks": ""
             }
            },
            "type": "scattergl"
           }
          ],
          "scattermapbox": [
           {
            "marker": {
             "colorbar": {
              "outlinewidth": 0,
              "ticks": ""
             }
            },
            "type": "scattermapbox"
           }
          ],
          "scatterpolar": [
           {
            "marker": {
             "colorbar": {
              "outlinewidth": 0,
              "ticks": ""
             }
            },
            "type": "scatterpolar"
           }
          ],
          "scatterpolargl": [
           {
            "marker": {
             "colorbar": {
              "outlinewidth": 0,
              "ticks": ""
             }
            },
            "type": "scatterpolargl"
           }
          ],
          "scatterternary": [
           {
            "marker": {
             "colorbar": {
              "outlinewidth": 0,
              "ticks": ""
             }
            },
            "type": "scatterternary"
           }
          ],
          "surface": [
           {
            "colorbar": {
             "outlinewidth": 0,
             "ticks": ""
            },
            "colorscale": [
             [
              0,
              "#0d0887"
             ],
             [
              0.1111111111111111,
              "#46039f"
             ],
             [
              0.2222222222222222,
              "#7201a8"
             ],
             [
              0.3333333333333333,
              "#9c179e"
             ],
             [
              0.4444444444444444,
              "#bd3786"
             ],
             [
              0.5555555555555556,
              "#d8576b"
             ],
             [
              0.6666666666666666,
              "#ed7953"
             ],
             [
              0.7777777777777778,
              "#fb9f3a"
             ],
             [
              0.8888888888888888,
              "#fdca26"
             ],
             [
              1,
              "#f0f921"
             ]
            ],
            "type": "surface"
           }
          ],
          "table": [
           {
            "cells": {
             "fill": {
              "color": "#EBF0F8"
             },
             "line": {
              "color": "white"
             }
            },
            "header": {
             "fill": {
              "color": "#C8D4E3"
             },
             "line": {
              "color": "white"
             }
            },
            "type": "table"
           }
          ]
         },
         "layout": {
          "annotationdefaults": {
           "arrowcolor": "#2a3f5f",
           "arrowhead": 0,
           "arrowwidth": 1
          },
          "autotypenumbers": "strict",
          "coloraxis": {
           "colorbar": {
            "outlinewidth": 0,
            "ticks": ""
           }
          },
          "colorscale": {
           "diverging": [
            [
             0,
             "#8e0152"
            ],
            [
             0.1,
             "#c51b7d"
            ],
            [
             0.2,
             "#de77ae"
            ],
            [
             0.3,
             "#f1b6da"
            ],
            [
             0.4,
             "#fde0ef"
            ],
            [
             0.5,
             "#f7f7f7"
            ],
            [
             0.6,
             "#e6f5d0"
            ],
            [
             0.7,
             "#b8e186"
            ],
            [
             0.8,
             "#7fbc41"
            ],
            [
             0.9,
             "#4d9221"
            ],
            [
             1,
             "#276419"
            ]
           ],
           "sequential": [
            [
             0,
             "#0d0887"
            ],
            [
             0.1111111111111111,
             "#46039f"
            ],
            [
             0.2222222222222222,
             "#7201a8"
            ],
            [
             0.3333333333333333,
             "#9c179e"
            ],
            [
             0.4444444444444444,
             "#bd3786"
            ],
            [
             0.5555555555555556,
             "#d8576b"
            ],
            [
             0.6666666666666666,
             "#ed7953"
            ],
            [
             0.7777777777777778,
             "#fb9f3a"
            ],
            [
             0.8888888888888888,
             "#fdca26"
            ],
            [
             1,
             "#f0f921"
            ]
           ],
           "sequentialminus": [
            [
             0,
             "#0d0887"
            ],
            [
             0.1111111111111111,
             "#46039f"
            ],
            [
             0.2222222222222222,
             "#7201a8"
            ],
            [
             0.3333333333333333,
             "#9c179e"
            ],
            [
             0.4444444444444444,
             "#bd3786"
            ],
            [
             0.5555555555555556,
             "#d8576b"
            ],
            [
             0.6666666666666666,
             "#ed7953"
            ],
            [
             0.7777777777777778,
             "#fb9f3a"
            ],
            [
             0.8888888888888888,
             "#fdca26"
            ],
            [
             1,
             "#f0f921"
            ]
           ]
          },
          "colorway": [
           "#636efa",
           "#EF553B",
           "#00cc96",
           "#ab63fa",
           "#FFA15A",
           "#19d3f3",
           "#FF6692",
           "#B6E880",
           "#FF97FF",
           "#FECB52"
          ],
          "font": {
           "color": "#2a3f5f"
          },
          "geo": {
           "bgcolor": "white",
           "lakecolor": "white",
           "landcolor": "#E5ECF6",
           "showlakes": true,
           "showland": true,
           "subunitcolor": "white"
          },
          "hoverlabel": {
           "align": "left"
          },
          "hovermode": "closest",
          "mapbox": {
           "style": "light"
          },
          "paper_bgcolor": "white",
          "plot_bgcolor": "#E5ECF6",
          "polar": {
           "angularaxis": {
            "gridcolor": "white",
            "linecolor": "white",
            "ticks": ""
           },
           "bgcolor": "#E5ECF6",
           "radialaxis": {
            "gridcolor": "white",
            "linecolor": "white",
            "ticks": ""
           }
          },
          "scene": {
           "xaxis": {
            "backgroundcolor": "#E5ECF6",
            "gridcolor": "white",
            "gridwidth": 2,
            "linecolor": "white",
            "showbackground": true,
            "ticks": "",
            "zerolinecolor": "white"
           },
           "yaxis": {
            "backgroundcolor": "#E5ECF6",
            "gridcolor": "white",
            "gridwidth": 2,
            "linecolor": "white",
            "showbackground": true,
            "ticks": "",
            "zerolinecolor": "white"
           },
           "zaxis": {
            "backgroundcolor": "#E5ECF6",
            "gridcolor": "white",
            "gridwidth": 2,
            "linecolor": "white",
            "showbackground": true,
            "ticks": "",
            "zerolinecolor": "white"
           }
          },
          "shapedefaults": {
           "line": {
            "color": "#2a3f5f"
           }
          },
          "ternary": {
           "aaxis": {
            "gridcolor": "white",
            "linecolor": "white",
            "ticks": ""
           },
           "baxis": {
            "gridcolor": "white",
            "linecolor": "white",
            "ticks": ""
           },
           "bgcolor": "#E5ECF6",
           "caxis": {
            "gridcolor": "white",
            "linecolor": "white",
            "ticks": ""
           }
          },
          "title": {
           "x": 0.05
          },
          "xaxis": {
           "automargin": true,
           "gridcolor": "white",
           "linecolor": "white",
           "ticks": "",
           "title": {
            "standoff": 15
           },
           "zerolinecolor": "white",
           "zerolinewidth": 2
          },
          "yaxis": {
           "automargin": true,
           "gridcolor": "white",
           "linecolor": "white",
           "ticks": "",
           "title": {
            "standoff": 15
           },
           "zerolinecolor": "white",
           "zerolinewidth": 2
          }
         }
        },
        "title": {
         "text": "Top 10 Most Common Words in Taglines"
        },
        "xaxis": {
         "anchor": "y",
         "domain": [
          0,
          1
         ],
         "tickangle": -45,
         "title": {
          "text": "Words"
         }
        },
        "yaxis": {
         "anchor": "x",
         "domain": [
          0,
          1
         ],
         "title": {
          "text": "Frequency"
         }
        }
       }
      }
     },
     "metadata": {},
     "output_type": "display_data"
    }
   ],
   "source": [
    "# Plot the top 10 most common words using Plotly\n",
    "words, counts = zip(*most_common_words)\n",
    "fig = px.bar(x=words, y=counts, title='Top 10 Most Common Words in Taglines',\n",
    "             labels={'x': 'Words', 'y': 'Frequency'}, color=counts)\n",
    "fig.update_layout(xaxis_tickangle=-45)\n",
    "fig.show()\n"
   ]
  }
 ],
 "metadata": {
  "kernelspec": {
   "display_name": "movie_env",
   "language": "python",
   "name": "python3"
  },
  "language_info": {
   "codemirror_mode": {
    "name": "ipython",
    "version": 3
   },
   "file_extension": ".py",
   "mimetype": "text/x-python",
   "name": "python",
   "nbconvert_exporter": "python",
   "pygments_lexer": "ipython3",
   "version": "3.12.3"
  }
 },
 "nbformat": 4,
 "nbformat_minor": 2
}
