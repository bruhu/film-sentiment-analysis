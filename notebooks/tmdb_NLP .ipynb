{
 "cells": [
  {
   "cell_type": "markdown",
   "metadata": {},
   "source": [
    "# **NLP on Letterboxd df**\n",
    "\n",
    "- Check word frequency in several columns -> 'tagline', 'summary', 'genres', 'themes', 'events'\n",
    "- Based on correlations, rate from 0 to 10\n",
    "- Tie back to whether a title has warnings or not\n",
    "- Figure how it impacts sentiment on movies\n",
    "- Sentiment-o-meter\n",
    "\n",
    "## **Metadata**\n",
    "\n",
    "- `cleaned_films` contains 5301 titles and 20 columns.\n",
    "\n",
    "- There are no Null values.\n",
    "\n",
    "| **Column Name**        | **Data Type**   | **Description**                                                                 |\n",
    "|------------------------|-----------------|----------------------------------------------------------------------------------|\n",
    "| **title**              | object          | The title of the movie.                                                          |\n",
    "| **release_year**       | int64           | The year the movie was released.                                                 |\n",
    "| **tagline**            | object          | The movie's tagline (promotional phrase).                                        |\n",
    "| **summary**            | object          | A brief description of the movie's plot.                                         |\n",
    "| **runtime**            | int64           | The total runtime of the movie in minutes.                                       |\n",
    "| **letterboxd_rating**  | float64         | The movie's average rating on Letterboxd.                                        |\n",
    "| **genres**             | object          | A list of genres the movie belongs to (e.g., Drama, Comedy).                     |\n",
    "| **language**           | object          | The languages the movie was produced in.                                         |\n",
    "| **countries**          | object          | The countries where the movie was made or released.                              |\n",
    "| **themes**             | object          | The central themes explored in the movie (e.g., Love, War, Friendship).          |\n",
    "| **director**           | object          | The director(s) of the movie.                                                   |\n",
    "| **events**             | object          | Key events or warnings in the movie (e.g., violence, strong language).           |\n",
    "| **has_warnings**       | bool            | A boolean indicating if the movie contains warnings for sensitive content.       |\n"
   ]
  },
  {
   "cell_type": "code",
   "execution_count": 1,
   "metadata": {},
   "outputs": [],
   "source": [
    "import pandas as pd\n",
    "import nltk \n",
    "import pandas as pd\n",
    "from sklearn.model_selection import train_test_split\n",
    "from sklearn.feature_extraction.text import TfidfVectorizer\n",
    "from sklearn.linear_model import LogisticRegression\n",
    "from sklearn.metrics import classification_report\n",
    "from sklearn.utils import resample"
   ]
  },
  {
   "cell_type": "code",
   "execution_count": null,
   "metadata": {},
   "outputs": [],
   "source": [
    "nltk.download('punkt_tab')"
   ]
  },
  {
   "cell_type": "markdown",
   "metadata": {},
   "source": [
    "Import reusable functions for sentiment analysis from /utils folder."
   ]
  },
  {
   "cell_type": "code",
   "execution_count": 3,
   "metadata": {},
   "outputs": [],
   "source": [
    "import sys\n",
    "sys.path.append('../utils')\n",
    "import sentiment_utils"
   ]
  },
  {
   "cell_type": "code",
   "execution_count": null,
   "metadata": {},
   "outputs": [],
   "source": [
    "\n",
    "films = pd.read_csv('../data/clean/tmdb_clean_films.csv')\n",
    "films.rename(columns={'overview' : 'summary'}, inplace=True)\n",
    "films.head(2)"
   ]
  },
  {
   "cell_type": "code",
   "execution_count": 5,
   "metadata": {},
   "outputs": [],
   "source": [
    "cleaned_films = films.copy()\n",
    "cleaned_films.drop(columns=['doesthedog_id', 'tmdb_id', 'imdb_id', 'original_title', 'imdb_votes', 'tmdb_votes'], inplace=True)"
   ]
  },
  {
   "cell_type": "code",
   "execution_count": 6,
   "metadata": {},
   "outputs": [],
   "source": [
    "cleaned_films = cleaned_films.dropna()\n"
   ]
  },
  {
   "cell_type": "code",
   "execution_count": null,
   "metadata": {},
   "outputs": [],
   "source": [
    "display(cleaned_films)\n"
   ]
  },
  {
   "cell_type": "markdown",
   "metadata": {},
   "source": [
    "## **Word Count**\n",
    "- Display most commong words in *tagline*, *summary*, *genre*, *themes* and *events* columns."
   ]
  },
  {
   "cell_type": "code",
   "execution_count": null,
   "metadata": {},
   "outputs": [],
   "source": [
    "cleaned_films.info()"
   ]
  },
  {
   "cell_type": "markdown",
   "metadata": {},
   "source": [
    "**Tagline Word Count**"
   ]
  },
  {
   "cell_type": "code",
   "execution_count": null,
   "metadata": {},
   "outputs": [],
   "source": [
    "sentiment_utils.analyze_most_common_words(cleaned_films, text_column='tagline', top_n=30)"
   ]
  },
  {
   "cell_type": "markdown",
   "metadata": {},
   "source": [
    "**Summary Word Count**"
   ]
  },
  {
   "cell_type": "code",
   "execution_count": null,
   "metadata": {},
   "outputs": [],
   "source": [
    "sentiment_utils.analyze_most_common_words(cleaned_films, text_column='summary', top_n=20)"
   ]
  },
  {
   "cell_type": "markdown",
   "metadata": {},
   "source": [
    "**Genre Word Count**"
   ]
  },
  {
   "cell_type": "code",
   "execution_count": null,
   "metadata": {},
   "outputs": [],
   "source": [
    "sentiment_utils.analyze_most_common_words(cleaned_films, text_column='genres', top_n=20)"
   ]
  },
  {
   "cell_type": "markdown",
   "metadata": {},
   "source": [
    "**Events Word Count**"
   ]
  },
  {
   "cell_type": "code",
   "execution_count": null,
   "metadata": {},
   "outputs": [],
   "source": [
    "sentiment_utils.analyze_most_common_words(cleaned_films, text_column='events', top_n=20)"
   ]
  },
  {
   "cell_type": "markdown",
   "metadata": {},
   "source": [
    "## **Word Correlation**\n",
    "\n",
    "- Find the correlation between ratings and tagline, summary, genre, themes and events.\n",
    "- Bar plots displaying positive, neutral or negative related rating average.\n"
   ]
  },
  {
   "cell_type": "code",
   "execution_count": 13,
   "metadata": {},
   "outputs": [],
   "source": [
    "df = cleaned_films.copy()"
   ]
  },
  {
   "cell_type": "markdown",
   "metadata": {},
   "source": [
    "Taglines vs Ratings"
   ]
  },
  {
   "cell_type": "code",
   "execution_count": null,
   "metadata": {},
   "outputs": [],
   "source": [
    "sentiment_utils.word_rating_correlation(df, text_column='processed_tagline', rating_column='popularity', top_n=20)"
   ]
  },
  {
   "cell_type": "markdown",
   "metadata": {},
   "source": [
    "Summary vs Ratings"
   ]
  },
  {
   "cell_type": "code",
   "execution_count": null,
   "metadata": {},
   "outputs": [],
   "source": [
    "sentiment_utils.word_rating_correlation(df, text_column='processed_summary', rating_column='popularity', top_n=20)"
   ]
  },
  {
   "cell_type": "markdown",
   "metadata": {},
   "source": [
    "Genres vs Ratings"
   ]
  },
  {
   "cell_type": "code",
   "execution_count": null,
   "metadata": {},
   "outputs": [],
   "source": [
    "sentiment_utils.word_rating_correlation(df, text_column='processed_genres', rating_column='popularity', top_n=20)"
   ]
  },
  {
   "cell_type": "markdown",
   "metadata": {},
   "source": [
    "Events vs Ratings"
   ]
  },
  {
   "cell_type": "code",
   "execution_count": null,
   "metadata": {},
   "outputs": [],
   "source": [
    "sentiment_utils.word_rating_correlation(df, text_column='processed_events', rating_column='popularity', top_n=20)"
   ]
  },
  {
   "cell_type": "markdown",
   "metadata": {},
   "source": [
    "## Conclusions"
   ]
  },
  {
   "cell_type": "markdown",
   "metadata": {},
   "source": [
    "## **Conclusions**\n",
    "\n",
    "### **Taglines vs Ratings**\n",
    "- Words like *begins* and *heroes* positively correlate with higher ratings.  \n",
    "- Words such as *woman*, *murder*, and *love* show slight negative correlations with ratings.  \n",
    "- Neutral or commonly used words (*good*, *story*, *comedy*) tend to have weak or negligible impact.\n",
    "\n",
    "\n",
    "### **Summary vs Ratings**\n",
    "- Words like *world*, *mission*, *battle*, and *epic* positively influence ratings, suggesting an association with grand or action-oriented themes.  \n",
    "- Negative correlations occur with words such as *gay* and *film*, which might reflect thematic or tonal biases in audience reception.\n",
    "\n",
    "\n",
    "### **Genres vs Ratings**\n",
    "- Genres like *adventure* and *action* have the strongest positive correlations, indicating audience preference for exciting and fast-paced content.  \n",
    "- *Drama* shows a strong negative correlation (-0.17), while *romance*, *horror*, and *comedy* have slight negative associations.  \n",
    "\n",
    "\n",
    "### **Events vs Ratings**\n",
    "- Events involving intensity or high stakes (*screaming*, *dies*, *restraints*, *death*, *self-sacrifice*) show strong positive correlations with ratings.  \n",
    "- This suggests that dramatic, emotionally charged, or suspenseful scenes resonate with audiences.  \n",
    "\n",
    "\n",
    "### **Overall**\n",
    "- Positive correlations are associated with action, adventure, and high-intensity words or genres.  \n",
    "- Negative correlations reflect themes like horror, emotional drama, or specific words (e.g., *love*, *murder*, *film*) that may divide audience opinions.  \n",
    "\n",
    "---\n",
    "\n",
    "### **Taglines vs Ratings**  \n",
    "**Top Words Correlated with Ratings:**  \n",
    "- *begins*: 0.06  \n",
    "- *heroes*: 0.05  \n",
    "- *woman*: -0.05  \n",
    "- *murder*: -0.05  \n",
    "- *happened*: -0.05  \n",
    "- *dead*: -0.04  \n",
    "- *story*: -0.04  \n",
    "- *comedy*: -0.04  \n",
    "- *problem*: 0.04  \n",
    "- *two*: -0.04  \n",
    "- *girl*: -0.04  \n",
    "- *good*: -0.04  \n",
    "- *saga*: 0.04  \n",
    "- *guy*: -0.04  \n",
    "- *bond*: 0.04  \n",
    "- *love*: -0.04  \n",
    "- *affair*: -0.04  \n",
    "- *evil*: -0.04  \n",
    "- *ends*: 0.04  \n",
    "- *living*: -0.04  \n",
    "\n",
    "\n",
    "### **Summary vs Ratings**  \n",
    "**Top Words Correlated with Ratings:**  \n",
    "- *world*: 0.09  \n",
    "- *must*: 0.08  \n",
    "- *mission*: 0.08  \n",
    "- *worlds*: 0.07  \n",
    "- *battle*: 0.07  \n",
    "- *warrior*: 0.06  \n",
    "- *prince*: 0.06  \n",
    "- *enemy*: 0.06  \n",
    "- *fate*: 0.06  \n",
    "- *spiderman*: 0.06  \n",
    "- *threat*: 0.06  \n",
    "- *gay*: -0.06  \n",
    "- *adventure*: 0.06  \n",
    "- *humans*: 0.06  \n",
    "- *film*: -0.06  \n",
    "- *team*: 0.06  \n",
    "- *skills*: 0.06  \n",
    "- *planet*: 0.06  \n",
    "- *hogwarts*: 0.06  \n",
    "- *epic*: 0.06  \n",
    "\n",
    "\n",
    "\n",
    "### **Genres vs Ratings**  \n",
    "**Top Words Correlated with Ratings:**  \n",
    "- *adventure*: 0.22  \n",
    "- *action*: 0.22  \n",
    "- *drama*: -0.17  \n",
    "- *animation*: 0.17  \n",
    "- *family*: 0.15  \n",
    "- *fantasy*: 0.14  \n",
    "- *fiction*: 0.10  \n",
    "- *science*: 0.10  \n",
    "- *romance*: -0.08  \n",
    "- *comedy*: -0.05  \n",
    "- *horror*: -0.05  \n",
    "- *movie*: -0.04  \n",
    "- *tv*: -0.04  \n",
    "- *crime*: -0.04  \n",
    "- *mystery*: -0.03  \n",
    "- *history*: -0.03  \n",
    "- *western*: -0.02  \n",
    "- *war*: 0.01  \n",
    "- *thriller*: 0.00  \n",
    "\n",
    "\n",
    "\n",
    "### **Events vs Ratings**  \n",
    "**Top Words Correlated with Ratings:**  \n",
    "- *screaming*: 0.31  \n",
    "- *dies*: 0.30  \n",
    "- *restraints*: 0.29  \n",
    "- *loud*: 0.29  \n",
    "- *noises*: 0.29  \n",
    "- *sudden*: 0.29  \n",
    "- *someone*: 0.29  \n",
    "- *water*: 0.27  \n",
    "- *unconscious*: 0.27  \n",
    "- *bodies*: 0.26  \n",
    "- *death*: 0.25  \n",
    "- *selfsacrifice*: 0.25  \n",
    "- *watched*: 0.25  \n",
    "- *family*: 0.24  \n",
    "- *choking*: 0.24  \n",
    "- *scenes*: 0.23  \n",
    "- *character*: 0.23  \n",
    "- *major*: 0.23  \n",
    "- *car*: 0.23  \n",
    "- *stabbings*: 0.22  \n"
   ]
  },
  {
   "cell_type": "code",
   "execution_count": 18,
   "metadata": {},
   "outputs": [],
   "source": [
    "regression_df = films.copy()"
   ]
  },
  {
   "cell_type": "code",
   "execution_count": null,
   "metadata": {},
   "outputs": [],
   "source": [
    "regression_df.head(3)"
   ]
  },
  {
   "cell_type": "markdown",
   "metadata": {},
   "source": [
    "Try it with equal true and false rows"
   ]
  },
  {
   "cell_type": "code",
   "execution_count": null,
   "metadata": {},
   "outputs": [],
   "source": [
    "X = regression_df[['genres', 'tagline', 'summary', 'events']]\n",
    "y = regression_df['has_warnings']  \n",
    "\n",
    "X_combined = X['genres'] + ' ' + X['tagline'] + ' ' + X['summary'] + ' ' + X['events']\n",
    "\n",
    "# fill NaN values in the combined text column\n",
    "X_combined_filled = X_combined.fillna(\"missing\")\n",
    "\n",
    "# vectorization to transform the text data\n",
    "vectorizer = TfidfVectorizer(max_features=1000)\n",
    "X_tfidf = vectorizer.fit_transform(X_combined_filled)\n",
    "\n",
    "# sparse matrix to a dense DataFrame\n",
    "X_tfidf_dense = pd.DataFrame(X_tfidf.toarray(), columns=vectorizer.get_feature_names_out())\n",
    "\n",
    "#combine TF-IDF features with the target column\n",
    "df_balanced = pd.concat([X_tfidf_dense, y], axis=1)\n",
    "\n",
    "# majority and minority classes\n",
    "df_majority = df_balanced[df_balanced['has_warnings'] == False]\n",
    "df_minority = df_balanced[df_balanced['has_warnings'] == True]\n",
    "\n",
    "# undersample the majority class\n",
    "df_majority_undersampled = resample(\n",
    "    df_majority,\n",
    "    replace=False, \n",
    "    n_samples=len(df_majority),  \n",
    "    random_state=42  \n",
    ")\n",
    "\n",
    "# combine majority class with the minority class\n",
    "df_balanced = pd.concat([df_majority_undersampled, df_minority])\n",
    "\n",
    "df_balanced = df_balanced.sample(frac=1, random_state=42).reset_index(drop=True)\n",
    "\n",
    "# split balanced data into features (X) and target (y)\n",
    "X_balanced = df_balanced.drop(columns='has_warnings')\n",
    "y_balanced = df_balanced['has_warnings']\n",
    "\n",
    "# Train/Test Split\n",
    "X_train, X_test, y_train, y_test = train_test_split(X_balanced, y_balanced, test_size=0.3, random_state=42)\n",
    "\n",
    "# train a Logistic Regression Model\n",
    "model = LogisticRegression()\n",
    "model.fit(X_train, y_train)\n",
    "\n",
    "# make predictions\n",
    "y_pred = model.predict(X_test)\n",
    "\n",
    "# evaluate\n",
    "print(classification_report(y_test, y_pred))\n"
   ]
  }
 ],
 "metadata": {
  "kernelspec": {
   "display_name": "movie_env",
   "language": "python",
   "name": "python3"
  },
  "language_info": {
   "codemirror_mode": {
    "name": "ipython",
    "version": 3
   },
   "file_extension": ".py",
   "mimetype": "text/x-python",
   "name": "python",
   "nbconvert_exporter": "python",
   "pygments_lexer": "ipython3",
   "version": "3.12.3"
  }
 },
 "nbformat": 4,
 "nbformat_minor": 2
}
