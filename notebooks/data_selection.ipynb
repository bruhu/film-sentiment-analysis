{
 "cells": [
  {
   "cell_type": "markdown",
   "metadata": {},
   "source": [
    "# Data Filtering and Selection"
   ]
  },
  {
   "cell_type": "code",
   "execution_count": null,
   "metadata": {},
   "outputs": [],
   "source": [
    "import pandas as pd\n",
    "import numpy as np\n",
    "from datetime import datetime\n",
    "import re\n",
    "import matplotlib.pyplot as plt\n",
    "import seaborn as sns\n",
    "from sklearn.ensemble import RandomForestClassifier\n",
    "from scipy.stats import zscore\n",
    "from textblob import TextBlob\n",
    "import seaborn as sns\n",
    "import matplotlib.pyplot as plt"
   ]
  },
  {
   "cell_type": "code",
   "execution_count": null,
   "metadata": {},
   "outputs": [],
   "source": [
    "import sys\n",
    "sys.path.append('../utils')\n",
    "import functions"
   ]
  },
  {
   "cell_type": "code",
   "execution_count": null,
   "metadata": {},
   "outputs": [],
   "source": [
    "movie_df = pd.read_csv('../data/local/clean/films_19to24.csv')\n",
    "movie_df.head()"
   ]
  },
  {
   "cell_type": "markdown",
   "metadata": {},
   "source": [
    "### Remove Rows with Irrelevant information\n",
    "- Rows with missing or incomplete data\n",
    "- Rows with outliers or extreme values\n",
    "- Rows with zero or negative revenue and budget\n",
    "- Rows with zero or extremely low ratings\n",
    "- Duplicates\n",
    "- Rows with low votes\n",
    "- "
   ]
  },
  {
   "cell_type": "code",
   "execution_count": null,
   "metadata": {},
   "outputs": [],
   "source": [
    "cleaned_df = movie_df.copy()"
   ]
  },
  {
   "cell_type": "code",
   "execution_count": null,
   "metadata": {},
   "outputs": [],
   "source": [
    "# # Step 1: Remove rows with critical missing values (imdb_rating, imdb_votes, imdb_id)\n",
    "# initial_row_count = len(df)\n",
    "# cleaned_df = df.dropna(subset=['imdb_rating', 'imdb_votes', 'imdb_id'])\n",
    "# rows_removed_step_1 = initial_row_count - len(cleaned_df)\n",
    "# print(f'Rows removed after dropping rows with missing critical values: {rows_removed_step_1}')"
   ]
  },
  {
   "cell_type": "code",
   "execution_count": null,
   "metadata": {},
   "outputs": [],
   "source": [
    "# # Step 2: Remove rows with extreme z-scores for budget, revenue, or popularity\n",
    "# initial_row_count = len(cleaned_df)\n",
    "# cleaned_df = cleaned_df[(cleaned_df['budget_zscore'].abs() < 3) & \n",
    "#                         (cleaned_df['revenue_zscore'].abs() < 3) &\n",
    "#                         (cleaned_df['popularity_zscore'].abs() < 3)]\n",
    "# rows_removed_step_2 = initial_row_count - len(cleaned_df)\n",
    "# print(f'Rows removed after filtering extreme z-scores: {rows_removed_step_2}')"
   ]
  },
  {
   "cell_type": "code",
   "execution_count": null,
   "metadata": {},
   "outputs": [],
   "source": [
    "# # Step 3: Remove rows with zero or negative revenue and budget\n",
    "# initial_row_count = len(cleaned_df)\n",
    "# cleaned_df = cleaned_df[(cleaned_df['revenue'] > 0) & (cleaned_df['budget'] > 0)]\n",
    "# rows_removed_step_3 = initial_row_count - len(cleaned_df)\n",
    "# print(f'Rows removed after filtering zero or negative revenue/budget: {rows_removed_step_3}')"
   ]
  },
  {
   "cell_type": "code",
   "execution_count": null,
   "metadata": {},
   "outputs": [],
   "source": [
    "# remove rows with runtime under 40 minutes\n",
    "initial_row_count = len(cleaned_df)\n",
    "cleaned_df = cleaned_df[cleaned_df['runtime'] > 40]\n",
    "rows_removed_step_4 = initial_row_count - len(cleaned_df)\n",
    "print(f'Rows removed after filtering runtime under 40 minutes: {rows_removed_step_4}')"
   ]
  },
  {
   "cell_type": "code",
   "execution_count": null,
   "metadata": {},
   "outputs": [],
   "source": [
    "# remove rows with low ratings (below a threshold of 1)\n",
    "initial_row_count = len(cleaned_df)\n",
    "cleaned_df = cleaned_df[cleaned_df['tmdb_rating'] > 1]\n",
    "cleaned_df = cleaned_df[cleaned_df['imdb_rating'] > 1]\n",
    "rows_removed_step_5 = initial_row_count - len(cleaned_df)\n",
    "print(f'Rows removed after filtering low ratings: {rows_removed_step_5}')"
   ]
  },
  {
   "cell_type": "code",
   "execution_count": null,
   "metadata": {},
   "outputs": [],
   "source": [
    "# remove duplicates\n",
    "initial_row_count = len(cleaned_df)\n",
    "cleaned_df = cleaned_df.drop_duplicates(subset=['tmdb_id', 'imdb_id', 'title'])\n",
    "rows_removed_step_6 = initial_row_count - len(cleaned_df)\n",
    "print(f'Rows removed after dropping duplicates: {rows_removed_step_6}')"
   ]
  },
  {
   "cell_type": "code",
   "execution_count": null,
   "metadata": {},
   "outputs": [],
   "source": [
    "# remove rows with very few votes (below a threshold of 10)\n",
    "initial_row_count = len(cleaned_df)\n",
    "cleaned_df = cleaned_df[(cleaned_df['tmdb_votes'] >= 10) & (cleaned_df['imdb_votes'] >= 10)]\n",
    "rows_removed_step_7 = initial_row_count - len(cleaned_df)\n",
    "print(f'Rows removed after filtering low vote count: {rows_removed_step_7}')"
   ]
  },
  {
   "cell_type": "code",
   "execution_count": null,
   "metadata": {},
   "outputs": [],
   "source": [
    "# cleaned dataset\n",
    "final_row_count = len(cleaned_df)\n",
    "print(f'Final number of rows in the cleaned dataset: {final_row_count}')"
   ]
  },
  {
   "cell_type": "code",
   "execution_count": null,
   "metadata": {},
   "outputs": [],
   "source": [
    "# round 'imdb_votes' column to integers\n",
    "cleaned_df['imdb_votes'] = cleaned_df['imdb_votes'].round(0).astype(int)"
   ]
  },
  {
   "cell_type": "code",
   "execution_count": null,
   "metadata": {},
   "outputs": [],
   "source": [
    "cleaned_df.head()"
   ]
  },
  {
   "cell_type": "markdown",
   "metadata": {},
   "source": [
    "#### Create sample df\n",
    "- Filter out columns where 'revenue', 'tmdb_votes', 'imdb_votes' and 'budget' are not 0"
   ]
  },
  {
   "cell_type": "code",
   "execution_count": null,
   "metadata": {},
   "outputs": [],
   "source": [
    "movie_sample_df = cleaned_df[(cleaned_df['revenue'] != 0) &\n",
    "                         (cleaned_df['tmdb_votes'] != 0) &\n",
    "                         (cleaned_df['imdb_votes'] != 0) &\n",
    "                         (cleaned_df['budget'] != 0)]\n",
    "\n",
    "display(movie_sample_df)"
   ]
  },
  {
   "cell_type": "markdown",
   "metadata": {},
   "source": [
    "Create .csv"
   ]
  },
  {
   "cell_type": "code",
   "execution_count": null,
   "metadata": {},
   "outputs": [],
   "source": [
    "movie_sample_df.to_csv('../data/local/clean/movie_sample.csv', index=False)"
   ]
  },
  {
   "cell_type": "markdown",
   "metadata": {},
   "source": [
    "### Data Overview"
   ]
  },
  {
   "cell_type": "markdown",
   "metadata": {},
   "source": [
    "#### Descriptive Stats"
   ]
  },
  {
   "cell_type": "code",
   "execution_count": null,
   "metadata": {},
   "outputs": [],
   "source": [
    "# Basic statistics for numerical columns\n",
    "print(\"Descriptive Statistics:\")\n",
    "print(cleaned_df.describe())\n",
    "\n",
    "# Get information on data types and non-null counts\n",
    "print(\"\\nData Types and Non-null Counts:\")\n",
    "print(cleaned_df.info())\n",
    "\n",
    "# Check for unique values in categorical columns\n",
    "print(\"\\nUnique Values in Categorical Columns:\")\n",
    "print(cleaned_df[['genres', 'director', 'language', 'release_year']].nunique())\n"
   ]
  },
  {
   "cell_type": "markdown",
   "metadata": {},
   "source": [
    "#### Check missing values"
   ]
  },
  {
   "cell_type": "code",
   "execution_count": null,
   "metadata": {},
   "outputs": [],
   "source": [
    "# Check for missing values\n",
    "print(\"\\nMissing Values in Columns:\")\n",
    "print(cleaned_df.isnull().sum())\n"
   ]
  },
  {
   "cell_type": "markdown",
   "metadata": {},
   "source": [
    "Language distribution"
   ]
  },
  {
   "cell_type": "code",
   "execution_count": null,
   "metadata": {},
   "outputs": [],
   "source": [
    "# Calculate counts and percentage distribution of each language\n",
    "language_counts = cleaned_df['language'].value_counts()\n",
    "language_percentages = cleaned_df['language'].value_counts(normalize=True) * 100\n",
    "\n",
    "# Combine counts and percentages into a single DataFrame\n",
    "language_stats = pd.DataFrame({\n",
    "    'Language': language_counts.index,\n",
    "    'Count': language_counts.values,\n",
    "    'Percentage': language_percentages.values\n",
    "})\n",
    "\n",
    "# Add a numerated column\n",
    "language_stats.insert(0, 'Rank', range(1, len(language_stats) + 1))\n",
    "\n",
    "# Display the DataFrame\n",
    "print(language_stats.to_string(index=False))\n"
   ]
  },
  {
   "cell_type": "markdown",
   "metadata": {},
   "source": [
    "#### Visualize Distributions"
   ]
  },
  {
   "cell_type": "code",
   "execution_count": null,
   "metadata": {},
   "outputs": [],
   "source": [
    "# Boxplots for better understanding of the distributions\n",
    "plt.figure(figsize=(12, 8))\n",
    "sns.boxplot(data=cleaned_df[['budget', 'revenue', 'popularity', 'runtime', 'tmdb_rating', 'imdb_rating']])\n",
    "plt.title('Boxplot of Numerical Columns')\n",
    "plt.show()"
   ]
  },
  {
   "cell_type": "code",
   "execution_count": null,
   "metadata": {},
   "outputs": [],
   "source": [
    "# Define the column names and their respective custom labels\n",
    "columns = ['budget', 'revenue', 'popularity', 'runtime', 'tmdb_rating', 'imdb_rating']\n",
    "custom_labels = [\n",
    "    'Budget',\n",
    "    'Revenue',\n",
    "    'Popularity',\n",
    "    'Runtime',\n",
    "    'TMDB Rating',\n",
    "    'IMDB Rating'\n",
    "]\n",
    "\n",
    "# Create the histograms\n",
    "fig, axes = plt.subplots(2, 3, figsize=(20, 10))  # Adjust the layout if needed\n",
    "axes = axes.flatten()  # Flatten the 2D array of axes for easier iteration\n",
    "\n",
    "for col, label, ax in zip(columns, custom_labels, axes):\n",
    "    cleaned_df[col].hist(ax=ax, bins=30, color='gold')\n",
    "    ax.set_title(label)  # Set custom title for each subplot\n",
    "\n",
    "plt.tight_layout()\n",
    "plt.show()"
   ]
  },
  {
   "cell_type": "markdown",
   "metadata": {},
   "source": [
    "#### Trends Over Time"
   ]
  },
  {
   "cell_type": "code",
   "execution_count": null,
   "metadata": {},
   "outputs": [],
   "source": [
    "# Group data by release year and calculate mean values\n",
    "yearly_trends = cleaned_df.groupby('release_year').agg({\n",
    "    'budget': 'mean',\n",
    "    'revenue': 'mean',\n",
    "    'popularity': 'mean',\n",
    "    'tmdb_rating': 'mean',\n",
    "    'imdb_rating': 'mean',\n",
    "}).reset_index()\n",
    "\n",
    "# Plot trends over time\n",
    "plt.figure(figsize=(12, 8))\n",
    "plt.plot(yearly_trends['release_year'], yearly_trends['budget'], label='Budget', marker='o', color='darkcyan')\n",
    "plt.plot(yearly_trends['release_year'], yearly_trends['revenue'], label='Revenue', marker='o', color='crimson')\n",
    "plt.plot(yearly_trends['release_year'], yearly_trends['tmdb_rating'], label='TMDB Rating', marker='o', color='gold')\n",
    "plt.plot(yearly_trends['release_year'], yearly_trends['imdb_rating'], label='IMDb Rating', marker='o', color='darkslateblue')\n",
    "plt.xlabel('Year')\n",
    "plt.ylabel('Value')\n",
    "plt.title(\"Trends' Average Over Time (by Year)\")\n",
    "plt.legend()\n",
    "plt.show()\n"
   ]
  },
  {
   "cell_type": "code",
   "execution_count": null,
   "metadata": {},
   "outputs": [],
   "source": [
    "# Group data by release year and calculate mean values\n",
    "yearly_trends = cleaned_df.groupby('release_year').agg({\n",
    "    'budget': 'mean',\n",
    "    'revenue': 'mean',\n",
    "    'popularity': 'mean',\n",
    "    'tmdb_rating': 'mean',\n",
    "    'imdb_rating': 'mean',\n",
    "    'runtime': 'mean'\n",
    "}).reset_index()\n",
    "\n",
    "# Plot trends over time\n",
    "plt.figure(figsize=(12, 8))\n",
    "plt.plot(yearly_trends['release_year'], yearly_trends['popularity'], label='Popularity', marker='o', color='indianred')\n",
    "plt.plot(yearly_trends['release_year'], yearly_trends['tmdb_rating'], label='TMDB Rating', marker='o', color='gold')\n",
    "plt.plot(yearly_trends['release_year'], yearly_trends['imdb_rating'], label='IMDb Rating', marker='o', color='darkslateblue')\n",
    "plt.xlabel('Year')\n",
    "plt.ylabel('Value')\n",
    "plt.title(\"Trends' Average Over Time (by Year)\")\n",
    "plt.legend()\n",
    "plt.show()\n"
   ]
  },
  {
   "cell_type": "markdown",
   "metadata": {},
   "source": [
    "#### Popularity and Revenue Relationship"
   ]
  },
  {
   "cell_type": "code",
   "execution_count": null,
   "metadata": {},
   "outputs": [],
   "source": [
    "# Scatter plot for popularity vs revenue\n",
    "plt.figure(figsize=(10, 6))\n",
    "sns.scatterplot(data=cleaned_df, x='popularity', y='revenue', hue='release_year', palette='viridis')\n",
    "plt.title('Popularity vs Revenue')\n",
    "plt.xlabel('Popularity')\n",
    "plt.ylabel('Revenue')\n",
    "plt.show()\n",
    "\n",
    "# Scatter plot for popularity vs budget\n",
    "plt.figure(figsize=(10, 6))\n",
    "sns.scatterplot(data=cleaned_df, x='popularity', y='budget', hue='release_year', palette='viridis')\n",
    "plt.title('Popularity vs Budget')\n",
    "plt.xlabel('Popularity')\n",
    "plt.ylabel('Budget')\n",
    "plt.show()\n"
   ]
  },
  {
   "cell_type": "markdown",
   "metadata": {},
   "source": [
    "#### Rating Distribution by Genre"
   ]
  },
  {
   "cell_type": "code",
   "execution_count": null,
   "metadata": {},
   "outputs": [],
   "source": [
    "# # Take a 10% sample of the DataFrame for easier visualization\n",
    "# df_sample = cleaned_df.sample(frac=0.1, random_state=42)\n",
    "\n",
    "# # Split genres into separate rows for analysis\n",
    "# df_genre = df_sample[['genres', 'tmdb_rating', 'imdb_rating']].explode('genres')\n",
    "\n",
    "# # Plot TMDB Rating Distribution by Genre\n",
    "# plt.figure(figsize=(12, 8))\n",
    "# sns.boxplot(x='genres', y='tmdb_rating', data=df_genre)\n",
    "# plt.title('TMDB Rating Distribution by Genre (Sampled Data)')\n",
    "# plt.xticks(rotation=90)\n",
    "# plt.show()\n",
    "\n",
    "# # Plot IMDb Rating Distribution by Genre\n",
    "# plt.figure(figsize=(12, 8))\n",
    "# sns.boxplot(x='genres', y='imdb_rating', data=df_genre)\n",
    "# plt.title('IMDb Rating Distribution by Genre (Sampled Data)')\n",
    "# plt.xticks(rotation=90)\n",
    "# plt.show()"
   ]
  },
  {
   "cell_type": "markdown",
   "metadata": {},
   "source": [
    "#### Analyze Directors"
   ]
  },
  {
   "cell_type": "code",
   "execution_count": null,
   "metadata": {},
   "outputs": [],
   "source": [
    "# Group data by director and calculate the mean for key variables\n",
    "director_stats = cleaned_df.groupby('director').agg({\n",
    "    'budget': 'mean',\n",
    "    'revenue': 'mean',\n",
    "    'popularity': 'mean',\n",
    "    'tmdb_rating': 'mean',\n",
    "    'imdb_rating': 'mean',\n",
    "    'runtime': 'mean'\n",
    "}).reset_index()\n",
    "\n",
    "# Top directors by average revenue\n",
    "top_directors = director_stats.sort_values(by='revenue', ascending=False).head(10)\n",
    "print(\"\\nTop 10 Directors by Average Revenue:\")\n",
    "print(top_directors[['director', 'revenue']])\n",
    "\n",
    "# Plot the top 10 directors by average revenue\n",
    "plt.figure(figsize=(12, 8))\n",
    "sns.barplot(x='revenue', y='director', data=top_directors, color='lightseagreen')\n",
    "plt.title('Top 10 Directors by Average Revenue')\n",
    "plt.xlabel('Average Revenue')\n",
    "plt.ylabel('Director')\n",
    "plt.show()"
   ]
  },
  {
   "cell_type": "markdown",
   "metadata": {},
   "source": [
    "#### Sentiment Analysis"
   ]
  },
  {
   "cell_type": "code",
   "execution_count": null,
   "metadata": {},
   "outputs": [],
   "source": [
    "# Define a function to calculate sentiment polarity\n",
    "def get_sentiment(text):\n",
    "    return TextBlob(text).sentiment.polarity\n",
    "\n",
    "# Apply the sentiment function to the 'title' or 'clean_title'\n",
    "cleaned_df['sentiment'] = cleaned_df['title'].apply(get_sentiment)\n",
    "\n",
    "# Plot sentiment distribution\n",
    "plt.figure(figsize=(10, 6))\n",
    "sns.histplot(cleaned_df['sentiment'], bins=30, kde=True)\n",
    "plt.title('Sentiment Distribution')\n",
    "plt.xlabel('Sentiment Polarity')\n",
    "plt.ylabel('Frequency')\n",
    "plt.show()"
   ]
  },
  {
   "cell_type": "markdown",
   "metadata": {},
   "source": [
    "Votes vs Languages"
   ]
  },
  {
   "cell_type": "code",
   "execution_count": null,
   "metadata": {},
   "outputs": [],
   "source": [
    "# Aggregate votes by language for both TMDB and IMDb\n",
    "language_votes = cleaned_df.groupby('language')[['tmdb_votes', 'imdb_votes']].sum()\n",
    "\n",
    "# Calculate the number of films per language and convert to DataFrame\n",
    "language_counts = cleaned_df['language'].value_counts().to_frame(name='language_count')\n",
    "\n",
    "# Merge the language_counts with the vote data\n",
    "language_stats = language_votes.merge(language_counts, left_index=True, right_index=True)\n",
    "\n",
    "# Calculate correlation between the votes and the number of films per language\n",
    "correlation_tmdb = language_stats['tmdb_votes'].corr(language_stats['language_count'])\n",
    "correlation_imdb = language_stats['imdb_votes'].corr(language_stats['language_count'])\n",
    "\n",
    "# Print the correlations\n",
    "print(f'Correlation between TMDB votes and number of films per language: {correlation_tmdb:.2f}')\n",
    "print(f'Correlation between IMDb votes and number of films per language: {correlation_imdb:.2f}')\n"
   ]
  },
  {
   "cell_type": "code",
   "execution_count": null,
   "metadata": {},
   "outputs": [],
   "source": [
    "# Visualize the distribution of TMDB votes by language (top 15 for readability)\n",
    "top_languages_tmdb = language_stats['tmdb_votes'].sort_values(ascending=False).head(15)\n",
    "top_languages_tmdb.plot(kind='bar', figsize=(12, 8), color='cadetblue')\n",
    "plt.title('Total TMDB Votes by Language (Top 15)')\n",
    "plt.xlabel('Language')\n",
    "plt.ylabel('Total TMDB Votes')\n",
    "plt.xticks(rotation=45)\n",
    "plt.show()"
   ]
  },
  {
   "cell_type": "code",
   "execution_count": null,
   "metadata": {},
   "outputs": [],
   "source": [
    "\n",
    "\n",
    "# Visualize the distribution of IMDb votes by language (top 15 for readability)\n",
    "top_languages_imdb = language_stats['imdb_votes'].sort_values(ascending=False).head(15)\n",
    "top_languages_imdb.plot(kind='bar', figsize=(12, 8), color='salmon')\n",
    "plt.title('Total IMDb Votes by Language (Top 15)')\n",
    "plt.xlabel('Language')\n",
    "plt.ylabel('Total IMDb Votes')\n",
    "plt.xticks(rotation=45)\n",
    "plt.show()"
   ]
  },
  {
   "cell_type": "code",
   "execution_count": null,
   "metadata": {},
   "outputs": [],
   "source": [
    "# Scatter plot of TMDB votes vs. number of films per language\n",
    "plt.figure(figsize=(10, 6))\n",
    "sns.scatterplot(x=language_stats['language_count'], y=language_stats['tmdb_votes'])\n",
    "plt.title('TMDB Votes vs. Number of Films per Language')\n",
    "plt.xlabel('Number of Films per Language')\n",
    "plt.ylabel('Total TMDB Votes')\n",
    "plt.show()"
   ]
  },
  {
   "cell_type": "code",
   "execution_count": null,
   "metadata": {},
   "outputs": [],
   "source": [
    "# Scatter plot of IMDb votes vs. number of films per language\n",
    "plt.figure(figsize=(10, 6))\n",
    "sns.scatterplot(x=language_stats['language_count'], y=language_stats['imdb_votes'])\n",
    "plt.title('IMDb Votes vs. Number of Films per Language')\n",
    "plt.xlabel('Number of Films per Language')\n",
    "plt.ylabel('Total IMDb Votes')\n",
    "plt.show()"
   ]
  },
  {
   "cell_type": "markdown",
   "metadata": {},
   "source": [
    "Same without English"
   ]
  },
  {
   "cell_type": "code",
   "execution_count": null,
   "metadata": {},
   "outputs": [],
   "source": [
    "# Exclude English language\n",
    "df_non_english = cleaned_df[cleaned_df['language'] != 'English']\n",
    "\n",
    "# Aggregate votes by language for both TMDB and IMDb (excluding English)\n",
    "language_votes = df_non_english.groupby('language')[['tmdb_votes', 'imdb_votes']].sum()\n",
    "\n",
    "# Calculate the number of films per language (excluding English) and convert to DataFrame\n",
    "language_counts = df_non_english['language'].value_counts().to_frame(name='language_count')\n",
    "\n",
    "# Merge the language_counts with the vote data\n",
    "language_stats = language_votes.merge(language_counts, left_index=True, right_index=True)\n",
    "\n",
    "# Calculate correlation between the votes and the number of films per language\n",
    "correlation_tmdb = language_stats['tmdb_votes'].corr(language_stats['language_count'])\n",
    "correlation_imdb = language_stats['imdb_votes'].corr(language_stats['language_count'])\n",
    "\n",
    "# Print the correlations\n",
    "print(f'Correlation between TMDB votes and number of films per language (excluding English): {correlation_tmdb:.2f}')\n",
    "print(f'Correlation between IMDb votes and number of films per language (excluding English): {correlation_imdb:.2f}')\n",
    "\n",
    "# Visualize the distribution of TMDB votes by language (top 15 for readability)\n",
    "top_languages_tmdb = language_stats['tmdb_votes'].sort_values(ascending=False).head(15)\n",
    "top_languages_tmdb.plot(kind='bar', figsize=(12, 8), color='cadetblue')\n",
    "plt.title('Total TMDB Votes by Language (Top 15) - Excluding English')\n",
    "plt.xlabel('Language')\n",
    "plt.ylabel('Total TMDB Votes')\n",
    "plt.xticks(rotation=45)\n",
    "plt.show()\n",
    "\n",
    "# Visualize the distribution of IMDb votes by language (top 15 for readability)\n",
    "top_languages_imdb = language_stats['imdb_votes'].sort_values(ascending=False).head(15)\n",
    "top_languages_imdb.plot(kind='bar', figsize=(12, 8), color='salmon')\n",
    "plt.title('Total IMDb Votes by Language (Top 15) - Excluding English')\n",
    "plt.xticks(rotation=45)\n",
    "\n"
   ]
  },
  {
   "cell_type": "code",
   "execution_count": null,
   "metadata": {},
   "outputs": [],
   "source": []
  }
 ],
 "metadata": {
  "kernelspec": {
   "display_name": "movie_env",
   "language": "python",
   "name": "python3"
  },
  "language_info": {
   "codemirror_mode": {
    "name": "ipython",
    "version": 3
   },
   "file_extension": ".py",
   "mimetype": "text/x-python",
   "name": "python",
   "nbconvert_exporter": "python",
   "pygments_lexer": "ipython3",
   "version": "3.12.3"
  }
 },
 "nbformat": 4,
 "nbformat_minor": 2
}
