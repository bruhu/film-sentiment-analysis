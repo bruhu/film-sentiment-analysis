{
 "cells": [
  {
   "cell_type": "markdown",
   "metadata": {},
   "source": [
    "# Data Filtering and Selection"
   ]
  },
  {
   "cell_type": "code",
   "execution_count": null,
   "metadata": {},
   "outputs": [],
   "source": [
    "import pandas as pd\n",
    "import numpy as np\n",
    "from datetime import datetime\n",
    "import re\n",
    "import matplotlib.pyplot as plt\n",
    "import seaborn as sns\n",
    "from sklearn.ensemble import RandomForestClassifier\n",
    "from scipy.stats import zscore\n",
    "from textblob import TextBlob\n",
    "import seaborn as sns\n",
    "import matplotlib.pyplot as plt"
   ]
  },
  {
   "cell_type": "code",
   "execution_count": null,
   "metadata": {},
   "outputs": [],
   "source": [
    "import sys\n",
    "sys.path.append('../utils')\n",
    "import functions"
   ]
  },
  {
   "cell_type": "code",
   "execution_count": null,
   "metadata": {},
   "outputs": [],
   "source": [
    "movie_df = pd.read_csv('../data/local/clean/films_19to24.csv')\n",
    "movie_df.head()"
   ]
  },
  {
   "cell_type": "markdown",
   "metadata": {},
   "source": [
    "### Remove Rows with Irrelevant information\n",
    "- Rows with missing or incomplete data\n",
    "- Rows with outliers or extreme values\n",
    "- Rows with zero or negative revenue and budget\n",
    "- Rows with zero or extremely low ratings\n",
    "- Duplicates\n",
    "- Rows with low votes\n",
    "- "
   ]
  },
  {
   "cell_type": "code",
   "execution_count": null,
   "metadata": {},
   "outputs": [],
   "source": [
    "df_cleaned = movie_df.copy()"
   ]
  },
  {
   "cell_type": "code",
   "execution_count": null,
   "metadata": {},
   "outputs": [],
   "source": [
    "# # Step 1: Remove rows with critical missing values (imdb_rating, imdb_votes, imdb_id)\n",
    "# initial_row_count = len(df)\n",
    "# df_cleaned = df.dropna(subset=['imdb_rating', 'imdb_votes', 'imdb_id'])\n",
    "# rows_removed_step_1 = initial_row_count - len(df_cleaned)\n",
    "# print(f'Rows removed after dropping rows with missing critical values: {rows_removed_step_1}')"
   ]
  },
  {
   "cell_type": "code",
   "execution_count": null,
   "metadata": {},
   "outputs": [],
   "source": [
    "# # Step 2: Remove rows with extreme z-scores for budget, revenue, or popularity\n",
    "# initial_row_count = len(df_cleaned)\n",
    "# df_cleaned = df_cleaned[(df_cleaned['budget_zscore'].abs() < 3) & \n",
    "#                         (df_cleaned['revenue_zscore'].abs() < 3) &\n",
    "#                         (df_cleaned['popularity_zscore'].abs() < 3)]\n",
    "# rows_removed_step_2 = initial_row_count - len(df_cleaned)\n",
    "# print(f'Rows removed after filtering extreme z-scores: {rows_removed_step_2}')"
   ]
  },
  {
   "cell_type": "code",
   "execution_count": null,
   "metadata": {},
   "outputs": [],
   "source": [
    "# # Step 3: Remove rows with zero or negative revenue and budget\n",
    "# initial_row_count = len(df_cleaned)\n",
    "# df_cleaned = df_cleaned[(df_cleaned['revenue'] > 0) & (df_cleaned['budget'] > 0)]\n",
    "# rows_removed_step_3 = initial_row_count - len(df_cleaned)\n",
    "# print(f'Rows removed after filtering zero or negative revenue/budget: {rows_removed_step_3}')"
   ]
  },
  {
   "cell_type": "code",
   "execution_count": null,
   "metadata": {},
   "outputs": [],
   "source": [
    "# remove rows with runtime under 40 minutes\n",
    "initial_row_count = len(df_cleaned)\n",
    "df_cleaned = df_cleaned[df_cleaned['runtime'] > 40]\n",
    "rows_removed_step_4 = initial_row_count - len(df_cleaned)\n",
    "print(f'Rows removed after filtering runtime under 40 minutes: {rows_removed_step_4}')"
   ]
  },
  {
   "cell_type": "code",
   "execution_count": null,
   "metadata": {},
   "outputs": [],
   "source": [
    "# remove rows with low ratings (below a threshold of 1)\n",
    "initial_row_count = len(df_cleaned)\n",
    "df_cleaned = df_cleaned[df_cleaned['tmdb_rating'] > 1]\n",
    "df_cleaned = df_cleaned[df_cleaned['imdb_rating'] > 1]\n",
    "rows_removed_step_5 = initial_row_count - len(df_cleaned)\n",
    "print(f'Rows removed after filtering low ratings: {rows_removed_step_5}')"
   ]
  },
  {
   "cell_type": "code",
   "execution_count": null,
   "metadata": {},
   "outputs": [],
   "source": [
    "# remove duplicates\n",
    "initial_row_count = len(df_cleaned)\n",
    "df_cleaned = df_cleaned.drop_duplicates(subset=['tmdb_id', 'imdb_id', 'title'])\n",
    "rows_removed_step_6 = initial_row_count - len(df_cleaned)\n",
    "print(f'Rows removed after dropping duplicates: {rows_removed_step_6}')"
   ]
  },
  {
   "cell_type": "code",
   "execution_count": null,
   "metadata": {},
   "outputs": [],
   "source": [
    "# remove rows with very few votes (below a threshold of 10)\n",
    "initial_row_count = len(df_cleaned)\n",
    "df_cleaned = df_cleaned[(df_cleaned['tmdb_votes'] >= 10) & (df_cleaned['imdb_votes'] >= 10)]\n",
    "rows_removed_step_7 = initial_row_count - len(df_cleaned)\n",
    "print(f'Rows removed after filtering low vote count: {rows_removed_step_7}')"
   ]
  },
  {
   "cell_type": "code",
   "execution_count": null,
   "metadata": {},
   "outputs": [],
   "source": [
    "# cleaned dataset\n",
    "final_row_count = len(df_cleaned)\n",
    "print(f'Final number of rows in the cleaned dataset: {final_row_count}')"
   ]
  },
  {
   "cell_type": "code",
   "execution_count": null,
   "metadata": {},
   "outputs": [],
   "source": [
    "df_cleaned.head()"
   ]
  },
  {
   "cell_type": "markdown",
   "metadata": {},
   "source": [
    "### Data Overview"
   ]
  },
  {
   "cell_type": "markdown",
   "metadata": {},
   "source": [
    "#### Descriptive Stats"
   ]
  },
  {
   "cell_type": "code",
   "execution_count": null,
   "metadata": {},
   "outputs": [],
   "source": [
    "# Basic statistics for numerical columns\n",
    "print(\"Descriptive Statistics:\")\n",
    "print(df_cleaned.describe())\n",
    "\n",
    "# Get information on data types and non-null counts\n",
    "print(\"\\nData Types and Non-null Counts:\")\n",
    "print(df_cleaned.info())\n",
    "\n",
    "# Check for unique values in categorical columns\n",
    "print(\"\\nUnique Values in Categorical Columns:\")\n",
    "print(df_cleaned[['genres', 'director', 'language', 'release_year']].nunique())\n"
   ]
  },
  {
   "cell_type": "markdown",
   "metadata": {},
   "source": [
    "#### Check missing values"
   ]
  },
  {
   "cell_type": "code",
   "execution_count": null,
   "metadata": {},
   "outputs": [],
   "source": [
    "# Check for missing values\n",
    "print(\"\\nMissing Values in Columns:\")\n",
    "print(df_cleaned.isnull().sum())\n"
   ]
  },
  {
   "cell_type": "markdown",
   "metadata": {},
   "source": [
    "#### Correlation Matrix"
   ]
  },
  {
   "cell_type": "code",
   "execution_count": null,
   "metadata": {},
   "outputs": [],
   "source": [
    "# Plot correlation matrix\n",
    "corr = df_cleaned.corr()\n",
    "\n",
    "# Heatmap of correlations\n",
    "plt.figure(figsize=(12, 8))\n",
    "sns.heatmap(corr, annot=True, cmap='coolwarm', vmin=-1, vmax=1)\n",
    "plt.title('Correlation Matrix')\n",
    "plt.show()"
   ]
  },
  {
   "cell_type": "markdown",
   "metadata": {},
   "source": [
    "#### Visualize Distributions"
   ]
  },
  {
   "cell_type": "code",
   "execution_count": null,
   "metadata": {},
   "outputs": [],
   "source": [
    "# Histograms for numerical columns\n",
    "df_cleaned[['budget', 'revenue', 'popularity', 'runtime', 'tmdb_rating', 'imdb_rating']].hist(figsize=(12, 10), bins=30)\n",
    "plt.tight_layout()\n",
    "plt.show()\n",
    "\n",
    "# Boxplots for better understanding of the distributions\n",
    "plt.figure(figsize=(12, 8))\n",
    "sns.boxplot(data=df_cleaned[['budget', 'revenue', 'popularity', 'runtime', 'tmdb_rating', 'imdb_rating']])\n",
    "plt.title('Boxplot of Numerical Columns')\n",
    "plt.show()"
   ]
  },
  {
   "cell_type": "markdown",
   "metadata": {},
   "source": [
    "#### Trends Over Time"
   ]
  },
  {
   "cell_type": "code",
   "execution_count": null,
   "metadata": {},
   "outputs": [],
   "source": [
    "# Group data by release year and calculate mean values\n",
    "yearly_trends = df_cleaned.groupby('release_year').agg({\n",
    "    'budget': 'mean',\n",
    "    'revenue': 'mean',\n",
    "    'popularity': 'mean',\n",
    "    'tmdb_rating': 'mean',\n",
    "    'imdb_rating': 'mean',\n",
    "    'runtime': 'mean'\n",
    "}).reset_index()\n",
    "\n",
    "# Plot trends over time\n",
    "plt.figure(figsize=(12, 8))\n",
    "plt.plot(yearly_trends['release_year'], yearly_trends['budget'], label='Average Budget', marker='o')\n",
    "plt.plot(yearly_trends['release_year'], yearly_trends['revenue'], label='Average Revenue', marker='o')\n",
    "plt.plot(yearly_trends['release_year'], yearly_trends['popularity'], label='Average Popularity', marker='o')\n",
    "plt.plot(yearly_trends['release_year'], yearly_trends['tmdb_rating'], label='Average TMDB Rating', marker='o')\n",
    "plt.plot(yearly_trends['release_year'], yearly_trends['imdb_rating'], label='Average IMDb Rating', marker='o')\n",
    "plt.xlabel('Year')\n",
    "plt.ylabel('Value')\n",
    "plt.title('Trends Over Time (by Year)')\n",
    "plt.legend()\n",
    "plt.show()\n"
   ]
  },
  {
   "cell_type": "markdown",
   "metadata": {},
   "source": [
    "#### Popularity and Revenue Relationship"
   ]
  },
  {
   "cell_type": "code",
   "execution_count": null,
   "metadata": {},
   "outputs": [],
   "source": [
    "# Scatter plot for popularity vs revenue\n",
    "plt.figure(figsize=(10, 6))\n",
    "sns.scatterplot(data=df_cleaned, x='popularity', y='revenue', hue='release_year', palette='viridis')\n",
    "plt.title('Popularity vs Revenue')\n",
    "plt.xlabel('Popularity')\n",
    "plt.ylabel('Revenue')\n",
    "plt.show()\n",
    "\n",
    "# Scatter plot for popularity vs budget\n",
    "plt.figure(figsize=(10, 6))\n",
    "sns.scatterplot(data=df_cleaned, x='popularity', y='budget', hue='release_year', palette='viridis')\n",
    "plt.title('Popularity vs Budget')\n",
    "plt.xlabel('Popularity')\n",
    "plt.ylabel('Budget')\n",
    "plt.show()\n"
   ]
  },
  {
   "cell_type": "markdown",
   "metadata": {},
   "source": [
    "#### Rating Distribution by Genre"
   ]
  },
  {
   "cell_type": "code",
   "execution_count": null,
   "metadata": {},
   "outputs": [],
   "source": [
    "# Take a 10% sample of the DataFrame for easier visualization\n",
    "df_sample = df_cleaned.sample(frac=0.1, random_state=42)\n",
    "\n",
    "# Split genres into separate rows for analysis\n",
    "df_genre = df_sample[['genres', 'tmdb_rating', 'imdb_rating']].explode('genres')\n",
    "\n",
    "# Plot TMDB Rating Distribution by Genre\n",
    "plt.figure(figsize=(12, 8))\n",
    "sns.boxplot(x='genres', y='tmdb_rating', data=df_genre)\n",
    "plt.title('TMDB Rating Distribution by Genre (Sampled Data)')\n",
    "plt.xticks(rotation=90)\n",
    "plt.show()\n",
    "\n",
    "# Plot IMDb Rating Distribution by Genre\n",
    "plt.figure(figsize=(12, 8))\n",
    "sns.boxplot(x='genres', y='imdb_rating', data=df_genre)\n",
    "plt.title('IMDb Rating Distribution by Genre (Sampled Data)')\n",
    "plt.xticks(rotation=90)\n",
    "plt.show()"
   ]
  },
  {
   "cell_type": "markdown",
   "metadata": {},
   "source": [
    "#### Analyze Directors"
   ]
  },
  {
   "cell_type": "code",
   "execution_count": null,
   "metadata": {},
   "outputs": [],
   "source": [
    "# Group data by director and calculate the mean for key variables\n",
    "director_stats = df_cleaned.groupby('director').agg({\n",
    "    'budget': 'mean',\n",
    "    'revenue': 'mean',\n",
    "    'popularity': 'mean',\n",
    "    'tmdb_rating': 'mean',\n",
    "    'imdb_rating': 'mean',\n",
    "    'runtime': 'mean'\n",
    "}).reset_index()\n",
    "\n",
    "# Top directors by average revenue\n",
    "top_directors = director_stats.sort_values(by='revenue', ascending=False).head(10)\n",
    "print(\"\\nTop 10 Directors by Average Revenue:\")\n",
    "print(top_directors[['director', 'revenue']])\n",
    "\n",
    "# Plot the top 10 directors by average revenue\n",
    "plt.figure(figsize=(12, 8))\n",
    "sns.barplot(x='revenue', y='director', data=top_directors)\n",
    "plt.title('Top 10 Directors by Average Revenue')\n",
    "plt.xlabel('Average Revenue')\n",
    "plt.ylabel('Director')\n",
    "plt.show()"
   ]
  },
  {
   "cell_type": "markdown",
   "metadata": {},
   "source": [
    "#### Sentiment Analysis"
   ]
  },
  {
   "cell_type": "code",
   "execution_count": null,
   "metadata": {},
   "outputs": [],
   "source": [
    "# Define a function to calculate sentiment polarity\n",
    "def get_sentiment(text):\n",
    "    return TextBlob(text).sentiment.polarity\n",
    "\n",
    "# Apply the sentiment function to the 'title' or 'clean_title'\n",
    "df_cleaned['sentiment'] = df_cleaned['title'].apply(get_sentiment)\n",
    "\n",
    "# Plot sentiment distribution\n",
    "plt.figure(figsize=(10, 6))\n",
    "sns.histplot(df_cleaned['sentiment'], bins=30, kde=True)\n",
    "plt.title('Sentiment Distribution')\n",
    "plt.xlabel('Sentiment Polarity')\n",
    "plt.ylabel('Frequency')\n",
    "plt.show()"
   ]
  },
  {
   "cell_type": "markdown",
   "metadata": {},
   "source": [
    "Votes vs Languages"
   ]
  },
  {
   "cell_type": "code",
   "execution_count": null,
   "metadata": {},
   "outputs": [],
   "source": [
    "# Aggregate votes by language for both TMDB and IMDb\n",
    "language_votes = df_cleaned.groupby('language')[['tmdb_votes', 'imdb_votes']].sum()\n",
    "\n",
    "# Calculate the number of films per language and convert to DataFrame\n",
    "language_counts = df_cleaned['language'].value_counts().to_frame(name='language_count')\n",
    "\n",
    "# Merge the language_counts with the vote data\n",
    "language_stats = language_votes.merge(language_counts, left_index=True, right_index=True)\n",
    "\n",
    "# Calculate correlation between the votes and the number of films per language\n",
    "correlation_tmdb = language_stats['tmdb_votes'].corr(language_stats['language_count'])\n",
    "correlation_imdb = language_stats['imdb_votes'].corr(language_stats['language_count'])\n",
    "\n",
    "# Print the correlations\n",
    "print(f'Correlation between TMDB votes and number of films per language: {correlation_tmdb:.2f}')\n",
    "print(f'Correlation between IMDb votes and number of films per language: {correlation_imdb:.2f}')\n"
   ]
  },
  {
   "cell_type": "code",
   "execution_count": null,
   "metadata": {},
   "outputs": [],
   "source": [
    "# Visualize the distribution of TMDB votes by language (top 15 for readability)\n",
    "top_languages_tmdb = language_stats['tmdb_votes'].sort_values(ascending=False).head(15)\n",
    "top_languages_tmdb.plot(kind='bar', figsize=(12, 8), color='lightblue')\n",
    "plt.title('Total TMDB Votes by Language (Top 15)')\n",
    "plt.xlabel('Language')\n",
    "plt.ylabel('Total TMDB Votes')\n",
    "plt.xticks(rotation=90)\n",
    "plt.show()"
   ]
  },
  {
   "cell_type": "code",
   "execution_count": null,
   "metadata": {},
   "outputs": [],
   "source": [
    "\n",
    "\n",
    "# Visualize the distribution of IMDb votes by language (top 15 for readability)\n",
    "top_languages_imdb = language_stats['imdb_votes'].sort_values(ascending=False).head(15)\n",
    "top_languages_imdb.plot(kind='bar', figsize=(12, 8), color='salmon')\n",
    "plt.title('Total IMDb Votes by Language (Top 15)')\n",
    "plt.xlabel('Language')\n",
    "plt.ylabel('Total IMDb Votes')\n",
    "plt.xticks(rotation=90)\n",
    "plt.show()"
   ]
  },
  {
   "cell_type": "code",
   "execution_count": null,
   "metadata": {},
   "outputs": [],
   "source": [
    "# Scatter plot of TMDB votes vs. number of films per language\n",
    "plt.figure(figsize=(10, 6))\n",
    "sns.scatterplot(x=language_stats['language_count'], y=language_stats['tmdb_votes'])\n",
    "plt.title('TMDB Votes vs. Number of Films per Language')\n",
    "plt.xlabel('Number of Films per Language')\n",
    "plt.ylabel('Total TMDB Votes')\n",
    "plt.show()"
   ]
  },
  {
   "cell_type": "code",
   "execution_count": null,
   "metadata": {},
   "outputs": [],
   "source": [
    "# Scatter plot of IMDb votes vs. number of films per language\n",
    "plt.figure(figsize=(10, 6))\n",
    "sns.scatterplot(x=language_stats['language_count'], y=language_stats['imdb_votes'])\n",
    "plt.title('IMDb Votes vs. Number of Films per Language')\n",
    "plt.xlabel('Number of Films per Language')\n",
    "plt.ylabel('Total IMDb Votes')\n",
    "plt.show()"
   ]
  },
  {
   "cell_type": "markdown",
   "metadata": {},
   "source": [
    "Same without English"
   ]
  },
  {
   "cell_type": "code",
   "execution_count": null,
   "metadata": {},
   "outputs": [],
   "source": [
    "# Exclude English language\n",
    "df_non_english = df_cleaned[df_cleaned['language'] != 'English']\n",
    "\n",
    "# Aggregate votes by language for both TMDB and IMDb (excluding English)\n",
    "language_votes = df_non_english.groupby('language')[['tmdb_votes', 'imdb_votes']].sum()\n",
    "\n",
    "# Calculate the number of films per language (excluding English) and convert to DataFrame\n",
    "language_counts = df_non_english['language'].value_counts().to_frame(name='language_count')\n",
    "\n",
    "# Merge the language_counts with the vote data\n",
    "language_stats = language_votes.merge(language_counts, left_index=True, right_index=True)\n",
    "\n",
    "# Calculate correlation between the votes and the number of films per language\n",
    "correlation_tmdb = language_stats['tmdb_votes'].corr(language_stats['language_count'])\n",
    "correlation_imdb = language_stats['imdb_votes'].corr(language_stats['language_count'])\n",
    "\n",
    "# Print the correlations\n",
    "print(f'Correlation between TMDB votes and number of films per language (excluding English): {correlation_tmdb:.2f}')\n",
    "print(f'Correlation between IMDb votes and number of films per language (excluding English): {correlation_imdb:.2f}')\n",
    "\n",
    "# Visualize the distribution of TMDB votes by language (top 15 for readability)\n",
    "top_languages_tmdb = language_stats['tmdb_votes'].sort_values(ascending=False).head(15)\n",
    "top_languages_tmdb.plot(kind='bar', figsize=(12, 8), color='lightblue')\n",
    "plt.title('Total TMDB Votes by Language (Top 15) - Excluding English')\n",
    "plt.xlabel('Language')\n",
    "plt.ylabel('Total TMDB Votes')\n",
    "plt.xticks(rotation=90)\n",
    "plt.show()\n",
    "\n",
    "# Visualize the distribution of IMDb votes by language (top 15 for readability)\n",
    "top_languages_imdb = language_stats['imdb_votes'].sort_values(ascending=False).head(15)\n",
    "top_languages_imdb.plot(kind='bar', figsize=(12, 8), color='salmon')\n",
    "plt.title('Total IMDb Votes by Language (Top 15) - Excluding English')\n"
   ]
  }
 ],
 "metadata": {
  "kernelspec": {
   "display_name": "movie_env",
   "language": "python",
   "name": "python3"
  },
  "language_info": {
   "codemirror_mode": {
    "name": "ipython",
    "version": 3
   },
   "file_extension": ".py",
   "mimetype": "text/x-python",
   "name": "python",
   "nbconvert_exporter": "python",
   "pygments_lexer": "ipython3",
   "version": "3.12.3"
  }
 },
 "nbformat": 4,
 "nbformat_minor": 2
}
