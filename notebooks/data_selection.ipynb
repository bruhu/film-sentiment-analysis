{
 "cells": [
  {
   "cell_type": "markdown",
   "metadata": {},
   "source": [
    "# Data Filtering and Selection\n",
    "- Read existing dfs\n",
    "- Perform basic inspection, show missing information\n",
    "- Generate sample datasets for further analysis"
   ]
  },
  {
   "cell_type": "code",
   "execution_count": 1,
   "metadata": {},
   "outputs": [],
   "source": [
    "import pandas as pd\n",
    "import seaborn as sns\n",
    "import matplotlib.pyplot as plt"
   ]
  },
  {
   "cell_type": "code",
   "execution_count": 2,
   "metadata": {},
   "outputs": [],
   "source": [
    "import sys\n",
    "sys.path.append('../utils')\n",
    "import functions"
   ]
  },
  {
   "cell_type": "code",
   "execution_count": 31,
   "metadata": {},
   "outputs": [],
   "source": [
    "# movie_df = pd.read_csv('../data/local/clean/films_19to24.csv')\n",
    "# movie_df.head()"
   ]
  },
  {
   "cell_type": "code",
   "execution_count": null,
   "metadata": {},
   "outputs": [],
   "source": [
    "movie_df = pd.read_csv('../data/local/clean/films_before19.csv')\n",
    "display(movie_df)"
   ]
  },
  {
   "cell_type": "markdown",
   "metadata": {},
   "source": [
    "### Remove Rows with Irrelevant information\n",
    "- Rows with missing or incomplete data\n",
    "- Rows with outliers or extreme values\n",
    "- Rows with zero or negative revenue and budget\n",
    "- Rows with zero or extremely low ratings\n",
    "- Duplicates\n",
    "- Rows with low votes\n",
    "- "
   ]
  },
  {
   "cell_type": "code",
   "execution_count": 33,
   "metadata": {},
   "outputs": [],
   "source": [
    "cleaned_df = movie_df.copy()"
   ]
  },
  {
   "cell_type": "code",
   "execution_count": null,
   "metadata": {},
   "outputs": [],
   "source": [
    "# remove rows with runtime under 40 minutes\n",
    "initial_row_count = len(cleaned_df)\n",
    "cleaned_df = cleaned_df[cleaned_df['runtime'] > 40]\n",
    "rows_removed_step_4 = initial_row_count - len(cleaned_df)\n",
    "print(f'Rows removed after filtering runtime under 40 minutes: {rows_removed_step_4}')"
   ]
  },
  {
   "cell_type": "code",
   "execution_count": null,
   "metadata": {},
   "outputs": [],
   "source": [
    "# remove rows with low ratings (below a threshold of 1)\n",
    "initial_row_count = len(cleaned_df)\n",
    "cleaned_df = cleaned_df[cleaned_df['tmdb_rating'] > 1]\n",
    "cleaned_df = cleaned_df[cleaned_df['imdb_rating'] > 1]\n",
    "rows_removed_step_5 = initial_row_count - len(cleaned_df)\n",
    "print(f'Rows removed after filtering low ratings: {rows_removed_step_5}')"
   ]
  },
  {
   "cell_type": "code",
   "execution_count": null,
   "metadata": {},
   "outputs": [],
   "source": [
    "# remove duplicates\n",
    "initial_row_count = len(cleaned_df)\n",
    "cleaned_df = cleaned_df.drop_duplicates(subset=['tmdb_id', 'imdb_id', 'title'])\n",
    "rows_removed_step_6 = initial_row_count - len(cleaned_df)\n",
    "print(f'Rows removed after dropping duplicates: {rows_removed_step_6}')"
   ]
  },
  {
   "cell_type": "code",
   "execution_count": null,
   "metadata": {},
   "outputs": [],
   "source": [
    "# remove rows with very few votes (below a threshold of 10)\n",
    "initial_row_count = len(cleaned_df)\n",
    "cleaned_df = cleaned_df[(cleaned_df['tmdb_votes'] >= 10) & (cleaned_df['imdb_votes'] >= 10)]\n",
    "rows_removed_step_7 = initial_row_count - len(cleaned_df)\n",
    "print(f'Rows removed after filtering low vote count: {rows_removed_step_7}')"
   ]
  },
  {
   "cell_type": "code",
   "execution_count": null,
   "metadata": {},
   "outputs": [],
   "source": [
    "# cleaned dataset\n",
    "final_row_count = len(cleaned_df)\n",
    "print(f'Final number of rows in the cleaned dataset: {final_row_count}')"
   ]
  },
  {
   "cell_type": "code",
   "execution_count": 42,
   "metadata": {},
   "outputs": [],
   "source": [
    "# round 'imdb_votes' column to integers\n",
    "cleaned_df['imdb_votes'] = cleaned_df['imdb_votes'].round(0).astype(int)"
   ]
  },
  {
   "cell_type": "code",
   "execution_count": null,
   "metadata": {},
   "outputs": [],
   "source": [
    "display(cleaned_df)"
   ]
  },
  {
   "cell_type": "markdown",
   "metadata": {},
   "source": [
    "#### Create sample df\n",
    "- Filter out columns where 'revenue', 'tmdb_votes', 'imdb_votes' and 'budget' are not 0"
   ]
  },
  {
   "cell_type": "code",
   "execution_count": null,
   "metadata": {},
   "outputs": [],
   "source": [
    "movie_sample_df = cleaned_df[(cleaned_df['revenue'] != 0) &\n",
    "                         (cleaned_df['tmdb_votes'] != 0) &\n",
    "                         (cleaned_df['imdb_votes'] != 0) &\n",
    "                         (cleaned_df['budget'] != 0)]\n",
    "\n",
    "display(movie_sample_df)"
   ]
  },
  {
   "cell_type": "markdown",
   "metadata": {},
   "source": [
    "Create .csv"
   ]
  },
  {
   "cell_type": "code",
   "execution_count": 45,
   "metadata": {},
   "outputs": [],
   "source": [
    "# movie_sample_df.to_csv('../data/local/clean/movie_sample.csv', index=False)"
   ]
  },
  {
   "cell_type": "markdown",
   "metadata": {},
   "source": [
    "### Data Overview"
   ]
  },
  {
   "cell_type": "markdown",
   "metadata": {},
   "source": [
    "#### Descriptive Stats"
   ]
  },
  {
   "cell_type": "code",
   "execution_count": null,
   "metadata": {},
   "outputs": [],
   "source": [
    "print('Descriptive Statistics (numerical columns):')\n",
    "print(cleaned_df.describe())\n",
    "\n",
    "print('\\nData Types and Non-null Counts:')\n",
    "print(cleaned_df.info())\n",
    "\n",
    "print('\\nUnique Values in (categorical columns):')\n",
    "print(cleaned_df[['genres', 'director', 'language', 'release_year']].nunique())"
   ]
  },
  {
   "cell_type": "markdown",
   "metadata": {},
   "source": [
    "#### Check missing values"
   ]
  },
  {
   "cell_type": "code",
   "execution_count": null,
   "metadata": {},
   "outputs": [],
   "source": [
    "print('\\nMissing Values in Columns:')\n",
    "print(cleaned_df.isnull().sum())"
   ]
  }
 ],
 "metadata": {
  "kernelspec": {
   "display_name": "movie_env",
   "language": "python",
   "name": "python3"
  },
  "language_info": {
   "codemirror_mode": {
    "name": "ipython",
    "version": 3
   },
   "file_extension": ".py",
   "mimetype": "text/x-python",
   "name": "python",
   "nbconvert_exporter": "python",
   "pygments_lexer": "ipython3",
   "version": "3.12.3"
  }
 },
 "nbformat": 4,
 "nbformat_minor": 2
}
