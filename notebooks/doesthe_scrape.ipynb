{
 "cells": [
  {
   "cell_type": "markdown",
   "metadata": {},
   "source": [
    "Scrape missing data from doesthedogdie.com"
   ]
  },
  {
   "cell_type": "code",
   "execution_count": null,
   "metadata": {},
   "outputs": [],
   "source": [
    "import json\n",
    "import os\n",
    "import requests\n",
    "import pandas as pd\n",
    "from dotenv import load_dotenv"
   ]
  },
  {
   "cell_type": "code",
   "execution_count": null,
   "metadata": {},
   "outputs": [],
   "source": [
    "import sys\n",
    "sys.path.append('../utils')\n",
    "import functions"
   ]
  },
  {
   "cell_type": "code",
   "execution_count": null,
   "metadata": {},
   "outputs": [],
   "source": [
    "sample_df = pd.read_csv('../data/local/clean/movie_sample.csv')\n",
    "# display(sample_df)"
   ]
  },
  {
   "cell_type": "code",
   "execution_count": null,
   "metadata": {},
   "outputs": [],
   "source": [
    "sample_df.head(5)"
   ]
  },
  {
   "cell_type": "code",
   "execution_count": null,
   "metadata": {},
   "outputs": [],
   "source": [
    "# Load the API key from the .env file\n",
    "load_dotenv()\n",
    "API_KEY_DOESTHEDOGDIE = os.getenv(\"API_KEY_DOESTHEDOGDIE\")\n",
    "\n",
    "# Sample data for demonstration purposes. Replace this with your actual DataFrame.\n",
    "# sample_df = pd.read_csv(\"path_to_your_csv.csv\")  # Example of how you might load your DataFrame\n",
    "\n",
    "# Define the URL for the API request\n",
    "BASE_URL = \"https://www.doesthedogdie.com/dddsearch?q=\"\n",
    "\n",
    "# Initialize a list to store the responses\n",
    "responses = []\n",
    "\n",
    "# Loop through the first 5 rows of 'clean_title' in the sample_df\n",
    "for clean_name in sample_df['clean_title'][:5]:  # First 5 rows\n",
    "    url = f\"{BASE_URL}{clean_name}\"\n",
    "    headers = {\n",
    "        \"Accept\": \"application/json\",\n",
    "        \"X-API-KEY\": API_KEY_DOESTHEDOGDIE,\n",
    "    }\n",
    "    \n",
    "    # Make the GET request to the API\n",
    "    response = requests.get(url, headers=headers)\n",
    "    \n",
    "    if response.status_code == 200:\n",
    "        responses.append(response.json())\n",
    "    else:\n",
    "        print(f\"Error with request for {clean_name}: {response.status_code}\")\n",
    "\n",
    "# Function to extract topics of interest from the 'stats' field\n",
    "def extract_topics(stats_str):\n",
    "    # Convert the string into a Python dictionary\n",
    "    try:\n",
    "        stats = json.loads(stats_str)  # stats is a string, so we parse it into a dictionary\n",
    "    except json.JSONDecodeError:\n",
    "        print(\"Error decoding stats:\", stats_str)\n",
    "        return \"\"\n",
    "    \n",
    "    # Check if 'topics' key exists\n",
    "    if 'topics' not in stats:\n",
    "        print(\"No 'topics' field in response:\", stats)  # Print full response to investigate\n",
    "        return \"\"\n",
    "    \n",
    "    # Extract topics where 'definitelyYes' > 'definitelyNo', and both are greater than 1\n",
    "    topics_of_interest = []\n",
    "    \n",
    "    for topic_id, data in stats['topics'].items():\n",
    "        definitely_yes = int(data['definitelyYes'])  # Ensure definitelyYes is an integer\n",
    "        definitely_no = int(data['definitelyNo'])  # Ensure definitelyNo is an integer\n",
    "        \n",
    "        # Apply condition: definitelyYes > definitelyNo and both values should be greater than 1\n",
    "        if definitely_yes > definitely_no:\n",
    "            topics_of_interest.append(str(topic_id))  # Store topic ID as a string\n",
    "    \n",
    "    return \",\".join(topics_of_interest)  # Join the topics into a comma-separated string\n",
    "\n",
    "# Add the 'topics' and 'doesthedog_id' columns to the DataFrame\n",
    "sample_df['topics'] = None\n",
    "sample_df['doesthedog_id'] = None\n",
    "\n",
    "# Loop through the responses and assign topics to the 'topics' column\n",
    "for index, response in enumerate(responses):\n",
    "    items = response.get('items', [])\n",
    "    if items:\n",
    "        stats_str = items[0].get('stats', '{}')  # Get the 'stats' field for the first item\n",
    "        topics = extract_topics(stats_str)\n",
    "        \n",
    "        # Get the 'id' from the response (this is the 'id' field in each 'item')\n",
    "        doesthedog_id = items[0].get('id', None)\n",
    "        \n",
    "        # Assign the topics and id to the correct row in the DataFrame\n",
    "        sample_df.loc[index, 'topics'] = topics\n",
    "        sample_df.loc[index, 'doesthedog_id'] = doesthedog_id\n",
    "\n",
    "# Display the DataFrame with the 'topics' and 'doesthedog_id' columns added (using 'clean_title' column)\n",
    "print(sample_df[['clean_title', 'topics', 'doesthedog_id']])\n"
   ]
  },
  {
   "cell_type": "code",
   "execution_count": null,
   "metadata": {},
   "outputs": [],
   "source": [
    "sample_df.head()"
   ]
  },
  {
   "cell_type": "code",
   "execution_count": null,
   "metadata": {},
   "outputs": [],
   "source": [
    "# Assuming sample_df is your DataFrame and 'topics' is the column of interest\n",
    "\n",
    "# Create a new column 'topics_length' to store the length of comma-separated values in 'topics'\n",
    "sample_df['topics_length'] = sample_df['topics'].apply(lambda x: len(x.split(',')) if isinstance(x, str) else 0)\n",
    "\n",
    "# Display the DataFrame with the new 'topics_length' column\n",
    "print(sample_df[['topics', 'topics_length']])\n"
   ]
  },
  {
   "cell_type": "code",
   "execution_count": null,
   "metadata": {},
   "outputs": [],
   "source": []
  }
 ],
 "metadata": {
  "kernelspec": {
   "display_name": "movie_env",
   "language": "python",
   "name": "python3"
  },
  "language_info": {
   "codemirror_mode": {
    "name": "ipython",
    "version": 3
   },
   "file_extension": ".py",
   "mimetype": "text/x-python",
   "name": "python",
   "nbconvert_exporter": "python",
   "pygments_lexer": "ipython3",
   "version": "3.12.3"
  }
 },
 "nbformat": 4,
 "nbformat_minor": 2
}
