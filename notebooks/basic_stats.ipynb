{
 "cells": [
  {
   "cell_type": "markdown",
   "metadata": {},
   "source": [
    "# Basic Statistics from movies"
   ]
  },
  {
   "cell_type": "markdown",
   "metadata": {},
   "source": [
    "**Metadata**\n",
    "\n",
    "| **#** | **Column**               | **Description**                                                                                    |\n",
    "|-------|--------------------------|----------------------------------------------------------------------------------------------------|\n",
    "| 1     | **title**                | The official title of the movie.                                                                   |\n",
    "| 2     | **release_year**         | The year when the movie was officially released.                                                   |\n",
    "| 3     | **genres**               | Categories of genres the movie belongs to (can have multiple values, separated by commas).         |\n",
    "| 4     | **director**             | Director(s) of the movie.                                                                          |\n",
    "| 5     | **runtime**              | Duration of the movie in minutes.                                                                  |\n",
    "| 6     | **language**             | The language in which the movie was originally produced.                                           |\n",
    "| 7     | **original_title**       | The title of the movie in its original language.                                                   |\n",
    "| 8     | **popularity**           | TMDB's score based on votes, views, searches, social engagement, and others.                       |\n",
    "| 9     | **events**               | Describes events or triggers within the movie (e.g., violence, strong language).                   |\n",
    "| 10    | **imdb_rating**          | Average rating of the movie on IMDb, on a scale from 0 to 10.                                      |\n",
    "| 11    | **imdb_votes**           | Number of votes that contributed to the IMDb rating.                                               |\n",
    "| 12    | **tmdb_rating**          | Rating of the movie on TMDB, on a scale from 0 to 10.                                              |\n",
    "| 13    | **tmdb_votes**           | Number of votes that contributed to the TMDB rating.                                               |\n",
    "| 14    | **budget**               | Financial budget allocated for the movie production.                                               |\n",
    "| 15    | **revenue**              | Box office earnings of the movie.                                                                  |\n",
    "| 16    | **profit**               | Profit of the movie, calculated as `revenue - budget`.                                             |\n"
   ]
  },
  {
   "cell_type": "code",
   "execution_count": 22,
   "metadata": {},
   "outputs": [],
   "source": [
    "import pandas as pd\n",
    "import matplotlib.pyplot as plt\n",
    "import seaborn as sns\n",
    "import numpy as np\n",
    "from wordcloud import WordCloud\n",
    "import matplotlib.pyplot as plt\n",
    "\n",
    "from statsmodels.stats.outliers_influence import variance_inflation_factor\n",
    "from statsmodels.tools.tools import add_constant"
   ]
  },
  {
   "cell_type": "code",
   "execution_count": 23,
   "metadata": {},
   "outputs": [],
   "source": [
    "import sys\n",
    "sys.path.append('../utils')\n",
    "import functions"
   ]
  },
  {
   "cell_type": "code",
   "execution_count": null,
   "metadata": {},
   "outputs": [],
   "source": [
    "movies = pd.read_csv('../data/clean/movie_df.csv')\n",
    "display(movies)"
   ]
  },
  {
   "cell_type": "code",
   "execution_count": null,
   "metadata": {},
   "outputs": [],
   "source": [
    "print('Basic statistics for numerical columns\\n')\n",
    "movies.describe()"
   ]
  },
  {
   "cell_type": "markdown",
   "metadata": {},
   "source": [
    "### Univariate Analysis\n",
    "- Visualize the Distribution of Numerical Columns\n",
    "- Check for outliers "
   ]
  },
  {
   "cell_type": "code",
   "execution_count": null,
   "metadata": {},
   "outputs": [],
   "source": [
    "movies[['runtime', 'popularity', 'budget', 'revenue', 'profit']].hist(bins=20, figsize=(10, 8), color='gold')\n",
    "plt.tight_layout()\n",
    "plt.show()"
   ]
  },
  {
   "cell_type": "code",
   "execution_count": null,
   "metadata": {},
   "outputs": [],
   "source": [
    "# detect outliers\n",
    "plt.figure(figsize=(10, 6))\n",
    "sns.boxplot(data=movies[['budget', 'revenue', 'profit']])\n",
    "plt.show()"
   ]
  },
  {
   "cell_type": "markdown",
   "metadata": {},
   "source": [
    "### Bivariate Analysis\n",
    "Correlation Between Numerical Variables"
   ]
  },
  {
   "cell_type": "code",
   "execution_count": null,
   "metadata": {},
   "outputs": [],
   "source": [
    "# correlation matrix\n",
    "correlation_matrix = movies[['runtime', 'popularity', 'budget', 'revenue', 'profit', 'imdb_rating', 'tmdb_rating']].corr()\n",
    "\n",
    "# Create the heatmap with updated labels\n",
    "plt.figure(figsize=(12, 10))\n",
    "\n",
    "# Customizing axis labels for better readability\n",
    "sns.heatmap(correlation_matrix, annot=True, cmap='Purples', fmt='.2f', linewidths=0.5, \n",
    "            xticklabels=['Runtime', 'Popularity', 'Budget', 'Revenue', 'Profit', 'IMDB Rating', 'TMDB Rating'],\n",
    "            yticklabels=['Runtime', 'Popularity', 'Budget', 'Revenue', 'Profit', 'IMDB Rating', 'TMDB Rating'])\n",
    "\n",
    "plt.xticks(fontsize=10)\n",
    "plt.yticks(fontsize=10)\n",
    "\n",
    "# Show the plot\n",
    "plt.title('Correlation Matrix of Movie Features', fontsize=12)\n",
    "plt.show()"
   ]
  },
  {
   "cell_type": "markdown",
   "metadata": {},
   "source": [
    "### Categorical Data Analysis\n",
    "- Most common genres\n",
    "- Most frequent languages and directors"
   ]
  },
  {
   "cell_type": "code",
   "execution_count": null,
   "metadata": {},
   "outputs": [],
   "source": [
    "movies['genres'] = movies['genres'].str.split(',')\n",
    "genres_flat = [genre.strip() for sublist in movies['genres'] for genre in sublist]\n",
    "genre_counts = pd.Series(genres_flat).value_counts()\n",
    "\n",
    "print('Most common genres:\\n')\n",
    "print(genre_counts.head(10))"
   ]
  },
  {
   "cell_type": "code",
   "execution_count": null,
   "metadata": {},
   "outputs": [],
   "source": [
    "print('Most frequent languages:\\n')\n",
    "print(movies['language'].value_counts().head(10))\n",
    "\n",
    "print('\\nMost frequent directiors:\\n')\n",
    "print(movies['director'].value_counts().head(10))"
   ]
  },
  {
   "cell_type": "markdown",
   "metadata": {},
   "source": [
    "### Time-Based Analysis\n",
    "- Release year trends\n",
    "- Revenue and profit trends over time "
   ]
  },
  {
   "cell_type": "code",
   "execution_count": null,
   "metadata": {},
   "outputs": [],
   "source": [
    "# distribution of movies over years\n",
    "plt.figure(figsize=(10, 6))\n",
    "sns.countplot(x='release_year', data=movies, hue='release_year', palette='viridis')\n",
    "plt.xticks(rotation=45)\n",
    "plt.title('Movies Released per Year')\n",
    "plt.ylabel('Release Count')\n",
    "plt.xlabel('Year')\n",
    "plt.legend().set_visible(False) # hide legend\n",
    "\n",
    "plt.show()"
   ]
  },
  {
   "cell_type": "code",
   "execution_count": null,
   "metadata": {},
   "outputs": [],
   "source": [
    "# revenue and profit trends over time\n",
    "movies.groupby('release_year')[['revenue', 'profit']].sum().plot(kind='line', figsize=(10, 6))\n",
    "plt.title('Revenue and Profit Trends Over Time', fontsize=16)\n",
    "plt.xticks(rotation=45)\n",
    "plt.xlabel('Release Year')\n",
    "\n",
    "plt.tight_layout()\n",
    "plt.show()"
   ]
  },
  {
   "cell_type": "markdown",
   "metadata": {},
   "source": [
    "### Multicollinearity\n",
    "- For predictive modeling, check multicollinearity between numerical variables\n",
    "- VIF (Variance Inflation Factor) for multicollinearity"
   ]
  },
  {
   "cell_type": "code",
   "execution_count": null,
   "metadata": {},
   "outputs": [],
   "source": [
    "# constant to the features after removing one of the highly correlated variables (e.g., 'profit')\n",
    "X = add_constant(movies[['runtime', 'popularity', 'budget', 'imdb_rating', 'tmdb_rating']])\n",
    "\n",
    "# VIF for each feature\n",
    "vif_data = pd.DataFrame()\n",
    "vif_data['feature'] = X.columns\n",
    "vif_data['VIF'] = [variance_inflation_factor(X.values, i) for i in range(X.shape[1])]\n",
    "\n",
    "print(vif_data)\n"
   ]
  },
  {
   "cell_type": "markdown",
   "metadata": {},
   "source": [
    "## VIF Interpretation:\n",
    "\n",
    "- **`const (107.81)`**: This is the constant term (intercept) in the regression model. High VIF values for the constant are typically not concerning, as this does not represent a feature.\n",
    "- **`runtime (1.45)`**: A VIF of 1.45 indicates a low degree of multicollinearity. It's a safe value.\n",
    "- **`popularity (1.02)`**: A VIF close to 1 means there's minimal collinearity with other variables, which is ideal.\n",
    "- **`budget (1.26)`**: A VIF of 1.26 indicates mild collinearity but is still acceptable and generally not a problem for regression.\n",
    "- **`imdb_rating (2.86)`**: A VIF value of 2.86 is higher than 1, but still within a reasonable range. Generally, a VIF under 5 is considered acceptable.\n",
    "- **`tmdb_rating (2.62)`**: Similar to `imdb_rating`, this VIF value is acceptable.\n",
    "\n",
    "## Conclusion:\n",
    "\n",
    "The VIFs for all the variables are well below the threshold of **5** (a common rule of thumb), indicating no severe multicollinearity.\n",
    "\n",
    "You can confidently proceed with building regression models or other analysis techniques without worrying much about multicollinearity for these features.\n",
    "\n",
    "If you plan on building models (e.g., linear regression), these results suggest that your independent variables are not highly collinear and will not cause issues like instability in the model coefficients."
   ]
  },
  {
   "cell_type": "markdown",
   "metadata": {},
   "source": [
    "## Event Analysis"
   ]
  },
  {
   "cell_type": "code",
   "execution_count": 34,
   "metadata": {},
   "outputs": [],
   "source": [
    "# Step 1: Explode the 'events' column into individual events\n",
    "events_exploded = movies['events'].str.split(',').explode().str.strip()\n",
    "\n",
    "# Create a new DataFrame with individual events for each movie\n",
    "events_df = pd.DataFrame({\n",
    "    'event': events_exploded,\n",
    "    'popularity': movies.loc[events_exploded.index, 'popularity'],\n",
    "    'runtime': movies.loc[events_exploded.index, 'runtime'],\n",
    "    'budget': movies.loc[events_exploded.index, 'budget'],\n",
    "    'revenue': movies.loc[events_exploded.index, 'revenue'],\n",
    "    'profit': movies.loc[events_exploded.index, 'profit'],\n",
    "    'imdb_rating': movies.loc[events_exploded.index, 'imdb_rating'],\n",
    "    'tmdb_rating': movies.loc[events_exploded.index, 'tmdb_rating']\n",
    "})"
   ]
  },
  {
   "cell_type": "code",
   "execution_count": null,
   "metadata": {},
   "outputs": [],
   "source": [
    "# Step 2: Frequency of Events\n",
    "event_frequency = events_df['event'].value_counts().reset_index()\n",
    "event_frequency.columns = ['event', 'frequency']\n",
    "\n",
    "event_frequency['event'] = event_frequency['event'].str.capitalize()\n",
    "plt.figure(figsize=(10, 6))\n",
    "sns.barplot(x='frequency', y='event', data=event_frequency.head(10), hue='frequency')\n",
    "plt.title('Top 10 Most Frequent Events', fontsize=14)\n",
    "plt.xlabel('Frequency', fontsize=12)\n",
    "plt.ylabel('Events', fontsize=12)\n",
    "plt.show()"
   ]
  },
  {
   "cell_type": "code",
   "execution_count": null,
   "metadata": {},
   "outputs": [],
   "source": [
    "\n",
    "\n",
    "# Step 1: Prepare data\n",
    "# Exploding the 'genres' and 'events' columns\n",
    "exploded_genres = movies['genres'].astype(str).str.split(',').explode().str.strip().reset_index(drop=True)\n",
    "exploded_events = movies['events'].astype(str).str.split(',').explode().str.strip().reset_index(drop=True)\n",
    "\n",
    "# Step 2: Create a DataFrame combining exploded genres and events\n",
    "# We will create a DataFrame without worrying about the exact lengths matching\n",
    "# Filling the shorter column with NaN values so that they can still be joined\n",
    "max_len = max(len(exploded_genres), len(exploded_events))\n",
    "\n",
    "# Adjust lengths to match by padding the shorter list with NaN values\n",
    "exploded_genres = exploded_genres.reindex(range(max_len))\n",
    "exploded_events = exploded_events.reindex(range(max_len))\n",
    "\n",
    "# Create the DataFrame\n",
    "events_per_genre = pd.DataFrame({'genre': exploded_genres, 'event': exploded_events})\n",
    "\n",
    "# Step 3: Calculate the frequency of each event\n",
    "event_frequency = events_per_genre.groupby('event').size().reset_index(name='frequency')\n",
    "\n",
    "# Step 4: Convert the event frequencies to a dictionary for the word cloud\n",
    "event_frequency_dict = dict(zip(event_frequency['event'], event_frequency['frequency']))\n",
    "\n",
    "# Step 5: Generate the word cloud\n",
    "wordcloud = WordCloud(width=800, height=400, background_color='white', colormap='viridis').generate_from_frequencies(event_frequency_dict)\n",
    "\n",
    "# Step 6: Plot the word cloud\n",
    "plt.figure(figsize=(10, 6))\n",
    "plt.imshow(wordcloud, interpolation='bilinear')\n",
    "plt.axis('off')\n",
    "plt.title('Word Cloud of Event Frequencies', fontsize=14)\n",
    "plt.tight_layout()\n",
    "plt.show()"
   ]
  },
  {
   "cell_type": "code",
   "execution_count": null,
   "metadata": {},
   "outputs": [],
   "source": []
  }
 ],
 "metadata": {
  "kernelspec": {
   "display_name": "movie_env",
   "language": "python",
   "name": "python3"
  },
  "language_info": {
   "codemirror_mode": {
    "name": "ipython",
    "version": 3
   },
   "file_extension": ".py",
   "mimetype": "text/x-python",
   "name": "python",
   "nbconvert_exporter": "python",
   "pygments_lexer": "ipython3",
   "version": "3.12.3"
  }
 },
 "nbformat": 4,
 "nbformat_minor": 2
}
