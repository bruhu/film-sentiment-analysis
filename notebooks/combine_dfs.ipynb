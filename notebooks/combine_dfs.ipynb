{
 "cells": [
  {
   "cell_type": "code",
   "execution_count": 15,
   "metadata": {},
   "outputs": [],
   "source": [
    "import pandas as pd\n",
    "import numpy as np"
   ]
  },
  {
   "cell_type": "code",
   "execution_count": 16,
   "metadata": {},
   "outputs": [],
   "source": [
    "import sys\n",
    "sys.path.append('../utils')\n",
    "import data_cleaning\n",
    "import data_inspection\n",
    "import helpers"
   ]
  },
  {
   "cell_type": "code",
   "execution_count": 17,
   "metadata": {},
   "outputs": [],
   "source": [
    "df1 = pd.read_csv('../data//local/raw/backup_movies.csv')\n",
    "df2 = pd.read_csv('../data//local/raw/backup_movies2.csv')"
   ]
  },
  {
   "cell_type": "code",
   "execution_count": null,
   "metadata": {},
   "outputs": [],
   "source": [
    "data_inspection.show_basic_info(df1)"
   ]
  },
  {
   "cell_type": "markdown",
   "metadata": {},
   "source": [
    "df 1:\n",
    "- create has_warnings column based on data existing in 'events' or not\n",
    "- drop 'topics' column\n",
    "- drop 'clean_title' column\n",
    "- drop 'Unnamed: 0' column\n",
    "- 'doesthedog_d' -> int w no .0 notation"
   ]
  },
  {
   "cell_type": "code",
   "execution_count": 19,
   "metadata": {},
   "outputs": [],
   "source": [
    "# create 'has_warnings' column\n",
    "df1['has_warnings'] = df1['events'].apply(lambda x: False if pd.isna(x) or not x else True)\n",
    "\n",
    "# drop columns\n",
    "df1 = df1.drop(columns=['topics', 'clean_title', 'Unnamed: 0'], errors='ignore')\n",
    "\n",
    "# 'doesthedog_id' to integers, keeping NaN values\n",
    "df1['doesthedog_id'] = pd.to_numeric(df1['doesthedog_id'], errors='coerce').astype('Int64')\n",
    "\n",
    "# create profit column\n",
    "df1['profit'] = df1['revenue'] - df1['budget']"
   ]
  },
  {
   "cell_type": "code",
   "execution_count": null,
   "metadata": {},
   "outputs": [],
   "source": [
    "df1.head(2)"
   ]
  },
  {
   "cell_type": "code",
   "execution_count": null,
   "metadata": {},
   "outputs": [],
   "source": [
    "data_inspection.show_basic_info(df2)"
   ]
  },
  {
   "cell_type": "markdown",
   "metadata": {},
   "source": [
    "df2:\n",
    "- create has_warnings column based on data existing in 'events' or not\n",
    "- drop columns\n",
    "- 'doesthedog_d' -> int w no .0 notation\n",
    "- calculate profit"
   ]
  },
  {
   "cell_type": "code",
   "execution_count": 22,
   "metadata": {},
   "outputs": [],
   "source": [
    "# create 'has_warnings' column\n",
    "df2['has_warnings'] = df2['events'].apply(lambda x: False if pd.isna(x) or not x else True)"
   ]
  },
  {
   "cell_type": "code",
   "execution_count": null,
   "metadata": {},
   "outputs": [],
   "source": [
    "# drop columns\n",
    "df2 = df2.drop(columns=['topics', 'clean_title', 'Unnamed: 0', 'dash_title', 'original_language'], errors='ignore')\n",
    "\n",
    "# 'doesthedog_id' to integers, keeping NaN values\n",
    "df2['doesthedog_id'] = pd.to_numeric(df2['doesthedog_id'], errors='coerce').astype('Int64')\n",
    "\n",
    "# create profit column\n",
    "df2['profit'] = df2['revenue'] - df2['budget']\n",
    "\n",
    "df2.head(2)"
   ]
  },
  {
   "cell_type": "code",
   "execution_count": null,
   "metadata": {},
   "outputs": [],
   "source": [
    "data_inspection.show_basic_info(df2)"
   ]
  },
  {
   "cell_type": "code",
   "execution_count": null,
   "metadata": {},
   "outputs": [],
   "source": [
    "data_inspection.show_basic_info(df1)"
   ]
  },
  {
   "cell_type": "markdown",
   "metadata": {},
   "source": [
    "Concatenate dfs"
   ]
  },
  {
   "cell_type": "code",
   "execution_count": null,
   "metadata": {},
   "outputs": [],
   "source": [
    "concat_df = pd.concat([df1, df2], ignore_index=True)\n",
    "\n",
    "# sort by year and reset index\n",
    "concat_df = concat_df.sort_values(by='release_year')\n",
    "concat_df = concat_df.reset_index(drop=True)\n",
    "\n",
    "display(concat_df)"
   ]
  },
  {
   "cell_type": "code",
   "execution_count": 27,
   "metadata": {},
   "outputs": [],
   "source": [
    "# reorder columns\n",
    "new_order = [\n",
    "    'title', 'original_title', 'genres', 'director', 'release_year', \n",
    "    'runtime', 'budget', 'revenue', 'profit', 'popularity', \n",
    "    'tmdb_rating', 'tmdb_votes', 'imdb_rating', 'imdb_votes', \n",
    "    'language', 'tmdb_id', 'imdb_id', 'doesthedog_id', 'events', 'has_warnings'\n",
    "]\n",
    "\n",
    "concat_df = concat_df[new_order]"
   ]
  },
  {
   "cell_type": "code",
   "execution_count": 28,
   "metadata": {},
   "outputs": [],
   "source": [
    "# concat_df.to_csv('../data/clean/clean_films_id.csv', index=False)"
   ]
  }
 ],
 "metadata": {
  "kernelspec": {
   "display_name": "movie_env",
   "language": "python",
   "name": "python3"
  },
  "language_info": {
   "codemirror_mode": {
    "name": "ipython",
    "version": 3
   },
   "file_extension": ".py",
   "mimetype": "text/x-python",
   "name": "python",
   "nbconvert_exporter": "python",
   "pygments_lexer": "ipython3",
   "version": "3.12.3"
  }
 },
 "nbformat": 4,
 "nbformat_minor": 2
}
