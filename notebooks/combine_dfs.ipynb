{
 "cells": [
  {
   "cell_type": "code",
   "execution_count": 13,
   "metadata": {},
   "outputs": [],
   "source": [
    "import pandas as pd\n",
    "import numpy as np"
   ]
  },
  {
   "cell_type": "code",
   "execution_count": 14,
   "metadata": {},
   "outputs": [],
   "source": [
    "import sys\n",
    "sys.path.append('../utils')\n",
    "import data_cleaning\n",
    "import data_inspection\n",
    "import helpers"
   ]
  },
  {
   "cell_type": "code",
   "execution_count": 15,
   "metadata": {},
   "outputs": [],
   "source": [
    "df1 = pd.read_csv('../data//local/raw/backup_movies.csv')\n",
    "df2 = pd.read_csv('../data//local/raw/backup_movies2.csv')\n",
    "df3 = pd.read_csv('../data/clean/movie_df.csv')"
   ]
  },
  {
   "cell_type": "code",
   "execution_count": 16,
   "metadata": {},
   "outputs": [],
   "source": [
    "# display(df1)"
   ]
  },
  {
   "cell_type": "markdown",
   "metadata": {},
   "source": [
    "df 1:\n",
    "- drop empty rows from 'events' column\n",
    "- drop 'topics' column\n",
    "- drop 'clean_title' column\n",
    "- drop 'Unnamed: 0' column\n",
    "- 'doesthedog_d' -> int w no .0 notation"
   ]
  },
  {
   "cell_type": "code",
   "execution_count": 17,
   "metadata": {},
   "outputs": [],
   "source": [
    "# drop rows\n",
    "df1 = df1[df1['events'].notna() & (df1['events'] != '')]\n",
    "\n",
    "# drop columns\n",
    "df1 = df1.drop(columns=['topics', 'clean_title', 'Unnamed: 0'], errors='ignore')\n",
    "\n",
    "# 'doesthedog_id' to integer with no .0 notation\n",
    "df1['doesthedog_id'] = df1['doesthedog_id'].astype(int)\n",
    "\n",
    "# create profit column\n",
    "df1['profit'] = df1['revenue'] - df1['budget']"
   ]
  },
  {
   "cell_type": "code",
   "execution_count": null,
   "metadata": {},
   "outputs": [],
   "source": [
    "df1.head(2)"
   ]
  },
  {
   "cell_type": "code",
   "execution_count": 19,
   "metadata": {},
   "outputs": [],
   "source": [
    "# data_inspection.show_basic_info(df1)"
   ]
  },
  {
   "cell_type": "markdown",
   "metadata": {},
   "source": [
    "df2:\n",
    "- drop empty rows from 'doesthedog_id' column\n",
    "- drop columns\n",
    "- 'doesthedog_d' -> int w no .0 notation\n",
    "- calculate profit"
   ]
  },
  {
   "cell_type": "code",
   "execution_count": null,
   "metadata": {},
   "outputs": [],
   "source": [
    "df2[df2['doesthedog_id'].isna()]"
   ]
  },
  {
   "cell_type": "code",
   "execution_count": 21,
   "metadata": {},
   "outputs": [],
   "source": [
    "df2 = df2.dropna(subset=['doesthedog_id'])"
   ]
  },
  {
   "cell_type": "code",
   "execution_count": null,
   "metadata": {},
   "outputs": [],
   "source": [
    "\n",
    "# drop columns\n",
    "df2 = df2.drop(columns=['topics', 'clean_title', 'Unnamed: 0', 'dash_title', 'original_language'], errors='ignore')\n",
    "\n",
    "# 'doesthedog_id' to integer with no .0 notation\n",
    "df2['doesthedog_id'] = df2['doesthedog_id'].astype(int)\n",
    "\n",
    "# create profit column\n",
    "df2['profit'] = df2['revenue'] - df2['budget']\n",
    "\n",
    "df2.head(2)"
   ]
  },
  {
   "cell_type": "code",
   "execution_count": null,
   "metadata": {},
   "outputs": [],
   "source": [
    "data_inspection.show_basic_info(df2)"
   ]
  },
  {
   "cell_type": "code",
   "execution_count": null,
   "metadata": {},
   "outputs": [],
   "source": [
    "data_inspection.show_basic_info(df1)"
   ]
  },
  {
   "cell_type": "markdown",
   "metadata": {},
   "source": [
    "Concatenate dfs"
   ]
  },
  {
   "cell_type": "code",
   "execution_count": null,
   "metadata": {},
   "outputs": [],
   "source": [
    "concat_df = pd.concat([df1, df2], ignore_index=True)\n",
    "\n",
    "# sort by year and reset index\n",
    "concat_df = concat_df.sort_values(by='release_year')\n",
    "concat_df = concat_df.reset_index(drop=True)\n",
    "\n",
    "display(concat_df)"
   ]
  },
  {
   "cell_type": "code",
   "execution_count": 26,
   "metadata": {},
   "outputs": [],
   "source": [
    "# concat_df.to_csv('../data/clean/clean_films_id.csv')"
   ]
  }
 ],
 "metadata": {
  "kernelspec": {
   "display_name": "movie_env",
   "language": "python",
   "name": "python3"
  },
  "language_info": {
   "codemirror_mode": {
    "name": "ipython",
    "version": 3
   },
   "file_extension": ".py",
   "mimetype": "text/x-python",
   "name": "python",
   "nbconvert_exporter": "python",
   "pygments_lexer": "ipython3",
   "version": "3.12.3"
  }
 },
 "nbformat": 4,
 "nbformat_minor": 2
}
