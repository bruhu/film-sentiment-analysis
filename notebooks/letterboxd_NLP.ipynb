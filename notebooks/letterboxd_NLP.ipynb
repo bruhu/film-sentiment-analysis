{
 "cells": [
  {
   "cell_type": "markdown",
   "metadata": {},
   "source": [
    "# **NLP on Letterboxd df**\n",
    "\n",
    "- Check word frequency in several columns -> 'tagline', 'summary', 'genres', 'themes', 'events'\n",
    "- Based on correlations, rate from 0 to 5\n",
    "- Tie back to whether a title has warnings or not\n",
    "- Figure how it impacts sentiment on movies\n",
    "- Sentiment-o-meter\n",
    "\n",
    "## **Metadata**\n",
    "\n",
    "- `cleaned_films` contains 4203 titles and 13 columns.\n",
    "\n",
    "- There are no Null values.\n",
    "\n",
    "| **Column Name**        | **Data Type**   | **Description**                                                                 |\n",
    "|------------------------|-----------------|----------------------------------------------------------------------------------|\n",
    "| **title**              | object          | The title of the movie.                                                          |\n",
    "| **release_year**       | int64           | The year the movie was released.                                                 |\n",
    "| **tagline**            | object          | The movie's tagline (promotional phrase).                                        |\n",
    "| **summary**            | object          | A brief description of the movie's plot.                                         |\n",
    "| **runtime**            | int64           | The total runtime of the movie in minutes.                                       |\n",
    "| **letterboxd_rating**  | float64         | The movie's average rating on Letterboxd.                                        |\n",
    "| **genres**             | object          | A list of genres the movie belongs to (e.g., Drama, Comedy).                     |\n",
    "| **language**           | object          | The languages the movie was produced in.                                         |\n",
    "| **countries**          | object          | The countries where the movie was made or released.                              |\n",
    "| **themes**             | object          | The central themes explored in the movie (e.g., Love, War, Friendship).          |\n",
    "| **director**           | object          | The director(s) of the movie.                                                   |\n",
    "| **events**             | object          | Key events or warnings in the movie (e.g., violence, strong language).           |\n",
    "| **has_warnings**       | bool            | A boolean indicating if the movie contains warnings for sensitive content.       |\n"
   ]
  },
  {
   "cell_type": "code",
   "execution_count": 1,
   "metadata": {},
   "outputs": [],
   "source": [
    "import pandas as pd\n",
    "import nltk \n",
    "import pandas as pd\n",
    "from sklearn.model_selection import train_test_split\n",
    "from sklearn.feature_extraction.text import TfidfVectorizer\n",
    "from sklearn.linear_model import LogisticRegression\n",
    "from sklearn.metrics import classification_report\n",
    "from sklearn.utils import resample"
   ]
  },
  {
   "cell_type": "code",
   "execution_count": null,
   "metadata": {},
   "outputs": [],
   "source": [
    "nltk.download('punkt_tab')"
   ]
  },
  {
   "cell_type": "markdown",
   "metadata": {},
   "source": [
    "Import reusable functions for sentiment analysis from /utils folder."
   ]
  },
  {
   "cell_type": "code",
   "execution_count": 3,
   "metadata": {},
   "outputs": [],
   "source": [
    "import sys\n",
    "sys.path.append('../utils')\n",
    "import sentiment_utils"
   ]
  },
  {
   "cell_type": "code",
   "execution_count": null,
   "metadata": {},
   "outputs": [],
   "source": [
    "\n",
    "films = pd.read_csv('../data/clean/letterboxd_clean_films.csv')\n",
    "films.head(2)"
   ]
  },
  {
   "cell_type": "code",
   "execution_count": 5,
   "metadata": {},
   "outputs": [],
   "source": [
    "cleaned_films = films.copy()\n",
    "cleaned_films.drop(columns=['topics', 'doesthedog_id', 'letterboxd_id'], inplace=True)"
   ]
  },
  {
   "cell_type": "code",
   "execution_count": 6,
   "metadata": {},
   "outputs": [],
   "source": [
    "cleaned_films = cleaned_films.dropna()"
   ]
  },
  {
   "cell_type": "code",
   "execution_count": null,
   "metadata": {},
   "outputs": [],
   "source": [
    "display(cleaned_films)\n"
   ]
  },
  {
   "cell_type": "markdown",
   "metadata": {},
   "source": [
    "## **Word Count**\n",
    "- Display most commong words in *tagline*, *summary*, *genre*, *themes* and *events* columns."
   ]
  },
  {
   "cell_type": "markdown",
   "metadata": {},
   "source": [
    "**Tagline Word Count**"
   ]
  },
  {
   "cell_type": "code",
   "execution_count": null,
   "metadata": {},
   "outputs": [],
   "source": [
    "sentiment_utils.analyze_most_common_words(cleaned_films, text_column='tagline', top_n=30)"
   ]
  },
  {
   "cell_type": "markdown",
   "metadata": {},
   "source": [
    "**Summary Word Count**"
   ]
  },
  {
   "cell_type": "code",
   "execution_count": null,
   "metadata": {},
   "outputs": [],
   "source": [
    "sentiment_utils.analyze_most_common_words(cleaned_films, text_column='summary', top_n=20)"
   ]
  },
  {
   "cell_type": "markdown",
   "metadata": {},
   "source": [
    "**Genre Word Count**"
   ]
  },
  {
   "cell_type": "code",
   "execution_count": null,
   "metadata": {},
   "outputs": [],
   "source": [
    "sentiment_utils.analyze_most_common_words(cleaned_films, text_column='genres', top_n=20)"
   ]
  },
  {
   "cell_type": "markdown",
   "metadata": {},
   "source": [
    "**Themes Word Count**"
   ]
  },
  {
   "cell_type": "code",
   "execution_count": null,
   "metadata": {},
   "outputs": [],
   "source": [
    "sentiment_utils.analyze_most_common_words(cleaned_films, text_column='themes', top_n=20)"
   ]
  },
  {
   "cell_type": "markdown",
   "metadata": {},
   "source": [
    "**Events Word Count**"
   ]
  },
  {
   "cell_type": "code",
   "execution_count": null,
   "metadata": {},
   "outputs": [],
   "source": [
    "sentiment_utils.analyze_most_common_words(cleaned_films, text_column='events', top_n=20)"
   ]
  },
  {
   "cell_type": "markdown",
   "metadata": {},
   "source": [
    "## **Word Correlation**\n",
    "\n",
    "- Find the correlation between ratings and tagline, summary, genre, themes and events.\n",
    "- Bar plots displaying positive, neutral or negative related rating average.\n"
   ]
  },
  {
   "cell_type": "code",
   "execution_count": 13,
   "metadata": {},
   "outputs": [],
   "source": [
    "df = cleaned_films.copy()"
   ]
  },
  {
   "cell_type": "markdown",
   "metadata": {},
   "source": [
    "Taglines vs Ratings"
   ]
  },
  {
   "cell_type": "code",
   "execution_count": null,
   "metadata": {},
   "outputs": [],
   "source": [
    "sentiment_utils.word_rating_correlation(df, text_column='processed_tagline', rating_column='letterboxd_rating', top_n=20)"
   ]
  },
  {
   "cell_type": "markdown",
   "metadata": {},
   "source": [
    "Summary vs Ratings"
   ]
  },
  {
   "cell_type": "code",
   "execution_count": null,
   "metadata": {},
   "outputs": [],
   "source": [
    "sentiment_utils.word_rating_correlation(df, text_column='processed_summary', rating_column='letterboxd_rating', top_n=20)"
   ]
  },
  {
   "cell_type": "markdown",
   "metadata": {},
   "source": [
    "Genres vs Ratings"
   ]
  },
  {
   "cell_type": "code",
   "execution_count": null,
   "metadata": {},
   "outputs": [],
   "source": [
    "sentiment_utils.word_rating_correlation(df, text_column='processed_genres', rating_column='letterboxd_rating', top_n=20)"
   ]
  },
  {
   "cell_type": "markdown",
   "metadata": {},
   "source": [
    "Themes vs Ratings"
   ]
  },
  {
   "cell_type": "code",
   "execution_count": null,
   "metadata": {},
   "outputs": [],
   "source": [
    "sentiment_utils.word_rating_correlation(df, text_column='processed_themes', rating_column='letterboxd_rating', top_n=20)"
   ]
  },
  {
   "cell_type": "markdown",
   "metadata": {},
   "source": [
    "Events vs Ratings"
   ]
  },
  {
   "cell_type": "code",
   "execution_count": null,
   "metadata": {},
   "outputs": [],
   "source": [
    "sentiment_utils.word_rating_correlation(df, text_column='processed_events', rating_column='letterboxd_rating', top_n=20)"
   ]
  },
  {
   "cell_type": "markdown",
   "metadata": {},
   "source": [
    "## Conclusions"
   ]
  },
  {
   "cell_type": "markdown",
   "metadata": {},
   "source": [
    "### **Tagline:**\n",
    "These are the top words that are correlated with ratings. Words with positive correlations tend to be associated with higher ratings, while words with negative correlations are typically associated with lower ratings. The correlation values indicate the strength and direction of the relationship between the words and the ratings.\n",
    "\n",
    "### **Summary:**\n",
    "- Positive Correlation: Words or genres associated with higher ratings include *drama*, *documentary*, *love*, *story*, and *political*.\n",
    "- Negative Correlation: Words or genres associated with lower ratings include *horror*, *thriller*, *jump*, *scares*, and *gore*.\n",
    "- Weak/Negligible Correlation: Some words have minimal or no significant impact on ratings, such as *movie*, *time*, *life*, and *friends*.\n",
    "\n",
    "### **Genre:**\n",
    "#### Positive Correlation (higher ratings):\n",
    "- *Drama*: 0.41\n",
    "- *Documentary*: 0.16\n",
    "- *History*: 0.14\n",
    "- *Crime*: 0.12\n",
    "- *Music*: 0.11\n",
    "- *War*: 0.10\n",
    "- *Animation*: 0.10\n",
    "- *Romance*: 0.09\n",
    "- *Western*: 0.07\n",
    "\n",
    "#### Negative Correlation (lower ratings):\n",
    "- *Horror*: -0.42\n",
    "- *Thriller*: -0.24\n",
    "- *Fiction*: -0.17\n",
    "- *Science*: -0.17\n",
    "- *Action*: -0.11\n",
    "- *Movie*: -0.05\n",
    "- *TV*: -0.05\n",
    "- *Fantasy*: -0.05\n",
    "- *Mystery*: -0.04\n",
    "- *Family*: -0.03\n",
    "- *Adventure*: -0.03\n",
    "\n",
    "\n",
    "### **Themes:**\n",
    "#### Positive Correlation (higher ratings):\n",
    "- *Story*: 0.11\n",
    "- *Love*: 0.10\n",
    "- *Political*: 0.08\n",
    "- *Men*: 0.08\n",
    "- *World*: 0.07\n",
    "- *Film*: 0.08\n",
    "- *Picture*: 0.06\n",
    "- *Life*: 0.06\n",
    "- *Unforgettable*: 0.05\n",
    "- *Murder*: 0.05\n",
    "- *Sometimes*: 0.05\n",
    "\n",
    "#### Negative Correlation (lower ratings):\n",
    "- *Evil*: -0.09\n",
    "- *Game*: -0.09\n",
    "- *Shark*: -0.08\n",
    "- *Sinister*: -0.08\n",
    "- *Mysterious*: -0.08\n",
    "- *Killer*: -0.08\n",
    "- *Paranormal*: -0.07\n",
    "- *Terrifying*: -0.07\n",
    "- *Creature*: -0.07\n",
    "- *Fight*: -0.07\n",
    "- *Fear*: -0.06\n",
    "\n",
    "\n",
    "\n",
    "### **Events:**\n",
    "#### Positive Correlation (higher ratings):\n",
    "- *Hate*: 0.10\n",
    "- *Speech*: 0.10\n",
    "- *Domestic*: 0.10\n",
    "- *Incarceration*: 0.09\n",
    "- *Child*: 0.09\n",
    "- *Sad*: 0.09\n",
    "- *Hospital*: 0.08\n",
    "- *Cheating*: 0.08\n",
    "- *Antisemitism*: 0.08\n",
    "- *Age*: 0.08\n",
    "- *Gap*: 0.08\n",
    "- *Large*: 0.08\n",
    "- *Abandonment*: 0.08\n",
    "\n",
    "#### Negative Correlation (lower ratings):\n",
    "- *Jump*: -0.22\n",
    "- *Scares*: -0.22\n",
    "- *Audio*: -0.12\n",
    "- *Mutilation*: -0.11\n",
    "- *Gore*: -0.11\n",
    "- *Eye*: -0.11\n",
    "- *Excessive*: -0.09\n",
    "- *Aliens*: -0.25\n",
    "- *Gory*: -0.30\n",
    "- *Gruesome*: -0.30\n",
    "- *Slasher*: -0.30"
   ]
  },
  {
   "cell_type": "code",
   "execution_count": 19,
   "metadata": {},
   "outputs": [],
   "source": [
    "regression_df = films.copy()"
   ]
  },
  {
   "cell_type": "code",
   "execution_count": null,
   "metadata": {},
   "outputs": [],
   "source": [
    "regression_df.head(3)"
   ]
  },
  {
   "cell_type": "markdown",
   "metadata": {},
   "source": [
    "Try it with equal true and false rows"
   ]
  },
  {
   "cell_type": "code",
   "execution_count": null,
   "metadata": {},
   "outputs": [],
   "source": [
    "# Assuming you have a DataFrame 'regression_df' with relevant columns\n",
    "X = regression_df[['genres', 'tagline', 'themes', 'summary', 'events']]  # Features\n",
    "y = regression_df['has_warnings']  # Target: has_warnings (True/False)\n",
    "\n",
    "# Combine text columns into one\n",
    "X_combined = X['genres'] + ' ' + X['tagline'] + ' ' + X['themes'] + ' ' + X['summary'] + ' ' + X['events']\n",
    "\n",
    "# Fill NaN values in X_combined with a placeholder (e.g., \"missing\")\n",
    "X_combined_filled = X_combined.fillna(\"missing\")\n",
    "\n",
    "# Apply TF-IDF vectorization\n",
    "vectorizer = TfidfVectorizer(max_features=1000)\n",
    "X_tfidf = vectorizer.fit_transform(X_combined_filled)\n",
    "\n",
    "# Convert the sparse matrix to a dense DataFrame\n",
    "X_tfidf_dense = pd.DataFrame(X_tfidf.toarray(), columns=vectorizer.get_feature_names_out())\n",
    "\n",
    "# Balance the dataset by undersampling the majority class (if necessary)\n",
    "df_balanced = pd.concat([X_tfidf_dense, y], axis=1)\n",
    "df_majority = df_balanced[df_balanced['has_warnings'] == False]\n",
    "df_minority = df_balanced[df_balanced['has_warnings'] == True]\n",
    "\n",
    "# Undersample the majority class\n",
    "df_majority_undersampled = resample(df_majority, \n",
    "                                    replace=False,  # No replacement\n",
    "                                    n_samples=len(df_minority),  # Match minority class size\n",
    "                                    random_state=42)  # For reproducibility\n",
    "\n",
    "# Combine the undersampled majority class with the minority class\n",
    "df_balanced_undersampled = pd.concat([df_majority_undersampled, df_minority])\n",
    "\n",
    "# Shuffle the resulting dataframe\n",
    "df_balanced_undersampled = df_balanced_undersampled.sample(frac=1, random_state=42).reset_index(drop=True)\n",
    "\n",
    "# Split into features and target\n",
    "X_balanced = df_balanced_undersampled.drop(columns='has_warnings')\n",
    "y_balanced = df_balanced_undersampled['has_warnings']\n",
    "\n",
    "# Train/Test Split\n",
    "X_train, X_test, y_train, y_test = train_test_split(X_balanced, y_balanced, test_size=0.3, random_state=42)\n",
    "\n",
    "# Logistic Regression Model\n",
    "model = LogisticRegression()\n",
    "model.fit(X_train, y_train)\n",
    "\n",
    "# Predictions\n",
    "y_pred = model.predict(X_test)\n",
    "\n",
    "# Evaluate the model\n",
    "print(classification_report(y_test, y_pred))"
   ]
  }
 ],
 "metadata": {
  "kernelspec": {
   "display_name": "movie_env",
   "language": "python",
   "name": "python3"
  },
  "language_info": {
   "codemirror_mode": {
    "name": "ipython",
    "version": 3
   },
   "file_extension": ".py",
   "mimetype": "text/x-python",
   "name": "python",
   "nbconvert_exporter": "python",
   "pygments_lexer": "ipython3",
   "version": "3.12.3"
  }
 },
 "nbformat": 4,
 "nbformat_minor": 2
}
