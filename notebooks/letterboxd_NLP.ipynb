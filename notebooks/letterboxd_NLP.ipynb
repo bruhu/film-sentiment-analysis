{
 "cells": [
  {
   "cell_type": "markdown",
   "metadata": {},
   "source": [
    "# **NLP on Letterboxd df**\n",
    "\n",
    "- Check word frequency in several columns -> 'tagline', 'summary', 'genres', 'themes', 'events'\n",
    "- Based on correlations, rate from 0 to 5\n",
    "- Tie back to whether a title has warnings or not\n",
    "- Figure how it impacts sentiment on movies\n",
    "- Sentiment-o-meter\n",
    "\n",
    "## **Metadata**\n",
    "\n",
    "- `cleaned_films` contains 4203 titles and 13 columns.\n",
    "\n",
    "- There are no Null values.\n",
    "\n",
    "| **Column Name**        | **Data Type**   | **Description**                                                                 |\n",
    "|------------------------|-----------------|----------------------------------------------------------------------------------|\n",
    "| **title**              | object          | The title of the movie.                                                          |\n",
    "| **release_year**       | int64           | The year the movie was released.                                                 |\n",
    "| **tagline**            | object          | The movie's tagline (promotional phrase).                                        |\n",
    "| **summary**            | object          | A brief description of the movie's plot.                                         |\n",
    "| **runtime**            | int64           | The total runtime of the movie in minutes.                                       |\n",
    "| **letterboxd_rating**  | float64         | The movie's average rating on Letterboxd.                                        |\n",
    "| **genres**             | object          | A list of genres the movie belongs to (e.g., Drama, Comedy).                     |\n",
    "| **language**           | object          | The languages the movie was produced in.                                         |\n",
    "| **countries**          | object          | The countries where the movie was made or released.                              |\n",
    "| **themes**             | object          | The central themes explored in the movie (e.g., Love, War, Friendship).          |\n",
    "| **director**           | object          | The director(s) of the movie.                                                   |\n",
    "| **events**             | object          | Key events or warnings in the movie (e.g., violence, strong language).           |\n",
    "| **has_warnings**       | bool            | A boolean indicating if the movie contains warnings for sensitive content.       |\n"
   ]
  },
  {
   "cell_type": "code",
   "execution_count": 20,
   "metadata": {},
   "outputs": [],
   "source": [
    "import pandas as pd\n",
    "import nltk \n",
    "import pandas as pd\n",
    "from sklearn.model_selection import train_test_split\n",
    "from sklearn.feature_extraction.text import TfidfVectorizer\n",
    "from sklearn.linear_model import LogisticRegression\n",
    "from sklearn.metrics import classification_report\n",
    "from sklearn.utils import resample\n",
    "import plotly.express as px"
   ]
  },
  {
   "cell_type": "code",
   "execution_count": null,
   "metadata": {},
   "outputs": [],
   "source": [
    "nltk.download('punkt_tab')"
   ]
  },
  {
   "cell_type": "markdown",
   "metadata": {},
   "source": [
    "Import reusable functions for sentiment analysis from /utils folder."
   ]
  },
  {
   "cell_type": "code",
   "execution_count": 22,
   "metadata": {},
   "outputs": [],
   "source": [
    "import sys\n",
    "sys.path.append('../utils')\n",
    "import sentiment_utils"
   ]
  },
  {
   "cell_type": "code",
   "execution_count": null,
   "metadata": {},
   "outputs": [],
   "source": [
    "\n",
    "films = pd.read_csv('../data/clean/letterboxd_clean_films.csv')\n",
    "films.head(2)"
   ]
  },
  {
   "cell_type": "code",
   "execution_count": 24,
   "metadata": {},
   "outputs": [],
   "source": [
    "films.dropna(subset=['genres', 'language', 'countries', 'director'], inplace=True)"
   ]
  },
  {
   "cell_type": "code",
   "execution_count": 25,
   "metadata": {},
   "outputs": [],
   "source": [
    "cleaned_films = films.copy()\n",
    "cleaned_films.dropna(inplace=True)"
   ]
  },
  {
   "cell_type": "code",
   "execution_count": null,
   "metadata": {},
   "outputs": [],
   "source": [
    "display(cleaned_films)\n"
   ]
  },
  {
   "cell_type": "markdown",
   "metadata": {},
   "source": [
    "## **Word Count**\n",
    "- Display most commong words in *tagline*, *summary*, *genre*, *themes* and *events* columns."
   ]
  },
  {
   "cell_type": "markdown",
   "metadata": {},
   "source": [
    "**Tagline Word Count**"
   ]
  },
  {
   "cell_type": "code",
   "execution_count": null,
   "metadata": {},
   "outputs": [],
   "source": [
    "sentiment_utils.analyze_most_common_words(cleaned_films, text_column='tagline', top_n=30)"
   ]
  },
  {
   "cell_type": "markdown",
   "metadata": {},
   "source": [
    "**Summary Word Count**"
   ]
  },
  {
   "cell_type": "code",
   "execution_count": null,
   "metadata": {},
   "outputs": [],
   "source": [
    "sentiment_utils.analyze_most_common_words(cleaned_films, text_column='summary', top_n=10)"
   ]
  },
  {
   "cell_type": "markdown",
   "metadata": {},
   "source": [
    "**Genre Word Count**"
   ]
  },
  {
   "cell_type": "code",
   "execution_count": null,
   "metadata": {},
   "outputs": [],
   "source": [
    "sentiment_utils.analyze_most_common_words(cleaned_films, text_column='genres', top_n=10)"
   ]
  },
  {
   "cell_type": "markdown",
   "metadata": {},
   "source": [
    "**Themes Word Count**"
   ]
  },
  {
   "cell_type": "code",
   "execution_count": null,
   "metadata": {},
   "outputs": [],
   "source": [
    "sentiment_utils.analyze_most_common_words(cleaned_films, text_column='themes', top_n=10)"
   ]
  },
  {
   "cell_type": "markdown",
   "metadata": {},
   "source": [
    "**Events Word Count**"
   ]
  },
  {
   "cell_type": "code",
   "execution_count": null,
   "metadata": {},
   "outputs": [],
   "source": [
    "sentiment_utils.analyze_most_common_words(cleaned_films, text_column='events', top_n=10)"
   ]
  },
  {
   "cell_type": "markdown",
   "metadata": {},
   "source": [
    "## **Word Correlation**\n",
    "\n",
    "- Find the correlation between ratings and tagline, summary, genre, themes and events.\n",
    "- Bar plots displaying positive, neutral or negative related rating average.\n"
   ]
  },
  {
   "cell_type": "code",
   "execution_count": 32,
   "metadata": {},
   "outputs": [],
   "source": [
    "df = cleaned_films.copy()"
   ]
  },
  {
   "cell_type": "markdown",
   "metadata": {},
   "source": [
    "Taglines vs Ratings"
   ]
  },
  {
   "cell_type": "code",
   "execution_count": null,
   "metadata": {},
   "outputs": [],
   "source": [
    "sentiment_utils.word_rating_correlation(df, text_column='processed_tagline', rating_column='letterboxd_rating', top_n=10)"
   ]
  },
  {
   "cell_type": "markdown",
   "metadata": {},
   "source": [
    "Summary vs Ratings"
   ]
  },
  {
   "cell_type": "code",
   "execution_count": null,
   "metadata": {},
   "outputs": [],
   "source": [
    "sentiment_utils.word_rating_correlation(df, text_column='processed_summary', rating_column='letterboxd_rating', top_n=10)"
   ]
  },
  {
   "cell_type": "markdown",
   "metadata": {},
   "source": [
    "Genres vs Ratings"
   ]
  },
  {
   "cell_type": "code",
   "execution_count": null,
   "metadata": {},
   "outputs": [],
   "source": [
    "sentiment_utils.word_rating_correlation(df, text_column='processed_genres', rating_column='letterboxd_rating', top_n=10)"
   ]
  },
  {
   "cell_type": "code",
   "execution_count": null,
   "metadata": {},
   "outputs": [],
   "source": [
    "import pandas as pd\n",
    "import plotly.express as px\n",
    "from sklearn.feature_extraction.text import CountVectorizer\n",
    "from scipy.stats import spearmanr\n",
    "import re\n",
    "from nltk.corpus import stopwords\n",
    "from nltk.tokenize import word_tokenize\n",
    "from nltk.sentiment import SentimentIntensityAnalyzer\n",
    "from collections import Counter\n",
    "\n",
    "def word_rating_correlation(df, text_column, rating_column, top_n=10, save_path=None):\n",
    "    # Capitalize movie genres\n",
    "    df[text_column] = df[text_column].apply(\n",
    "        lambda x: ' '.join([word.capitalize() for word in x.split()]) if isinstance(x, str) else str(x)\n",
    "    )\n",
    "\n",
    "    vectorizer = CountVectorizer()  # vectorize text column\n",
    "    x = vectorizer.fit_transform(df[text_column])\n",
    "    word_count_df = pd.DataFrame(x.toarray(), columns=vectorizer.get_feature_names_out())\n",
    "\n",
    "    correlations = {}\n",
    "    for word in word_count_df.columns:\n",
    "        corr, _ = spearmanr(word_count_df[word], df[rating_column])\n",
    "        correlations[word] = corr\n",
    "\n",
    "    sorted_correlations = sorted(correlations.items(), key=lambda x: abs(x[1]), reverse=True)  # correlation by absolute value\n",
    "\n",
    "    top_correlated_words = sorted_correlations[:top_n]\n",
    "    print(\"Top Words Correlated with Ratings:\")\n",
    "    for word, corr in top_correlated_words:\n",
    "        print(f\"{word}: {corr:.2f}\")\n",
    "\n",
    "    words, corrs = zip(*top_correlated_words)\n",
    "    \n",
    "    # Capitalize the words for the plot\n",
    "    words_capitalized = [word.capitalize() for word in words]\n",
    "\n",
    "    fig = px.bar(x=words_capitalized, y=corrs, title=f'Sentiment Distribution per Genre',\n",
    "                 labels={'x': '', 'y': 'Spearman Correlation'}, color=corrs,\n",
    "                 color_continuous_scale='Temps_r')\n",
    "    fig.update_layout(\n",
    "        xaxis_tickangle=-45,\n",
    "        plot_bgcolor='#f7f7f7',  # Background color for the plot area\n",
    "        paper_bgcolor='#f7f7f7',\n",
    "        width=900\n",
    "    )\n",
    "    \n",
    "    if save_path:\n",
    "        fig.write_image(save_path)\n",
    "        print(f\"Plot saved to {save_path}\")\n",
    "        \n",
    "    fig.show()\n",
    "\n",
    "# Example usage with your dataset\n",
    "word_rating_correlation(df, text_column='processed_genres', rating_column='letterboxd_rating', top_n=20)\n",
    "    \n",
    "    "
   ]
  },
  {
   "cell_type": "markdown",
   "metadata": {},
   "source": [
    "Themes vs Ratings"
   ]
  },
  {
   "cell_type": "code",
   "execution_count": null,
   "metadata": {},
   "outputs": [],
   "source": [
    "sentiment_utils.word_rating_correlation(df, text_column='processed_themes', rating_column='letterboxd_rating', top_n=10)"
   ]
  },
  {
   "cell_type": "markdown",
   "metadata": {},
   "source": [
    "Events vs Ratings"
   ]
  },
  {
   "cell_type": "code",
   "execution_count": null,
   "metadata": {},
   "outputs": [],
   "source": [
    "sentiment_utils.word_rating_correlation(df, text_column='processed_events', rating_column='letterboxd_rating', top_n=10)"
   ]
  },
  {
   "cell_type": "markdown",
   "metadata": {},
   "source": [
    "## Conclusions"
   ]
  },
  {
   "cell_type": "markdown",
   "metadata": {},
   "source": [
    "### **Tagline:**\n",
    "These are the top words that are correlated with ratings. Words with positive correlations tend to be associated with higher ratings, while words with negative correlations are typically associated with lower ratings. The correlation values indicate the strength and direction of the relationship between the words and the ratings.\n",
    "\n",
    "### **Summary:**\n",
    "- Positive Correlation: Words or genres associated with higher ratings include *drama*, *documentary*, *love*, *story*, and *political*.\n",
    "- Negative Correlation: Words or genres associated with lower ratings include *horror*, *thriller*, *jump*, *scares*, and *gore*.\n",
    "- Weak/Negligible Correlation: Some words have minimal or no significant impact on ratings, such as *movie*, *time*, *life*, and *friends*.\n",
    "\n",
    "### **Genre:**\n",
    "#### Positive Correlation (higher ratings):\n",
    "- *Drama*: 0.41\n",
    "- *Documentary*: 0.16\n",
    "- *History*: 0.14\n",
    "- *Crime*: 0.12\n",
    "- *Music*: 0.11\n",
    "- *War*: 0.10\n",
    "- *Animation*: 0.10\n",
    "- *Romance*: 0.09\n",
    "- *Western*: 0.07\n",
    "\n",
    "#### Negative Correlation (lower ratings):\n",
    "- *Horror*: -0.42\n",
    "- *Thriller*: -0.24\n",
    "- *Fiction*: -0.17\n",
    "- *Science*: -0.17\n",
    "- *Action*: -0.11\n",
    "- *Movie*: -0.05\n",
    "- *TV*: -0.05\n",
    "- *Fantasy*: -0.05\n",
    "- *Mystery*: -0.04\n",
    "- *Family*: -0.03\n",
    "- *Adventure*: -0.03\n",
    "\n",
    "\n",
    "### **Themes:**\n",
    "#### Positive Correlation (higher ratings):\n",
    "- *Story*: 0.11\n",
    "- *Love*: 0.10\n",
    "- *Political*: 0.08\n",
    "- *Men*: 0.08\n",
    "- *World*: 0.07\n",
    "- *Film*: 0.08\n",
    "- *Picture*: 0.06\n",
    "- *Life*: 0.06\n",
    "- *Unforgettable*: 0.05\n",
    "- *Murder*: 0.05\n",
    "- *Sometimes*: 0.05\n",
    "\n",
    "#### Negative Correlation (lower ratings):\n",
    "- *Evil*: -0.09\n",
    "- *Game*: -0.09\n",
    "- *Shark*: -0.08\n",
    "- *Sinister*: -0.08\n",
    "- *Mysterious*: -0.08\n",
    "- *Killer*: -0.08\n",
    "- *Paranormal*: -0.07\n",
    "- *Terrifying*: -0.07\n",
    "- *Creature*: -0.07\n",
    "- *Fight*: -0.07\n",
    "- *Fear*: -0.06\n",
    "\n",
    "\n",
    "\n",
    "### **Events:**\n",
    "#### Positive Correlation (higher ratings):\n",
    "- *Hate*: 0.10\n",
    "- *Speech*: 0.10\n",
    "- *Domestic*: 0.10\n",
    "- *Incarceration*: 0.09\n",
    "- *Child*: 0.09\n",
    "- *Sad*: 0.09\n",
    "- *Hospital*: 0.08\n",
    "- *Cheating*: 0.08\n",
    "- *Antisemitism*: 0.08\n",
    "- *Age*: 0.08\n",
    "- *Gap*: 0.08\n",
    "- *Large*: 0.08\n",
    "- *Abandonment*: 0.08\n",
    "\n",
    "#### Negative Correlation (lower ratings):\n",
    "- *Jump*: -0.22\n",
    "- *Scares*: -0.22\n",
    "- *Audio*: -0.12\n",
    "- *Mutilation*: -0.11\n",
    "- *Gore*: -0.11\n",
    "- *Eye*: -0.11\n",
    "- *Excessive*: -0.09\n",
    "- *Aliens*: -0.25\n",
    "- *Gory*: -0.30\n",
    "- *Gruesome*: -0.30\n",
    "- *Slasher*: -0.30"
   ]
  }
 ],
 "metadata": {
  "kernelspec": {
   "display_name": "movie_env",
   "language": "python",
   "name": "python3"
  },
  "language_info": {
   "codemirror_mode": {
    "name": "ipython",
    "version": 3
   },
   "file_extension": ".py",
   "mimetype": "text/x-python",
   "name": "python",
   "nbconvert_exporter": "python",
   "pygments_lexer": "ipython3",
   "version": "3.12.3"
  }
 },
 "nbformat": 4,
 "nbformat_minor": 2
}
