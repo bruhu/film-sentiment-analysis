{
 "cells": [
  {
   "cell_type": "markdown",
   "metadata": {},
   "source": [
    "## Sentiment Analysis"
   ]
  },
  {
   "cell_type": "code",
   "execution_count": 1,
   "metadata": {},
   "outputs": [],
   "source": [
    "import pandas as pd\n",
    "import numpy as np\n",
    "import matplotlib.pyplot as plt\n",
    "import seaborn as sns\n",
    "import plotly.express as px\n",
    "from textblob import TextBlob\n",
    "import nltk\n",
    "import re"
   ]
  },
  {
   "cell_type": "code",
   "execution_count": 2,
   "metadata": {},
   "outputs": [],
   "source": [
    "movies = pd.read_csv('../data/clean/movie_df.csv')"
   ]
  },
  {
   "cell_type": "markdown",
   "metadata": {},
   "source": [
    "Explode columns"
   ]
  },
  {
   "cell_type": "code",
   "execution_count": null,
   "metadata": {},
   "outputs": [],
   "source": [
    "movies['events'] = movies['events'].str.split(',')  # Split by comma\n",
    "movies['genres'] = movies['genres'].str.split(',')  # Split by comma\n",
    "\n",
    "# Exploding both columns (this creates multiple rows for each combination of events and genres)\n",
    "df = movies.explode('events').explode('genres').reset_index(drop=True)\n",
    "\n",
    "# Show exploded DataFrame\n",
    "display(df)"
   ]
  },
  {
   "cell_type": "markdown",
   "metadata": {},
   "source": [
    "## Sentiment Analysis on Events\n",
    "Sentiment polarity ranges from -1 (negative sentiment) to +1 (positive sentiment). We can calculate the average sentiment per movie by aggregating the sentiments of its individual events."
   ]
  },
  {
   "cell_type": "code",
   "execution_count": null,
   "metadata": {},
   "outputs": [],
   "source": [
    "# calculate sentiment of each event\n",
    "def get_event_sentiment(event):\n",
    "    # a TextBlob object\n",
    "    blob = TextBlob(event)\n",
    "    # polarity score of the event (range is -1 to 1)\n",
    "    return blob.sentiment.polarity\n",
    "\n",
    "# Apply to the 'events' column\n",
    "df['event_sentiment'] = df['events'].apply(get_event_sentiment)\n",
    "\n",
    "# Check the DataFrame to confirm the sentiment analysis results\n",
    "print(df[['title', 'events', 'event_sentiment']])"
   ]
  },
  {
   "cell_type": "markdown",
   "metadata": {},
   "source": [
    "## Overall Sentiment for Each Movie\n",
    "Group by the movie's title and average the sentiment of the events related to that movie. Since the dataset has exploded rows, you can group the DataFrame by the title column."
   ]
  },
  {
   "cell_type": "code",
   "execution_count": null,
   "metadata": {},
   "outputs": [],
   "source": [
    "# Group by 'title' and calculate the average sentiment for each movie\n",
    "movie_sentiments = df.groupby('title')['event_sentiment'].mean().reset_index()\n",
    "\n",
    "# Check the sentiment scores for each movie\n",
    "print(movie_sentiments)\n"
   ]
  },
  {
   "cell_type": "markdown",
   "metadata": {},
   "source": [
    "One-Hot Encoding\n",
    "We will one-hot encode the genres, languages, and events columns to convert them into a format suitable for correlation analysis."
   ]
  },
  {
   "cell_type": "code",
   "execution_count": null,
   "metadata": {},
   "outputs": [],
   "source": [
    "# One-hot encoding categorical columns\n",
    "movies_encoded = pd.get_dummies(df, columns=['genres', 'language', 'events'])\n",
    "\n",
    "# Now, let's inspect the columns after encoding\n",
    "print(movies_encoded.head())"
   ]
  },
  {
   "cell_type": "markdown",
   "metadata": {},
   "source": [
    "Correlation Matrix\n",
    "Once the categorical data is encoded, you can compute the correlation matrix, which will show how the different variables are related to each other. The correlation will range from -1 to 1, where:\n",
    "\n",
    "1 means a perfect positive correlation\n",
    "-1 means a perfect negative correlation\n",
    "0 means no correlation"
   ]
  },
  {
   "cell_type": "code",
   "execution_count": null,
   "metadata": {},
   "outputs": [],
   "source": [
    "movies_numeric = movies_encoded.select_dtypes(include=['number'])\n",
    "\n",
    "# the correlation matrix for numeric columns\n",
    "correlation_matrix = movies_numeric.corr()\n",
    "\n",
    "print(correlation_matrix)\n",
    "\n",
    "# heatmap\n",
    "plt.figure(figsize=(14, 10))\n",
    "sns.heatmap(correlation_matrix, annot=True, cmap='coolwarm', fmt=\".2f\")\n",
    "plt.title(\"Correlation Matrix of Numeric Variables\")\n",
    "plt.show()\n"
   ]
  },
  {
   "cell_type": "markdown",
   "metadata": {},
   "source": []
  },
  {
   "cell_type": "code",
   "execution_count": null,
   "metadata": {},
   "outputs": [],
   "source": [
    "# Group by 'events' and calculate the average popularity and ratings for each event\n",
    "events_popularity_ratings = df.groupby('events').agg({\n",
    "    'popularity': 'mean',\n",
    "    'imdb_rating': 'mean',\n",
    "    'tmdb_rating': 'mean'\n",
    "}).reset_index()\n",
    "\n",
    "# Sort the result to check which events have higher popularity or ratings\n",
    "events_popularity_ratings_sorted = events_popularity_ratings.sort_values(by='popularity', ascending=False)\n",
    "\n",
    "# Display the top events with the highest popularity\n",
    "print(events_popularity_ratings_sorted.head())\n",
    "\n",
    "# Optional: Sort by IMDb and TMDB ratings as well\n",
    "events_sorted_by_imdb = events_popularity_ratings.sort_values(by='imdb_rating', ascending=False)\n",
    "events_sorted_by_tmdb = events_popularity_ratings.sort_values(by='tmdb_rating', ascending=False)\n",
    "\n",
    "# Display the top events by IMDb rating and TMDB rating\n",
    "print('Top events by IMDb rating:')\n",
    "print(events_sorted_by_imdb.head())\n",
    "\n",
    "print('Top events by TMDB rating:')\n",
    "print(events_sorted_by_tmdb.head())"
   ]
  },
  {
   "cell_type": "code",
   "execution_count": null,
   "metadata": {},
   "outputs": [],
   "source": [
    "# Group by 'language' and 'events' and count occurrences of each event per language\n",
    "events_per_language = df.groupby(['language', 'events']).size().reset_index(name='event_count')\n",
    "\n",
    "# Sort the events by event_count in descending order for each language\n",
    "events_per_language_sorted = events_per_language.sort_values(by=['language', 'event_count'], ascending=[True, False])\n",
    "\n",
    "# Display the most common events per language\n",
    "print(events_per_language_sorted.head(20))  # Display top 20 events for brevity"
   ]
  },
  {
   "cell_type": "code",
   "execution_count": null,
   "metadata": {},
   "outputs": [],
   "source": [
    "# Calculate the average IMDb rating per language\n",
    "avg_imdb_ratings = df.groupby('language')['imdb_rating'].mean().reset_index()\n",
    "\n",
    "# Sort the languages by average IMDb rating in descending order\n",
    "avg_imdb_ratings_sorted = avg_imdb_ratings.sort_values(by='imdb_rating', ascending=False)\n",
    "\n",
    "# Display the languages with higher average IMDb ratings\n",
    "print(avg_imdb_ratings_sorted.head(10))  # Display top 10 languages with higher ratings"
   ]
  },
  {
   "cell_type": "markdown",
   "metadata": {},
   "source": [
    "Sentiment Distribution by Language\n",
    "Goal: Understand how sentiment varies across different languages.\n",
    "Approach: Group the data by language and calculate the average sentiment score for each language. You can then analyze the languages with the most positive or negative sentiments."
   ]
  },
  {
   "cell_type": "code",
   "execution_count": null,
   "metadata": {},
   "outputs": [],
   "source": [
    "avg_sentiment_by_language = df.groupby('language')['event_sentiment'].mean().reset_index()\n",
    "avg_sentiment_by_language_sorted = avg_sentiment_by_language.sort_values(by='event_sentiment', ascending=False)\n",
    "print(avg_sentiment_by_language_sorted.head())\n"
   ]
  },
  {
   "cell_type": "markdown",
   "metadata": {},
   "source": [
    " Sentiment by Genre\n",
    "Goal: Determine if certain genres have more positive or negative sentiments.\n",
    "Approach: Group the data by genres and calculate the average sentiment for each genre. You could also check how sentiment changes over time for each genre."
   ]
  },
  {
   "cell_type": "code",
   "execution_count": null,
   "metadata": {},
   "outputs": [],
   "source": [
    "avg_sentiment_by_genre = df.groupby('genres')['event_sentiment'].mean().reset_index()\n",
    "avg_sentiment_by_genre_sorted = avg_sentiment_by_genre.sort_values(by='event_sentiment', ascending=False)\n",
    "print(avg_sentiment_by_genre_sorted.head())\n"
   ]
  },
  {
   "cell_type": "markdown",
   "metadata": {},
   "source": [
    "Sentiment Over Time\n",
    "Goal: Track sentiment trends over the years and see if it is improving or declining.\n",
    "Approach: Group the data by release year and calculate the average sentiment for each year."
   ]
  },
  {
   "cell_type": "code",
   "execution_count": null,
   "metadata": {},
   "outputs": [],
   "source": [
    "avg_sentiment_by_year = df.groupby('release_year')['event_sentiment'].mean().reset_index()\n",
    "avg_sentiment_by_year_sorted = avg_sentiment_by_year.sort_values(by='release_year')\n",
    "print(avg_sentiment_by_year_sorted.head())"
   ]
  },
  {
   "cell_type": "markdown",
   "metadata": {},
   "source": [
    "Correlation Between Sentiment and Popularity/Ratings\n",
    "Goal: Investigate if there is a correlation between event sentiment and movie popularity/ratings.\n",
    "Approach: Calculate the correlation between event_sentiment, popularity, and ratings (imdb_rating, tmdb_rating)."
   ]
  },
  {
   "cell_type": "code",
   "execution_count": null,
   "metadata": {},
   "outputs": [],
   "source": [
    "correlation = df[['event_sentiment', 'popularity', 'imdb_rating', 'tmdb_rating']].corr()\n",
    "print(correlation)"
   ]
  },
  {
   "cell_type": "markdown",
   "metadata": {},
   "source": [
    " Popularity vs. Genre Sentiment\n",
    "Goal: See if more popular genres tend to have higher or lower sentiment scores.\n",
    "Approach: Group by genre and calculate the average popularity and average sentiment for each genre."
   ]
  },
  {
   "cell_type": "code",
   "execution_count": null,
   "metadata": {},
   "outputs": [],
   "source": [
    "genre_popularity_sentiment = df.groupby('genres').agg({\n",
    "    'popularity': 'mean',\n",
    "    'event_sentiment': 'mean'\n",
    "}).reset_index()\n",
    "genre_popularity_sentiment_sorted = genre_popularity_sentiment.sort_values(by='popularity', ascending=False)\n",
    "print(genre_popularity_sentiment_sorted.head())"
   ]
  },
  {
   "cell_type": "markdown",
   "metadata": {},
   "source": [
    "Sentiment for Events\n",
    "Goal: See if certain types of events have a strong positive or negative sentiment.\n",
    "Approach: Group by event type and calculate the average sentiment score for each event type."
   ]
  },
  {
   "cell_type": "code",
   "execution_count": null,
   "metadata": {},
   "outputs": [],
   "source": [
    "avg_sentiment_by_event = df.groupby('events')['event_sentiment'].mean().reset_index()\n",
    "avg_sentiment_by_event_sorted = avg_sentiment_by_event.sort_values(by='event_sentiment', ascending=False)\n",
    "print(avg_sentiment_by_event_sorted.head())"
   ]
  },
  {
   "cell_type": "markdown",
   "metadata": {},
   "source": [
    "Sentiment Across Different Rating Platforms (IMDB vs. TMDB)\n",
    "Goal: Compare how sentiment correlates with ratings from different platforms (IMDB and TMDB).\n",
    "Approach: Calculate the correlation between event_sentiment, imdb_rating, and tmdb_rating."
   ]
  },
  {
   "cell_type": "code",
   "execution_count": null,
   "metadata": {},
   "outputs": [],
   "source": [
    "sentiment_vs_ratings = df[['event_sentiment', 'imdb_rating', 'tmdb_rating']].corr()\n",
    "print(sentiment_vs_ratings)"
   ]
  },
  {
   "cell_type": "markdown",
   "metadata": {},
   "source": [
    "Profitability vs. Sentiment\n",
    "Goal: Explore how event sentiment correlates with a movie’s profitability (profit = revenue - budget).\n",
    "Approach: Calculate the correlation between event_sentiment and the profit column.\n",
    "python\n",
    "\n"
   ]
  },
  {
   "cell_type": "code",
   "execution_count": null,
   "metadata": {},
   "outputs": [],
   "source": [
    "df['profit'] = df['revenue'] - df['budget']\n",
    "sentiment_vs_profit = df[['event_sentiment', 'profit']].corr()\n",
    "print(sentiment_vs_profit)\n"
   ]
  },
  {
   "cell_type": "markdown",
   "metadata": {},
   "source": [
    "Sentiment by Director\n",
    "Goal: Explore if certain directors tend to create movies with more positive or negative sentiment.\n",
    "Approach: Group the data by director and calculate the average sentiment for each director."
   ]
  },
  {
   "cell_type": "code",
   "execution_count": null,
   "metadata": {},
   "outputs": [],
   "source": [
    "avg_sentiment_by_director = df.groupby('director')['event_sentiment'].mean().reset_index()\n",
    "avg_sentiment_by_director_sorted = avg_sentiment_by_director.sort_values(by='event_sentiment', ascending=False)\n",
    "print(avg_sentiment_by_director_sorted.head())\n"
   ]
  },
  {
   "cell_type": "markdown",
   "metadata": {},
   "source": [
    "Sentiment Distribution\n",
    "Goal: Understand the overall distribution of sentiment scores (e.g., do most events have neutral sentiment, or are they generally positive or negative?).\n",
    "Approach: Plot a histogram of event_sentiment to visualize its distribution."
   ]
  },
  {
   "cell_type": "code",
   "execution_count": null,
   "metadata": {},
   "outputs": [],
   "source": [
    "import matplotlib.pyplot as plt\n",
    "\n",
    "# Plot histogram of event sentiment\n",
    "plt.hist(df['event_sentiment'], bins=30, edgecolor='black')\n",
    "plt.title('Event Sentiment Distribution')\n",
    "plt.xlabel('Sentiment')\n",
    "plt.ylabel('Frequency')\n",
    "plt.show()\n"
   ]
  },
  {
   "cell_type": "markdown",
   "metadata": {},
   "source": [
    "Comparing Sentiment Across Popular and Less Popular Movies\n",
    "Goal: See if more popular movies (based on popularity) tend to have higher or lower sentiment.\n",
    "Approach: Create two groups: high popularity (e.g., popularity > 50) and low popularity (e.g., popularity <= 50). Compare their average sentiments."
   ]
  },
  {
   "cell_type": "code",
   "execution_count": null,
   "metadata": {},
   "outputs": [],
   "source": [
    "high_popularity = df[df['popularity'] > 50]\n",
    "low_popularity = df[df['popularity'] <= 50]\n",
    "\n",
    "avg_sentiment_high_pop = high_popularity['event_sentiment'].mean()\n",
    "avg_sentiment_low_pop = low_popularity['event_sentiment'].mean()\n",
    "\n",
    "print(f\"Average sentiment for high popularity movies: {avg_sentiment_high_pop}\")\n",
    "print(f\"Average sentiment for low popularity movies: {avg_sentiment_low_pop}\")\n"
   ]
  },
  {
   "cell_type": "markdown",
   "metadata": {},
   "source": [
    "Summary of Useful Calculations:\n",
    "Sentiment by language: Understand which languages tend to have more positive or negative sentiments.\n",
    "Sentiment by genre: See if certain genres are associated with specific sentiment scores.\n",
    "Sentiment trends over time: Track changes in sentiment over the years.\n",
    "Sentiment vs. ratings: Explore how sentiment correlates with IMDB, TMDB ratings, and popularity.\n",
    "Sentiment by director: Find out if certain directors consistently make movies with a specific sentiment.\n",
    "Profitability vs. sentiment: Investigate the relationship between sentiment and a movie’s profitability.\n",
    "These calculations will help you identify patterns in the data and might also provide valuable insights to refine your sentiment analysis. You can further analyze the correlations to spot trends that could drive recommendations or predictions based on sentiment."
   ]
  },
  {
   "cell_type": "markdown",
   "metadata": {},
   "source": [
    "Check which languages have the higher amount of events\n",
    "We can group the data by language and count the number of occurrences of events for each language. This will allow us to see which languages are associated with more events."
   ]
  },
  {
   "cell_type": "code",
   "execution_count": null,
   "metadata": {},
   "outputs": [],
   "source": [
    "# Count the number of events per language\n",
    "event_count_by_language = df.groupby('language')['events'].count().reset_index()\n",
    "event_count_by_language_sorted = event_count_by_language.sort_values(by='events', ascending=False)\n",
    "\n",
    "# Display the results\n",
    "print(event_count_by_language_sorted.head())\n"
   ]
  },
  {
   "cell_type": "markdown",
   "metadata": {},
   "source": [
    "Check if there's any correlation between high ratings and certain types of events\n",
    "We'll calculate the correlation between event sentiment (or other metrics like imdb_rating, tmdb_rating) and different event types. This could help us identify if certain types of events (e.g., \"flashing lights\" or \"blood or gore\") are linked to higher ratings or popularity.\n",
    "\n",
    "We can look at the correlation between event types and ratings by using the following steps:\n",
    "\n",
    "a. Encode the events into a numeric format, so we can calculate correlations.\n",
    "We need to create dummy variables for the events column, turning each event type into a separate binary column (i.e., 1 if the event occurred, 0 if it did not).\n",
    "\n",
    "b. Then calculate the correlation between the encoded event types and ratings."
   ]
  },
  {
   "cell_type": "code",
   "execution_count": null,
   "metadata": {},
   "outputs": [],
   "source": [
    "# Create dummy variables for the events column (one-hot encoding)\n",
    "events_encoded = pd.get_dummies(df['events'])\n",
    "\n",
    "# Add the ratings (IMDB and TMDB) to the encoded DataFrame\n",
    "events_with_ratings = pd.concat([events_encoded, df['imdb_rating'], df['tmdb_rating']], axis=1)\n",
    "\n",
    "# Calculate the correlation matrix\n",
    "correlation_matrix = events_with_ratings.corr()\n",
    "\n",
    "# Display the correlation matrix\n",
    "print(correlation_matrix)\n"
   ]
  },
  {
   "cell_type": "markdown",
   "metadata": {},
   "source": [
    "This will give us a correlation matrix showing how different event types are correlated with the IMDB and TMDB ratings. Higher positive correlations would indicate that certain types of events are more likely to appear in higher-rated movies.\n",
    "\n",
    "Analysis:\n",
    "If you see strong correlations between event types (e.g., \"car crashes\" or \"blood or gore\") and high ratings, you can investigate further whether those types of events are popular in blockbuster movies.\n",
    "If certain event types have negative correlations with ratings, it might suggest that those events are not typically associated with highly rated movies."
   ]
  }
 ],
 "metadata": {
  "kernelspec": {
   "display_name": "movie_env",
   "language": "python",
   "name": "python3"
  },
  "language_info": {
   "codemirror_mode": {
    "name": "ipython",
    "version": 3
   },
   "file_extension": ".py",
   "mimetype": "text/x-python",
   "name": "python",
   "nbconvert_exporter": "python",
   "pygments_lexer": "ipython3",
   "version": "3.12.3"
  }
 },
 "nbformat": 4,
 "nbformat_minor": 2
}
