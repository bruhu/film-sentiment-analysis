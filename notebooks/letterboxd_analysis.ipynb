{
 "cells": [
  {
   "cell_type": "markdown",
   "metadata": {},
   "source": [
    "# Letterboxd Clean Films Dataset Summary\n",
    "\n",
    "## General Information\n",
    "- **Number of Rows**: 18,184  \n",
    "- **Number of Columns**: 16  \n",
    "\n",
    "## Key Insights\n",
    "- **Languages**: 137 unique languages  \n",
    "- **Countries**: 126 unique countries  \n",
    "- **Genres**: 19 unique genres  \n",
    "\n",
    "## Runtime Statistics\n",
    "- **Shortest Film Runtime**: 40 minutes  \n",
    "- **Longest Film Runtime**: 300 minutes  \n",
    "\n",
    "## Release Year Range\n",
    "- **Earliest Year**: 1911  \n",
    "- **Latest Year**: 2024  \n",
    "\n",
    "## Columns in the Dataset\n",
    "1. `letterboxd_id` - Unique ID for the film  \n",
    "2. `title` - Title of the film  \n",
    "3. `release_year` - Year the film was released  \n",
    "4. `tagline` - Film tagline  \n",
    "5. `summary` - Brief summary or description  \n",
    "6. `runtime` - Duration of the film (in minutes)  \n",
    "7. `letterboxd_rating` - Average Letterboxd rating  \n",
    "8. `genres` - Film genres (comma-separated)  \n",
    "9. `language` - Languages spoken in the film (comma-separated)  \n",
    "10. `countries` - Countries of origin (comma-separated)  \n",
    "11. `themes` - Themes or topics covered in the film  \n",
    "12. `director` - Film director(s)  \n",
    "13. `topics` - Additional topics (if any)  \n",
    "14. `doesthedog_id` - Reference ID for content warnings  \n",
    "15. `events` - Specific events or warnings associated with the film  \n",
    "16. `has_warnings` - Boolean flag indicating content warnings  \n",
    "\n",
    "---\n",
    "\n",
    "## Notes\n",
    "- **Dataset Cleaning**:  \n",
    "  - Films with runtimes exceeding 300 minutes were excluded as likely outliers (e.g., TV series or incorrect entries).  \n",
    "- **Data Coverage**:  \n",
    "  - The dataset spans over a century of cinema, from **1911 to 2024**.  \n",
    "  - Includes a diverse range of films across **137 languages**, **126 countries**, and **19 genres**.\n"
   ]
  },
  {
   "cell_type": "code",
   "execution_count": 45,
   "metadata": {},
   "outputs": [],
   "source": [
    "import pandas as pd\n",
    "import numpy as np\n",
    "import matplotlib.pyplot as plt\n",
    "import seaborn as sns\n",
    "from scipy.stats import ttest_ind\n",
    "import plotly.express as px\n",
    "import ast\n",
    "from collections import Counter"
   ]
  },
  {
   "cell_type": "code",
   "execution_count": 46,
   "metadata": {},
   "outputs": [],
   "source": [
    "import sys\n",
    "sys.path.append('../utils')\n",
    "sys.path.append('../scripts')\n",
    "import data_cleaning\n",
    "import data_inspection\n",
    "import content_tagging"
   ]
  },
  {
   "cell_type": "code",
   "execution_count": 47,
   "metadata": {},
   "outputs": [],
   "source": [
    "films = pd.read_csv('../data/clean/letterboxd_clean_films.csv')"
   ]
  },
  {
   "cell_type": "code",
   "execution_count": null,
   "metadata": {},
   "outputs": [],
   "source": [
    "data_inspection.show_basic_info(films)"
   ]
  },
  {
   "cell_type": "code",
   "execution_count": null,
   "metadata": {},
   "outputs": [],
   "source": [
    "print(films.info())"
   ]
  },
  {
   "cell_type": "code",
   "execution_count": null,
   "metadata": {},
   "outputs": [],
   "source": [
    "# filter out films above a 5h runtime threshold\n",
    "max_film_runtime = 300\n",
    "\n",
    "films = films[films['runtime'] <= max_film_runtime]\n",
    "\n",
    "new_longest_runtime = films['runtime'].max()\n",
    "print(f'Longest Film Runtime After Cleaning: {new_longest_runtime} minutes')"
   ]
  },
  {
   "cell_type": "markdown",
   "metadata": {},
   "source": [
    "Dataframe overview"
   ]
  },
  {
   "cell_type": "code",
   "execution_count": null,
   "metadata": {},
   "outputs": [],
   "source": [
    "num_rows, num_cols = films.shape\n",
    "print(f'Number of Rows: {num_rows}')\n",
    "print(f'Number of Columns: {num_cols}')\n",
    "\n",
    "# languages\n",
    "languages = films['language'].dropna().str.split(',').explode().str.strip()\n",
    "unique_languages = languages.nunique()\n",
    "print(f'Number of Languages: {unique_languages}')\n",
    "\n",
    "# countries\n",
    "countries = films['countries'].dropna().str.split(',').explode().str.strip()\n",
    "unique_countries = countries.nunique()\n",
    "print(f'Number of Countries: {unique_countries}')\n",
    "\n",
    "# genres\n",
    "genres = films['genres'].dropna().str.split(',').explode().str.strip()\n",
    "unique_genres = genres.nunique()\n",
    "print(f'Number of Genres: {unique_genres}')\n",
    "\n",
    "# earliest and latest year\n",
    "earliest_year = films['release_year'].min()\n",
    "latest_year = films['release_year'].max()\n",
    "print(f'Earliest Year: {earliest_year}')\n",
    "print(f'Latest Year: {latest_year}')\n",
    "\n",
    "# longest and shortest runtime\n",
    "shortest_runtime = films['runtime'].min()\n",
    "longest_runtime = films['runtime'].max()\n",
    "print(f\"Shortest Runtime: {shortest_runtime} minutes\")\n",
    "print(f\"Longest Runtime: {longest_runtime} minutes\")"
   ]
  }
 ],
 "metadata": {
  "kernelspec": {
   "display_name": "movie_env",
   "language": "python",
   "name": "python3"
  },
  "language_info": {
   "codemirror_mode": {
    "name": "ipython",
    "version": 3
   },
   "file_extension": ".py",
   "mimetype": "text/x-python",
   "name": "python",
   "nbconvert_exporter": "python",
   "pygments_lexer": "ipython3",
   "version": "3.12.3"
  }
 },
 "nbformat": 4,
 "nbformat_minor": 2
}
