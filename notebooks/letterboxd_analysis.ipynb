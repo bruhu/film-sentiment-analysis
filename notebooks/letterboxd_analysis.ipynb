{
 "cells": [
  {
   "cell_type": "markdown",
   "metadata": {},
   "source": [
    "## Film Analysis\n",
    "\n",
    "The dataset **tmdb_clean_films.csv** contains **9785 rows** and **24 columns** with films released between **1906 and 2024**.\n",
    "\n",
    "### Questions to Explore:\n",
    "1. **Sentiment Scores**:  \n",
    "   - Compare sentiment scores across genres.  \n",
    "   - Investigate differences in sentiment between movies **with** and **without trigger warnings**.\n",
    "\n",
    "2. **Sentiment and Reviews**:  \n",
    "   - Analyze if there is a noticeable difference in sentiment of movie reviews based on **genre** and **trigger warnings**.\n",
    "\n",
    "3. **Correlations**:  \n",
    "   - Explore correlations between **sentiment scores**, **movie ratings**, and **box office earnings**.\n",
    "\n",
    "4. **Impact of Trigger Warnings on Ratings**:  \n",
    "   - Analyze how the presence of trigger warnings influences movie ratings across platforms (e.g., **IMDb**, **Rotten Tomatoes**).  \n",
    "   - Use trigger warnings as a categorical variable to compare movie ratings for films **with** and **without trigger warnings**.\n",
    "\n",
    "5. **Statistical Testing**:  \n",
    "   - Conduct statistical tests like **t-tests** or **ANOVA** to determine if there’s a significant difference in ratings based on trigger warnings.\n",
    "\n",
    "6. **Visualizations**:  \n",
    "   - Create visualizations to illustrate relationships, including:  \n",
    "     - **Box plots**  \n",
    "     - **Histograms**  \n",
    "     - **Scatter plots**\n",
    "\n",
    "7. **Additional Analysis**:  \n",
    "   - Perform correlation analysis, hypothesis testing, and trend detection."
   ]
  },
  {
   "cell_type": "code",
   "execution_count": 1,
   "metadata": {},
   "outputs": [],
   "source": [
    "import pandas as pd\n",
    "import numpy as np\n",
    "import matplotlib.pyplot as plt\n",
    "import seaborn as sns\n",
    "from scipy.stats import ttest_ind\n",
    "import plotly.express as px\n",
    "import ast\n",
    "from collections import Counter"
   ]
  },
  {
   "cell_type": "code",
   "execution_count": 2,
   "metadata": {},
   "outputs": [],
   "source": [
    "import sys\n",
    "sys.path.append('../utils')\n",
    "sys.path.append('../scripts')\n",
    "import data_cleaning\n",
    "import data_inspection\n",
    "import content_tagging"
   ]
  },
  {
   "cell_type": "code",
   "execution_count": 3,
   "metadata": {},
   "outputs": [],
   "source": [
    "films = pd.read_csv('../data/clean/letterboxd_clean_films.csv')"
   ]
  },
  {
   "cell_type": "code",
   "execution_count": null,
   "metadata": {},
   "outputs": [],
   "source": [
    "data_inspection.show_basic_info(films)"
   ]
  },
  {
   "cell_type": "code",
   "execution_count": null,
   "metadata": {},
   "outputs": [],
   "source": [
    "print(films.info())\n",
    "print(films.describe())"
   ]
  }
 ],
 "metadata": {
  "kernelspec": {
   "display_name": "movie_env",
   "language": "python",
   "name": "python3"
  },
  "language_info": {
   "codemirror_mode": {
    "name": "ipython",
    "version": 3
   },
   "file_extension": ".py",
   "mimetype": "text/x-python",
   "name": "python",
   "nbconvert_exporter": "python",
   "pygments_lexer": "ipython3",
   "version": "3.12.3"
  }
 },
 "nbformat": 4,
 "nbformat_minor": 2
}
