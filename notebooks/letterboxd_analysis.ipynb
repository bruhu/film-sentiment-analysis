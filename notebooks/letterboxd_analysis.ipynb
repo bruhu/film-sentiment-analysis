{
 "cells": [
  {
   "cell_type": "markdown",
   "metadata": {},
   "source": [
    "## Film Analysis\n",
    "\n",
    "The dataset **tmdb_clean_films.csv** contains **9785 rows** and **24 columns** with films released between **1906 and 2024**.\n",
    "\n",
    "### Questions to Explore:\n",
    "1. **Sentiment Scores**:  \n",
    "   - Compare sentiment scores across genres.  \n",
    "   - Investigate differences in sentiment between movies **with** and **without trigger warnings**.\n",
    "\n",
    "2. **Sentiment and Reviews**:  \n",
    "   - Analyze if there is a noticeable difference in sentiment of movie reviews based on **genre** and **trigger warnings**.\n",
    "\n",
    "3. **Correlations**:  \n",
    "   - Explore correlations between **sentiment scores**, **movie ratings**, and **box office earnings**.\n",
    "\n",
    "4. **Impact of Trigger Warnings on Ratings**:  \n",
    "   - Analyze how the presence of trigger warnings influences movie ratings across platforms (e.g., **IMDb**, **Rotten Tomatoes**).  \n",
    "   - Use trigger warnings as a categorical variable to compare movie ratings for films **with** and **without trigger warnings**.\n",
    "\n",
    "5. **Statistical Testing**:  \n",
    "   - Conduct statistical tests like **t-tests** or **ANOVA** to determine if there’s a significant difference in ratings based on trigger warnings.\n",
    "\n",
    "6. **Visualizations**:  \n",
    "   - Create visualizations to illustrate relationships, including:  \n",
    "     - **Box plots**  \n",
    "     - **Histograms**  \n",
    "     - **Scatter plots**\n",
    "\n",
    "7. **Additional Analysis**:  \n",
    "   - Perform correlation analysis, hypothesis testing, and trend detection."
   ]
  },
  {
   "cell_type": "code",
   "execution_count": 1,
   "metadata": {},
   "outputs": [],
   "source": [
    "import pandas as pd\n",
    "import numpy as np\n",
    "import matplotlib.pyplot as plt\n",
    "import seaborn as sns\n",
    "from scipy.stats import ttest_ind\n",
    "import plotly.express as px\n",
    "import pandas as pd\n",
    "import numpy as np\n",
    "import matplotlib.pyplot as plt\n",
    "import matplotlib.pyplot as plt\n",
    "import seaborn as sns\n",
    "import ast\n",
    "from collections import Counter\n"
   ]
  },
  {
   "cell_type": "code",
   "execution_count": 2,
   "metadata": {},
   "outputs": [],
   "source": [
    "import sys\n",
    "sys.path.append('../utils')\n",
    "sys.path.append('../scripts')\n",
    "import data_cleaning\n",
    "import data_inspection\n",
    "import content_tagging"
   ]
  },
  {
   "cell_type": "code",
   "execution_count": 3,
   "metadata": {},
   "outputs": [],
   "source": [
    "films = pd.read_csv('../data/clean/letterboxd_clean_films.csv')"
   ]
  },
  {
   "cell_type": "code",
   "execution_count": null,
   "metadata": {},
   "outputs": [],
   "source": [
    "data_inspection.show_basic_info(films)"
   ]
  },
  {
   "cell_type": "code",
   "execution_count": null,
   "metadata": {},
   "outputs": [],
   "source": [
    "print(films.info())\n",
    "print(films.describe())"
   ]
  },
  {
   "cell_type": "markdown",
   "metadata": {},
   "source": [
    "### Basic Stats and Distributions"
   ]
  },
  {
   "cell_type": "code",
   "execution_count": null,
   "metadata": {},
   "outputs": [],
   "source": [
    "# Distribution of ratings\n",
    "sns.histplot(films['letterboxd_rating'], bins=20, kde=True)\n",
    "plt.title(\"Distribution of Movie Ratings\")\n",
    "plt.show()"
   ]
  },
  {
   "cell_type": "code",
   "execution_count": null,
   "metadata": {},
   "outputs": [],
   "source": [
    "# Distribution of runtime\n",
    "sns.histplot(films['runtime'], bins=20, kde=True, color='orange')\n",
    "plt.title(\"Distribution of Movie Runtime\")\n",
    "plt.show()"
   ]
  },
  {
   "cell_type": "code",
   "execution_count": null,
   "metadata": {},
   "outputs": [],
   "source": [
    "# Movies per release year\n",
    "plt.figure(figsize=(10, 6))\n",
    "sns.countplot(x='release_year', data=films, palette='viridis')\n",
    "plt.xticks(rotation=45)\n",
    "plt.title(\"Number of Movies Released Over Time\")\n",
    "plt.show()"
   ]
  },
  {
   "cell_type": "code",
   "execution_count": null,
   "metadata": {},
   "outputs": [],
   "source": [
    "# Check basic stats for numerical columns\n",
    "numerical_cols = ['letterboxd_rating', 'runtime', 'release_year']\n",
    "print(films[numerical_cols].describe())\n",
    "\n",
    "# Check null counts and data distribution\n",
    "print(films.isnull().sum())"
   ]
  },
  {
   "cell_type": "markdown",
   "metadata": {},
   "source": [
    "### Correlaction analysis"
   ]
  },
  {
   "cell_type": "code",
   "execution_count": null,
   "metadata": {},
   "outputs": [],
   "source": [
    "# Select only numeric columns\n",
    "numeric_columns = films.select_dtypes(include=['number']).columns\n",
    "\n",
    "# Calculate correlation matrix for numeric columns only\n",
    "correlation_matrix = films[numeric_columns].corr()\n",
    "\n",
    "# Display heatmap of correlations\n",
    "plt.figure(figsize=(8, 6))\n",
    "sns.heatmap(correlation_matrix, annot=True, cmap='coolwarm')\n",
    "plt.title(\"Correlation Matrix\")\n",
    "plt.show()\n"
   ]
  },
  {
   "cell_type": "markdown",
   "metadata": {},
   "source": [
    "### Handling multi-value columns"
   ]
  },
  {
   "cell_type": "code",
   "execution_count": null,
   "metadata": {},
   "outputs": [],
   "source": [
    "# Define a function to split and count values in a column\n",
    "def split_and_count(column):\n",
    "    all_values = films[column].dropna().str.split(',').sum()\n",
    "    return pd.Series(Counter(map(str.strip, all_values))).sort_values(ascending=False)\n",
    "\n",
    "# Analyze 'genres'\n",
    "genre_counts = split_and_count('genres')\n",
    "print(\"Top 10 Genres:\")\n",
    "display(genre_counts.head(10))\n",
    "\n",
    "# Analyze 'countries'\n",
    "country_counts = split_and_count('countries')\n",
    "print(\"\\nTop 10 Countries:\")\n",
    "display(country_counts.head(10))\n",
    "\n",
    "# Analyze 'languages'\n",
    "language_counts = split_and_count('language')\n",
    "print(\"\\nTop 10 Languages:\")\n",
    "display(language_counts.head(10))\n",
    "\n",
    "# Analyze 'events'\n",
    "events_counts = split_and_count('events')\n",
    "print(\"\\nTop 10 Events:\")\n",
    "display(events_counts.head(10))\n",
    "\n"
   ]
  },
  {
   "cell_type": "code",
   "execution_count": null,
   "metadata": {},
   "outputs": [],
   "source": [
    "# Plot the top genres\n",
    "plt.figure(figsize=(10, 6))\n",
    "genre_counts.head(10).plot(kind='bar', color='skyblue')\n",
    "plt.title(\"Top 10 Genres\")\n",
    "plt.show()"
   ]
  },
  {
   "cell_type": "markdown",
   "metadata": {},
   "source": [
    "### Trends Across Different Columns"
   ]
  },
  {
   "cell_type": "markdown",
   "metadata": {},
   "source": [
    "How Ratings Vary by Release Year"
   ]
  },
  {
   "cell_type": "code",
   "execution_count": null,
   "metadata": {},
   "outputs": [],
   "source": [
    "plt.figure(figsize=(12, 6))\n",
    "sns.lineplot(x='release_year', y='letterboxd_rating', data=films, ci=None)\n",
    "plt.title(\"Average Rating by Release Year\")\n",
    "plt.show()"
   ]
  },
  {
   "cell_type": "markdown",
   "metadata": {},
   "source": [
    "Most Common Themes Over Time"
   ]
  },
  {
   "cell_type": "markdown",
   "metadata": {},
   "source": [
    "Convert String Representations to Lists"
   ]
  },
  {
   "cell_type": "code",
   "execution_count": 14,
   "metadata": {},
   "outputs": [],
   "source": [
    "# Convert the string representation of lists to actual Python lists\n",
    "films['themes'] = films['themes'].apply(lambda x: ast.literal_eval(x) if isinstance(x, str) else x)\n"
   ]
  },
  {
   "cell_type": "markdown",
   "metadata": {},
   "source": [
    "Count Themes Across the Dataset"
   ]
  },
  {
   "cell_type": "code",
   "execution_count": null,
   "metadata": {},
   "outputs": [],
   "source": [
    "# Flatten the lists in the 'themes' column and count occurrences\n",
    "all_themes = films['themes'].dropna().explode().str.strip()  # Drop NaNs, explode lists to rows, and strip whitespace\n",
    "\n",
    "# Count occurrences of each theme\n",
    "themes_counts = all_themes.value_counts().sort_values(ascending=False)\n",
    "\n",
    "# Show the top 10 themes\n",
    "print(\"Top 10 Themes:\")\n",
    "print(themes_counts.head(10))\n",
    "\n",
    "# Plot the top 10 themes\n",
    "plt.figure(figsize=(10, 6))\n",
    "themes_counts.head(10).plot(kind='bar', color='salmon')\n",
    "plt.title(\"Top 10 Themes\")\n",
    "plt.show()\n"
   ]
  },
  {
   "cell_type": "markdown",
   "metadata": {},
   "source": [
    "Analyzing Other Columns"
   ]
  },
  {
   "cell_type": "code",
   "execution_count": null,
   "metadata": {},
   "outputs": [],
   "source": [
    "# Split genres and clean up the spaces\n",
    "films['genres'] = films['genres'].apply(lambda x: [genre.strip() for genre in x.split(',')] if isinstance(x, str) else [])\n",
    "\n",
    "# Now we can explode the genres and count them\n",
    "all_genres = films['genres'].dropna().explode().str.strip()\n",
    "genre_counts = all_genres.value_counts().sort_values(ascending=False)\n",
    "\n",
    "# Show the top 10 genres\n",
    "print(\"Top 10 Genres:\")\n",
    "print(genre_counts.head(10))\n",
    "\n",
    "# Plot the top 10 genres\n",
    "\n",
    "\n",
    "plt.figure(figsize=(10, 6))\n",
    "genre_counts.head(10).plot(kind='bar', color='lightblue')\n",
    "plt.title(\"Top 10 Genres\")\n",
    "plt.xlabel(\"Genre\")\n",
    "plt.ylabel(\"Count\")\n",
    "plt.xticks(rotation=45)\n",
    "plt.show()\n"
   ]
  },
  {
   "cell_type": "markdown",
   "metadata": {},
   "source": [
    "Trends Over Time Based on Themes"
   ]
  },
  {
   "cell_type": "code",
   "execution_count": null,
   "metadata": {},
   "outputs": [],
   "source": [
    "# Check the first few rows of the films DataFrame to inspect 'release_year' and 'themes'\n",
    "print(films.head())\n",
    "\n",
    "# Check if 'themes' column exists and is not empty\n",
    "print(films['themes'].isna().sum())  # Check how many rows have missing themes\n",
    "print(films['release_year'].isna().sum())  # Check how many rows have missing release_year\n",
    "\n",
    "# Exploding the themes into separate rows (if not done already)\n",
    "films['themes'] = films['themes'].apply(lambda x: eval(x) if isinstance(x, str) else [])\n",
    "films_with_themes = films[films['themes'].notna()]\n",
    "\n",
    "# Exploding the themes column to create individual rows for each theme\n",
    "exploded_themes = films_with_themes.explode('themes')\n",
    "\n",
    "# Check the result of explosion\n",
    "print(exploded_themes.head())\n",
    "\n",
    "# Now, group by 'release_year' and 'themes' to count occurrences\n",
    "theme_trends_by_year = exploded_themes.groupby(['release_year', 'themes']).size().unstack(fill_value=0)\n",
    "\n",
    "# Check the grouped data structure\n",
    "print(theme_trends_by_year.head())\n",
    "\n",
    "# Ensure all values are numeric and fill NaN with 0 if any\n",
    "theme_trends_by_year = theme_trends_by_year.apply(pd.to_numeric, errors='coerce').fillna(0)\n",
    "\n",
    "# Check again if data is ready for plotting\n",
    "print(theme_trends_by_year.head())\n",
    "\n",
    "\n"
   ]
  },
  {
   "cell_type": "markdown",
   "metadata": {},
   "source": [
    "To analyze the correlation between genres and themes and explore how they affect ratings, we need to:\n",
    "\n",
    "Prepare the Data:\n",
    "\n",
    "Genres: Split the genre column (where genres are separated by commas) into separate binary columns, indicating the presence of each genre.\n",
    "Themes: We'll explode the themes column into individual rows, as you have already done, but this time we'll keep track of the corresponding genre for each movie.\n",
    "Aggregate the Data:\n",
    "\n",
    "Group by both genre and theme to count the occurrences of each theme per genre.\n",
    "Group by genre and calculate the average ratings for each genre, so we can examine the relationship between themes and ratings.\n",
    "Calculate the Correlation:\n",
    "\n",
    "We can compute the correlation between the themes' presence in each genre and the ratings.\n",
    "Let's go step by step:\n",
    "\n",
    "Step 1: Preprocessing\n",
    "Split Genres into binary columns.\n",
    "Explode Themes and associate each theme with the respective genre and rating.\n",
    "Step 2: Group and Aggregate\n",
    "Count the occurrences of each theme per genre.\n",
    "Group by genre and calculate the average rating per genre.\n",
    "Step 3: Correlation\n",
    "Correlate theme counts with ratings.\n"
   ]
  },
  {
   "cell_type": "code",
   "execution_count": 18,
   "metadata": {},
   "outputs": [],
   "source": [
    "\n",
    "\n",
    "# 1. Split genres into binary columns\n",
    "genre_dummies = films['genres'].str.get_dummies(sep=',').add_prefix('genre_')\n",
    "\n",
    "# 2. Explode themes\n",
    "films['themes'] = films['themes'].apply(lambda x: eval(x) if isinstance(x, str) else [])\n",
    "exploded_themes = films.explode('themes')\n",
    "\n",
    "# 3. Now, associate each exploded theme with the genres and ratings\n",
    "expanded_genres = genre_dummies.loc[exploded_themes.index].reset_index(drop=True)\n",
    "\n",
    "# 4. Combine genres, themes, and ratings\n",
    "exploded_themes_with_genres = pd.concat([exploded_themes[['themes', 'letterboxd_rating']], expanded_genres], axis=1)\n",
    "\n",
    "# 5. Limit the number of themes and genres for efficient processing\n",
    "# Get the top 20 most frequent themes\n",
    "top_themes = exploded_themes_with_genres['themes'].value_counts().nlargest(20).index\n",
    "exploded_themes_with_genres = exploded_themes_with_genres[exploded_themes_with_genres['themes'].isin(top_themes)]\n",
    "\n",
    "# Get the top 10 most frequent genres\n",
    "top_genres = genre_dummies.columns[:10]  # Assuming the first 10 genres are the most frequent\n",
    "exploded_themes_with_genres = exploded_themes_with_genres[exploded_themes_with_genres[top_genres].any(axis=1)]\n",
    "\n",
    "# 6. Group by genre and theme to count occurrences\n",
    "theme_genre_counts = exploded_themes_with_genres.groupby(['themes'] + top_genres.tolist()).size().unstack(fill_value=0)\n",
    "\n",
    "# 7. Now, let's group by genre and calculate average ratings\n",
    "genre_ratings = exploded_themes_with_genres.groupby(top_genres.tolist())['letterboxd_rating'].mean()\n",
    "\n",
    "\n"
   ]
  },
  {
   "cell_type": "code",
   "execution_count": 19,
   "metadata": {},
   "outputs": [],
   "source": [
    "# 8. Merge counts with ratings\n",
    "theme_genre_counts = theme_genre_counts.stack().reset_index(name='count')\n",
    "theme_genre_counts = theme_genre_counts.merge(genre_ratings.reset_index(name='avg_rating'), \n",
    "                                              on=top_genres.tolist(), \n",
    "                                              how='left')\n",
    "\n",
    "\n"
   ]
  },
  {
   "cell_type": "code",
   "execution_count": null,
   "metadata": {},
   "outputs": [],
   "source": [
    "# 9. Correlate theme counts with ratings\n",
    "correlation_matrix = theme_genre_counts.pivot_table(index='themes', \n",
    "                                                    columns=top_genres.tolist(), \n",
    "                                                    values='count', \n",
    "                                                    aggfunc=np.sum).corrwith(theme_genre_counts['avg_rating'])\n"
   ]
  },
  {
   "cell_type": "code",
   "execution_count": null,
   "metadata": {},
   "outputs": [],
   "source": [
    "# 10. Plot the correlation\n",
    "plt.figure(figsize=(12, 8))\n",
    "correlation_matrix.plot(kind='bar', colormap='coolwarm')\n",
    "plt.title('Correlation Between Genres, Themes, and Average Rating')\n",
    "plt.ylabel('Correlation with Rating')\n",
    "plt.xticks(rotation=45)\n",
    "plt.tight_layout()\n",
    "plt.show()\n",
    "\n",
    "# Display the correlation matrix\n",
    "print(correlation_matrix)"
   ]
  },
  {
   "cell_type": "code",
   "execution_count": null,
   "metadata": {},
   "outputs": [],
   "source": [
    "import plotly.express as px\n",
    "\n",
    "# Group by theme and genre to count occurrences\n",
    "theme_genre_counts = exploded_themes_with_genres.groupby(['themes'] + top_genres.tolist()).size().reset_index(name='count')\n",
    "\n",
    "# Create an interactive bar plot\n",
    "fig = px.bar(theme_genre_counts, x='themes', y='count', color='themes', \n",
    "             title=\"Theme Frequency by Genre\", \n",
    "             labels={'count': 'Number of Movies', 'themes': 'Themes'},\n",
    "             color_discrete_sequence=px.colors.qualitative.Set3)\n",
    "\n",
    "# Rotate x-axis labels for better readability\n",
    "fig.update_layout(xaxis_tickangle=-45)\n",
    "\n",
    "fig.show()\n"
   ]
  },
  {
   "cell_type": "code",
   "execution_count": null,
   "metadata": {},
   "outputs": [],
   "source": [
    "import plotly.express as px\n",
    "\n",
    "# Create a pivot table for genre-theme counts\n",
    "genre_theme_pivot = exploded_themes_with_genres.groupby(['themes'] + top_genres.tolist()).size().unstack(fill_value=0)\n",
    "\n",
    "# Convert the pivot table to a format suitable for plotly\n",
    "heatmap_data = genre_theme_pivot.reset_index().melt(id_vars=['themes'], value_vars=top_genres.tolist(), var_name='genre', value_name='count')\n",
    "\n",
    "# Create the heatmap using Plotly\n",
    "fig = px.imshow(genre_theme_pivot,\n",
    "                labels=dict(x=\"Genres\", y=\"Themes\", color=\"Count\"),\n",
    "                color_continuous_scale='YlGnBu', \n",
    "                title=\"Genre-Theme Occurrences\")\n",
    "\n",
    "# Show the figure\n",
    "fig.show()\n"
   ]
  },
  {
   "cell_type": "code",
   "execution_count": null,
   "metadata": {},
   "outputs": [],
   "source": [
    "# Group by theme to calculate average ratings and occurrence count\n",
    "theme_stats = exploded_themes_with_genres.groupby('themes').agg(\n",
    "    count=('themes', 'size'),\n",
    "    avg_rating=('letterboxd_rating', 'mean')\n",
    ").reset_index()\n",
    "\n",
    "# Create an interactive scatter plot\n",
    "fig = px.scatter(theme_stats, x='count', y='avg_rating', color='themes', \n",
    "                 title=\"Average Rating vs. Theme Occurrence\", \n",
    "                 labels={'count': 'Number of Movies', 'avg_rating': 'Average Rating'},\n",
    "                 color_continuous_scale='Viridis')\n",
    "\n",
    "fig.update_traces(marker=dict(size=12, opacity=0.7, line=dict(width=2, color='DarkSlateGrey')))\n",
    "\n",
    "fig.show()\n"
   ]
  },
  {
   "cell_type": "code",
   "execution_count": null,
   "metadata": {},
   "outputs": [],
   "source": [
    "from bokeh.models import ColumnDataSource, HoverTool\n",
    "from bokeh.plotting import figure, show\n",
    "from bokeh.palettes import Viridis256\n",
    "from bokeh.io import output_notebook\n",
    "from bokeh.transform import linear_cmap\n",
    "\n",
    "# Check that the theme and genre ratings data is not empty\n",
    "if not heatmap_data.empty:\n",
    "    # Set up a column data source for Bokeh\n",
    "    source = ColumnDataSource(heatmap_data)\n",
    "    \n",
    "    # Create a figure for the heatmap\n",
    "    p = figure(title=\"Average Ratings by Genre-Theme\", \n",
    "               x_range=list(top_genres), \n",
    "               y_range=list(heatmap_data['themes'].unique()), \n",
    "               toolbar_location=None, \n",
    "               tools=\"hover\", \n",
    "               tooltips=\"@theme_genre: @avg_rating\", \n",
    "               x_axis_label='Genres', \n",
    "               y_axis_label='Themes', \n",
    "               width=800, \n",
    "               height=600)\n",
    "\n",
    "    # Create a color mapper for the heatmap\n",
    "    color_mapper = linear_cmap('avg_rating', Viridis256, heatmap_data['avg_rating'].min(), heatmap_data['avg_rating'].max())\n",
    "\n",
    "    # Create the heatmap with rectangles representing the genre-theme combinations\n",
    "    p.rect(x='theme', y='themes', width=1, height=1, source=source,\n",
    "           line_color=\"white\", color=color_mapper)\n",
    "\n",
    "    # Remove grid lines and axis labels for a cleaner heatmap\n",
    "    p.xgrid.grid_line_color = None\n",
    "    p.ygrid.grid_line_color = None\n",
    "    p.xaxis.axis_label_text_font_size = \"12pt\"\n",
    "    p.yaxis.axis_label_text_font_size = \"12pt\"\n",
    "\n",
    "    # Show the plot in a notebook\n",
    "    output_notebook()\n",
    "    show(p)\n",
    "else:\n",
    "    print(\"Heatmap data is empty, cannot generate the plot.\")\n"
   ]
  },
  {
   "cell_type": "code",
   "execution_count": null,
   "metadata": {},
   "outputs": [],
   "source": []
  }
 ],
 "metadata": {
  "kernelspec": {
   "display_name": "movie_env",
   "language": "python",
   "name": "python3"
  },
  "language_info": {
   "codemirror_mode": {
    "name": "ipython",
    "version": 3
   },
   "file_extension": ".py",
   "mimetype": "text/x-python",
   "name": "python",
   "nbconvert_exporter": "python",
   "pygments_lexer": "ipython3",
   "version": "3.12.3"
  }
 },
 "nbformat": 4,
 "nbformat_minor": 2
}
