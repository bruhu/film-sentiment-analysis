{
 "cells": [
  {
   "cell_type": "code",
   "execution_count": null,
   "metadata": {},
   "outputs": [],
   "source": [
    "import pandas as pd\n",
    "import pandas as pd\n",
    "import numpy as np\n",
    "from datetime import datetime\n",
    "import re\n",
    "import matplotlib.pyplot as plt\n",
    "import seaborn as sns\n",
    "from wordcloud import WordCloud"
   ]
  },
  {
   "cell_type": "code",
   "execution_count": null,
   "metadata": {},
   "outputs": [],
   "source": [
    "\n",
    "import sys\n",
    "sys.path.append('../utils')\n",
    "import functions"
   ]
  },
  {
   "cell_type": "code",
   "execution_count": null,
   "metadata": {},
   "outputs": [],
   "source": [
    "df = pd.read_csv('../data/local/raw/doesthedogdie.com.csv')\n",
    "df.head()"
   ]
  },
  {
   "cell_type": "code",
   "execution_count": null,
   "metadata": {},
   "outputs": [],
   "source": [
    "functions.show_basic_info(df)"
   ]
  },
  {
   "cell_type": "markdown",
   "metadata": {},
   "source": [
    "Round to 3 decimals in 'yes_ratio'"
   ]
  },
  {
   "cell_type": "code",
   "execution_count": null,
   "metadata": {},
   "outputs": [],
   "source": [
    "df['yes_ratio'] = df['yes_ratio'].round(3)"
   ]
  },
  {
   "cell_type": "markdown",
   "metadata": {},
   "source": [
    "Check if there are duplicate titles"
   ]
  },
  {
   "cell_type": "code",
   "execution_count": null,
   "metadata": {},
   "outputs": [],
   "source": [
    "duplicates = df[df['title'].duplicated()]\n",
    "\n",
    "duplicate_count = df['title'].duplicated().sum()\n",
    "\n",
    "print(f\"Number of duplicates in 'title': {duplicate_count}\")"
   ]
  },
  {
   "cell_type": "markdown",
   "metadata": {},
   "source": [
    "### Check the categories in 'title' column"
   ]
  },
  {
   "cell_type": "code",
   "execution_count": null,
   "metadata": {},
   "outputs": [],
   "source": [
    "# Extract the unique values before the underscore in 'title'\n",
    "unique_titles = df['title'].str.split('_').str[0].unique()\n",
    "\n",
    "print(unique_titles)"
   ]
  },
  {
   "cell_type": "markdown",
   "metadata": {},
   "source": [
    "Extract media type and remove it from title column"
   ]
  },
  {
   "cell_type": "code",
   "execution_count": null,
   "metadata": {},
   "outputs": [],
   "source": [
    "df['media_type'] = df['title'].str.split('_').str[0]  # Extract media type\n",
    "df['title'] = df['title'].str.split('_').str[1]       # Remove media type from title\n",
    "\n",
    "df.head()"
   ]
  },
  {
   "cell_type": "code",
   "execution_count": null,
   "metadata": {},
   "outputs": [],
   "source": [
    "print(df['media_type'].unique())"
   ]
  },
  {
   "cell_type": "markdown",
   "metadata": {},
   "source": [
    "#### Create new df with media_type 'Movie' only"
   ]
  },
  {
   "cell_type": "code",
   "execution_count": null,
   "metadata": {},
   "outputs": [],
   "source": [
    "doesthe_movies = df[df['media_type'] == 'Movie']\n",
    "print(doesthe_movies)"
   ]
  },
  {
   "cell_type": "code",
   "execution_count": null,
   "metadata": {},
   "outputs": [],
   "source": [
    "doesthe_movies.to_csv('../data/local/raw/doesthedog_movies.csv', index=False)"
   ]
  },
  {
   "cell_type": "code",
   "execution_count": null,
   "metadata": {},
   "outputs": [],
   "source": [
    "print(f'Unique titles in doesthe_movies: {doesthe_movies['title'].nunique()}')"
   ]
  },
  {
   "cell_type": "code",
   "execution_count": null,
   "metadata": {},
   "outputs": [],
   "source": [
    "doesthe_movies['clean_title'] = functions.prepare_clean_titles(doesthe_movies, 'title')\n",
    "doesthe_movies.head()\n"
   ]
  },
  {
   "cell_type": "code",
   "execution_count": null,
   "metadata": {},
   "outputs": [],
   "source": [
    "functions.show_basic_info(doesthe_movies)"
   ]
  },
  {
   "cell_type": "markdown",
   "metadata": {},
   "source": [
    "Drop media_type column"
   ]
  },
  {
   "cell_type": "code",
   "execution_count": null,
   "metadata": {},
   "outputs": [],
   "source": [
    "doesthe_movies.drop(columns=['media_type'], inplace=True)"
   ]
  },
  {
   "cell_type": "markdown",
   "metadata": {},
   "source": [
    "#### Extract category_name unique values"
   ]
  },
  {
   "cell_type": "code",
   "execution_count": null,
   "metadata": {},
   "outputs": [],
   "source": [
    "unique_values = sorted(doesthe_movies['category_name'].dropna().unique())\n",
    "print(f'Unique values in category column: {unique_values}')"
   ]
  },
  {
   "cell_type": "code",
   "execution_count": null,
   "metadata": {},
   "outputs": [],
   "source": [
    "print(f'Unique titles in doesthe_movies: {doesthe_movies['title'].nunique()}')"
   ]
  },
  {
   "cell_type": "markdown",
   "metadata": {},
   "source": [
    "### Drop rows where 'yes' is greater than 'no'\n",
    "Keep rows where sensitive content does take place."
   ]
  },
  {
   "cell_type": "code",
   "execution_count": null,
   "metadata": {},
   "outputs": [],
   "source": [
    "events_df = doesthe_movies.copy()\n",
    "events_df = events_df[events_df['yes'] >= events_df['no']]"
   ]
  },
  {
   "cell_type": "markdown",
   "metadata": {},
   "source": [
    "Group categories in new column"
   ]
  },
  {
   "cell_type": "code",
   "execution_count": null,
   "metadata": {},
   "outputs": [],
   "source": [
    "events_df['events'] = events_df.groupby('clean_title')['category_name'].transform(lambda x: ', '.join(x))\n",
    "events_df = events_df.drop(columns=['category_name'])"
   ]
  },
  {
   "cell_type": "code",
   "execution_count": null,
   "metadata": {},
   "outputs": [],
   "source": [
    "events_df.head(10)"
   ]
  },
  {
   "cell_type": "code",
   "execution_count": null,
   "metadata": {},
   "outputs": [],
   "source": [
    "events_df"
   ]
  },
  {
   "cell_type": "markdown",
   "metadata": {},
   "source": [
    "### Check and remove duplicates"
   ]
  },
  {
   "cell_type": "code",
   "execution_count": null,
   "metadata": {},
   "outputs": [],
   "source": [
    "functions.check_for_duplicates(events_df)"
   ]
  },
  {
   "cell_type": "code",
   "execution_count": null,
   "metadata": {},
   "outputs": [],
   "source": [
    "functions.remove_duplicates(events_df)"
   ]
  },
  {
   "cell_type": "code",
   "execution_count": null,
   "metadata": {},
   "outputs": [],
   "source": [
    "# Save the DataFrame to a CSV file, reset the index, and exclude the index column\n",
    "events_df.reset_index(drop=True, inplace=True)\n",
    "# events_df.to_csv('../data/local/clean/doesthe_movie_events_df.csv', index=False)"
   ]
  },
  {
   "cell_type": "markdown",
   "metadata": {},
   "source": [
    "Find matching cases and add movie information"
   ]
  },
  {
   "cell_type": "code",
   "execution_count": null,
   "metadata": {},
   "outputs": [],
   "source": [
    "imdb_df = pd.read_csv('../data/local/clean/imdb_titles_ratings.csv')\n",
    "imdb_df.head()"
   ]
  },
  {
   "cell_type": "code",
   "execution_count": null,
   "metadata": {},
   "outputs": [],
   "source": [
    "# Merge events_df and imdb_df on 'clean_title' where the case matches exactly\n",
    "combined_df = pd.merge(events_df, imdb_df, on='clean_title', how='inner')\n"
   ]
  },
  {
   "cell_type": "code",
   "execution_count": null,
   "metadata": {},
   "outputs": [],
   "source": [
    "functions.show_basic_info(combined_df)"
   ]
  },
  {
   "cell_type": "code",
   "execution_count": null,
   "metadata": {},
   "outputs": [],
   "source": [
    "combined_df.head()"
   ]
  },
  {
   "cell_type": "code",
   "execution_count": null,
   "metadata": {},
   "outputs": [],
   "source": [
    "combined_df = combined_df.drop(columns=['title_x', 'yes', 'no', 'yes_ratio', 'title_y'])"
   ]
  },
  {
   "cell_type": "code",
   "execution_count": null,
   "metadata": {},
   "outputs": [],
   "source": [
    "combined_df.head(50)\n"
   ]
  },
  {
   "cell_type": "code",
   "execution_count": null,
   "metadata": {},
   "outputs": [],
   "source": [
    "# Basic statistics summary for numerical columns\n",
    "summary_stats = combined_df.describe()\n",
    "print(summary_stats)\n"
   ]
  },
  {
   "cell_type": "code",
   "execution_count": null,
   "metadata": {},
   "outputs": [],
   "source": [
    "# Include both numeric and object columns in the summary\n",
    "summary_stats_all = combined_df.describe(include='all')\n",
    "print(summary_stats_all)\n"
   ]
  },
  {
   "cell_type": "code",
   "execution_count": null,
   "metadata": {},
   "outputs": [],
   "source": [
    "# Step 1: Split the 'events' column by commas and flatten the list\n",
    "all_events = combined_df['events'].str.split(',').explode().str.strip()\n",
    "\n",
    "# Step 2: Get the statistics on the individual events\n",
    "event_stats = all_events.value_counts()\n",
    "\n",
    "# Display the statistics (frequency of each event)\n",
    "print(event_stats)\n"
   ]
  },
  {
   "cell_type": "code",
   "execution_count": null,
   "metadata": {},
   "outputs": [],
   "source": [
    "# Number of unique events\n",
    "num_unique_events = all_events.nunique()\n",
    "print(f\"Number of unique events: {num_unique_events}\")\n",
    "\n",
    "# Most frequent event\n",
    "most_frequent_event = event_stats.idxmax()\n",
    "print(f\"Most frequent event: {most_frequent_event}\")\n"
   ]
  },
  {
   "cell_type": "code",
   "execution_count": null,
   "metadata": {},
   "outputs": [],
   "source": [
    "# Top 10 most frequent events\n",
    "top_events = event_stats.head(20)\n",
    "\n",
    "# Create a bar chart\n",
    "plt.figure(figsize=(10, 6))\n",
    "sns.barplot(x=top_events.values, y=top_events.index, palette='viridis')\n",
    "plt.title('Top 20 Most Frequent Events')\n",
    "plt.xlabel('Frequency')\n",
    "plt.ylabel('Event')\n",
    "plt.show()\n"
   ]
  },
  {
   "cell_type": "code",
   "execution_count": null,
   "metadata": {},
   "outputs": [],
   "source": [
    "\n",
    "# # Create a word cloud for the most frequent events\n",
    "# wordcloud = WordCloud(width=800, height=400, background_color='white').generate_from_frequencies(event_stats)\n",
    "\n",
    "# # Plot the word cloud\n",
    "# plt.figure(figsize=(10, 6))\n",
    "# plt.imshow(wordcloud, interpolation='bilinear')\n",
    "# plt.title('Word Cloud of Most Frequent Events')\n",
    "# plt.axis('off')\n",
    "# plt.show()"
   ]
  },
  {
   "cell_type": "code",
   "execution_count": null,
   "metadata": {},
   "outputs": [],
   "source": [
    "combined_df.head()"
   ]
  },
  {
   "cell_type": "code",
   "execution_count": null,
   "metadata": {},
   "outputs": [],
   "source": [
    "# Select numeric columns for correlation\n",
    "numeric_columns = ['year', 'runtime', 'rating', 'votes']\n",
    "\n",
    "# Calculate the correlation matrix\n",
    "correlation_matrix = combined_df[numeric_columns].corr()\n",
    "\n",
    "# Plot the heatmap\n",
    "plt.figure(figsize=(8, 6))\n",
    "sns.heatmap(correlation_matrix, annot=True, cmap='coolwarm', vmin=-1, vmax=1)\n",
    "plt.title('Correlation Matrix of Numeric Columns')\n",
    "plt.show()"
   ]
  },
  {
   "cell_type": "code",
   "execution_count": null,
   "metadata": {},
   "outputs": [],
   "source": [
    "# Create a pairplot to visualize relationships between numeric columns\n",
    "sns.pairplot(combined_df[numeric_columns])\n",
    "plt.suptitle('Pairplot of Numeric Features', y=1.02)\n",
    "plt.show()"
   ]
  },
  {
   "cell_type": "code",
   "execution_count": null,
   "metadata": {},
   "outputs": [],
   "source": [
    "# Split the 'genre' column into individual genres\n",
    "combined_df['genre_list'] = combined_df['genre'].str.split(',')\n",
    "\n",
    "# Explode the genre list to get a row per genre\n",
    "exploded_genre_df = combined_df.explode('genre_list')\n",
    "\n",
    "# Strip any leading or trailing spaces from genre names\n",
    "exploded_genre_df['genre_list'] = exploded_genre_df['genre_list'].str.strip()\n",
    "\n",
    "# Calculate the average rating per genre\n",
    "genre_rating_avg = exploded_genre_df.groupby('genre_list')['rating'].mean().sort_values(ascending=False)\n",
    "\n",
    "# Plot a bar chart of average ratings by genre\n",
    "plt.figure(figsize=(12, 6))\n",
    "sns.barplot(x=genre_rating_avg.values, y=genre_rating_avg.index, palette='viridis')\n",
    "plt.title('Average Rating by Genre')\n",
    "plt.xlabel('Average Rating')\n",
    "plt.ylabel('Genre')\n",
    "plt.show()"
   ]
  },
  {
   "cell_type": "code",
   "execution_count": null,
   "metadata": {},
   "outputs": [],
   "source": [
    "# Count the number of events for each movie (number of commas + 1)\n",
    "combined_df['num_events'] = combined_df['events'].str.split(',').apply(len)\n",
    "\n",
    "# Plot the relationship between the number of events and the rating\n",
    "plt.figure(figsize=(10, 6))\n",
    "sns.scatterplot(x=combined_df['num_events'], y=combined_df['rating'])\n",
    "plt.title('Number of Events vs. Rating')\n",
    "plt.xlabel('Number of Events')\n",
    "plt.ylabel('Rating')\n",
    "plt.show()"
   ]
  },
  {
   "cell_type": "code",
   "execution_count": null,
   "metadata": {},
   "outputs": [],
   "source": [
    "# Scatter plot of votes vs. rating\n",
    "plt.figure(figsize=(10, 6))\n",
    "sns.scatterplot(x=combined_df['votes'], y=combined_df['rating'])\n",
    "plt.title('Votes vs. Rating')\n",
    "plt.xlabel('Number of Votes')\n",
    "plt.ylabel('Rating')\n",
    "plt.show()"
   ]
  }
 ],
 "metadata": {
  "kernelspec": {
   "display_name": "movie_env",
   "language": "python",
   "name": "python3"
  },
  "language_info": {
   "codemirror_mode": {
    "name": "ipython",
    "version": 3
   },
   "file_extension": ".py",
   "mimetype": "text/x-python",
   "name": "python",
   "nbconvert_exporter": "python",
   "pygments_lexer": "ipython3",
   "version": "3.12.3"
  }
 },
 "nbformat": 4,
 "nbformat_minor": 2
}
