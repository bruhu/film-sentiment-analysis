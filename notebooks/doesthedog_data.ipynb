{
 "cells": [
  {
   "cell_type": "code",
   "execution_count": 1,
   "metadata": {},
   "outputs": [],
   "source": [
    "import pandas as pd\n",
    "import pandas as pd\n",
    "import numpy as np\n",
    "from datetime import datetime\n",
    "import re"
   ]
  },
  {
   "cell_type": "code",
   "execution_count": 2,
   "metadata": {},
   "outputs": [],
   "source": [
    "\n",
    "import sys\n",
    "sys.path.append('../utils')\n",
    "import functions"
   ]
  },
  {
   "cell_type": "code",
   "execution_count": 3,
   "metadata": {},
   "outputs": [
    {
     "data": {
      "text/html": [
       "<div>\n",
       "<style scoped>\n",
       "    .dataframe tbody tr th:only-of-type {\n",
       "        vertical-align: middle;\n",
       "    }\n",
       "\n",
       "    .dataframe tbody tr th {\n",
       "        vertical-align: top;\n",
       "    }\n",
       "\n",
       "    .dataframe thead th {\n",
       "        text-align: right;\n",
       "    }\n",
       "</style>\n",
       "<table border=\"1\" class=\"dataframe\">\n",
       "  <thead>\n",
       "    <tr style=\"text-align: right;\">\n",
       "      <th></th>\n",
       "      <th>category_name</th>\n",
       "      <th>title</th>\n",
       "      <th>yes</th>\n",
       "      <th>no</th>\n",
       "      <th>yes_ratio</th>\n",
       "    </tr>\n",
       "  </thead>\n",
       "  <tbody>\n",
       "    <tr>\n",
       "      <th>0</th>\n",
       "      <td>a dog dies</td>\n",
       "      <td>Movie_John Wick</td>\n",
       "      <td>1150</td>\n",
       "      <td>106</td>\n",
       "      <td>0.915605</td>\n",
       "    </tr>\n",
       "    <tr>\n",
       "      <th>1</th>\n",
       "      <td>a dog dies</td>\n",
       "      <td>Movie_Marley &amp; Me</td>\n",
       "      <td>781</td>\n",
       "      <td>37</td>\n",
       "      <td>0.954768</td>\n",
       "    </tr>\n",
       "    <tr>\n",
       "      <th>2</th>\n",
       "      <td>a dog dies</td>\n",
       "      <td>Movie_Hereditary</td>\n",
       "      <td>680</td>\n",
       "      <td>67</td>\n",
       "      <td>0.910308</td>\n",
       "    </tr>\n",
       "    <tr>\n",
       "      <th>3</th>\n",
       "      <td>a dog dies</td>\n",
       "      <td>Movie_MEGAN</td>\n",
       "      <td>580</td>\n",
       "      <td>22</td>\n",
       "      <td>0.963455</td>\n",
       "    </tr>\n",
       "    <tr>\n",
       "      <th>4</th>\n",
       "      <td>a dog dies</td>\n",
       "      <td>TV Show_Game of Thrones</td>\n",
       "      <td>524</td>\n",
       "      <td>36</td>\n",
       "      <td>0.935714</td>\n",
       "    </tr>\n",
       "  </tbody>\n",
       "</table>\n",
       "</div>"
      ],
      "text/plain": [
       "  category_name                    title   yes   no  yes_ratio\n",
       "0    a dog dies          Movie_John Wick  1150  106   0.915605\n",
       "1    a dog dies        Movie_Marley & Me   781   37   0.954768\n",
       "2    a dog dies         Movie_Hereditary   680   67   0.910308\n",
       "3    a dog dies              Movie_MEGAN   580   22   0.963455\n",
       "4    a dog dies  TV Show_Game of Thrones   524   36   0.935714"
      ]
     },
     "execution_count": 3,
     "metadata": {},
     "output_type": "execute_result"
    }
   ],
   "source": [
    "df = pd.read_csv('../data/local/raw/doesthedogdie.com.csv')\n",
    "df.head()"
   ]
  },
  {
   "cell_type": "code",
   "execution_count": 4,
   "metadata": {},
   "outputs": [
    {
     "name": "stdout",
     "output_type": "stream",
     "text": [
      "\n",
      "DataFrame Shape: (5910, 5)\n",
      "Number of Rows: 5910\n",
      "Number of Columns: 5\n",
      "\n",
      "Data Types of Columns:\n",
      "category_name     object\n",
      "title             object\n",
      "yes                int64\n",
      "no                 int64\n",
      "yes_ratio        float64\n",
      "dtype: object\n",
      "\n",
      "Missing Values per Column:\n",
      "category_name    0\n",
      "title            0\n",
      "yes              0\n",
      "no               0\n",
      "yes_ratio        0\n",
      "dtype: int64\n",
      "\n",
      "First 5 Rows of Data:\n",
      "  category_name                    title   yes   no  yes_ratio\n",
      "0    a dog dies          Movie_John Wick  1150  106   0.915605\n",
      "1    a dog dies        Movie_Marley & Me   781   37   0.954768\n",
      "2    a dog dies         Movie_Hereditary   680   67   0.910308\n",
      "3    a dog dies              Movie_MEGAN   580   22   0.963455\n",
      "4    a dog dies  TV Show_Game of Thrones   524   36   0.935714\n"
     ]
    }
   ],
   "source": [
    "functions.show_basic_info(df)"
   ]
  },
  {
   "cell_type": "markdown",
   "metadata": {},
   "source": [
    "Round to 3 decimals in 'yes_ratio'"
   ]
  },
  {
   "cell_type": "code",
   "execution_count": 5,
   "metadata": {},
   "outputs": [],
   "source": [
    "df['yes_ratio'] = df['yes_ratio'].round(3)"
   ]
  },
  {
   "cell_type": "markdown",
   "metadata": {},
   "source": [
    "Check if there are duplicate titles"
   ]
  },
  {
   "cell_type": "code",
   "execution_count": 6,
   "metadata": {},
   "outputs": [
    {
     "name": "stdout",
     "output_type": "stream",
     "text": [
      "Number of duplicates in 'title': 5176\n"
     ]
    }
   ],
   "source": [
    "duplicates = df[df['title'].duplicated()]\n",
    "\n",
    "duplicate_count = df['title'].duplicated().sum()\n",
    "\n",
    "print(f\"Number of duplicates in 'title': {duplicate_count}\")"
   ]
  },
  {
   "cell_type": "markdown",
   "metadata": {},
   "source": [
    "### Check the categories in 'title' column"
   ]
  },
  {
   "cell_type": "code",
   "execution_count": 7,
   "metadata": {},
   "outputs": [
    {
     "name": "stdout",
     "output_type": "stream",
     "text": [
      "['Movie' 'TV Show' 'Video Game' 'Anime' 'Book' 'YouTube' 'Podcast' 'Manga'\n",
      " 'Blog' 'Short Story']\n"
     ]
    }
   ],
   "source": [
    "# Extract the unique values before the underscore in 'title'\n",
    "unique_titles = df['title'].str.split('_').str[0].unique()\n",
    "\n",
    "print(unique_titles)"
   ]
  },
  {
   "cell_type": "markdown",
   "metadata": {},
   "source": [
    "Extract media type and remove it from title column"
   ]
  },
  {
   "cell_type": "code",
   "execution_count": 8,
   "metadata": {},
   "outputs": [
    {
     "data": {
      "text/html": [
       "<div>\n",
       "<style scoped>\n",
       "    .dataframe tbody tr th:only-of-type {\n",
       "        vertical-align: middle;\n",
       "    }\n",
       "\n",
       "    .dataframe tbody tr th {\n",
       "        vertical-align: top;\n",
       "    }\n",
       "\n",
       "    .dataframe thead th {\n",
       "        text-align: right;\n",
       "    }\n",
       "</style>\n",
       "<table border=\"1\" class=\"dataframe\">\n",
       "  <thead>\n",
       "    <tr style=\"text-align: right;\">\n",
       "      <th></th>\n",
       "      <th>category_name</th>\n",
       "      <th>title</th>\n",
       "      <th>yes</th>\n",
       "      <th>no</th>\n",
       "      <th>yes_ratio</th>\n",
       "      <th>media_type</th>\n",
       "    </tr>\n",
       "  </thead>\n",
       "  <tbody>\n",
       "    <tr>\n",
       "      <th>0</th>\n",
       "      <td>a dog dies</td>\n",
       "      <td>John Wick</td>\n",
       "      <td>1150</td>\n",
       "      <td>106</td>\n",
       "      <td>0.916</td>\n",
       "      <td>Movie</td>\n",
       "    </tr>\n",
       "    <tr>\n",
       "      <th>1</th>\n",
       "      <td>a dog dies</td>\n",
       "      <td>Marley &amp; Me</td>\n",
       "      <td>781</td>\n",
       "      <td>37</td>\n",
       "      <td>0.955</td>\n",
       "      <td>Movie</td>\n",
       "    </tr>\n",
       "    <tr>\n",
       "      <th>2</th>\n",
       "      <td>a dog dies</td>\n",
       "      <td>Hereditary</td>\n",
       "      <td>680</td>\n",
       "      <td>67</td>\n",
       "      <td>0.910</td>\n",
       "      <td>Movie</td>\n",
       "    </tr>\n",
       "    <tr>\n",
       "      <th>3</th>\n",
       "      <td>a dog dies</td>\n",
       "      <td>MEGAN</td>\n",
       "      <td>580</td>\n",
       "      <td>22</td>\n",
       "      <td>0.963</td>\n",
       "      <td>Movie</td>\n",
       "    </tr>\n",
       "    <tr>\n",
       "      <th>4</th>\n",
       "      <td>a dog dies</td>\n",
       "      <td>Game of Thrones</td>\n",
       "      <td>524</td>\n",
       "      <td>36</td>\n",
       "      <td>0.936</td>\n",
       "      <td>TV Show</td>\n",
       "    </tr>\n",
       "  </tbody>\n",
       "</table>\n",
       "</div>"
      ],
      "text/plain": [
       "  category_name            title   yes   no  yes_ratio media_type\n",
       "0    a dog dies        John Wick  1150  106      0.916      Movie\n",
       "1    a dog dies      Marley & Me   781   37      0.955      Movie\n",
       "2    a dog dies       Hereditary   680   67      0.910      Movie\n",
       "3    a dog dies            MEGAN   580   22      0.963      Movie\n",
       "4    a dog dies  Game of Thrones   524   36      0.936    TV Show"
      ]
     },
     "execution_count": 8,
     "metadata": {},
     "output_type": "execute_result"
    }
   ],
   "source": [
    "df['media_type'] = df['title'].str.split('_').str[0]  # Extract media type\n",
    "df['title'] = df['title'].str.split('_').str[1]       # Remove media type from title\n",
    "\n",
    "df.head()"
   ]
  },
  {
   "cell_type": "code",
   "execution_count": 9,
   "metadata": {},
   "outputs": [
    {
     "name": "stdout",
     "output_type": "stream",
     "text": [
      "['Movie' 'TV Show' 'Video Game' 'Anime' 'Book' 'YouTube' 'Podcast' 'Manga'\n",
      " 'Blog' 'Short Story']\n"
     ]
    }
   ],
   "source": [
    "print(df['media_type'].unique())"
   ]
  },
  {
   "cell_type": "markdown",
   "metadata": {},
   "source": [
    "#### Create new df with media_type 'Movie' only"
   ]
  },
  {
   "cell_type": "code",
   "execution_count": 10,
   "metadata": {},
   "outputs": [
    {
     "name": "stdout",
     "output_type": "stream",
     "text": [
      "             category_name                              title   yes   no  \\\n",
      "0               a dog dies                          John Wick  1150  106   \n",
      "1               a dog dies                        Marley & Me   781   37   \n",
      "2               a dog dies                         Hereditary   680   67   \n",
      "3               a dog dies                              MEGAN   580   22   \n",
      "5               a dog dies                       The Babadook   514   15   \n",
      "...                    ...                                ...   ...  ...   \n",
      "5898  there's gun violence                              Joker   104    2   \n",
      "5901  there's gun violence                    American Psycho   101    0   \n",
      "5906  there's gun violence  Everything Everywhere All at Once    92    2   \n",
      "5907  there's gun violence                        Jojo Rabbit    92    0   \n",
      "5909  there's gun violence                                Saw    91    1   \n",
      "\n",
      "      yes_ratio media_type  \n",
      "0         0.916      Movie  \n",
      "1         0.955      Movie  \n",
      "2         0.910      Movie  \n",
      "3         0.963      Movie  \n",
      "5         0.972      Movie  \n",
      "...         ...        ...  \n",
      "5898      0.981      Movie  \n",
      "5901      1.000      Movie  \n",
      "5906      0.979      Movie  \n",
      "5907      1.000      Movie  \n",
      "5909      0.989      Movie  \n",
      "\n",
      "[2836 rows x 6 columns]\n"
     ]
    }
   ],
   "source": [
    "doesthe_movies = df[df['media_type'] == 'Movie']\n",
    "print(doesthe_movies)"
   ]
  },
  {
   "cell_type": "code",
   "execution_count": 11,
   "metadata": {},
   "outputs": [],
   "source": [
    "doesthe_movies.to_csv('../data/local/raw/doesthedog_movies.csv', index=False)"
   ]
  },
  {
   "cell_type": "code",
   "execution_count": 12,
   "metadata": {},
   "outputs": [
    {
     "name": "stdout",
     "output_type": "stream",
     "text": [
      "Unique titles in doesthe_movies: 433\n"
     ]
    }
   ],
   "source": [
    "print(f'Unique titles in doesthe_movies: {doesthe_movies['title'].nunique()}')"
   ]
  },
  {
   "cell_type": "code",
   "execution_count": 13,
   "metadata": {},
   "outputs": [
    {
     "name": "stderr",
     "output_type": "stream",
     "text": [
      "/tmp/ipykernel_40683/2012065974.py:1: SettingWithCopyWarning: \n",
      "A value is trying to be set on a copy of a slice from a DataFrame.\n",
      "Try using .loc[row_indexer,col_indexer] = value instead\n",
      "\n",
      "See the caveats in the documentation: https://pandas.pydata.org/pandas-docs/stable/user_guide/indexing.html#returning-a-view-versus-a-copy\n",
      "  doesthe_movies['clean_title'] = functions.prepare_clean_titles(doesthe_movies, 'title')\n"
     ]
    },
    {
     "data": {
      "text/html": [
       "<div>\n",
       "<style scoped>\n",
       "    .dataframe tbody tr th:only-of-type {\n",
       "        vertical-align: middle;\n",
       "    }\n",
       "\n",
       "    .dataframe tbody tr th {\n",
       "        vertical-align: top;\n",
       "    }\n",
       "\n",
       "    .dataframe thead th {\n",
       "        text-align: right;\n",
       "    }\n",
       "</style>\n",
       "<table border=\"1\" class=\"dataframe\">\n",
       "  <thead>\n",
       "    <tr style=\"text-align: right;\">\n",
       "      <th></th>\n",
       "      <th>category_name</th>\n",
       "      <th>title</th>\n",
       "      <th>yes</th>\n",
       "      <th>no</th>\n",
       "      <th>yes_ratio</th>\n",
       "      <th>media_type</th>\n",
       "      <th>clean_title</th>\n",
       "    </tr>\n",
       "  </thead>\n",
       "  <tbody>\n",
       "    <tr>\n",
       "      <th>0</th>\n",
       "      <td>a dog dies</td>\n",
       "      <td>John Wick</td>\n",
       "      <td>1150</td>\n",
       "      <td>106</td>\n",
       "      <td>0.916</td>\n",
       "      <td>Movie</td>\n",
       "      <td>john wick</td>\n",
       "    </tr>\n",
       "    <tr>\n",
       "      <th>1</th>\n",
       "      <td>a dog dies</td>\n",
       "      <td>Marley &amp; Me</td>\n",
       "      <td>781</td>\n",
       "      <td>37</td>\n",
       "      <td>0.955</td>\n",
       "      <td>Movie</td>\n",
       "      <td>marley  me</td>\n",
       "    </tr>\n",
       "    <tr>\n",
       "      <th>2</th>\n",
       "      <td>a dog dies</td>\n",
       "      <td>Hereditary</td>\n",
       "      <td>680</td>\n",
       "      <td>67</td>\n",
       "      <td>0.910</td>\n",
       "      <td>Movie</td>\n",
       "      <td>hereditary</td>\n",
       "    </tr>\n",
       "    <tr>\n",
       "      <th>3</th>\n",
       "      <td>a dog dies</td>\n",
       "      <td>MEGAN</td>\n",
       "      <td>580</td>\n",
       "      <td>22</td>\n",
       "      <td>0.963</td>\n",
       "      <td>Movie</td>\n",
       "      <td>megan</td>\n",
       "    </tr>\n",
       "    <tr>\n",
       "      <th>5</th>\n",
       "      <td>a dog dies</td>\n",
       "      <td>The Babadook</td>\n",
       "      <td>514</td>\n",
       "      <td>15</td>\n",
       "      <td>0.972</td>\n",
       "      <td>Movie</td>\n",
       "      <td>the babadook</td>\n",
       "    </tr>\n",
       "  </tbody>\n",
       "</table>\n",
       "</div>"
      ],
      "text/plain": [
       "  category_name         title   yes   no  yes_ratio media_type   clean_title\n",
       "0    a dog dies     John Wick  1150  106      0.916      Movie     john wick\n",
       "1    a dog dies   Marley & Me   781   37      0.955      Movie    marley  me\n",
       "2    a dog dies    Hereditary   680   67      0.910      Movie    hereditary\n",
       "3    a dog dies         MEGAN   580   22      0.963      Movie         megan\n",
       "5    a dog dies  The Babadook   514   15      0.972      Movie  the babadook"
      ]
     },
     "execution_count": 13,
     "metadata": {},
     "output_type": "execute_result"
    }
   ],
   "source": [
    "doesthe_movies['clean_title'] = functions.prepare_clean_titles(doesthe_movies, 'title')\n",
    "doesthe_movies.head()\n"
   ]
  },
  {
   "cell_type": "code",
   "execution_count": 14,
   "metadata": {},
   "outputs": [
    {
     "name": "stdout",
     "output_type": "stream",
     "text": [
      "\n",
      "DataFrame Shape: (2836, 7)\n",
      "Number of Rows: 2836\n",
      "Number of Columns: 7\n",
      "\n",
      "Data Types of Columns:\n",
      "category_name     object\n",
      "title             object\n",
      "yes                int64\n",
      "no                 int64\n",
      "yes_ratio        float64\n",
      "media_type        object\n",
      "clean_title       object\n",
      "dtype: object\n",
      "\n",
      "Missing Values per Column:\n",
      "category_name    0\n",
      "title            0\n",
      "yes              0\n",
      "no               0\n",
      "yes_ratio        0\n",
      "media_type       0\n",
      "clean_title      0\n",
      "dtype: int64\n",
      "\n",
      "First 5 Rows of Data:\n",
      "  category_name         title   yes   no  yes_ratio media_type   clean_title\n",
      "0    a dog dies     John Wick  1150  106      0.916      Movie     john wick\n",
      "1    a dog dies   Marley & Me   781   37      0.955      Movie    marley  me\n",
      "2    a dog dies    Hereditary   680   67      0.910      Movie    hereditary\n",
      "3    a dog dies         MEGAN   580   22      0.963      Movie         megan\n",
      "5    a dog dies  The Babadook   514   15      0.972      Movie  the babadook\n"
     ]
    }
   ],
   "source": [
    "functions.show_basic_info(doesthe_movies)"
   ]
  },
  {
   "cell_type": "markdown",
   "metadata": {},
   "source": [
    "Drop media_type column"
   ]
  },
  {
   "cell_type": "code",
   "execution_count": 15,
   "metadata": {},
   "outputs": [
    {
     "name": "stderr",
     "output_type": "stream",
     "text": [
      "/tmp/ipykernel_40683/2280681998.py:1: SettingWithCopyWarning: \n",
      "A value is trying to be set on a copy of a slice from a DataFrame\n",
      "\n",
      "See the caveats in the documentation: https://pandas.pydata.org/pandas-docs/stable/user_guide/indexing.html#returning-a-view-versus-a-copy\n",
      "  doesthe_movies.drop(columns=['media_type'], inplace=True)\n"
     ]
    }
   ],
   "source": [
    "doesthe_movies.drop(columns=['media_type'], inplace=True)"
   ]
  },
  {
   "cell_type": "markdown",
   "metadata": {},
   "source": [
    "#### Extract category_name unique values"
   ]
  },
  {
   "cell_type": "code",
   "execution_count": 16,
   "metadata": {},
   "outputs": [
    {
     "name": "stdout",
     "output_type": "stream",
     "text": [
      "Unique values in category column: [\"A child's dear toy is destroyed\", 'Autism specific abuse', 'D.I.D. Misrepresentation', 'Santa (et al) is spoiled', 'Someone attempts suicide', 'Someone becomes unconscious', \"There's audio gore\", 'a baby cries', 'a baby is stillborn', 'a car crashes', 'a car honks or tires screech', 'a cat dies', 'a child is abandoned by a parent or guardian', 'a dog dies', 'a dragon dies', 'a family member dies', 'a horse dies', 'a kid dies', 'a major character dies', 'a male character is ridiculed for crying', 'a mentally ill person is violent', 'a minor is sexualized', 'a minority is misrepresented', 'a non-human character dies', 'a parent dies', 'a person is hit by a car', 'a pet dies', 'a plane crashes', 'a pregnant person dies', 'a priceless artifact is destroyed', 'a trans person is depicted predatorily', 'a woman gets slapped', 'a woman is brutalized for spectacle', 'alcohol abuse', 'an LGBT person dies', 'an LGBT+ person is outed', 'an animal dies', 'an animal is abandoned', 'an animal is sad', 'an infant is abducted', 'animals are abused', 'animals were harmed in the making', 'autism is misrepresented', 'electro-therapy is used', 'existentialism is debated', 'hands are damaged', 'heads get squashed', 'needles/syringes are used', 'rabbits are harmed', 'rape is mentioned', 'reality is unstable or unhinged', 'religion is discussed', 'sexual assault on men is a joke', 'shaky cam is used', 'somebody is choked', 'someone asphyxiates', 'someone breaks a bone', 'someone cheats', 'someone dies', 'someone dies by suicide', 'someone disabled played by able-bodied', 'someone dislocates something', 'someone drowns', 'someone falls down stairs', 'someone falls to their death', 'someone gets gaslighted', 'someone has a chronic illness', 'someone has a meltdown', 'someone has a mental illness', 'someone has a seizure', 'someone has a stroke', 'someone has an abortion', 'someone has an anxiety attack', 'someone has an eating disorder', 'someone has cancer', \"someone has dementia/Alzheimer's\", 'someone is abused with a belt', 'someone is beaten up by a bully', 'someone is buried alive', 'someone is burned alive', 'someone is crushed to death', 'someone is drugged', 'someone is eaten', 'someone is held under water', 'someone is homeless', 'someone is kidnapped', 'someone is misgendered', 'someone is possessed', 'someone is raped onscreen', 'someone is restrained', 'someone is sexually assaulted', 'someone is sexually objectified', 'someone is stabbed', 'someone is stalked', 'someone is terminally ill', 'someone is watched without knowing', 'someone leaves without saying goodbye', 'someone loses their virginity', 'someone miscarries', 'someone overdoses', 'someone poops on-screen', 'someone sacrifices themselves', 'someone says \"I\\'ll kill myself\"', 'someone says the n-word', 'someone self harms', 'someone speaks hate speech', 'someone struggles to breathe', 'someone suffers from PTSD', 'someone uses drugs', 'someone vomits', 'someone wets/soils themselves', \"someone's mouth is covered\", \"someone's throat is mutilated\", 'teeth are damaged', 'the abused becomes the abuser', 'the abused forgives their abuser', 'the black guy dies first', 'the ending is sad', 'the fourth wall is broken', 'the r-slur is used', 'there are \"Man in a dress\" jokes', 'there are 9/11 depictions', 'there are bugs', 'there are clowns', 'there are hangings', 'there are homophobic slurs', 'there are incestuous relationships', 'there are jump scares', 'there are mannequins', 'there are nude scenes', 'there are razors', 'there are sharks', 'there are shower scenes', 'there are snakes', 'there are spiders', 'there are sudden loud noises', 'there are transphobic slurs', 'there is a baby or unborn child', 'there is copaganda', 'there is obscene language/gestures', 'there is sexual content', \"there's ABA therapy\", \"there's Achilles Tendon injury\", \"there's BDSM\", \"there's a claustrophobic scene\", \"there's a dead animal\", \"there's a hospital scene\", \"there's a large age gap\", \"there's a mental institution scene\", \"there's a nuclear explosion\", \"there's ableist language or behavior\", \"there's abusive parents\", \"there's addiction\", \"there's amputation\", \"there's an alligator/crocodile\", \"there's anti-abortion themes\", \"there's antisemitism\", \"there's aphobia\", \"there's bedbugs\", \"there's bestiality\", \"there's bisexual cheating\", \"there's blackface\", \"there's blood/gore\", \"there's body dysmorphia\", \"there's body dysphoria\", \"there's body horror\", \"there's cannibalism\", \"there's child abuse\", \"there's childbirth\", \"there's deadnaming or birthnaming\", \"there's decapitation\", \"there's demons or Hell\", \"there's dissociation, depersonalization, or derealization\", \"there's dog fighting\", \"there's domestic violence\", \"there's end credits scenes?\", \"there's excessive gore\", \"there's eye mutilation\", \"there's farting\", \"there's fat jokes\", \"there's fat suits\", \"there's finger/toe mutilation\", \"there's flashing lights or images\", \"there's genital trauma/mutilation\", \"there's ghosts\", \"there's gun violence\", \"there's incarceration\", \"there's menstruation\", \"there's misophonia\", \"there's natural bodies of water\", \"there's pedophilia\", \"there's screaming\", \"there's shaving/cutting\", \"there's spitting\", \"there's torture\", \"there's underwater scenes\", 'trypophobic content is shown']\n"
     ]
    }
   ],
   "source": [
    "unique_values = sorted(doesthe_movies['category_name'].dropna().unique())\n",
    "print(f'Unique values in category column: {unique_values}')"
   ]
  },
  {
   "cell_type": "code",
   "execution_count": 17,
   "metadata": {},
   "outputs": [
    {
     "name": "stdout",
     "output_type": "stream",
     "text": [
      "Unique titles in doesthe_movies: 433\n"
     ]
    }
   ],
   "source": [
    "print(f'Unique titles in doesthe_movies: {doesthe_movies['title'].nunique()}')"
   ]
  },
  {
   "cell_type": "markdown",
   "metadata": {},
   "source": [
    "### Drop rows where 'yes' is greater than 'no'\n",
    "Keep rows where sensitive content does take place."
   ]
  },
  {
   "cell_type": "code",
   "execution_count": 18,
   "metadata": {},
   "outputs": [],
   "source": [
    "events_df = doesthe_movies.copy()\n",
    "events_df = events_df[events_df['yes'] >= events_df['no']]"
   ]
  },
  {
   "cell_type": "markdown",
   "metadata": {},
   "source": [
    "Group categories in new column"
   ]
  },
  {
   "cell_type": "code",
   "execution_count": 19,
   "metadata": {},
   "outputs": [],
   "source": [
    "events_df['events'] = events_df.groupby('clean_title')['category_name'].transform(lambda x: ', '.join(x))\n",
    "events_df = events_df.drop(columns=['category_name'])"
   ]
  },
  {
   "cell_type": "code",
   "execution_count": 23,
   "metadata": {},
   "outputs": [
    {
     "data": {
      "text/html": [
       "<div>\n",
       "<style scoped>\n",
       "    .dataframe tbody tr th:only-of-type {\n",
       "        vertical-align: middle;\n",
       "    }\n",
       "\n",
       "    .dataframe tbody tr th {\n",
       "        vertical-align: top;\n",
       "    }\n",
       "\n",
       "    .dataframe thead th {\n",
       "        text-align: right;\n",
       "    }\n",
       "</style>\n",
       "<table border=\"1\" class=\"dataframe\">\n",
       "  <thead>\n",
       "    <tr style=\"text-align: right;\">\n",
       "      <th></th>\n",
       "      <th>title</th>\n",
       "      <th>yes</th>\n",
       "      <th>no</th>\n",
       "      <th>yes_ratio</th>\n",
       "      <th>clean_title</th>\n",
       "      <th>events</th>\n",
       "    </tr>\n",
       "  </thead>\n",
       "  <tbody>\n",
       "    <tr>\n",
       "      <th>0</th>\n",
       "      <td>John Wick</td>\n",
       "      <td>1150</td>\n",
       "      <td>106</td>\n",
       "      <td>0.916</td>\n",
       "      <td>john wick</td>\n",
       "      <td>a dog dies, there's a dead animal, a pet dies,...</td>\n",
       "    </tr>\n",
       "    <tr>\n",
       "      <th>1</th>\n",
       "      <td>Marley &amp; Me</td>\n",
       "      <td>781</td>\n",
       "      <td>37</td>\n",
       "      <td>0.955</td>\n",
       "      <td>marley  me</td>\n",
       "      <td>a dog dies, a pet dies, an animal is sad, some...</td>\n",
       "    </tr>\n",
       "    <tr>\n",
       "      <th>2</th>\n",
       "      <td>Hereditary</td>\n",
       "      <td>680</td>\n",
       "      <td>67</td>\n",
       "      <td>0.910</td>\n",
       "      <td>hereditary</td>\n",
       "      <td>a dog dies, there's a dead animal, there are b...</td>\n",
       "    </tr>\n",
       "    <tr>\n",
       "      <th>3</th>\n",
       "      <td>MEGAN</td>\n",
       "      <td>580</td>\n",
       "      <td>22</td>\n",
       "      <td>0.963</td>\n",
       "      <td>megan</td>\n",
       "      <td>a dog dies, there's a dead animal, there are b...</td>\n",
       "    </tr>\n",
       "    <tr>\n",
       "      <th>5</th>\n",
       "      <td>The Babadook</td>\n",
       "      <td>514</td>\n",
       "      <td>15</td>\n",
       "      <td>0.972</td>\n",
       "      <td>the babadook</td>\n",
       "      <td>a dog dies, there are bugs, a pet dies, animal...</td>\n",
       "    </tr>\n",
       "    <tr>\n",
       "      <th>6</th>\n",
       "      <td>A Dog's Purpose</td>\n",
       "      <td>440</td>\n",
       "      <td>20</td>\n",
       "      <td>0.957</td>\n",
       "      <td>a dogs purpose</td>\n",
       "      <td>a dog dies, a cat dies</td>\n",
       "    </tr>\n",
       "    <tr>\n",
       "      <th>7</th>\n",
       "      <td>I Am Legend</td>\n",
       "      <td>434</td>\n",
       "      <td>13</td>\n",
       "      <td>0.971</td>\n",
       "      <td>i am legend</td>\n",
       "      <td>a dog dies, there's dog fighting</td>\n",
       "    </tr>\n",
       "    <tr>\n",
       "      <th>8</th>\n",
       "      <td>The Conjuring</td>\n",
       "      <td>434</td>\n",
       "      <td>14</td>\n",
       "      <td>0.969</td>\n",
       "      <td>the conjuring</td>\n",
       "      <td>a dog dies, a pet dies, an animal dies, there ...</td>\n",
       "    </tr>\n",
       "    <tr>\n",
       "      <th>10</th>\n",
       "      <td>American Psycho</td>\n",
       "      <td>378</td>\n",
       "      <td>16</td>\n",
       "      <td>0.959</td>\n",
       "      <td>american psycho</td>\n",
       "      <td>a dog dies, there's a dead animal, a pet dies,...</td>\n",
       "    </tr>\n",
       "    <tr>\n",
       "      <th>13</th>\n",
       "      <td>The Witch</td>\n",
       "      <td>301</td>\n",
       "      <td>8</td>\n",
       "      <td>0.974</td>\n",
       "      <td>the witch</td>\n",
       "      <td>a dog dies, a kid dies, an infant is abducted</td>\n",
       "    </tr>\n",
       "  </tbody>\n",
       "</table>\n",
       "</div>"
      ],
      "text/plain": [
       "              title   yes   no  yes_ratio      clean_title  \\\n",
       "0         John Wick  1150  106      0.916        john wick   \n",
       "1       Marley & Me   781   37      0.955       marley  me   \n",
       "2        Hereditary   680   67      0.910       hereditary   \n",
       "3             MEGAN   580   22      0.963            megan   \n",
       "5      The Babadook   514   15      0.972     the babadook   \n",
       "6   A Dog's Purpose   440   20      0.957   a dogs purpose   \n",
       "7       I Am Legend   434   13      0.971      i am legend   \n",
       "8     The Conjuring   434   14      0.969    the conjuring   \n",
       "10  American Psycho   378   16      0.959  american psycho   \n",
       "13        The Witch   301    8      0.974        the witch   \n",
       "\n",
       "                                               events  \n",
       "0   a dog dies, there's a dead animal, a pet dies,...  \n",
       "1   a dog dies, a pet dies, an animal is sad, some...  \n",
       "2   a dog dies, there's a dead animal, there are b...  \n",
       "3   a dog dies, there's a dead animal, there are b...  \n",
       "5   a dog dies, there are bugs, a pet dies, animal...  \n",
       "6                              a dog dies, a cat dies  \n",
       "7                    a dog dies, there's dog fighting  \n",
       "8   a dog dies, a pet dies, an animal dies, there ...  \n",
       "10  a dog dies, there's a dead animal, a pet dies,...  \n",
       "13      a dog dies, a kid dies, an infant is abducted  "
      ]
     },
     "execution_count": 23,
     "metadata": {},
     "output_type": "execute_result"
    }
   ],
   "source": [
    "events_df.head(10)"
   ]
  },
  {
   "cell_type": "code",
   "execution_count": 21,
   "metadata": {},
   "outputs": [
    {
     "data": {
      "text/html": [
       "<div>\n",
       "<style scoped>\n",
       "    .dataframe tbody tr th:only-of-type {\n",
       "        vertical-align: middle;\n",
       "    }\n",
       "\n",
       "    .dataframe tbody tr th {\n",
       "        vertical-align: top;\n",
       "    }\n",
       "\n",
       "    .dataframe thead th {\n",
       "        text-align: right;\n",
       "    }\n",
       "</style>\n",
       "<table border=\"1\" class=\"dataframe\">\n",
       "  <thead>\n",
       "    <tr style=\"text-align: right;\">\n",
       "      <th></th>\n",
       "      <th>title</th>\n",
       "      <th>yes</th>\n",
       "      <th>no</th>\n",
       "      <th>yes_ratio</th>\n",
       "      <th>clean_title</th>\n",
       "      <th>events</th>\n",
       "    </tr>\n",
       "  </thead>\n",
       "  <tbody>\n",
       "    <tr>\n",
       "      <th>0</th>\n",
       "      <td>John Wick</td>\n",
       "      <td>1150</td>\n",
       "      <td>106</td>\n",
       "      <td>0.916</td>\n",
       "      <td>john wick</td>\n",
       "      <td>a dog dies, there's a dead animal, a pet dies,...</td>\n",
       "    </tr>\n",
       "    <tr>\n",
       "      <th>1</th>\n",
       "      <td>Marley &amp; Me</td>\n",
       "      <td>781</td>\n",
       "      <td>37</td>\n",
       "      <td>0.955</td>\n",
       "      <td>marley  me</td>\n",
       "      <td>a dog dies, a pet dies, an animal is sad, some...</td>\n",
       "    </tr>\n",
       "    <tr>\n",
       "      <th>2</th>\n",
       "      <td>Hereditary</td>\n",
       "      <td>680</td>\n",
       "      <td>67</td>\n",
       "      <td>0.910</td>\n",
       "      <td>hereditary</td>\n",
       "      <td>a dog dies, there's a dead animal, there are b...</td>\n",
       "    </tr>\n",
       "    <tr>\n",
       "      <th>3</th>\n",
       "      <td>MEGAN</td>\n",
       "      <td>580</td>\n",
       "      <td>22</td>\n",
       "      <td>0.963</td>\n",
       "      <td>megan</td>\n",
       "      <td>a dog dies, there's a dead animal, there are b...</td>\n",
       "    </tr>\n",
       "    <tr>\n",
       "      <th>5</th>\n",
       "      <td>The Babadook</td>\n",
       "      <td>514</td>\n",
       "      <td>15</td>\n",
       "      <td>0.972</td>\n",
       "      <td>the babadook</td>\n",
       "      <td>a dog dies, there are bugs, a pet dies, animal...</td>\n",
       "    </tr>\n",
       "    <tr>\n",
       "      <th>...</th>\n",
       "      <td>...</td>\n",
       "      <td>...</td>\n",
       "      <td>...</td>\n",
       "      <td>...</td>\n",
       "      <td>...</td>\n",
       "      <td>...</td>\n",
       "    </tr>\n",
       "    <tr>\n",
       "      <th>5898</th>\n",
       "      <td>Joker</td>\n",
       "      <td>104</td>\n",
       "      <td>2</td>\n",
       "      <td>0.981</td>\n",
       "      <td>joker</td>\n",
       "      <td>someone is stalked, heads get squashed, there ...</td>\n",
       "    </tr>\n",
       "    <tr>\n",
       "      <th>5901</th>\n",
       "      <td>American Psycho</td>\n",
       "      <td>101</td>\n",
       "      <td>0</td>\n",
       "      <td>1.000</td>\n",
       "      <td>american psycho</td>\n",
       "      <td>a dog dies, there's a dead animal, a pet dies,...</td>\n",
       "    </tr>\n",
       "    <tr>\n",
       "      <th>5906</th>\n",
       "      <td>Everything Everywhere All at Once</td>\n",
       "      <td>92</td>\n",
       "      <td>2</td>\n",
       "      <td>0.979</td>\n",
       "      <td>everything everywhere all at once</td>\n",
       "      <td>animals are abused, a child is abandoned by a ...</td>\n",
       "    </tr>\n",
       "    <tr>\n",
       "      <th>5907</th>\n",
       "      <td>Jojo Rabbit</td>\n",
       "      <td>92</td>\n",
       "      <td>0</td>\n",
       "      <td>1.000</td>\n",
       "      <td>jojo rabbit</td>\n",
       "      <td>rabbits are harmed, there's fat jokes, there's...</td>\n",
       "    </tr>\n",
       "    <tr>\n",
       "      <th>5909</th>\n",
       "      <td>Saw</td>\n",
       "      <td>91</td>\n",
       "      <td>1</td>\n",
       "      <td>0.989</td>\n",
       "      <td>saw</td>\n",
       "      <td>someone leaves without saying goodbye, the abu...</td>\n",
       "    </tr>\n",
       "  </tbody>\n",
       "</table>\n",
       "<p>2302 rows × 6 columns</p>\n",
       "</div>"
      ],
      "text/plain": [
       "                                  title   yes   no  yes_ratio  \\\n",
       "0                             John Wick  1150  106      0.916   \n",
       "1                           Marley & Me   781   37      0.955   \n",
       "2                            Hereditary   680   67      0.910   \n",
       "3                                 MEGAN   580   22      0.963   \n",
       "5                          The Babadook   514   15      0.972   \n",
       "...                                 ...   ...  ...        ...   \n",
       "5898                              Joker   104    2      0.981   \n",
       "5901                    American Psycho   101    0      1.000   \n",
       "5906  Everything Everywhere All at Once    92    2      0.979   \n",
       "5907                        Jojo Rabbit    92    0      1.000   \n",
       "5909                                Saw    91    1      0.989   \n",
       "\n",
       "                            clean_title  \\\n",
       "0                             john wick   \n",
       "1                            marley  me   \n",
       "2                            hereditary   \n",
       "3                                 megan   \n",
       "5                          the babadook   \n",
       "...                                 ...   \n",
       "5898                              joker   \n",
       "5901                    american psycho   \n",
       "5906  everything everywhere all at once   \n",
       "5907                        jojo rabbit   \n",
       "5909                                saw   \n",
       "\n",
       "                                                 events  \n",
       "0     a dog dies, there's a dead animal, a pet dies,...  \n",
       "1     a dog dies, a pet dies, an animal is sad, some...  \n",
       "2     a dog dies, there's a dead animal, there are b...  \n",
       "3     a dog dies, there's a dead animal, there are b...  \n",
       "5     a dog dies, there are bugs, a pet dies, animal...  \n",
       "...                                                 ...  \n",
       "5898  someone is stalked, heads get squashed, there ...  \n",
       "5901  a dog dies, there's a dead animal, a pet dies,...  \n",
       "5906  animals are abused, a child is abandoned by a ...  \n",
       "5907  rabbits are harmed, there's fat jokes, there's...  \n",
       "5909  someone leaves without saying goodbye, the abu...  \n",
       "\n",
       "[2302 rows x 6 columns]"
      ]
     },
     "execution_count": 21,
     "metadata": {},
     "output_type": "execute_result"
    }
   ],
   "source": [
    "events_df"
   ]
  },
  {
   "cell_type": "code",
   "execution_count": null,
   "metadata": {},
   "outputs": [],
   "source": []
  }
 ],
 "metadata": {
  "kernelspec": {
   "display_name": "movie_env",
   "language": "python",
   "name": "python3"
  },
  "language_info": {
   "codemirror_mode": {
    "name": "ipython",
    "version": 3
   },
   "file_extension": ".py",
   "mimetype": "text/x-python",
   "name": "python",
   "nbconvert_exporter": "python",
   "pygments_lexer": "ipython3",
   "version": "3.12.3"
  }
 },
 "nbformat": 4,
 "nbformat_minor": 2
}
