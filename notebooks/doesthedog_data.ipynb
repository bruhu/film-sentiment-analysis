{
 "cells": [
  {
   "cell_type": "code",
   "execution_count": 25,
   "metadata": {},
   "outputs": [],
   "source": [
    "import pandas as pd\n",
    "import pandas as pd\n",
    "import numpy as np\n",
    "from datetime import datetime\n",
    "import re"
   ]
  },
  {
   "cell_type": "code",
   "execution_count": 26,
   "metadata": {},
   "outputs": [],
   "source": [
    "\n",
    "import sys\n",
    "sys.path.append('../utils')\n",
    "import functions"
   ]
  },
  {
   "cell_type": "code",
   "execution_count": 27,
   "metadata": {},
   "outputs": [
    {
     "ename": "FileNotFoundError",
     "evalue": "[Errno 2] No such file or directory: '../data/local/raw/doesthedogdie.com.csv'",
     "output_type": "error",
     "traceback": [
      "\u001b[0;31m---------------------------------------------------------------------------\u001b[0m",
      "\u001b[0;31mFileNotFoundError\u001b[0m                         Traceback (most recent call last)",
      "Cell \u001b[0;32mIn[27], line 1\u001b[0m\n\u001b[0;32m----> 1\u001b[0m df \u001b[38;5;241m=\u001b[39m \u001b[43mpd\u001b[49m\u001b[38;5;241;43m.\u001b[39;49m\u001b[43mread_csv\u001b[49m\u001b[43m(\u001b[49m\u001b[38;5;124;43m'\u001b[39;49m\u001b[38;5;124;43m../data/local/raw/doesthedogdie.com.csv\u001b[39;49m\u001b[38;5;124;43m'\u001b[39;49m\u001b[43m)\u001b[49m\n\u001b[1;32m      2\u001b[0m df\u001b[38;5;241m.\u001b[39mhead()\n",
      "File \u001b[0;32m~/Code/ironhack/movie-project/movie_env/lib/python3.12/site-packages/pandas/io/parsers/readers.py:1026\u001b[0m, in \u001b[0;36mread_csv\u001b[0;34m(filepath_or_buffer, sep, delimiter, header, names, index_col, usecols, dtype, engine, converters, true_values, false_values, skipinitialspace, skiprows, skipfooter, nrows, na_values, keep_default_na, na_filter, verbose, skip_blank_lines, parse_dates, infer_datetime_format, keep_date_col, date_parser, date_format, dayfirst, cache_dates, iterator, chunksize, compression, thousands, decimal, lineterminator, quotechar, quoting, doublequote, escapechar, comment, encoding, encoding_errors, dialect, on_bad_lines, delim_whitespace, low_memory, memory_map, float_precision, storage_options, dtype_backend)\u001b[0m\n\u001b[1;32m   1013\u001b[0m kwds_defaults \u001b[38;5;241m=\u001b[39m _refine_defaults_read(\n\u001b[1;32m   1014\u001b[0m     dialect,\n\u001b[1;32m   1015\u001b[0m     delimiter,\n\u001b[0;32m   (...)\u001b[0m\n\u001b[1;32m   1022\u001b[0m     dtype_backend\u001b[38;5;241m=\u001b[39mdtype_backend,\n\u001b[1;32m   1023\u001b[0m )\n\u001b[1;32m   1024\u001b[0m kwds\u001b[38;5;241m.\u001b[39mupdate(kwds_defaults)\n\u001b[0;32m-> 1026\u001b[0m \u001b[38;5;28;01mreturn\u001b[39;00m \u001b[43m_read\u001b[49m\u001b[43m(\u001b[49m\u001b[43mfilepath_or_buffer\u001b[49m\u001b[43m,\u001b[49m\u001b[43m \u001b[49m\u001b[43mkwds\u001b[49m\u001b[43m)\u001b[49m\n",
      "File \u001b[0;32m~/Code/ironhack/movie-project/movie_env/lib/python3.12/site-packages/pandas/io/parsers/readers.py:620\u001b[0m, in \u001b[0;36m_read\u001b[0;34m(filepath_or_buffer, kwds)\u001b[0m\n\u001b[1;32m    617\u001b[0m _validate_names(kwds\u001b[38;5;241m.\u001b[39mget(\u001b[38;5;124m\"\u001b[39m\u001b[38;5;124mnames\u001b[39m\u001b[38;5;124m\"\u001b[39m, \u001b[38;5;28;01mNone\u001b[39;00m))\n\u001b[1;32m    619\u001b[0m \u001b[38;5;66;03m# Create the parser.\u001b[39;00m\n\u001b[0;32m--> 620\u001b[0m parser \u001b[38;5;241m=\u001b[39m \u001b[43mTextFileReader\u001b[49m\u001b[43m(\u001b[49m\u001b[43mfilepath_or_buffer\u001b[49m\u001b[43m,\u001b[49m\u001b[43m \u001b[49m\u001b[38;5;241;43m*\u001b[39;49m\u001b[38;5;241;43m*\u001b[39;49m\u001b[43mkwds\u001b[49m\u001b[43m)\u001b[49m\n\u001b[1;32m    622\u001b[0m \u001b[38;5;28;01mif\u001b[39;00m chunksize \u001b[38;5;129;01mor\u001b[39;00m iterator:\n\u001b[1;32m    623\u001b[0m     \u001b[38;5;28;01mreturn\u001b[39;00m parser\n",
      "File \u001b[0;32m~/Code/ironhack/movie-project/movie_env/lib/python3.12/site-packages/pandas/io/parsers/readers.py:1620\u001b[0m, in \u001b[0;36mTextFileReader.__init__\u001b[0;34m(self, f, engine, **kwds)\u001b[0m\n\u001b[1;32m   1617\u001b[0m     \u001b[38;5;28mself\u001b[39m\u001b[38;5;241m.\u001b[39moptions[\u001b[38;5;124m\"\u001b[39m\u001b[38;5;124mhas_index_names\u001b[39m\u001b[38;5;124m\"\u001b[39m] \u001b[38;5;241m=\u001b[39m kwds[\u001b[38;5;124m\"\u001b[39m\u001b[38;5;124mhas_index_names\u001b[39m\u001b[38;5;124m\"\u001b[39m]\n\u001b[1;32m   1619\u001b[0m \u001b[38;5;28mself\u001b[39m\u001b[38;5;241m.\u001b[39mhandles: IOHandles \u001b[38;5;241m|\u001b[39m \u001b[38;5;28;01mNone\u001b[39;00m \u001b[38;5;241m=\u001b[39m \u001b[38;5;28;01mNone\u001b[39;00m\n\u001b[0;32m-> 1620\u001b[0m \u001b[38;5;28mself\u001b[39m\u001b[38;5;241m.\u001b[39m_engine \u001b[38;5;241m=\u001b[39m \u001b[38;5;28;43mself\u001b[39;49m\u001b[38;5;241;43m.\u001b[39;49m\u001b[43m_make_engine\u001b[49m\u001b[43m(\u001b[49m\u001b[43mf\u001b[49m\u001b[43m,\u001b[49m\u001b[43m \u001b[49m\u001b[38;5;28;43mself\u001b[39;49m\u001b[38;5;241;43m.\u001b[39;49m\u001b[43mengine\u001b[49m\u001b[43m)\u001b[49m\n",
      "File \u001b[0;32m~/Code/ironhack/movie-project/movie_env/lib/python3.12/site-packages/pandas/io/parsers/readers.py:1880\u001b[0m, in \u001b[0;36mTextFileReader._make_engine\u001b[0;34m(self, f, engine)\u001b[0m\n\u001b[1;32m   1878\u001b[0m     \u001b[38;5;28;01mif\u001b[39;00m \u001b[38;5;124m\"\u001b[39m\u001b[38;5;124mb\u001b[39m\u001b[38;5;124m\"\u001b[39m \u001b[38;5;129;01mnot\u001b[39;00m \u001b[38;5;129;01min\u001b[39;00m mode:\n\u001b[1;32m   1879\u001b[0m         mode \u001b[38;5;241m+\u001b[39m\u001b[38;5;241m=\u001b[39m \u001b[38;5;124m\"\u001b[39m\u001b[38;5;124mb\u001b[39m\u001b[38;5;124m\"\u001b[39m\n\u001b[0;32m-> 1880\u001b[0m \u001b[38;5;28mself\u001b[39m\u001b[38;5;241m.\u001b[39mhandles \u001b[38;5;241m=\u001b[39m \u001b[43mget_handle\u001b[49m\u001b[43m(\u001b[49m\n\u001b[1;32m   1881\u001b[0m \u001b[43m    \u001b[49m\u001b[43mf\u001b[49m\u001b[43m,\u001b[49m\n\u001b[1;32m   1882\u001b[0m \u001b[43m    \u001b[49m\u001b[43mmode\u001b[49m\u001b[43m,\u001b[49m\n\u001b[1;32m   1883\u001b[0m \u001b[43m    \u001b[49m\u001b[43mencoding\u001b[49m\u001b[38;5;241;43m=\u001b[39;49m\u001b[38;5;28;43mself\u001b[39;49m\u001b[38;5;241;43m.\u001b[39;49m\u001b[43moptions\u001b[49m\u001b[38;5;241;43m.\u001b[39;49m\u001b[43mget\u001b[49m\u001b[43m(\u001b[49m\u001b[38;5;124;43m\"\u001b[39;49m\u001b[38;5;124;43mencoding\u001b[39;49m\u001b[38;5;124;43m\"\u001b[39;49m\u001b[43m,\u001b[49m\u001b[43m \u001b[49m\u001b[38;5;28;43;01mNone\u001b[39;49;00m\u001b[43m)\u001b[49m\u001b[43m,\u001b[49m\n\u001b[1;32m   1884\u001b[0m \u001b[43m    \u001b[49m\u001b[43mcompression\u001b[49m\u001b[38;5;241;43m=\u001b[39;49m\u001b[38;5;28;43mself\u001b[39;49m\u001b[38;5;241;43m.\u001b[39;49m\u001b[43moptions\u001b[49m\u001b[38;5;241;43m.\u001b[39;49m\u001b[43mget\u001b[49m\u001b[43m(\u001b[49m\u001b[38;5;124;43m\"\u001b[39;49m\u001b[38;5;124;43mcompression\u001b[39;49m\u001b[38;5;124;43m\"\u001b[39;49m\u001b[43m,\u001b[49m\u001b[43m \u001b[49m\u001b[38;5;28;43;01mNone\u001b[39;49;00m\u001b[43m)\u001b[49m\u001b[43m,\u001b[49m\n\u001b[1;32m   1885\u001b[0m \u001b[43m    \u001b[49m\u001b[43mmemory_map\u001b[49m\u001b[38;5;241;43m=\u001b[39;49m\u001b[38;5;28;43mself\u001b[39;49m\u001b[38;5;241;43m.\u001b[39;49m\u001b[43moptions\u001b[49m\u001b[38;5;241;43m.\u001b[39;49m\u001b[43mget\u001b[49m\u001b[43m(\u001b[49m\u001b[38;5;124;43m\"\u001b[39;49m\u001b[38;5;124;43mmemory_map\u001b[39;49m\u001b[38;5;124;43m\"\u001b[39;49m\u001b[43m,\u001b[49m\u001b[43m \u001b[49m\u001b[38;5;28;43;01mFalse\u001b[39;49;00m\u001b[43m)\u001b[49m\u001b[43m,\u001b[49m\n\u001b[1;32m   1886\u001b[0m \u001b[43m    \u001b[49m\u001b[43mis_text\u001b[49m\u001b[38;5;241;43m=\u001b[39;49m\u001b[43mis_text\u001b[49m\u001b[43m,\u001b[49m\n\u001b[1;32m   1887\u001b[0m \u001b[43m    \u001b[49m\u001b[43merrors\u001b[49m\u001b[38;5;241;43m=\u001b[39;49m\u001b[38;5;28;43mself\u001b[39;49m\u001b[38;5;241;43m.\u001b[39;49m\u001b[43moptions\u001b[49m\u001b[38;5;241;43m.\u001b[39;49m\u001b[43mget\u001b[49m\u001b[43m(\u001b[49m\u001b[38;5;124;43m\"\u001b[39;49m\u001b[38;5;124;43mencoding_errors\u001b[39;49m\u001b[38;5;124;43m\"\u001b[39;49m\u001b[43m,\u001b[49m\u001b[43m \u001b[49m\u001b[38;5;124;43m\"\u001b[39;49m\u001b[38;5;124;43mstrict\u001b[39;49m\u001b[38;5;124;43m\"\u001b[39;49m\u001b[43m)\u001b[49m\u001b[43m,\u001b[49m\n\u001b[1;32m   1888\u001b[0m \u001b[43m    \u001b[49m\u001b[43mstorage_options\u001b[49m\u001b[38;5;241;43m=\u001b[39;49m\u001b[38;5;28;43mself\u001b[39;49m\u001b[38;5;241;43m.\u001b[39;49m\u001b[43moptions\u001b[49m\u001b[38;5;241;43m.\u001b[39;49m\u001b[43mget\u001b[49m\u001b[43m(\u001b[49m\u001b[38;5;124;43m\"\u001b[39;49m\u001b[38;5;124;43mstorage_options\u001b[39;49m\u001b[38;5;124;43m\"\u001b[39;49m\u001b[43m,\u001b[49m\u001b[43m \u001b[49m\u001b[38;5;28;43;01mNone\u001b[39;49;00m\u001b[43m)\u001b[49m\u001b[43m,\u001b[49m\n\u001b[1;32m   1889\u001b[0m \u001b[43m\u001b[49m\u001b[43m)\u001b[49m\n\u001b[1;32m   1890\u001b[0m \u001b[38;5;28;01massert\u001b[39;00m \u001b[38;5;28mself\u001b[39m\u001b[38;5;241m.\u001b[39mhandles \u001b[38;5;129;01mis\u001b[39;00m \u001b[38;5;129;01mnot\u001b[39;00m \u001b[38;5;28;01mNone\u001b[39;00m\n\u001b[1;32m   1891\u001b[0m f \u001b[38;5;241m=\u001b[39m \u001b[38;5;28mself\u001b[39m\u001b[38;5;241m.\u001b[39mhandles\u001b[38;5;241m.\u001b[39mhandle\n",
      "File \u001b[0;32m~/Code/ironhack/movie-project/movie_env/lib/python3.12/site-packages/pandas/io/common.py:873\u001b[0m, in \u001b[0;36mget_handle\u001b[0;34m(path_or_buf, mode, encoding, compression, memory_map, is_text, errors, storage_options)\u001b[0m\n\u001b[1;32m    868\u001b[0m \u001b[38;5;28;01melif\u001b[39;00m \u001b[38;5;28misinstance\u001b[39m(handle, \u001b[38;5;28mstr\u001b[39m):\n\u001b[1;32m    869\u001b[0m     \u001b[38;5;66;03m# Check whether the filename is to be opened in binary mode.\u001b[39;00m\n\u001b[1;32m    870\u001b[0m     \u001b[38;5;66;03m# Binary mode does not support 'encoding' and 'newline'.\u001b[39;00m\n\u001b[1;32m    871\u001b[0m     \u001b[38;5;28;01mif\u001b[39;00m ioargs\u001b[38;5;241m.\u001b[39mencoding \u001b[38;5;129;01mand\u001b[39;00m \u001b[38;5;124m\"\u001b[39m\u001b[38;5;124mb\u001b[39m\u001b[38;5;124m\"\u001b[39m \u001b[38;5;129;01mnot\u001b[39;00m \u001b[38;5;129;01min\u001b[39;00m ioargs\u001b[38;5;241m.\u001b[39mmode:\n\u001b[1;32m    872\u001b[0m         \u001b[38;5;66;03m# Encoding\u001b[39;00m\n\u001b[0;32m--> 873\u001b[0m         handle \u001b[38;5;241m=\u001b[39m \u001b[38;5;28;43mopen\u001b[39;49m\u001b[43m(\u001b[49m\n\u001b[1;32m    874\u001b[0m \u001b[43m            \u001b[49m\u001b[43mhandle\u001b[49m\u001b[43m,\u001b[49m\n\u001b[1;32m    875\u001b[0m \u001b[43m            \u001b[49m\u001b[43mioargs\u001b[49m\u001b[38;5;241;43m.\u001b[39;49m\u001b[43mmode\u001b[49m\u001b[43m,\u001b[49m\n\u001b[1;32m    876\u001b[0m \u001b[43m            \u001b[49m\u001b[43mencoding\u001b[49m\u001b[38;5;241;43m=\u001b[39;49m\u001b[43mioargs\u001b[49m\u001b[38;5;241;43m.\u001b[39;49m\u001b[43mencoding\u001b[49m\u001b[43m,\u001b[49m\n\u001b[1;32m    877\u001b[0m \u001b[43m            \u001b[49m\u001b[43merrors\u001b[49m\u001b[38;5;241;43m=\u001b[39;49m\u001b[43merrors\u001b[49m\u001b[43m,\u001b[49m\n\u001b[1;32m    878\u001b[0m \u001b[43m            \u001b[49m\u001b[43mnewline\u001b[49m\u001b[38;5;241;43m=\u001b[39;49m\u001b[38;5;124;43m\"\u001b[39;49m\u001b[38;5;124;43m\"\u001b[39;49m\u001b[43m,\u001b[49m\n\u001b[1;32m    879\u001b[0m \u001b[43m        \u001b[49m\u001b[43m)\u001b[49m\n\u001b[1;32m    880\u001b[0m     \u001b[38;5;28;01melse\u001b[39;00m:\n\u001b[1;32m    881\u001b[0m         \u001b[38;5;66;03m# Binary mode\u001b[39;00m\n\u001b[1;32m    882\u001b[0m         handle \u001b[38;5;241m=\u001b[39m \u001b[38;5;28mopen\u001b[39m(handle, ioargs\u001b[38;5;241m.\u001b[39mmode)\n",
      "\u001b[0;31mFileNotFoundError\u001b[0m: [Errno 2] No such file or directory: '../data/local/raw/doesthedogdie.com.csv'"
     ]
    }
   ],
   "source": [
    "df = pd.read_csv('../data/local/raw/doesthedogdie.com.csv')\n",
    "df.head()"
   ]
  },
  {
   "cell_type": "code",
   "execution_count": null,
   "metadata": {},
   "outputs": [
    {
     "name": "stdout",
     "output_type": "stream",
     "text": [
      "\n",
      "DataFrame Shape: (5910, 5)\n",
      "Number of Rows: 5910\n",
      "Number of Columns: 5\n",
      "\n",
      "Data Types of Columns:\n",
      "category_name     object\n",
      "title             object\n",
      "yes                int64\n",
      "no                 int64\n",
      "yes_ratio        float64\n",
      "dtype: object\n",
      "\n",
      "Missing Values per Column:\n",
      "category_name    0\n",
      "title            0\n",
      "yes              0\n",
      "no               0\n",
      "yes_ratio        0\n",
      "dtype: int64\n",
      "\n",
      "First 5 Rows of Data:\n",
      "  category_name                    title   yes   no  yes_ratio\n",
      "0    a dog dies          Movie_John Wick  1150  106   0.915605\n",
      "1    a dog dies        Movie_Marley & Me   781   37   0.954768\n",
      "2    a dog dies         Movie_Hereditary   680   67   0.910308\n",
      "3    a dog dies              Movie_MEGAN   580   22   0.963455\n",
      "4    a dog dies  TV Show_Game of Thrones   524   36   0.935714\n"
     ]
    }
   ],
   "source": [
    "functions.show_basic_info(df)"
   ]
  },
  {
   "cell_type": "markdown",
   "metadata": {},
   "source": [
    "Check if there are duplicate titles"
   ]
  },
  {
   "cell_type": "code",
   "execution_count": null,
   "metadata": {},
   "outputs": [
    {
     "name": "stdout",
     "output_type": "stream",
     "text": [
      "Number of duplicates in 'title': 5176\n"
     ]
    }
   ],
   "source": [
    "duplicates = df[df['title'].duplicated()]\n",
    "\n",
    "duplicate_count = df['title'].duplicated().sum()\n",
    "\n",
    "print(f\"Number of duplicates in 'title': {duplicate_count}\")"
   ]
  },
  {
   "cell_type": "markdown",
   "metadata": {},
   "source": [
    "### Check the categories in 'title' column"
   ]
  },
  {
   "cell_type": "code",
   "execution_count": null,
   "metadata": {},
   "outputs": [
    {
     "name": "stdout",
     "output_type": "stream",
     "text": [
      "['Movie' 'TV Show' 'Video Game' 'Anime' 'Book' 'YouTube' 'Podcast' 'Manga'\n",
      " 'Blog' 'Short Story']\n"
     ]
    }
   ],
   "source": [
    "# Extract the unique values before the underscore in 'title'\n",
    "unique_titles = df['title'].str.split('_').str[0].unique()\n",
    "\n",
    "print(unique_titles)"
   ]
  },
  {
   "cell_type": "markdown",
   "metadata": {},
   "source": [
    "Extract media type and remove it from title column"
   ]
  },
  {
   "cell_type": "code",
   "execution_count": null,
   "metadata": {},
   "outputs": [
    {
     "data": {
      "text/html": [
       "<div>\n",
       "<style scoped>\n",
       "    .dataframe tbody tr th:only-of-type {\n",
       "        vertical-align: middle;\n",
       "    }\n",
       "\n",
       "    .dataframe tbody tr th {\n",
       "        vertical-align: top;\n",
       "    }\n",
       "\n",
       "    .dataframe thead th {\n",
       "        text-align: right;\n",
       "    }\n",
       "</style>\n",
       "<table border=\"1\" class=\"dataframe\">\n",
       "  <thead>\n",
       "    <tr style=\"text-align: right;\">\n",
       "      <th></th>\n",
       "      <th>category_name</th>\n",
       "      <th>title</th>\n",
       "      <th>yes</th>\n",
       "      <th>no</th>\n",
       "      <th>yes_ratio</th>\n",
       "      <th>media_type</th>\n",
       "    </tr>\n",
       "  </thead>\n",
       "  <tbody>\n",
       "    <tr>\n",
       "      <th>0</th>\n",
       "      <td>a dog dies</td>\n",
       "      <td>John Wick</td>\n",
       "      <td>1150</td>\n",
       "      <td>106</td>\n",
       "      <td>0.915605</td>\n",
       "      <td>Movie</td>\n",
       "    </tr>\n",
       "    <tr>\n",
       "      <th>1</th>\n",
       "      <td>a dog dies</td>\n",
       "      <td>Marley &amp; Me</td>\n",
       "      <td>781</td>\n",
       "      <td>37</td>\n",
       "      <td>0.954768</td>\n",
       "      <td>Movie</td>\n",
       "    </tr>\n",
       "    <tr>\n",
       "      <th>2</th>\n",
       "      <td>a dog dies</td>\n",
       "      <td>Hereditary</td>\n",
       "      <td>680</td>\n",
       "      <td>67</td>\n",
       "      <td>0.910308</td>\n",
       "      <td>Movie</td>\n",
       "    </tr>\n",
       "    <tr>\n",
       "      <th>3</th>\n",
       "      <td>a dog dies</td>\n",
       "      <td>MEGAN</td>\n",
       "      <td>580</td>\n",
       "      <td>22</td>\n",
       "      <td>0.963455</td>\n",
       "      <td>Movie</td>\n",
       "    </tr>\n",
       "    <tr>\n",
       "      <th>4</th>\n",
       "      <td>a dog dies</td>\n",
       "      <td>Game of Thrones</td>\n",
       "      <td>524</td>\n",
       "      <td>36</td>\n",
       "      <td>0.935714</td>\n",
       "      <td>TV Show</td>\n",
       "    </tr>\n",
       "  </tbody>\n",
       "</table>\n",
       "</div>"
      ],
      "text/plain": [
       "  category_name            title   yes   no  yes_ratio media_type\n",
       "0    a dog dies        John Wick  1150  106   0.915605      Movie\n",
       "1    a dog dies      Marley & Me   781   37   0.954768      Movie\n",
       "2    a dog dies       Hereditary   680   67   0.910308      Movie\n",
       "3    a dog dies            MEGAN   580   22   0.963455      Movie\n",
       "4    a dog dies  Game of Thrones   524   36   0.935714    TV Show"
      ]
     },
     "execution_count": 7,
     "metadata": {},
     "output_type": "execute_result"
    }
   ],
   "source": [
    "df['media_type'] = df['title'].str.split('_').str[0]  # Extract media type\n",
    "df['title'] = df['title'].str.split('_').str[1]       # Remove media type from title\n",
    "\n",
    "df.head()"
   ]
  },
  {
   "cell_type": "code",
   "execution_count": null,
   "metadata": {},
   "outputs": [
    {
     "name": "stdout",
     "output_type": "stream",
     "text": [
      "['Movie' 'TV Show' 'Video Game' 'Anime' 'Book' 'YouTube' 'Podcast' 'Manga'\n",
      " 'Blog' 'Short Story']\n"
     ]
    }
   ],
   "source": [
    "print(df['media_type'].unique())"
   ]
  },
  {
   "cell_type": "markdown",
   "metadata": {},
   "source": [
    "#### Create new df for media_type 'Movie'"
   ]
  },
  {
   "cell_type": "code",
   "execution_count": null,
   "metadata": {},
   "outputs": [
    {
     "name": "stdout",
     "output_type": "stream",
     "text": [
      "             category_name                              title   yes   no  \\\n",
      "0               a dog dies                          John Wick  1150  106   \n",
      "1               a dog dies                        Marley & Me   781   37   \n",
      "2               a dog dies                         Hereditary   680   67   \n",
      "3               a dog dies                              MEGAN   580   22   \n",
      "5               a dog dies                       The Babadook   514   15   \n",
      "...                    ...                                ...   ...  ...   \n",
      "5898  there's gun violence                              Joker   104    2   \n",
      "5901  there's gun violence                    American Psycho   101    0   \n",
      "5906  there's gun violence  Everything Everywhere All at Once    92    2   \n",
      "5907  there's gun violence                        Jojo Rabbit    92    0   \n",
      "5909  there's gun violence                                Saw    91    1   \n",
      "\n",
      "      yes_ratio media_type  \n",
      "0      0.915605      Movie  \n",
      "1      0.954768      Movie  \n",
      "2      0.910308      Movie  \n",
      "3      0.963455      Movie  \n",
      "5      0.971645      Movie  \n",
      "...         ...        ...  \n",
      "5898   0.981132      Movie  \n",
      "5901   1.000000      Movie  \n",
      "5906   0.978723      Movie  \n",
      "5907   1.000000      Movie  \n",
      "5909   0.989130      Movie  \n",
      "\n",
      "[2836 rows x 6 columns]\n"
     ]
    }
   ],
   "source": [
    "doesthe_movies = df[df['media_type'] == 'Movie']\n",
    "print(doesthe_movies)"
   ]
  },
  {
   "cell_type": "code",
   "execution_count": null,
   "metadata": {},
   "outputs": [],
   "source": [
    "doesthe_movies.to_csv('../data/local/raw/doesthedog_movies.csv', index=False)"
   ]
  },
  {
   "cell_type": "code",
   "execution_count": null,
   "metadata": {},
   "outputs": [
    {
     "name": "stdout",
     "output_type": "stream",
     "text": [
      "Unique titles in doesthe_movies: 433\n"
     ]
    }
   ],
   "source": [
    "print(f'Unique titles in doesthe_movies: {doesthe_movies['title'].nunique()}')"
   ]
  },
  {
   "cell_type": "code",
   "execution_count": null,
   "metadata": {},
   "outputs": [
    {
     "name": "stderr",
     "output_type": "stream",
     "text": [
      "/tmp/ipykernel_26246/2012065974.py:1: SettingWithCopyWarning: \n",
      "A value is trying to be set on a copy of a slice from a DataFrame.\n",
      "Try using .loc[row_indexer,col_indexer] = value instead\n",
      "\n",
      "See the caveats in the documentation: https://pandas.pydata.org/pandas-docs/stable/user_guide/indexing.html#returning-a-view-versus-a-copy\n",
      "  doesthe_movies['clean_title'] = functions.prepare_clean_titles(doesthe_movies, 'title')\n"
     ]
    },
    {
     "data": {
      "text/html": [
       "<div>\n",
       "<style scoped>\n",
       "    .dataframe tbody tr th:only-of-type {\n",
       "        vertical-align: middle;\n",
       "    }\n",
       "\n",
       "    .dataframe tbody tr th {\n",
       "        vertical-align: top;\n",
       "    }\n",
       "\n",
       "    .dataframe thead th {\n",
       "        text-align: right;\n",
       "    }\n",
       "</style>\n",
       "<table border=\"1\" class=\"dataframe\">\n",
       "  <thead>\n",
       "    <tr style=\"text-align: right;\">\n",
       "      <th></th>\n",
       "      <th>category_name</th>\n",
       "      <th>title</th>\n",
       "      <th>yes</th>\n",
       "      <th>no</th>\n",
       "      <th>yes_ratio</th>\n",
       "      <th>media_type</th>\n",
       "      <th>clean_title</th>\n",
       "    </tr>\n",
       "  </thead>\n",
       "  <tbody>\n",
       "    <tr>\n",
       "      <th>0</th>\n",
       "      <td>a dog dies</td>\n",
       "      <td>John Wick</td>\n",
       "      <td>1150</td>\n",
       "      <td>106</td>\n",
       "      <td>0.915605</td>\n",
       "      <td>Movie</td>\n",
       "      <td>john wick</td>\n",
       "    </tr>\n",
       "    <tr>\n",
       "      <th>1</th>\n",
       "      <td>a dog dies</td>\n",
       "      <td>Marley &amp; Me</td>\n",
       "      <td>781</td>\n",
       "      <td>37</td>\n",
       "      <td>0.954768</td>\n",
       "      <td>Movie</td>\n",
       "      <td>marley  me</td>\n",
       "    </tr>\n",
       "    <tr>\n",
       "      <th>2</th>\n",
       "      <td>a dog dies</td>\n",
       "      <td>Hereditary</td>\n",
       "      <td>680</td>\n",
       "      <td>67</td>\n",
       "      <td>0.910308</td>\n",
       "      <td>Movie</td>\n",
       "      <td>hereditary</td>\n",
       "    </tr>\n",
       "    <tr>\n",
       "      <th>3</th>\n",
       "      <td>a dog dies</td>\n",
       "      <td>MEGAN</td>\n",
       "      <td>580</td>\n",
       "      <td>22</td>\n",
       "      <td>0.963455</td>\n",
       "      <td>Movie</td>\n",
       "      <td>megan</td>\n",
       "    </tr>\n",
       "    <tr>\n",
       "      <th>5</th>\n",
       "      <td>a dog dies</td>\n",
       "      <td>The Babadook</td>\n",
       "      <td>514</td>\n",
       "      <td>15</td>\n",
       "      <td>0.971645</td>\n",
       "      <td>Movie</td>\n",
       "      <td>the babadook</td>\n",
       "    </tr>\n",
       "  </tbody>\n",
       "</table>\n",
       "</div>"
      ],
      "text/plain": [
       "  category_name         title   yes   no  yes_ratio media_type   clean_title\n",
       "0    a dog dies     John Wick  1150  106   0.915605      Movie     john wick\n",
       "1    a dog dies   Marley & Me   781   37   0.954768      Movie    marley  me\n",
       "2    a dog dies    Hereditary   680   67   0.910308      Movie    hereditary\n",
       "3    a dog dies         MEGAN   580   22   0.963455      Movie         megan\n",
       "5    a dog dies  The Babadook   514   15   0.971645      Movie  the babadook"
      ]
     },
     "execution_count": 12,
     "metadata": {},
     "output_type": "execute_result"
    }
   ],
   "source": [
    "doesthe_movies['clean_title'] = functions.prepare_clean_titles(doesthe_movies, 'title')\n",
    "doesthe_movies.head()\n"
   ]
  },
  {
   "cell_type": "code",
   "execution_count": null,
   "metadata": {},
   "outputs": [
    {
     "name": "stdout",
     "output_type": "stream",
     "text": [
      "\n",
      "DataFrame Shape: (2836, 7)\n",
      "Number of Rows: 2836\n",
      "Number of Columns: 7\n",
      "\n",
      "Data Types of Columns:\n",
      "category_name     object\n",
      "title             object\n",
      "yes                int64\n",
      "no                 int64\n",
      "yes_ratio        float64\n",
      "media_type        object\n",
      "clean_title       object\n",
      "dtype: object\n",
      "\n",
      "Missing Values per Column:\n",
      "category_name    0\n",
      "title            0\n",
      "yes              0\n",
      "no               0\n",
      "yes_ratio        0\n",
      "media_type       0\n",
      "clean_title      0\n",
      "dtype: int64\n",
      "\n",
      "First 5 Rows of Data:\n",
      "  category_name         title   yes   no  yes_ratio media_type   clean_title\n",
      "0    a dog dies     John Wick  1150  106   0.915605      Movie     john wick\n",
      "1    a dog dies   Marley & Me   781   37   0.954768      Movie    marley  me\n",
      "2    a dog dies    Hereditary   680   67   0.910308      Movie    hereditary\n",
      "3    a dog dies         MEGAN   580   22   0.963455      Movie         megan\n",
      "5    a dog dies  The Babadook   514   15   0.971645      Movie  the babadook\n"
     ]
    }
   ],
   "source": [
    "functions.show_basic_info(doesthe_movies)"
   ]
  },
  {
   "cell_type": "markdown",
   "metadata": {},
   "source": [
    "Drop media_type column"
   ]
  },
  {
   "cell_type": "code",
   "execution_count": null,
   "metadata": {},
   "outputs": [
    {
     "name": "stderr",
     "output_type": "stream",
     "text": [
      "/tmp/ipykernel_26246/1615881242.py:1: SettingWithCopyWarning: \n",
      "A value is trying to be set on a copy of a slice from a DataFrame\n",
      "\n",
      "See the caveats in the documentation: https://pandas.pydata.org/pandas-docs/stable/user_guide/indexing.html#returning-a-view-versus-a-copy\n",
      "  doesthe_movies.drop(columns=['media_type'], inplace=True)\n"
     ]
    },
    {
     "data": {
      "text/html": [
       "<div>\n",
       "<style scoped>\n",
       "    .dataframe tbody tr th:only-of-type {\n",
       "        vertical-align: middle;\n",
       "    }\n",
       "\n",
       "    .dataframe tbody tr th {\n",
       "        vertical-align: top;\n",
       "    }\n",
       "\n",
       "    .dataframe thead th {\n",
       "        text-align: right;\n",
       "    }\n",
       "</style>\n",
       "<table border=\"1\" class=\"dataframe\">\n",
       "  <thead>\n",
       "    <tr style=\"text-align: right;\">\n",
       "      <th></th>\n",
       "      <th>category_name</th>\n",
       "      <th>title</th>\n",
       "      <th>yes</th>\n",
       "      <th>no</th>\n",
       "      <th>yes_ratio</th>\n",
       "      <th>clean_title</th>\n",
       "    </tr>\n",
       "  </thead>\n",
       "  <tbody>\n",
       "    <tr>\n",
       "      <th>0</th>\n",
       "      <td>a dog dies</td>\n",
       "      <td>John Wick</td>\n",
       "      <td>1150</td>\n",
       "      <td>106</td>\n",
       "      <td>0.915605</td>\n",
       "      <td>john wick</td>\n",
       "    </tr>\n",
       "    <tr>\n",
       "      <th>1</th>\n",
       "      <td>a dog dies</td>\n",
       "      <td>Marley &amp; Me</td>\n",
       "      <td>781</td>\n",
       "      <td>37</td>\n",
       "      <td>0.954768</td>\n",
       "      <td>marley  me</td>\n",
       "    </tr>\n",
       "    <tr>\n",
       "      <th>2</th>\n",
       "      <td>a dog dies</td>\n",
       "      <td>Hereditary</td>\n",
       "      <td>680</td>\n",
       "      <td>67</td>\n",
       "      <td>0.910308</td>\n",
       "      <td>hereditary</td>\n",
       "    </tr>\n",
       "    <tr>\n",
       "      <th>3</th>\n",
       "      <td>a dog dies</td>\n",
       "      <td>MEGAN</td>\n",
       "      <td>580</td>\n",
       "      <td>22</td>\n",
       "      <td>0.963455</td>\n",
       "      <td>megan</td>\n",
       "    </tr>\n",
       "    <tr>\n",
       "      <th>5</th>\n",
       "      <td>a dog dies</td>\n",
       "      <td>The Babadook</td>\n",
       "      <td>514</td>\n",
       "      <td>15</td>\n",
       "      <td>0.971645</td>\n",
       "      <td>the babadook</td>\n",
       "    </tr>\n",
       "  </tbody>\n",
       "</table>\n",
       "</div>"
      ],
      "text/plain": [
       "  category_name         title   yes   no  yes_ratio   clean_title\n",
       "0    a dog dies     John Wick  1150  106   0.915605     john wick\n",
       "1    a dog dies   Marley & Me   781   37   0.954768    marley  me\n",
       "2    a dog dies    Hereditary   680   67   0.910308    hereditary\n",
       "3    a dog dies         MEGAN   580   22   0.963455         megan\n",
       "5    a dog dies  The Babadook   514   15   0.971645  the babadook"
      ]
     },
     "execution_count": 14,
     "metadata": {},
     "output_type": "execute_result"
    }
   ],
   "source": [
    "doesthe_movies.drop(columns=['media_type'], inplace=True)\n",
    "doesthe_movies.head()"
   ]
  },
  {
   "cell_type": "markdown",
   "metadata": {},
   "source": [
    "#### Extract category_name unique values"
   ]
  },
  {
   "cell_type": "code",
   "execution_count": null,
   "metadata": {},
   "outputs": [
    {
     "name": "stdout",
     "output_type": "stream",
     "text": [
      "[\"A child's dear toy is destroyed\", 'Autism specific abuse', 'D.I.D. Misrepresentation', 'Santa (et al) is spoiled', 'Someone attempts suicide', 'Someone becomes unconscious', \"There's audio gore\", 'a baby cries', 'a baby is stillborn', 'a car crashes', 'a car honks or tires screech', 'a cat dies', 'a child is abandoned by a parent or guardian', 'a dog dies', 'a dragon dies', 'a family member dies', 'a horse dies', 'a kid dies', 'a major character dies', 'a male character is ridiculed for crying', 'a mentally ill person is violent', 'a minor is sexualized', 'a minority is misrepresented', 'a non-human character dies', 'a parent dies', 'a person is hit by a car', 'a pet dies', 'a plane crashes', 'a pregnant person dies', 'a priceless artifact is destroyed', 'a trans person is depicted predatorily', 'a woman gets slapped', 'a woman is brutalized for spectacle', 'alcohol abuse', 'an LGBT person dies', 'an LGBT+ person is outed', 'an animal dies', 'an animal is abandoned', 'an animal is sad', 'an infant is abducted', 'animals are abused', 'animals were harmed in the making', 'autism is misrepresented', 'electro-therapy is used', 'existentialism is debated', 'hands are damaged', 'heads get squashed', 'needles/syringes are used', 'rabbits are harmed', 'rape is mentioned', 'reality is unstable or unhinged', 'religion is discussed', 'sexual assault on men is a joke', 'shaky cam is used', 'somebody is choked', 'someone asphyxiates', 'someone breaks a bone', 'someone cheats', 'someone dies', 'someone dies by suicide', 'someone disabled played by able-bodied', 'someone dislocates something', 'someone drowns', 'someone falls down stairs', 'someone falls to their death', 'someone gets gaslighted', 'someone has a chronic illness', 'someone has a meltdown', 'someone has a mental illness', 'someone has a seizure', 'someone has a stroke', 'someone has an abortion', 'someone has an anxiety attack', 'someone has an eating disorder', 'someone has cancer', \"someone has dementia/Alzheimer's\", 'someone is abused with a belt', 'someone is beaten up by a bully', 'someone is buried alive', 'someone is burned alive', 'someone is crushed to death', 'someone is drugged', 'someone is eaten', 'someone is held under water', 'someone is homeless', 'someone is kidnapped', 'someone is misgendered', 'someone is possessed', 'someone is raped onscreen', 'someone is restrained', 'someone is sexually assaulted', 'someone is sexually objectified', 'someone is stabbed', 'someone is stalked', 'someone is terminally ill', 'someone is watched without knowing', 'someone leaves without saying goodbye', 'someone loses their virginity', 'someone miscarries', 'someone overdoses', 'someone poops on-screen', 'someone sacrifices themselves', 'someone says \"I\\'ll kill myself\"', 'someone says the n-word', 'someone self harms', 'someone speaks hate speech', 'someone struggles to breathe', 'someone suffers from PTSD', 'someone uses drugs', 'someone vomits', 'someone wets/soils themselves', \"someone's mouth is covered\", \"someone's throat is mutilated\", 'teeth are damaged', 'the abused becomes the abuser', 'the abused forgives their abuser', 'the black guy dies first', 'the ending is sad', 'the fourth wall is broken', 'the r-slur is used', 'there are \"Man in a dress\" jokes', 'there are 9/11 depictions', 'there are bugs', 'there are clowns', 'there are hangings', 'there are homophobic slurs', 'there are incestuous relationships', 'there are jump scares', 'there are mannequins', 'there are nude scenes', 'there are razors', 'there are sharks', 'there are shower scenes', 'there are snakes', 'there are spiders', 'there are sudden loud noises', 'there are transphobic slurs', 'there is a baby or unborn child', 'there is copaganda', 'there is obscene language/gestures', 'there is sexual content', \"there's ABA therapy\", \"there's Achilles Tendon injury\", \"there's BDSM\", \"there's a claustrophobic scene\", \"there's a dead animal\", \"there's a hospital scene\", \"there's a large age gap\", \"there's a mental institution scene\", \"there's a nuclear explosion\", \"there's ableist language or behavior\", \"there's abusive parents\", \"there's addiction\", \"there's amputation\", \"there's an alligator/crocodile\", \"there's anti-abortion themes\", \"there's antisemitism\", \"there's aphobia\", \"there's bedbugs\", \"there's bestiality\", \"there's bisexual cheating\", \"there's blackface\", \"there's blood/gore\", \"there's body dysmorphia\", \"there's body dysphoria\", \"there's body horror\", \"there's cannibalism\", \"there's child abuse\", \"there's childbirth\", \"there's deadnaming or birthnaming\", \"there's decapitation\", \"there's demons or Hell\", \"there's dissociation, depersonalization, or derealization\", \"there's dog fighting\", \"there's domestic violence\", \"there's end credits scenes?\", \"there's excessive gore\", \"there's eye mutilation\", \"there's farting\", \"there's fat jokes\", \"there's fat suits\", \"there's finger/toe mutilation\", \"there's flashing lights or images\", \"there's genital trauma/mutilation\", \"there's ghosts\", \"there's gun violence\", \"there's incarceration\", \"there's menstruation\", \"there's misophonia\", \"there's natural bodies of water\", \"there's pedophilia\", \"there's screaming\", \"there's shaving/cutting\", \"there's spitting\", \"there's torture\", \"there's underwater scenes\", 'trypophobic content is shown']\n"
     ]
    }
   ],
   "source": [
    "# Extract unique values, sort them, and print the list\n",
    "unique_values = sorted(doesthe_movies['category_name'].dropna().unique())\n",
    "print(unique_values)"
   ]
  },
  {
   "cell_type": "markdown",
   "metadata": {},
   "source": [
    "### Drop rows where 'yes' is greater than 'no'\n",
    "Keep rows where sensitive content does take place."
   ]
  },
  {
   "cell_type": "code",
   "execution_count": null,
   "metadata": {},
   "outputs": [],
   "source": [
    "doesthe_movies = doesthe_movies[doesthe_movies['yes'] <= doesthe_movies['no']]"
   ]
  },
  {
   "cell_type": "code",
   "execution_count": null,
   "metadata": {},
   "outputs": [
    {
     "name": "stdout",
     "output_type": "stream",
     "text": [
      "\n",
      "DataFrame Shape: (534, 6)\n",
      "Number of Rows: 534\n",
      "Number of Columns: 6\n",
      "\n",
      "Data Types of Columns:\n",
      "category_name     object\n",
      "title             object\n",
      "yes                int64\n",
      "no                 int64\n",
      "yes_ratio        float64\n",
      "clean_title       object\n",
      "dtype: object\n",
      "\n",
      "Missing Values per Column:\n",
      "category_name    0\n",
      "title            0\n",
      "yes              0\n",
      "no               0\n",
      "yes_ratio        0\n",
      "clean_title      0\n",
      "dtype: int64\n",
      "\n",
      "First 5 Rows of Data:\n",
      "           category_name            title  yes   no  yes_ratio  \\\n",
      "600  there's child abuse           Barbie   16  299   0.050794   \n",
      "601  there's child abuse        Midsommar  142  266   0.348039   \n",
      "602  there's child abuse             Nope   29  191   0.131818   \n",
      "603  there's child abuse       Knives Out    1  150   0.006623   \n",
      "604  there's child abuse  American Psycho    0  136   0.000000   \n",
      "\n",
      "         clean_title  \n",
      "600           barbie  \n",
      "601        midsommar  \n",
      "602             nope  \n",
      "603       knives out  \n",
      "604  american psycho  \n"
     ]
    }
   ],
   "source": [
    "# functions.show_basic_info(doesthe_movies)"
   ]
  },
  {
   "cell_type": "code",
   "execution_count": null,
   "metadata": {},
   "outputs": [
    {
     "name": "stdout",
     "output_type": "stream",
     "text": [
      "Unique titles in doesthe_movies: 89\n"
     ]
    }
   ],
   "source": [
    "print(f'Unique titles in doesthe_movies: {doesthe_movies['title'].nunique()}')"
   ]
  },
  {
   "cell_type": "code",
   "execution_count": null,
   "metadata": {},
   "outputs": [],
   "source": [
    "# Group by 'clean_title' and concatenate 'category_name' with a comma\n",
    "events_df = doesthe_movies.groupby('clean_title')['category_name'].apply(lambda x: ', '.join(x)).reset_index()\n",
    "\n",
    "# Rename the column to 'events'\n",
    "events_df.rename(columns={'category_name': 'events'}, inplace=True)\n",
    "\n",
    "# Merge the aggregated events back into the original DataFrame\n",
    "doesthe_movies = pd.merge(doesthe_movies, events_df, on='clean_title', how='left')"
   ]
  },
  {
   "cell_type": "code",
   "execution_count": null,
   "metadata": {},
   "outputs": [
    {
     "data": {
      "text/html": [
       "<div>\n",
       "<style scoped>\n",
       "    .dataframe tbody tr th:only-of-type {\n",
       "        vertical-align: middle;\n",
       "    }\n",
       "\n",
       "    .dataframe tbody tr th {\n",
       "        vertical-align: top;\n",
       "    }\n",
       "\n",
       "    .dataframe thead th {\n",
       "        text-align: right;\n",
       "    }\n",
       "</style>\n",
       "<table border=\"1\" class=\"dataframe\">\n",
       "  <thead>\n",
       "    <tr style=\"text-align: right;\">\n",
       "      <th></th>\n",
       "      <th>clean_title</th>\n",
       "      <th>events</th>\n",
       "    </tr>\n",
       "  </thead>\n",
       "  <tbody>\n",
       "    <tr>\n",
       "      <th>0</th>\n",
       "      <td>a quiet place</td>\n",
       "      <td>there's child abuse, there's domestic violence...</td>\n",
       "    </tr>\n",
       "    <tr>\n",
       "      <th>1</th>\n",
       "      <td>a quiet place day one</td>\n",
       "      <td>a woman is brutalized for spectacle, someone i...</td>\n",
       "    </tr>\n",
       "    <tr>\n",
       "      <th>2</th>\n",
       "      <td>abigail</td>\n",
       "      <td>there's BDSM</td>\n",
       "    </tr>\n",
       "    <tr>\n",
       "      <th>3</th>\n",
       "      <td>alien</td>\n",
       "      <td>there's child abuse, there's domestic violence...</td>\n",
       "    </tr>\n",
       "    <tr>\n",
       "      <th>4</th>\n",
       "      <td>alien romulus</td>\n",
       "      <td>a woman is brutalized for spectacle, someone i...</td>\n",
       "    </tr>\n",
       "    <tr>\n",
       "      <th>...</th>\n",
       "      <td>...</td>\n",
       "      <td>...</td>\n",
       "    </tr>\n",
       "    <tr>\n",
       "      <th>84</th>\n",
       "      <td>titanic</td>\n",
       "      <td>there's child abuse</td>\n",
       "    </tr>\n",
       "    <tr>\n",
       "      <th>85</th>\n",
       "      <td>us</td>\n",
       "      <td>there's child abuse, there's domestic violence...</td>\n",
       "    </tr>\n",
       "    <tr>\n",
       "      <th>86</th>\n",
       "      <td>venom</td>\n",
       "      <td>someone dies by suicide</td>\n",
       "    </tr>\n",
       "    <tr>\n",
       "      <th>87</th>\n",
       "      <td>wonka</td>\n",
       "      <td>a woman is brutalized for spectacle, a woman g...</td>\n",
       "    </tr>\n",
       "    <tr>\n",
       "      <th>88</th>\n",
       "      <td>x</td>\n",
       "      <td>there's child abuse, there's domestic violence...</td>\n",
       "    </tr>\n",
       "  </tbody>\n",
       "</table>\n",
       "<p>89 rows × 2 columns</p>\n",
       "</div>"
      ],
      "text/plain": [
       "              clean_title                                             events\n",
       "0           a quiet place  there's child abuse, there's domestic violence...\n",
       "1   a quiet place day one  a woman is brutalized for spectacle, someone i...\n",
       "2                 abigail                                       there's BDSM\n",
       "3                   alien  there's child abuse, there's domestic violence...\n",
       "4           alien romulus  a woman is brutalized for spectacle, someone i...\n",
       "..                    ...                                                ...\n",
       "84                titanic                                there's child abuse\n",
       "85                     us  there's child abuse, there's domestic violence...\n",
       "86                  venom                            someone dies by suicide\n",
       "87                  wonka  a woman is brutalized for spectacle, a woman g...\n",
       "88                      x  there's child abuse, there's domestic violence...\n",
       "\n",
       "[89 rows x 2 columns]"
      ]
     },
     "execution_count": 24,
     "metadata": {},
     "output_type": "execute_result"
    }
   ],
   "source": [
    "events_df.head(100)"
   ]
  }
 ],
 "metadata": {
  "kernelspec": {
   "display_name": "movie_env",
   "language": "python",
   "name": "python3"
  },
  "language_info": {
   "codemirror_mode": {
    "name": "ipython",
    "version": 3
   },
   "file_extension": ".py",
   "mimetype": "text/x-python",
   "name": "python",
   "nbconvert_exporter": "python",
   "pygments_lexer": "ipython3",
   "version": "3.12.3"
  }
 },
 "nbformat": 4,
 "nbformat_minor": 2
}
