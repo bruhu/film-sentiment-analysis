{
 "cells": [
  {
   "cell_type": "code",
   "execution_count": 10,
   "metadata": {},
   "outputs": [],
   "source": [
    "import pandas as pd\n",
    "import pandas as pd\n",
    "import numpy as np\n",
    "from datetime import datetime\n",
    "import re"
   ]
  },
  {
   "cell_type": "code",
   "execution_count": 11,
   "metadata": {},
   "outputs": [],
   "source": [
    "\n",
    "import sys\n",
    "sys.path.append('../utils')\n",
    "import functions"
   ]
  },
  {
   "cell_type": "code",
   "execution_count": 12,
   "metadata": {},
   "outputs": [
    {
     "data": {
      "text/html": [
       "<div>\n",
       "<style scoped>\n",
       "    .dataframe tbody tr th:only-of-type {\n",
       "        vertical-align: middle;\n",
       "    }\n",
       "\n",
       "    .dataframe tbody tr th {\n",
       "        vertical-align: top;\n",
       "    }\n",
       "\n",
       "    .dataframe thead th {\n",
       "        text-align: right;\n",
       "    }\n",
       "</style>\n",
       "<table border=\"1\" class=\"dataframe\">\n",
       "  <thead>\n",
       "    <tr style=\"text-align: right;\">\n",
       "      <th></th>\n",
       "      <th>category_name</th>\n",
       "      <th>title</th>\n",
       "      <th>yes</th>\n",
       "      <th>no</th>\n",
       "      <th>yes_ratio</th>\n",
       "    </tr>\n",
       "  </thead>\n",
       "  <tbody>\n",
       "    <tr>\n",
       "      <th>0</th>\n",
       "      <td>a dog dies</td>\n",
       "      <td>Movie_John Wick</td>\n",
       "      <td>1150</td>\n",
       "      <td>106</td>\n",
       "      <td>0.915605</td>\n",
       "    </tr>\n",
       "    <tr>\n",
       "      <th>1</th>\n",
       "      <td>a dog dies</td>\n",
       "      <td>Movie_Marley &amp; Me</td>\n",
       "      <td>781</td>\n",
       "      <td>37</td>\n",
       "      <td>0.954768</td>\n",
       "    </tr>\n",
       "    <tr>\n",
       "      <th>2</th>\n",
       "      <td>a dog dies</td>\n",
       "      <td>Movie_Hereditary</td>\n",
       "      <td>680</td>\n",
       "      <td>67</td>\n",
       "      <td>0.910308</td>\n",
       "    </tr>\n",
       "    <tr>\n",
       "      <th>3</th>\n",
       "      <td>a dog dies</td>\n",
       "      <td>Movie_MEGAN</td>\n",
       "      <td>580</td>\n",
       "      <td>22</td>\n",
       "      <td>0.963455</td>\n",
       "    </tr>\n",
       "    <tr>\n",
       "      <th>4</th>\n",
       "      <td>a dog dies</td>\n",
       "      <td>TV Show_Game of Thrones</td>\n",
       "      <td>524</td>\n",
       "      <td>36</td>\n",
       "      <td>0.935714</td>\n",
       "    </tr>\n",
       "  </tbody>\n",
       "</table>\n",
       "</div>"
      ],
      "text/plain": [
       "  category_name                    title   yes   no  yes_ratio\n",
       "0    a dog dies          Movie_John Wick  1150  106   0.915605\n",
       "1    a dog dies        Movie_Marley & Me   781   37   0.954768\n",
       "2    a dog dies         Movie_Hereditary   680   67   0.910308\n",
       "3    a dog dies              Movie_MEGAN   580   22   0.963455\n",
       "4    a dog dies  TV Show_Game of Thrones   524   36   0.935714"
      ]
     },
     "execution_count": 12,
     "metadata": {},
     "output_type": "execute_result"
    }
   ],
   "source": [
    "df = pd.read_csv('../data/local/raw/doesthedogdie.com.csv')\n",
    "df.head()"
   ]
  },
  {
   "cell_type": "code",
   "execution_count": 13,
   "metadata": {},
   "outputs": [
    {
     "name": "stdout",
     "output_type": "stream",
     "text": [
      "\n",
      "DataFrame Shape: (5910, 5)\n",
      "Number of Rows: 5910\n",
      "Number of Columns: 5\n",
      "\n",
      "Data Types of Columns:\n",
      "category_name     object\n",
      "title             object\n",
      "yes                int64\n",
      "no                 int64\n",
      "yes_ratio        float64\n",
      "dtype: object\n",
      "\n",
      "Missing Values per Column:\n",
      "category_name    0\n",
      "title            0\n",
      "yes              0\n",
      "no               0\n",
      "yes_ratio        0\n",
      "dtype: int64\n",
      "\n",
      "First 5 Rows of Data:\n",
      "  category_name                    title   yes   no  yes_ratio\n",
      "0    a dog dies          Movie_John Wick  1150  106   0.915605\n",
      "1    a dog dies        Movie_Marley & Me   781   37   0.954768\n",
      "2    a dog dies         Movie_Hereditary   680   67   0.910308\n",
      "3    a dog dies              Movie_MEGAN   580   22   0.963455\n",
      "4    a dog dies  TV Show_Game of Thrones   524   36   0.935714\n"
     ]
    }
   ],
   "source": [
    "functions.show_basic_info(df)"
   ]
  },
  {
   "cell_type": "markdown",
   "metadata": {},
   "source": [
    "Check if there are duplicate titles"
   ]
  },
  {
   "cell_type": "code",
   "execution_count": 14,
   "metadata": {},
   "outputs": [
    {
     "name": "stdout",
     "output_type": "stream",
     "text": [
      "Number of duplicates in 'title': 5176\n"
     ]
    }
   ],
   "source": [
    "duplicates = df[df['title'].duplicated()]\n",
    "\n",
    "duplicate_count = df['title'].duplicated().sum()\n",
    "\n",
    "print(f\"Number of duplicates in 'title': {duplicate_count}\")"
   ]
  },
  {
   "cell_type": "markdown",
   "metadata": {},
   "source": [
    "### Check the categories in 'title' column"
   ]
  },
  {
   "cell_type": "code",
   "execution_count": 15,
   "metadata": {},
   "outputs": [
    {
     "name": "stdout",
     "output_type": "stream",
     "text": [
      "['Movie' 'TV Show' 'Video Game' 'Anime' 'Book' 'YouTube' 'Podcast' 'Manga'\n",
      " 'Blog' 'Short Story']\n"
     ]
    }
   ],
   "source": [
    "# Extract the unique values before the underscore in 'title'\n",
    "unique_titles = df['title'].str.split('_').str[0].unique()\n",
    "\n",
    "print(unique_titles)"
   ]
  },
  {
   "cell_type": "markdown",
   "metadata": {},
   "source": [
    "Extract media type and remove it from title column"
   ]
  },
  {
   "cell_type": "code",
   "execution_count": 16,
   "metadata": {},
   "outputs": [
    {
     "data": {
      "text/html": [
       "<div>\n",
       "<style scoped>\n",
       "    .dataframe tbody tr th:only-of-type {\n",
       "        vertical-align: middle;\n",
       "    }\n",
       "\n",
       "    .dataframe tbody tr th {\n",
       "        vertical-align: top;\n",
       "    }\n",
       "\n",
       "    .dataframe thead th {\n",
       "        text-align: right;\n",
       "    }\n",
       "</style>\n",
       "<table border=\"1\" class=\"dataframe\">\n",
       "  <thead>\n",
       "    <tr style=\"text-align: right;\">\n",
       "      <th></th>\n",
       "      <th>category_name</th>\n",
       "      <th>title</th>\n",
       "      <th>yes</th>\n",
       "      <th>no</th>\n",
       "      <th>yes_ratio</th>\n",
       "      <th>media_type</th>\n",
       "    </tr>\n",
       "  </thead>\n",
       "  <tbody>\n",
       "    <tr>\n",
       "      <th>0</th>\n",
       "      <td>a dog dies</td>\n",
       "      <td>John Wick</td>\n",
       "      <td>1150</td>\n",
       "      <td>106</td>\n",
       "      <td>0.915605</td>\n",
       "      <td>Movie</td>\n",
       "    </tr>\n",
       "    <tr>\n",
       "      <th>1</th>\n",
       "      <td>a dog dies</td>\n",
       "      <td>Marley &amp; Me</td>\n",
       "      <td>781</td>\n",
       "      <td>37</td>\n",
       "      <td>0.954768</td>\n",
       "      <td>Movie</td>\n",
       "    </tr>\n",
       "    <tr>\n",
       "      <th>2</th>\n",
       "      <td>a dog dies</td>\n",
       "      <td>Hereditary</td>\n",
       "      <td>680</td>\n",
       "      <td>67</td>\n",
       "      <td>0.910308</td>\n",
       "      <td>Movie</td>\n",
       "    </tr>\n",
       "    <tr>\n",
       "      <th>3</th>\n",
       "      <td>a dog dies</td>\n",
       "      <td>MEGAN</td>\n",
       "      <td>580</td>\n",
       "      <td>22</td>\n",
       "      <td>0.963455</td>\n",
       "      <td>Movie</td>\n",
       "    </tr>\n",
       "    <tr>\n",
       "      <th>4</th>\n",
       "      <td>a dog dies</td>\n",
       "      <td>Game of Thrones</td>\n",
       "      <td>524</td>\n",
       "      <td>36</td>\n",
       "      <td>0.935714</td>\n",
       "      <td>TV Show</td>\n",
       "    </tr>\n",
       "  </tbody>\n",
       "</table>\n",
       "</div>"
      ],
      "text/plain": [
       "  category_name            title   yes   no  yes_ratio media_type\n",
       "0    a dog dies        John Wick  1150  106   0.915605      Movie\n",
       "1    a dog dies      Marley & Me   781   37   0.954768      Movie\n",
       "2    a dog dies       Hereditary   680   67   0.910308      Movie\n",
       "3    a dog dies            MEGAN   580   22   0.963455      Movie\n",
       "4    a dog dies  Game of Thrones   524   36   0.935714    TV Show"
      ]
     },
     "execution_count": 16,
     "metadata": {},
     "output_type": "execute_result"
    }
   ],
   "source": [
    "df['media_type'] = df['title'].str.split('_').str[0]  # Extract media type\n",
    "df['title'] = df['title'].str.split('_').str[1]       # Remove media type from title\n",
    "\n",
    "df.head()"
   ]
  },
  {
   "cell_type": "code",
   "execution_count": 17,
   "metadata": {},
   "outputs": [
    {
     "name": "stdout",
     "output_type": "stream",
     "text": [
      "['Movie' 'TV Show' 'Video Game' 'Anime' 'Book' 'YouTube' 'Podcast' 'Manga'\n",
      " 'Blog' 'Short Story']\n"
     ]
    }
   ],
   "source": [
    "print(df['media_type'].unique())"
   ]
  },
  {
   "cell_type": "markdown",
   "metadata": {},
   "source": [
    "Create new df for media_type 'Movie'"
   ]
  },
  {
   "cell_type": "code",
   "execution_count": 18,
   "metadata": {},
   "outputs": [
    {
     "name": "stdout",
     "output_type": "stream",
     "text": [
      "             category_name                              title   yes   no  \\\n",
      "0               a dog dies                          John Wick  1150  106   \n",
      "1               a dog dies                        Marley & Me   781   37   \n",
      "2               a dog dies                         Hereditary   680   67   \n",
      "3               a dog dies                              MEGAN   580   22   \n",
      "5               a dog dies                       The Babadook   514   15   \n",
      "...                    ...                                ...   ...  ...   \n",
      "5898  there's gun violence                              Joker   104    2   \n",
      "5901  there's gun violence                    American Psycho   101    0   \n",
      "5906  there's gun violence  Everything Everywhere All at Once    92    2   \n",
      "5907  there's gun violence                        Jojo Rabbit    92    0   \n",
      "5909  there's gun violence                                Saw    91    1   \n",
      "\n",
      "      yes_ratio media_type  \n",
      "0      0.915605      Movie  \n",
      "1      0.954768      Movie  \n",
      "2      0.910308      Movie  \n",
      "3      0.963455      Movie  \n",
      "5      0.971645      Movie  \n",
      "...         ...        ...  \n",
      "5898   0.981132      Movie  \n",
      "5901   1.000000      Movie  \n",
      "5906   0.978723      Movie  \n",
      "5907   1.000000      Movie  \n",
      "5909   0.989130      Movie  \n",
      "\n",
      "[2836 rows x 6 columns]\n"
     ]
    }
   ],
   "source": [
    "doesthe_movies = df[df['media_type'] == 'Movie']\n",
    "print(doesthe_movies)"
   ]
  },
  {
   "cell_type": "code",
   "execution_count": 19,
   "metadata": {},
   "outputs": [],
   "source": [
    "doesthe_movies.to_csv('../data/local/raw/doesthedog_movies.csv', index=False)"
   ]
  },
  {
   "cell_type": "code",
   "execution_count": 22,
   "metadata": {},
   "outputs": [
    {
     "name": "stdout",
     "output_type": "stream",
     "text": [
      "Unique titles in doesthe_movies: 433\n"
     ]
    }
   ],
   "source": [
    "print(f'Unique titles in doesthe_movies: {doesthe_movies['title'].nunique()}')"
   ]
  },
  {
   "cell_type": "code",
   "execution_count": null,
   "metadata": {},
   "outputs": [],
   "source": []
  }
 ],
 "metadata": {
  "kernelspec": {
   "display_name": "movie_env",
   "language": "python",
   "name": "python3"
  },
  "language_info": {
   "codemirror_mode": {
    "name": "ipython",
    "version": 3
   },
   "file_extension": ".py",
   "mimetype": "text/x-python",
   "name": "python",
   "nbconvert_exporter": "python",
   "pygments_lexer": "ipython3",
   "version": "3.12.3"
  }
 },
 "nbformat": 4,
 "nbformat_minor": 2
}
