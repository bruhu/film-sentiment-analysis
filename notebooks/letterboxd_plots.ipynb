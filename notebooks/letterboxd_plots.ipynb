{
 "cells": [
  {
   "cell_type": "code",
   "execution_count": 1,
   "metadata": {},
   "outputs": [],
   "source": [
    "import re\n",
    "from collections import Counter\n",
    "\n",
    "import pandas as pd\n",
    "import nltk\n",
    "from nltk.corpus import stopwords\n",
    "from nltk.tokenize import word_tokenize\n",
    "\n",
    "import matplotlib.pyplot as plt\n",
    "import plotly.express as px\n",
    "import plotly.graph_objects as go\n",
    "from wordcloud import WordCloud"
   ]
  },
  {
   "cell_type": "code",
   "execution_count": null,
   "metadata": {},
   "outputs": [],
   "source": [
    "nltk.download('vader_lexicon')\n",
    "nltk.download('stopwords')"
   ]
  },
  {
   "cell_type": "code",
   "execution_count": 3,
   "metadata": {},
   "outputs": [],
   "source": [
    "import sys\n",
    "sys.path.append('../utils')\n",
    "import sentiment_utils"
   ]
  },
  {
   "cell_type": "code",
   "execution_count": 4,
   "metadata": {},
   "outputs": [],
   "source": [
    "films = pd.read_csv('../data/clean/letterboxd_clean_films.csv')\n",
    "\n",
    "# load backup files\n",
    "films_exploded_genres = pd.read_csv('../data/local/raw/letterboxd/films_exploded_genres.csv')\n",
    "films_exploded_languages = pd.read_csv('../data/local/raw/letterboxd/films_exploded_languages.csv')\n",
    "films_exploded_countries = pd.read_csv('../data/local/raw/letterboxd/films_exploded_countries.csv')\n",
    "films_exploded_events = pd.read_csv('../data/local/raw/letterboxd/films_exploded_events.csv')\n",
    "films_exploded_themes = pd.read_csv('../data/local/raw/letterboxd/films_exploded_themes.csv')"
   ]
  },
  {
   "cell_type": "code",
   "execution_count": 5,
   "metadata": {},
   "outputs": [],
   "source": [
    "films.dropna(subset=['genres', 'language', 'countries', 'director'], inplace=True)\n",
    "cleaned_films = films.copy()\n",
    "cleaned_films.dropna(inplace=True)"
   ]
  },
  {
   "cell_type": "code",
   "execution_count": 6,
   "metadata": {},
   "outputs": [],
   "source": [
    "theme_counts = films_exploded_themes['themes'].value_counts().reset_index()\n",
    "theme_ratings = films_exploded_themes.groupby('themes').agg(\n",
    "    average_rating=('letterboxd_rating', 'mean'),\n",
    "    count=('letterboxd_rating', 'count')\n",
    ").reset_index()"
   ]
  },
  {
   "cell_type": "markdown",
   "metadata": {},
   "source": [
    "Preprocess Text"
   ]
  },
  {
   "cell_type": "code",
   "execution_count": null,
   "metadata": {},
   "outputs": [],
   "source": [
    "# Function to preprocess the text\n",
    "def preprocess_text(text):\n",
    "    text = text.lower()\n",
    "    text = re.sub(r'[^a-z\\s]', '', text)  # Remove non-alphabet characters\n",
    "    tokens = word_tokenize(text)  # Tokenize text\n",
    "    stop_words = set(stopwords.words('english'))  # Remove stopwords\n",
    "    tokens = [word for word in tokens if word not in stop_words]\n",
    "    return tokens\n",
    "\n",
    "# Function to analyze the most common words and plot a pie chart\n",
    "def analyze_most_common_words(df, text_column, top_n=50, save_path=None):\n",
    "    processed_column = f\"processed_{text_column}\"\n",
    "    \n",
    "    # Preprocess the text column\n",
    "    df[processed_column] = df[text_column].apply(preprocess_text)  # Assumes preprocess_text is defined\n",
    "    \n",
    "    # Flatten all tokens into a single list\n",
    "    all_tokens = [word for tokens in df[processed_column] for word in tokens]\n",
    "    total_word_count = len(all_tokens)\n",
    "    \n",
    "    # Count the most common words\n",
    "    word_freq = Counter(all_tokens)\n",
    "    most_common_words = word_freq.most_common(top_n)\n",
    "    \n",
    "    # Print results\n",
    "    print(f\"Top {top_n} most common words in '{text_column}':\\n\")\n",
    "    print(f\"{'Word':<15}{'Count':<10}{'Percentage (%)':<10}\")\n",
    "    print(\"-\" * 35)\n",
    "    for word, count in most_common_words:\n",
    "        percentage = (count / total_word_count) * 100\n",
    "        print(f\"{word:<15}{count:<10}{percentage:.2f}\")\n",
    "    \n",
    "    # Prepare data for Plotly\n",
    "    words, counts = zip(*most_common_words)\n",
    "    words_capitalized = [word.capitalize() for word in words]  # Capitalize the first letter of each word\n",
    "    percentages = [round((count / total_word_count) * 100, 2) for count in counts]\n",
    "    \n",
    "    fig = go.Figure(data=[go.Pie(\n",
    "        labels=words_capitalized,\n",
    "        values=counts,\n",
    "        hoverinfo='label+percent',\n",
    "        textinfo='label+percent',\n",
    "        textposition='outside',\n",
    "        pull=[0.1] * len(words),\n",
    "        marker=dict(colors=[\n",
    "            '#F4D6A0',\n",
    "            '#A8CBB7',\n",
    "            '#D4B9A3',\n",
    "            '#A6C6D9',\n",
    "            '#B3A0A1',\n",
    "            '#6E7B7A',\n",
    "            '#99A7A4',\n",
    "            '#C4D8C1',\n",
    "            '#3E4A49',\n",
    "            '#B8C6D0',\n",
    "        ])\n",
    "    )])\n",
    "\n",
    "    fig.update_layout(\n",
    "        title=f'Top Recurring Words in Events',\n",
    "        showlegend=True, \n",
    "        plot_bgcolor='#f7f7f7', \n",
    "        paper_bgcolor='#f7f7f7',\n",
    "        width=800\n",
    "    )\n",
    "    \n",
    "    if save_path:\n",
    "        fig.write_image(save_path)\n",
    "        print(f\"Plot saved to {save_path}\")\n",
    "        \n",
    "    fig.show()\n",
    "    \n",
    "    return most_common_words\n",
    "\n",
    "analyze_most_common_words(cleaned_films, text_column='events', top_n=10, save_path='../visuals/events_most_recurring_words.png')\n"
   ]
  },
  {
   "cell_type": "markdown",
   "metadata": {},
   "source": [
    "To understand how factors like themes, events, genres, and whether a title has warnings (has_warnings) impact the rating (letterboxd_rating), we can use statistical or machine learning techniques to analyze the relationships between these variables and the letterboxd_rating."
   ]
  },
  {
   "cell_type": "code",
   "execution_count": 9,
   "metadata": {},
   "outputs": [],
   "source": [
    "# films_exploded_themes = sentiment_utils.explode_column_from_string(cleaned_films.copy(), 'themes')\n",
    "# films_exploded_genres = sentiment_utils.explode_column_from_string(cleaned_films.copy(), 'genres')\n",
    "# films_exploded_events = sentiment_utils.explode_column_from_string(cleaned_films.copy(), 'events')\n",
    "\n",
    "# print(films_exploded_themes[['title', 'themes']].head())\n",
    "# print(films_exploded_genres[['title', 'genres']].head())\n",
    "# print(films_exploded_events[['title', 'events']].head())"
   ]
  },
  {
   "cell_type": "markdown",
   "metadata": {},
   "source": [
    "#### Scatter plot to show the correlation between themes and average ratings"
   ]
  },
  {
   "cell_type": "code",
   "execution_count": null,
   "metadata": {},
   "outputs": [],
   "source": [
    "# theme_ratings = films_exploded_themes.groupby('themes')['letterboxd_rating'].mean().reset_index()\n",
    "\n",
    "# fig = px.scatter(theme_ratings, \n",
    "#                  x='themes',   \n",
    "#                  y='letterboxd_rating',  \n",
    "#                  title=\"Average Rating Correlation for Each Theme\",\n",
    "#                  labels={'letterboxd_rating': 'Average Rating', 'themes': 'Film Themes'},\n",
    "#                  hover_data=['letterboxd_rating', 'themes'],  \n",
    "#                  color='themes',  \n",
    "#                  color_discrete_sequence=px.colors.qualitative.Set3)  \n",
    "\n",
    "\n",
    "# fig.update_layout(\n",
    "#     xaxis_title=\"Themes\",\n",
    "#     yaxis_title=\"Average Rating\",\n",
    "#     showlegend=True, \n",
    "#     plot_bgcolor='white',\n",
    "#     height=800,  \n",
    "#     margin=dict(l=100, r=100, t=50, b=150),  \n",
    "#     xaxis_tickangle=70  \n",
    "# )\n",
    "\n",
    "# fig.show()"
   ]
  },
  {
   "cell_type": "markdown",
   "metadata": {},
   "source": [
    "#### Violin plot to show the distribution of ratings by theme"
   ]
  },
  {
   "cell_type": "code",
   "execution_count": null,
   "metadata": {},
   "outputs": [],
   "source": [
    "fig = px.violin(films_exploded_themes,\n",
    "                x='themes',\n",
    "                y='letterboxd_rating',\n",
    "                title=\"Distribution of Ratings by Theme\",\n",
    "                labels={'letterboxd_rating': 'Ratings', 'themes': 'Film Themes'},\n",
    "                color='themes',  \n",
    "                box=True,  # Show box plot inside the violin plot\n",
    "                points='all',  \n",
    "                color_discrete_sequence=px.colors.qualitative.Set3)\n",
    "\n",
    "fig.update_layout(\n",
    "    xaxis_title=\"Themes\",\n",
    "    yaxis_title=\"Ratings\",\n",
    "    xaxis_tickangle=45,  \n",
    "    showlegend=False,  \n",
    "    plot_bgcolor='white'\n",
    ")\n",
    "\n",
    "fig.show()"
   ]
  },
  {
   "cell_type": "markdown",
   "metadata": {},
   "source": [
    "#### Word Cloud of Most Frequent Themes"
   ]
  },
  {
   "cell_type": "code",
   "execution_count": null,
   "metadata": {},
   "outputs": [],
   "source": [
    "theme_counts_dict = dict(zip(theme_counts['themes'], theme_counts['count']))\n",
    "\n",
    "wordcloud = WordCloud(width=800, height=400, background_color='white').generate_from_frequencies(theme_counts_dict)\n",
    "\n",
    "plt.figure(figsize=(10, 6))\n",
    "plt.imshow(wordcloud, interpolation='bilinear')\n",
    "plt.axis('off')  # Turn off axis\n",
    "plt.title(\"Word Cloud of Most Frequent Themes\")\n",
    "plt.show()\n"
   ]
  },
  {
   "cell_type": "markdown",
   "metadata": {},
   "source": [
    "#### Bubble chart to show the relationship between frequency and average ratings"
   ]
  },
  {
   "cell_type": "code",
   "execution_count": null,
   "metadata": {},
   "outputs": [],
   "source": [
    "# Filter the top 20 themes by count\n",
    "top_20_themes = theme_ratings.nlargest(20, 'count')\n",
    "\n",
    "# Define the custom color palette\n",
    "custom_colors = [\n",
    "    '#F4D6A0', '#A8CBB7', '#D4B9A3', '#A6C6D9', '#B3A0A1',\n",
    "    '#6E7B7A', '#99A7A4', '#C4D8C1', '#3E4A49', '#B8C6D0',\n",
    "    '#FFC857', '#FFE156', '#71A9F7', '#FF7F51', '#B5838D',\n",
    "    '#6B705C', '#DDBEA9', '#A5A58D', '#CCD5AE', '#E63946'\n",
    "]\n",
    "\n",
    "# Create the scatter plot for the top 20 themes\n",
    "fig = px.scatter(top_20_themes,\n",
    "                 x='average_rating', \n",
    "                 y='themes',  \n",
    "                 size='count',  # Size of the bubbles based on theme frequency\n",
    "                 color='themes',  \n",
    "                 title=\"Top 20 Themes: Frequency vs. Average Rating\",\n",
    "                 labels={'average_rating': 'Average Rating', 'themes': 'Film Themes'},\n",
    "                 color_discrete_sequence=custom_colors)\n",
    "\n",
    "fig.update_layout(\n",
    "    xaxis_title=\"Average Rating\",\n",
    "    yaxis_title=\"Themes\",\n",
    "    showlegend=False,  # Hide legend to avoid clutter\n",
    "    plot_bgcolor='white',\n",
    "    height=800,\n",
    "    width=1000,\n",
    "    xaxis_tickangle=45\n",
    ")\n",
    "\n",
    "fig.show()\n"
   ]
  },
  {
   "cell_type": "code",
   "execution_count": null,
   "metadata": {},
   "outputs": [],
   "source": [
    "import plotly.express as px\n",
    "\n",
    "# Filter the top 20 themes by count\n",
    "top_20_themes = theme_ratings.nlargest(20, 'count')\n",
    "\n",
    "# Define a more refined, muted yet vivid color palette\n",
    "refined_colors = [\n",
    "    '#E27D60', '#85C1E9', '#6C5B7B', '#FFCF56', '#A9DFBF',\n",
    "    '#F5B041', '#5DADE2', '#AF7AC5', '#F1948A', '#7FB3D5',\n",
    "    '#58D68D', '#EB984E', '#85C1E9', '#48C9B0', '#D4AC0D',\n",
    "    '#85929E', '#B2BABB', '#D68910', '#E74C3C', '#7DCEA0'\n",
    "]\n",
    "\n",
    "# Create the scatter plot for the top 20 themes\n",
    "fig = px.scatter(top_20_themes,\n",
    "                 x='average_rating', \n",
    "                 y='themes',  \n",
    "                 size='count',  # Size of the bubbles based on theme frequency\n",
    "                 color='themes',  \n",
    "                 title=\"Top 20 Themes: Frequency vs. Average Rating\",\n",
    "                 labels={'average_rating': 'Average Rating', 'themes': 'Film Themes'},\n",
    "                 color_discrete_sequence=refined_colors)\n",
    "\n",
    "fig.update_layout(\n",
    "    xaxis_title=\"Average Rating\",\n",
    "    yaxis_title=\"Themes\",\n",
    "    showlegend=True,  # Show the legend\n",
    "    plot_bgcolor='white',\n",
    "    height=800,\n",
    "    width=1000,\n",
    "    xaxis_tickangle=45,\n",
    "    xaxis=dict(tickformat='.2f')  # Show full rating values\n",
    ")\n",
    "\n",
    "fig.show()\n"
   ]
  },
  {
   "cell_type": "code",
   "execution_count": null,
   "metadata": {},
   "outputs": [],
   "source": [
    "import plotly.express as px\n",
    "\n",
    "# Filter the top 20 themes by count\n",
    "top_20_themes_list = theme_ratings.nlargest(20, 'count')['themes']\n",
    "top_20_films = films_exploded_themes[films_exploded_themes['themes'].isin(top_20_themes_list)]\n",
    "\n",
    "# Define a refined color palette for the box plot\n",
    "refined_colors = [\n",
    "    '#E27D60', '#85C1E9', '#6C5B7B', '#FFCF56', '#A9DFBF',\n",
    "    '#F5B041', '#5DADE2', '#AF7AC5', '#F1948A', '#7FB3D5',\n",
    "    '#58D68D', '#EB984E', '#85C1E9', '#48C9B0', '#D4AC0D',\n",
    "    '#85929E', '#B2BABB', '#D68910', '#E74C3C', '#7DCEA0'\n",
    "]\n",
    "\n",
    "# Create the box plot\n",
    "fig = px.box(top_20_films,\n",
    "             x='themes', \n",
    "             y='letterboxd_rating',\n",
    "             color='themes',\n",
    "             title=\"Distribution of Ratings for Top 20 Themes\",\n",
    "             labels={'letterboxd_rating': 'Letterboxd Rating', 'themes': 'Themes'},\n",
    "             color_discrete_sequence=refined_colors)\n",
    "\n",
    "# Update layout for better readability\n",
    "fig.update_layout(\n",
    "    xaxis_title=\"Themes\",\n",
    "    yaxis_title=\"Letterboxd Ratings\",\n",
    "    plot_bgcolor='white',\n",
    "    height=800,\n",
    "    width=1000,\n",
    "    xaxis_tickangle=45\n",
    ")\n",
    "\n",
    "fig.show()\n"
   ]
  }
 ],
 "metadata": {
  "kernelspec": {
   "display_name": "movie_env",
   "language": "python",
   "name": "python3"
  },
  "language_info": {
   "codemirror_mode": {
    "name": "ipython",
    "version": 3
   },
   "file_extension": ".py",
   "mimetype": "text/x-python",
   "name": "python",
   "nbconvert_exporter": "python",
   "pygments_lexer": "ipython3",
   "version": "3.12.3"
  }
 },
 "nbformat": 4,
 "nbformat_minor": 2
}
