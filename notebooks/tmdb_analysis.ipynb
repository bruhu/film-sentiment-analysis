{
 "cells": [
  {
   "cell_type": "markdown",
   "metadata": {},
   "source": [
    "# TMDB Clean Films Dataset Summary\n",
    "\n",
    "## General Information\n",
    "- **Number of Rows**: 9783  \n",
    "- **Number of Columns**: 23\n",
    "\n",
    "## Key Insights\n",
    "- **Languages**: 61 unique languages  \n",
    "- **Countries**: 112 unique countries  \n",
    "- **Genres**: Genres unique genres  \n",
    "\n",
    "## Runtime Statistics\n",
    "- **Shortest Film Runtime**: 56 minutes  \n",
    "- **Longest Film Runtime**: 254 minutes  \n",
    "\n",
    "## Release Year Range\n",
    "- **Earliest Year**: 1913\n",
    "- **Latest Year**: 2024\n",
    "\n",
    "## Columns in the Dataset\n",
    "1. `tmdb_id` - Unique ID for the film from TMDB  \n",
    "2. `imdb_id` - Unique ID for the film from IMDB  \n",
    "3. `doesthedog_id` - Reference ID for content warnings  \n",
    "4. `title` - Title of the film  \n",
    "5. `original_title` - Original title of the film  \n",
    "6. `genres` - Film genres (comma-separated)  \n",
    "7. `director` - Film director(s)  \n",
    "8. `release_year` - Year the film was released  \n",
    "9. `runtime` - Duration of the film (in minutes)  \n",
    "10. `budget` - Production budget of the film  \n",
    "11. `revenue` - Total revenue earned by the film  \n",
    "12. `profit` - Net profit (revenue - budget)  \n",
    "13. `popularity` - Popularity score from TMDB  \n",
    "14. `tmdb_rating` - Average rating on TMDB  \n",
    "15. `tmdb_votes` - Number of votes on TMDB  \n",
    "16. `imdb_rating` - Average rating on IMDB  \n",
    "17. `imdb_votes` - Number of votes on IMDB  \n",
    "18. `language` - Languages spoken in the film (comma-separated)  \n",
    "19. `countries` - Countries of origin (comma-separated)  \n",
    "20. `overview` - Brief summary or description of the film  \n",
    "21. `tagline` - Film tagline  \n",
    "22. `events` - Specific events or warnings associated with the film  \n",
    "23. `has_warnings` - Boolean flag indicating the presence of content warnings  \n",
    "\n",
    "\n",
    "---\n",
    "\n",
    "## Notes\n",
    "- **Dataset Cleaning**:  \n",
    "  - Films with runtimes exceeding 300 minutes were excluded as likely outliers (e.g., TV series or incorrect entries).  \n",
    "- **Data Coverage**:  \n",
    "  - The dataset spans over a century of cinema, from **1911 to 2024**.  \n",
    "  - Includes a diverse range of films across **137 languages**, **126 countries**, and **19 genres**.\n"
   ]
  },
  {
   "cell_type": "code",
   "execution_count": 36,
   "metadata": {},
   "outputs": [],
   "source": [
    "import pandas as pd\n",
    "import plotly.express as px\n",
    "from collections import Counter"
   ]
  },
  {
   "cell_type": "code",
   "execution_count": 37,
   "metadata": {},
   "outputs": [],
   "source": [
    "import sys\n",
    "sys.path.append('../utils')\n",
    "sys.path.append('../scripts')\n",
    "import helpers\n",
    "import data_inspection\n",
    "import content_tagging"
   ]
  },
  {
   "cell_type": "code",
   "execution_count": 38,
   "metadata": {},
   "outputs": [],
   "source": [
    "films = pd.read_csv('../data/clean/tmdb_clean_films.csv')"
   ]
  },
  {
   "cell_type": "code",
   "execution_count": null,
   "metadata": {},
   "outputs": [],
   "source": [
    "data_inspection.show_basic_info(films)"
   ]
  },
  {
   "cell_type": "code",
   "execution_count": null,
   "metadata": {},
   "outputs": [],
   "source": [
    "print(films.info())"
   ]
  },
  {
   "cell_type": "code",
   "execution_count": null,
   "metadata": {},
   "outputs": [],
   "source": [
    "films = helpers.drop_rows_by_runtime(films, min_runtime=40, max_runtime=300)"
   ]
  },
  {
   "cell_type": "markdown",
   "metadata": {},
   "source": [
    "Dataframe overview"
   ]
  },
  {
   "cell_type": "code",
   "execution_count": null,
   "metadata": {},
   "outputs": [],
   "source": [
    "num_rows, num_cols = films.shape\n",
    "print(f'Number of Rows: {num_rows}')\n",
    "print(f'Number of Columns: {num_cols}')\n",
    "\n",
    "# languages\n",
    "languages = films['language'].dropna().str.split(',').explode().str.strip()\n",
    "unique_languages = languages.nunique()\n",
    "print(f'Number of Languages: {unique_languages}')\n",
    "\n",
    "# countries\n",
    "countries = films['countries'].dropna().str.split(',').explode().str.strip()\n",
    "unique_countries = countries.nunique()\n",
    "print(f'Number of Countries: {unique_countries}')\n",
    "\n",
    "# genres\n",
    "genres = films['genres'].dropna().str.split(',').explode().str.strip()\n",
    "unique_genres = genres.nunique()\n",
    "print(f'Number of Genres: {unique_genres}')\n",
    "\n",
    "# earliest and latest year\n",
    "earliest_year = films['release_year'].min()\n",
    "latest_year = films['release_year'].max()\n",
    "print(f'Earliest Year: {earliest_year}')\n",
    "print(f'Latest Year: {latest_year}')\n",
    "\n",
    "# longest and shortest runtime\n",
    "shortest_runtime = films['runtime'].min()\n",
    "longest_runtime = films['runtime'].max()\n",
    "print(f'Shortest Runtime: {shortest_runtime} minutes')\n",
    "print(f'Longest Runtime: {longest_runtime} minutes')"
   ]
  },
  {
   "cell_type": "markdown",
   "metadata": {},
   "source": [
    "#### Categorical Data Analysis"
   ]
  },
  {
   "cell_type": "code",
   "execution_count": 43,
   "metadata": {},
   "outputs": [],
   "source": [
    "# split and explode values\n",
    "def split_and_explode(df, column):\n",
    "    return df[column].dropna().str.split(',').explode().str.strip()\n",
    "\n",
    "# prepare data\n",
    "countries = split_and_explode(films, 'countries')\n",
    "countries_count = countries.value_counts().reset_index()\n",
    "countries_count.columns = ['Country', 'Count']\n",
    "\n",
    "languages = split_and_explode(films, 'language')\n",
    "languages_count = languages.value_counts().reset_index()\n",
    "languages_count.columns = ['Language', 'Count']\n",
    "\n",
    "genres = split_and_explode(films, 'genres')\n",
    "genres_count = genres.value_counts().reset_index()\n",
    "genres_count.columns = ['Genre', 'Count']"
   ]
  },
  {
   "cell_type": "markdown",
   "metadata": {},
   "source": [
    "Countries"
   ]
  },
  {
   "cell_type": "code",
   "execution_count": null,
   "metadata": {},
   "outputs": [],
   "source": [
    "fig_countries = px.bar(\n",
    "    countries_count.head(10),\n",
    "    x='Country',\n",
    "    y='Count',\n",
    "    title='Top 10 Countries by Film Presence',\n",
    "    color='Count',\n",
    "    color_continuous_scale='Viridis'\n",
    ")\n",
    "fig_countries.update_layout(\n",
    "    xaxis_title='Country',\n",
    "    yaxis_title='Number of Films',\n",
    "    xaxis_tickangle=-45\n",
    ")\n",
    "\n",
    "fig_countries.show()"
   ]
  },
  {
   "cell_type": "markdown",
   "metadata": {},
   "source": [
    "Languages"
   ]
  },
  {
   "cell_type": "code",
   "execution_count": null,
   "metadata": {},
   "outputs": [],
   "source": [
    "fig_languages = px.bar(\n",
    "    languages_count.head(10),\n",
    "    x='Language',\n",
    "    y='Count',\n",
    "    title='Top 10 Languages by Film Presence',\n",
    "    color='Count',\n",
    "    color_continuous_scale='Viridis'\n",
    ")\n",
    "fig_languages.update_layout(\n",
    "    xaxis_title='Language',\n",
    "    yaxis_title='Number of Films',\n",
    "    xaxis_tickangle=-45\n",
    ")\n",
    "\n",
    "fig_languages.show()"
   ]
  },
  {
   "cell_type": "markdown",
   "metadata": {},
   "source": [
    "Genres"
   ]
  },
  {
   "cell_type": "code",
   "execution_count": null,
   "metadata": {},
   "outputs": [],
   "source": [
    "fig_genres = px.bar(\n",
    "    genres_count,\n",
    "    x='Genre',\n",
    "    y='Count',\n",
    "    title='Film Genres Distribution',\n",
    "    color='Count',\n",
    "    color_continuous_scale='Plasma'\n",
    ")\n",
    "fig_genres.update_layout(\n",
    "    xaxis_title='Genre',\n",
    "    yaxis_title='Number of Films',\n",
    "    xaxis_tickangle=-45\n",
    ")\n",
    "\n",
    "fig_genres.show()"
   ]
  },
  {
   "cell_type": "markdown",
   "metadata": {},
   "source": [
    "Most Popular Genres per Country"
   ]
  },
  {
   "cell_type": "code",
   "execution_count": null,
   "metadata": {},
   "outputs": [],
   "source": [
    "# explode countries and genres\n",
    "countries_exploded = split_and_explode(films, 'countries')\n",
    "genres_exploded = split_and_explode(films, 'genres')\n",
    "\n",
    "# ensure same length by aligning indices\n",
    "countries_repeated = countries_exploded.reset_index(drop=True)\n",
    "genres_repeated = genres_exploded.reset_index(drop=True)\n",
    "\n",
    "genres_by_country = pd.DataFrame({'Country': countries_repeated, 'Genre': genres_repeated})\n",
    "\n",
    "genres_by_country = genres_by_country.dropna()\n",
    "\n",
    "genres_by_country_count = (\n",
    "    genres_by_country\n",
    "    .groupby(['Country', 'Genre'])\n",
    "    .size()\n",
    "    .reset_index(name='Count')\n",
    ")\n",
    "\n",
    "most_popular_genres_country = genres_by_country_count.loc[\n",
    "    genres_by_country_count.groupby('Country')['Count'].idxmax()\n",
    "]\n",
    "\n",
    "print('Most Popular Genre per Country:')\n",
    "print(most_popular_genres_country.head(10))  "
   ]
  },
  {
   "cell_type": "markdown",
   "metadata": {},
   "source": [
    "Most Popular Genres per Year"
   ]
  },
  {
   "cell_type": "code",
   "execution_count": null,
   "metadata": {},
   "outputs": [],
   "source": [
    "# drop rows where 'genres' is NaN, as they can't be split\n",
    "films_cleaned = films.dropna(subset=['genres'])\n",
    "\n",
    "# exploding the genres and year\n",
    "genres_exploded = split_and_explode(films_cleaned, 'genres')\n",
    "\n",
    "# 'release_year' for each genre\n",
    "years_exploded = films_cleaned['release_year'].repeat(films_cleaned['genres'].str.split(',').apply(len)).reset_index(drop=True)\n",
    "\n",
    "years_exploded = years_exploded.reset_index(drop=True)\n",
    "genres_exploded = genres_exploded.reset_index(drop=True)\n",
    "\n",
    "genres_by_year = pd.DataFrame({'Year': years_exploded, 'Genre': genres_exploded})\n",
    "\n",
    "genres_by_year = genres_by_year.dropna()\n",
    "\n",
    "genres_by_year_count = (\n",
    "    genres_by_year\n",
    "    .groupby(['Year', 'Genre'])\n",
    "    .size()\n",
    "    .reset_index(name='Count')\n",
    ")\n",
    "\n",
    "most_popular_genres_year = genres_by_year_count.loc[\n",
    "    genres_by_year_count.groupby('Year')['Count'].idxmax()\n",
    "]\n",
    "\n",
    "\n",
    "print('\\nMost Popular Genre per Year:')\n",
    "print(most_popular_genres_year.head(10))"
   ]
  },
  {
   "cell_type": "code",
   "execution_count": null,
   "metadata": {},
   "outputs": [],
   "source": [
    "# most popular genre per country\n",
    "fig_country_vertical = px.bar(\n",
    "    most_popular_genres_country,\n",
    "    x='Country',  \n",
    "    y='Count',\n",
    "    color='Genre',\n",
    "    title='Most Popular Genre per Country'\n",
    ")\n",
    "fig_country_vertical.show()\n",
    "\n",
    "# plot without USA\n",
    "most_popular_genres_country_no_usa = most_popular_genres_country[most_popular_genres_country['Country'] != 'USA']\n",
    "\n",
    "fig_country_no_usa_vertical = px.bar(\n",
    "    most_popular_genres_country_no_usa,\n",
    "    x='Country',  \n",
    "    y='Count',\n",
    "    color='Genre',\n",
    "    title='Most Popular Genre per Country (Excluding USA)'\n",
    ")\n",
    "fig_country_no_usa_vertical.show()\n"
   ]
  },
  {
   "cell_type": "code",
   "execution_count": null,
   "metadata": {},
   "outputs": [],
   "source": [
    "fig_year = px.bar(\n",
    "    most_popular_genres_year,\n",
    "    x='Year',\n",
    "    y='Count',\n",
    "    color='Genre',\n",
    "    title='Most Popular Genre per Year'\n",
    ")\n",
    "fig_year.show()\n"
   ]
  },
  {
   "cell_type": "code",
   "execution_count": null,
   "metadata": {},
   "outputs": [],
   "source": [
    "most_popular_genres_country_grouped = most_popular_genres_country.groupby(['Country', 'Genre'], as_index=False).agg({'Count': 'sum'})\n",
    "\n",
    "most_popular_genre_per_country = most_popular_genres_country_grouped.sort_values('Count', ascending=False).drop_duplicates('Country')\n",
    "\n",
    "fig_map = px.choropleth(\n",
    "    most_popular_genre_per_country, \n",
    "    locations='Country', \n",
    "    locationmode='country names',\n",
    "    color='Genre',\n",
    "    hover_name='Country',\n",
    "    hover_data={'Genre': True, 'Count': True},\n",
    "    color_discrete_sequence=px.colors.qualitative.Set3,\n",
    "    title='Most Popular Genre per Country'\n",
    ")\n",
    "\n",
    "fig_map.show()"
   ]
  },
  {
   "cell_type": "markdown",
   "metadata": {},
   "source": [
    "### Events"
   ]
  },
  {
   "cell_type": "markdown",
   "metadata": {},
   "source": [
    "Top events per genre"
   ]
  },
  {
   "cell_type": "code",
   "execution_count": null,
   "metadata": {},
   "outputs": [],
   "source": [
    "films_split_genres = films.explode('genres')\n",
    "\n",
    "events_per_genre = {}\n",
    "\n",
    "for genre, group in films_split_genres.groupby('genres'):\n",
    "    if len(genre.split(',')) > 1:\n",
    "        continue\n",
    "    \n",
    "    genre_events = Counter()\n",
    "    \n",
    "    group['events'].apply(lambda x: genre_events.update(x.split(',')) if isinstance(x, str) else None)\n",
    "    \n",
    "    events_per_genre[genre] = genre_events\n",
    "\n",
    "top_events_per_genre = {}\n",
    "for genre, events in events_per_genre.items():\n",
    "    top_events = events.most_common(5)  \n",
    "    top_events_per_genre[genre] = [event for event, count in top_events]\n",
    "\n",
    "top_events_df = pd.DataFrame(\n",
    "    [(genre, ', '.join(events)) for genre, events in top_events_per_genre.items() if events],  \n",
    "    columns=['Genre', 'Top Events']\n",
    ")\n",
    "\n",
    "display(top_events_df)"
   ]
  },
  {
   "cell_type": "code",
   "execution_count": null,
   "metadata": {},
   "outputs": [],
   "source": [
    "all_events = []\n",
    "films['events'].apply(lambda x: all_events.extend(x.split(',')) if isinstance(x, str) else None)\n",
    "\n",
    "event_counts = Counter(all_events)\n",
    "\n",
    "# most common events\n",
    "top_events = event_counts.most_common(10)\n",
    "print('\\nMost Recurring Events:')\n",
    "for event, count in top_events:\n",
    "    print(f'{event}: {count}')"
   ]
  },
  {
   "cell_type": "markdown",
   "metadata": {},
   "source": [
    "Top Events per Genre"
   ]
  },
  {
   "cell_type": "code",
   "execution_count": null,
   "metadata": {},
   "outputs": [],
   "source": [
    "top_events_df = pd.DataFrame(\n",
    "    [(genre, ', '.join(events)) for genre, events in top_events_per_genre.items() if events], \n",
    "    columns=['Genre', 'Top Events']\n",
    ")\n",
    "\n",
    "fig_events = px.bar(\n",
    "    top_events_df,\n",
    "    x='Genre',\n",
    "    y='Top Events',\n",
    "    title='Top Events per Genre',\n",
    "    labels={'Top Events': 'Top Events', 'Genre': 'Genre'},\n",
    "    color='Genre',\n",
    "    text='Top Events',\n",
    ")\n",
    "\n",
    "fig_events.update_layout(\n",
    "    xaxis_title='Genre',\n",
    "    yaxis_title='Events',\n",
    "    xaxis={'categoryorder': 'total ascending'}\n",
    ")\n",
    "\n",
    "fig_events.show()\n"
   ]
  },
  {
   "cell_type": "markdown",
   "metadata": {},
   "source": [
    "Most Recurring Events (Across All Genres)"
   ]
  },
  {
   "cell_type": "code",
   "execution_count": null,
   "metadata": {},
   "outputs": [],
   "source": [
    "top_events_all_df = pd.DataFrame(top_events, columns=['Event', 'Count'])\n",
    "\n",
    "fig_top_events = px.bar(\n",
    "    top_events_all_df,\n",
    "    x='Event',\n",
    "    y='Count',\n",
    "    title='Most Recurring Events Across All Genres',\n",
    "    labels={'Event': 'Event', 'Count': 'Count'},\n",
    "    color='Count',\n",
    "    text='Count',\n",
    ")\n",
    "\n",
    "fig_top_events.update_layout(\n",
    "    xaxis_title='Event',\n",
    "    yaxis_title='Count',\n",
    "    xaxis={'categoryorder': 'total descending'},\n",
    "    showlegend=False\n",
    ")\n",
    "\n",
    "fig_top_events.show()\n"
   ]
  }
 ],
 "metadata": {
  "kernelspec": {
   "display_name": "movie_env",
   "language": "python",
   "name": "python3"
  },
  "language_info": {
   "codemirror_mode": {
    "name": "ipython",
    "version": 3
   },
   "file_extension": ".py",
   "mimetype": "text/x-python",
   "name": "python",
   "nbconvert_exporter": "python",
   "pygments_lexer": "ipython3",
   "version": "3.12.3"
  }
 },
 "nbformat": 4,
 "nbformat_minor": 2
}
