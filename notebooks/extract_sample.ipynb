{
 "cells": [
  {
   "cell_type": "markdown",
   "metadata": {},
   "source": [
    "Extract sample df for streamlit app"
   ]
  },
  {
   "cell_type": "code",
   "execution_count": 1,
   "metadata": {},
   "outputs": [],
   "source": [
    "import pandas as pd"
   ]
  },
  {
   "cell_type": "code",
   "execution_count": 2,
   "metadata": {},
   "outputs": [],
   "source": [
    "import sys\n",
    "sys.path.append('../utils')\n",
    "import sentiment_utils\n",
    "import helpers"
   ]
  },
  {
   "cell_type": "code",
   "execution_count": 3,
   "metadata": {},
   "outputs": [
    {
     "data": {
      "text/html": [
       "<div>\n",
       "<style scoped>\n",
       "    .dataframe tbody tr th:only-of-type {\n",
       "        vertical-align: middle;\n",
       "    }\n",
       "\n",
       "    .dataframe tbody tr th {\n",
       "        vertical-align: top;\n",
       "    }\n",
       "\n",
       "    .dataframe thead th {\n",
       "        text-align: right;\n",
       "    }\n",
       "</style>\n",
       "<table border=\"1\" class=\"dataframe\">\n",
       "  <thead>\n",
       "    <tr style=\"text-align: right;\">\n",
       "      <th></th>\n",
       "      <th>letterboxd_id</th>\n",
       "      <th>title</th>\n",
       "      <th>release_year</th>\n",
       "      <th>tagline</th>\n",
       "      <th>summary</th>\n",
       "      <th>runtime</th>\n",
       "      <th>letterboxd_rating</th>\n",
       "      <th>genres</th>\n",
       "      <th>language</th>\n",
       "      <th>countries</th>\n",
       "      <th>themes</th>\n",
       "      <th>director</th>\n",
       "      <th>topics</th>\n",
       "      <th>doesthedog_id</th>\n",
       "      <th>events</th>\n",
       "      <th>has_warnings</th>\n",
       "    </tr>\n",
       "  </thead>\n",
       "  <tbody>\n",
       "    <tr>\n",
       "      <th>0</th>\n",
       "      <td>1000001</td>\n",
       "      <td>Barbie</td>\n",
       "      <td>2023</td>\n",
       "      <td>She's everything. He's just Ken.</td>\n",
       "      <td>Barbie and Ken are having the time of their li...</td>\n",
       "      <td>114</td>\n",
       "      <td>3.86</td>\n",
       "      <td>Comedy, Adventure</td>\n",
       "      <td>English</td>\n",
       "      <td>UK, USA</td>\n",
       "      <td>['Humanity and the world around us', 'Crude hu...</td>\n",
       "      <td>Greta Gerwig</td>\n",
       "      <td>NaN</td>\n",
       "      <td>381345.0</td>\n",
       "      <td>NaN</td>\n",
       "      <td>False</td>\n",
       "    </tr>\n",
       "    <tr>\n",
       "      <th>1</th>\n",
       "      <td>1000002</td>\n",
       "      <td>Parasite</td>\n",
       "      <td>2019</td>\n",
       "      <td>Act like you own the place.</td>\n",
       "      <td>All unemployed, Ki-taek's family takes peculia...</td>\n",
       "      <td>133</td>\n",
       "      <td>4.56</td>\n",
       "      <td>Comedy, Thriller, Drama</td>\n",
       "      <td>Korean, English, German, Korean</td>\n",
       "      <td>South Korea</td>\n",
       "      <td>['Humanity and the world around us', 'Intense ...</td>\n",
       "      <td>Bong Joon-ho</td>\n",
       "      <td>NaN</td>\n",
       "      <td>19408.0</td>\n",
       "      <td>NaN</td>\n",
       "      <td>False</td>\n",
       "    </tr>\n",
       "  </tbody>\n",
       "</table>\n",
       "</div>"
      ],
      "text/plain": [
       "   letterboxd_id     title  release_year                           tagline  \\\n",
       "0        1000001    Barbie          2023  She's everything. He's just Ken.   \n",
       "1        1000002  Parasite          2019       Act like you own the place.   \n",
       "\n",
       "                                             summary  runtime  \\\n",
       "0  Barbie and Ken are having the time of their li...      114   \n",
       "1  All unemployed, Ki-taek's family takes peculia...      133   \n",
       "\n",
       "   letterboxd_rating                   genres  \\\n",
       "0               3.86        Comedy, Adventure   \n",
       "1               4.56  Comedy, Thriller, Drama   \n",
       "\n",
       "                          language    countries  \\\n",
       "0                          English      UK, USA   \n",
       "1  Korean, English, German, Korean  South Korea   \n",
       "\n",
       "                                              themes      director topics  \\\n",
       "0  ['Humanity and the world around us', 'Crude hu...  Greta Gerwig    NaN   \n",
       "1  ['Humanity and the world around us', 'Intense ...  Bong Joon-ho    NaN   \n",
       "\n",
       "   doesthedog_id events  has_warnings  \n",
       "0       381345.0    NaN         False  \n",
       "1        19408.0    NaN         False  "
      ]
     },
     "execution_count": 3,
     "metadata": {},
     "output_type": "execute_result"
    }
   ],
   "source": [
    "\n",
    "films = pd.read_csv('../data/clean/letterboxd_clean_films.csv')\n",
    "films.head(2)"
   ]
  },
  {
   "cell_type": "code",
   "execution_count": 4,
   "metadata": {},
   "outputs": [],
   "source": [
    "df = films.copy()\n",
    "df.drop(columns=['topics', 'doesthedog_id', 'letterboxd_id'], inplace=True)"
   ]
  },
  {
   "cell_type": "code",
   "execution_count": 5,
   "metadata": {},
   "outputs": [
    {
     "name": "stdout",
     "output_type": "stream",
     "text": [
      "Number of rows dropped (runtime < 40 or runtime > 300): 305\n"
     ]
    }
   ],
   "source": [
    "df = helpers.drop_rows_by_runtime(df, min_runtime=40, max_runtime=300)"
   ]
  },
  {
   "cell_type": "code",
   "execution_count": 6,
   "metadata": {},
   "outputs": [
    {
     "name": "stdout",
     "output_type": "stream",
     "text": [
      "\n",
      "NaN Count per Column:\n",
      "title                    0\n",
      "release_year             0\n",
      "tagline                  0\n",
      "summary                  0\n",
      "runtime                  0\n",
      "letterboxd_rating        0\n",
      "genres                   9\n",
      "language                85\n",
      "countries               76\n",
      "themes                   0\n",
      "director                 6\n",
      "events               14124\n",
      "has_warnings             0\n",
      "dtype: int64\n"
     ]
    }
   ],
   "source": [
    "# Count NaN values per column\n",
    "nan_per_column = df.isnull().sum(axis=0)\n",
    "\n",
    "# Print the NaN count per column\n",
    "print('\\nNaN Count per Column:')\n",
    "print(nan_per_column)"
   ]
  },
  {
   "cell_type": "code",
   "execution_count": 7,
   "metadata": {},
   "outputs": [],
   "source": [
    "df.dropna(subset=['language', 'countries', 'genres', 'director'], inplace=True)"
   ]
  },
  {
   "cell_type": "code",
   "execution_count": 9,
   "metadata": {},
   "outputs": [
    {
     "name": "stdout",
     "output_type": "stream",
     "text": [
      "Sampled DataFrame (8000 random rows):\n",
      "                        title  release_year  \\\n",
      "4230               Red Lights          2012   \n",
      "10252     Not Quite Hollywood          2008   \n",
      "4985        Play Misty for Me          1971   \n",
      "5242                 10000 BC          2008   \n",
      "10863                   Siren          2016   \n",
      "...                       ...           ...   \n",
      "10140       The German Doctor          2013   \n",
      "7660               Blacklight          2022   \n",
      "2644   Sweet Smell of Success          1957   \n",
      "17804         The Killing Jar          2010   \n",
      "12369             The Harvest          2013   \n",
      "\n",
      "                                         tagline  \\\n",
      "4230            How much do you want to believe?   \n",
      "10252    The wild, untold story of OZploitation!   \n",
      "4985        The scream you hear may be your own!   \n",
      "5242     The legend. The battle. The first hero.   \n",
      "10863     No Man Can Resist Her. All Men Should.   \n",
      "...                                          ...   \n",
      "10140  Nothing is more mysterious than the blood   \n",
      "7660                They're gonna need more men.   \n",
      "2644      Beware these “Gentlemen” of the press!   \n",
      "17804                 Eeny, meeny, miny, murder.   \n",
      "12369          First the Fall, then The Harvest.   \n",
      "\n",
      "                                                 summary  runtime  \\\n",
      "4230   Two investigators of paranormal hoaxes, the ve...      114   \n",
      "10252  As Australian cinema broke through to internat...      103   \n",
      "4985   A brief fling between a male disc jockey and a...      102   \n",
      "5242   A prehistoric epic that follows a young mammot...      109   \n",
      "10863  A bachelor party becomes a savage fight for su...       82   \n",
      "...                                                  ...      ...   \n",
      "10140  Patagonia, 1960. A German doctor meets an Arge...       90   \n",
      "7660   Travis Block is a shadowy Government agent who...      104   \n",
      "2644   New York City newspaper writer J.J. Hunsecker ...       97   \n",
      "17804  A stranger armed with a shotgun takes seven pa...       92   \n",
      "12369  Maryann moves in with her grandparents after s...      104   \n",
      "\n",
      "       letterboxd_rating                              genres  \\\n",
      "4230                2.77                            Thriller   \n",
      "10252               3.74                 Comedy, Documentary   \n",
      "4985                3.38                     Drama, Thriller   \n",
      "5242                1.99   Action, Adventure, Drama, Fantasy   \n",
      "10863               2.48                              Horror   \n",
      "...                  ...                                 ...   \n",
      "10140               3.29            History, Drama, Thriller   \n",
      "7660                1.92  Thriller, Drama, Action, Adventure   \n",
      "2644                4.24                               Drama   \n",
      "17804               3.02            Thriller, Mystery, Drama   \n",
      "12369               2.83           Mystery, Horror, Thriller   \n",
      "\n",
      "                                        language  \\\n",
      "4230                                     English   \n",
      "10252                                    English   \n",
      "4985                                     English   \n",
      "5242                English, English, Portuguese   \n",
      "10863                                    English   \n",
      "...                                          ...   \n",
      "10140  Spanish, German, Spanish, Hebrew (modern)   \n",
      "7660                English, English, Portuguese   \n",
      "2644                                     English   \n",
      "17804                                    English   \n",
      "12369                                    English   \n",
      "\n",
      "                              countries  \\\n",
      "4230                         Spain, USA   \n",
      "10252                         Australia   \n",
      "4985                                USA   \n",
      "5242     USA, South Africa, New Zealand   \n",
      "10863                               USA   \n",
      "...                                 ...   \n",
      "10140  Argentina, France, Norway, Spain   \n",
      "7660              Australia, China, USA   \n",
      "2644                                USA   \n",
      "17804                               USA   \n",
      "12369                               USA   \n",
      "\n",
      "                                                  themes  \\\n",
      "4230   ['Horror, the undead and monster classics', 'T...   \n",
      "10252  ['Horror, the undead and monster classics', 'G...   \n",
      "4985   ['Intense violence and sexual transgression', ...   \n",
      "5242   ['Epic heroes', 'Epic history and literature',...   \n",
      "10863  ['Horror, the undead and monster classics', 'G...   \n",
      "...                                                  ...   \n",
      "10140  ['Moving relationship stories', 'Nazis and Wor...   \n",
      "7660   ['High speed and special ops', 'Explosive and ...   \n",
      "2644   ['Moving relationship stories', 'Gritty crime ...   \n",
      "17804  ['Intense violence and sexual transgression', ...   \n",
      "12369  ['Horror, the undead and monster classics', 'I...   \n",
      "\n",
      "                    director  \\\n",
      "4230          Rodrigo Cortés   \n",
      "10252           Mark Hartley   \n",
      "4985          Clint Eastwood   \n",
      "5242         Roland Emmerich   \n",
      "10863           Gregg Bishop   \n",
      "...                      ...   \n",
      "10140           Lucía Puenzo   \n",
      "7660           Mark Williams   \n",
      "2644   Alexander Mackendrick   \n",
      "17804             Mark Young   \n",
      "12369        John McNaughton   \n",
      "\n",
      "                                                  events  has_warnings  \n",
      "4230                                                 NaN         False  \n",
      "10252                                                NaN         False  \n",
      "4985                                                 NaN         False  \n",
      "5242                                                 NaN         False  \n",
      "10863  jump scares, spiders, flashing lights or image...          True  \n",
      "...                                                  ...           ...  \n",
      "10140                                                NaN         False  \n",
      "7660                                                 NaN         False  \n",
      "2644                                                 NaN         False  \n",
      "17804                                                NaN         False  \n",
      "12369  kids dying, people being burned alive, finger ...          True  \n",
      "\n",
      "[8000 rows x 13 columns]\n"
     ]
    }
   ],
   "source": [
    "# Sample 5000 random rows from 'df'\n",
    "df_sampled = df.sample(n=8000, random_state=42)  # n=8000 for exact sample size, random_state ensures reproducibility\n",
    "\n",
    "# Print the sampled DataFrame\n",
    "print(\"Sampled DataFrame (8000 random rows):\")\n",
    "print(df_sampled)"
   ]
  },
  {
   "cell_type": "code",
   "execution_count": 10,
   "metadata": {},
   "outputs": [
    {
     "name": "stdout",
     "output_type": "stream",
     "text": [
      "csv successfully generated!\n"
     ]
    }
   ],
   "source": [
    "df_sampled.to_csv('../data/local/clean/letterboxd_sample_streamlit.csv')\n",
    "print('csv successfully generated!')"
   ]
  },
  {
   "cell_type": "code",
   "execution_count": null,
   "metadata": {},
   "outputs": [],
   "source": []
  }
 ],
 "metadata": {
  "kernelspec": {
   "display_name": "movie_env",
   "language": "python",
   "name": "python3"
  },
  "language_info": {
   "codemirror_mode": {
    "name": "ipython",
    "version": 3
   },
   "file_extension": ".py",
   "mimetype": "text/x-python",
   "name": "python",
   "nbconvert_exporter": "python",
   "pygments_lexer": "ipython3",
   "version": "3.12.3"
  }
 },
 "nbformat": 4,
 "nbformat_minor": 2
}
