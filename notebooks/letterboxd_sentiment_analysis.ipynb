{
 "cells": [
  {
   "cell_type": "markdown",
   "metadata": {},
   "source": [
    "# Sentiment Analysis - **Letterboxd DF**"
   ]
  },
  {
   "cell_type": "code",
   "execution_count": 1,
   "metadata": {},
   "outputs": [],
   "source": [
    "import pandas as pd\n",
    "import nltk\n",
    "from nltk.sentiment.vader import SentimentIntensityAnalyzer\n",
    "import re\n",
    "import plotly.express as px\n",
    "import plotly.graph_objects as go"
   ]
  },
  {
   "cell_type": "code",
   "execution_count": null,
   "metadata": {},
   "outputs": [],
   "source": [
    "nltk.download('vader_lexicon')\n",
    "nltk.download('stopwords')"
   ]
  },
  {
   "cell_type": "markdown",
   "metadata": {},
   "source": [
    "Import reusable functions for sentiment analysis from ./utils folder"
   ]
  },
  {
   "cell_type": "code",
   "execution_count": 3,
   "metadata": {},
   "outputs": [],
   "source": [
    "import sys\n",
    "sys.path.append('../utils')\n",
    "import sentiment_utils"
   ]
  },
  {
   "cell_type": "code",
   "execution_count": null,
   "metadata": {},
   "outputs": [],
   "source": [
    "films = pd.read_csv('../data/clean/letterboxd_clean_films.csv')\n",
    "films.head()"
   ]
  },
  {
   "cell_type": "code",
   "execution_count": 5,
   "metadata": {},
   "outputs": [],
   "source": [
    "cleaned_films = films.copy()\n",
    "cleaned_films.drop(columns=['topics', 'doesthedog_id', 'letterboxd_id'], inplace=True)"
   ]
  },
  {
   "cell_type": "code",
   "execution_count": null,
   "metadata": {},
   "outputs": [],
   "source": [
    "cleaned_films.head()\n"
   ]
  },
  {
   "cell_type": "code",
   "execution_count": 7,
   "metadata": {},
   "outputs": [],
   "source": [
    "cleaned_films = cleaned_films.dropna()"
   ]
  },
  {
   "cell_type": "code",
   "execution_count": null,
   "metadata": {},
   "outputs": [],
   "source": [
    "cleaned_films.info()"
   ]
  },
  {
   "cell_type": "code",
   "execution_count": null,
   "metadata": {},
   "outputs": [],
   "source": [
    "display(cleaned_films)"
   ]
  },
  {
   "cell_type": "markdown",
   "metadata": {},
   "source": [
    "#### Preprocess Text Data\n",
    "- Clean the text by removing irrelevant characters, stopwords, and converting text to lowercase.\n",
    "- Handle missing values in columns like genres, events, summary, etc.\n",
    "- Tokenize the text and split genres by commas if necessary."
   ]
  },
  {
   "cell_type": "code",
   "execution_count": 10,
   "metadata": {},
   "outputs": [],
   "source": [
    "def clean_title(title):\n",
    "    if isinstance(title, str):  \n",
    "        title = title.strip() \n",
    "        title = re.sub(r'\\s+', ' ', title)  \n",
    "        title = re.sub(\n",
    "            r'[^\\w\\sàáâäãåçèéêëìíîïñòóôöõùúûüýÿÀÁÂÄÃÅÇÈÉÊËÌÍÎÏÑÒÓÔÖÕÙÚÛÜÝ]', '', title\n",
    "        )\n",
    "        return title\n",
    "    return None \n",
    "\n",
    "\n",
    "# Apply cleaning function to relevant columns using .loc to avoid SettingWithCopyWarning\n",
    "cleaned_films.loc[:, 'title'] = cleaned_films['title'].apply(clean_title)\n",
    "cleaned_films.loc[:, 'summary'] = cleaned_films['summary'].apply(clean_title)"
   ]
  },
  {
   "cell_type": "code",
   "execution_count": null,
   "metadata": {},
   "outputs": [],
   "source": [
    "display(cleaned_films)"
   ]
  },
  {
   "cell_type": "markdown",
   "metadata": {},
   "source": [
    "### Sentiment Analysis"
   ]
  },
  {
   "cell_type": "markdown",
   "metadata": {},
   "source": [
    "1. Exploding Columns with Multiple Values"
   ]
  },
  {
   "cell_type": "code",
   "execution_count": null,
   "metadata": {},
   "outputs": [],
   "source": [
    "films_exploded_genres = sentiment_utils.explode_column(cleaned_films, 'genres')\n",
    "films_exploded_genres[['title', 'genres']].head()"
   ]
  },
  {
   "cell_type": "code",
   "execution_count": null,
   "metadata": {},
   "outputs": [],
   "source": [
    "films_exploded_languages = sentiment_utils.explode_column(cleaned_films, 'language')\n",
    "films_exploded_languages[['title', 'language']].head()"
   ]
  },
  {
   "cell_type": "code",
   "execution_count": null,
   "metadata": {},
   "outputs": [],
   "source": [
    "films_exploded_countries = sentiment_utils.explode_column(cleaned_films, 'countries')\n",
    "films_exploded_countries[['title', 'countries']].head()"
   ]
  },
  {
   "cell_type": "code",
   "execution_count": null,
   "metadata": {},
   "outputs": [],
   "source": [
    "films_exploded_events = sentiment_utils.explode_column(cleaned_films, 'events')\n",
    "films_exploded_events[['title', 'events']].head()"
   ]
  },
  {
   "cell_type": "code",
   "execution_count": null,
   "metadata": {},
   "outputs": [],
   "source": [
    "# explode themes (already a list)\n",
    "cleaned_films['themes'] = cleaned_films['themes'].apply(lambda x: eval(x) if isinstance(x, str) else x)\n",
    "\n",
    "films_exploded_themes = cleaned_films.explode('themes')\n",
    "\n",
    "films_exploded_themes[['title', 'themes']].head()"
   ]
  },
  {
   "cell_type": "markdown",
   "metadata": {},
   "source": [
    "#### 2. Sentiment Analysis on Exploded DFs"
   ]
  },
  {
   "cell_type": "code",
   "execution_count": 21,
   "metadata": {},
   "outputs": [],
   "source": [
    "# calculate the sentiment score for a text\n",
    "films_exploded_genres = sentiment_utils.add_sentiment_columns(films_exploded_genres, ['title', 'summary', 'tagline'])"
   ]
  },
  {
   "cell_type": "code",
   "execution_count": 22,
   "metadata": {},
   "outputs": [],
   "source": [
    "# calculate the sentiment score for a text\n",
    "films_exploded_languages = sentiment_utils.add_sentiment_columns(films_exploded_languages, ['title', 'summary', 'tagline'])"
   ]
  },
  {
   "cell_type": "code",
   "execution_count": 23,
   "metadata": {},
   "outputs": [],
   "source": [
    "films_exploded_countries = sentiment_utils.add_sentiment_columns(films_exploded_countries, ['title', 'summary', 'tagline'])"
   ]
  },
  {
   "cell_type": "code",
   "execution_count": null,
   "metadata": {},
   "outputs": [],
   "source": [
    "films_exploded_events = sentiment_utils.add_sentiment_columns(films_exploded_events, ['title', 'summary', 'tagline'])"
   ]
  },
  {
   "cell_type": "code",
   "execution_count": null,
   "metadata": {},
   "outputs": [],
   "source": [
    "films_exploded_themes = sentiment_utils.add_sentiment_columns(films_exploded_themes, ['title', 'summary', 'tagline'])"
   ]
  },
  {
   "cell_type": "markdown",
   "metadata": {},
   "source": [
    "#### 3. Combine Sentiment Scores for Each Exploded DataFrame"
   ]
  },
  {
   "cell_type": "code",
   "execution_count": null,
   "metadata": {},
   "outputs": [],
   "source": [
    "# define sentiment columns to average\n",
    "sentiment_columns = ['sentiment_title', 'sentiment_summary', 'sentiment_tagline']\n",
    "\n",
    "# apply function\n",
    "films_exploded_genres = sentiment_utils.calculate_overall_sentiment(films_exploded_genres, sentiment_columns)\n",
    "print(films_exploded_genres[['title', 'genres', 'overall_sentiment']].head())"
   ]
  },
  {
   "cell_type": "code",
   "execution_count": null,
   "metadata": {},
   "outputs": [],
   "source": [
    "films_exploded_languages = sentiment_utils.calculate_overall_sentiment(films_exploded_languages, sentiment_columns)\n",
    "print(films_exploded_languages[['title', 'language', 'overall_sentiment']].head())"
   ]
  },
  {
   "cell_type": "code",
   "execution_count": null,
   "metadata": {},
   "outputs": [],
   "source": [
    "films_exploded_countries = sentiment_utils.calculate_overall_sentiment(films_exploded_countries, sentiment_columns)\n",
    "print(films_exploded_countries[['title', 'countries', 'overall_sentiment']].head())"
   ]
  },
  {
   "cell_type": "code",
   "execution_count": null,
   "metadata": {},
   "outputs": [],
   "source": [
    "films_exploded_events = sentiment_utils.calculate_overall_sentiment(films_exploded_events, sentiment_columns)\n",
    "print(films_exploded_events[['title', 'events', 'overall_sentiment']].head())"
   ]
  },
  {
   "cell_type": "code",
   "execution_count": null,
   "metadata": {},
   "outputs": [],
   "source": [
    "films_exploded_themes = sentiment_utils.calculate_overall_sentiment(films_exploded_themes, sentiment_columns)\n",
    "print(films_exploded_themes[['title', 'themes', 'overall_sentiment']].head())"
   ]
  },
  {
   "cell_type": "markdown",
   "metadata": {},
   "source": [
    "#### 4. Visualizing Sentiment vs. Rating"
   ]
  },
  {
   "cell_type": "markdown",
   "metadata": {},
   "source": [
    "#### **Sentiment vs. Rating for Genres**"
   ]
  },
  {
   "cell_type": "code",
   "execution_count": null,
   "metadata": {},
   "outputs": [],
   "source": [
    "sentiment_utils.plot_sentiment_distribution(\n",
    "    films_exploded_genres, \n",
    "    category_column='genres', \n",
    "    sentiment_column='overall_sentiment', \n",
    "    title='Sentiment Distribution by GEnre',\n",
    "    xaxis_title='Theme', \n",
    "    yaxis_title='Overall Sentiment'\n",
    ")"
   ]
  },
  {
   "cell_type": "markdown",
   "metadata": {},
   "source": [
    "#### **Sentiment vs. Rating for Languages**"
   ]
  },
  {
   "cell_type": "code",
   "execution_count": null,
   "metadata": {},
   "outputs": [],
   "source": [
    "# Usage examples:\n",
    "sentiment_utils.plot_sentiment_distribution(\n",
    "    films_exploded_languages, \n",
    "    category_column='language', \n",
    "    sentiment_column='overall_sentiment', \n",
    "    title='Sentiment Distribution by Language',\n",
    "    xaxis_title='Language', \n",
    "    yaxis_title='Overall Sentiment'\n",
    ")"
   ]
  },
  {
   "cell_type": "markdown",
   "metadata": {},
   "source": [
    "#### **Sentiment vs. Rating for Events**"
   ]
  },
  {
   "cell_type": "code",
   "execution_count": null,
   "metadata": {},
   "outputs": [],
   "source": [
    "\n",
    "\n",
    "sentiment_utils.plot_sentiment_distribution(\n",
    "    films_exploded_events, \n",
    "    category_column='events', \n",
    "    sentiment_column='overall_sentiment', \n",
    "    title='Sentiment Distribution by Events',\n",
    "    xaxis_title='Event', \n",
    "    yaxis_title='Overall Sentiment'\n",
    ")"
   ]
  },
  {
   "cell_type": "markdown",
   "metadata": {},
   "source": [
    "#### **Sentiment vs. Rating for Themes**"
   ]
  },
  {
   "cell_type": "code",
   "execution_count": null,
   "metadata": {},
   "outputs": [],
   "source": [
    "sentiment_utils.plot_sentiment_distribution(\n",
    "    films_exploded_themes, \n",
    "    category_column='themes', \n",
    "    sentiment_column='overall_sentiment', \n",
    "    title='Sentiment Distribution by Themes',\n",
    "    xaxis_title='Theme', \n",
    "    yaxis_title='Overall Sentiment'\n",
    ")"
   ]
  },
  {
   "cell_type": "markdown",
   "metadata": {},
   "source": [
    "To understand how factors like themes, events, genres, and whether a title has warnings (has_warnings) impact the rating (letterboxd_rating), we can use statistical or machine learning techniques to analyze the relationships between these variables and the letterboxd_rating."
   ]
  },
  {
   "cell_type": "code",
   "execution_count": null,
   "metadata": {},
   "outputs": [],
   "source": [
    "films_exploded_themes = sentiment_utils.explode_column_from_string(cleaned_films.copy(), 'themes')\n",
    "films_exploded_genres = sentiment_utils.explode_column_from_string(cleaned_films.copy(), 'genres')\n",
    "films_exploded_events = sentiment_utils.explode_column_from_string(cleaned_films.copy(), 'events')\n",
    "\n",
    "print(films_exploded_themes[['title', 'themes']].head())\n",
    "print(films_exploded_genres[['title', 'genres']].head())\n",
    "print(films_exploded_events[['title', 'events']].head())"
   ]
  },
  {
   "cell_type": "markdown",
   "metadata": {},
   "source": [
    "#### Encoding Categorical Variables"
   ]
  },
  {
   "cell_type": "code",
   "execution_count": null,
   "metadata": {},
   "outputs": [],
   "source": [
    "# One-hot encoding the exploded themes, genres, and events columns\n",
    "films_exploded_themes_encoded = pd.get_dummies(films_exploded_themes, columns=['themes'])\n",
    "films_exploded_genres_encoded = pd.get_dummies(films_exploded_genres, columns=['genres'])\n",
    "films_exploded_events_encoded = pd.get_dummies(films_exploded_events, columns=['events'])\n",
    "\n",
    "# Encode the 'has_warnings' column (True/False to 1/0)\n",
    "films_exploded_themes_encoded['has_warnings'] = films_exploded_themes_encoded['has_warnings'].astype(int)\n",
    "\n",
    "# Merge the exploded dataframes (themes, genres, events)\n",
    "films_exploded_merged = pd.merge(films_exploded_themes_encoded, films_exploded_genres_encoded, how='inner', on=['title', 'release_year', 'letterboxd_rating'])\n",
    "films_exploded_merged = pd.merge(films_exploded_merged, films_exploded_events_encoded, how='inner', on=['title', 'release_year', 'letterboxd_rating'])\n",
    "\n",
    "films_exploded_merged.head(2)"
   ]
  },
  {
   "cell_type": "markdown",
   "metadata": {},
   "source": [
    "#### Correlation and Feature Importance"
   ]
  },
  {
   "cell_type": "code",
   "execution_count": null,
   "metadata": {},
   "outputs": [],
   "source": [
    "# Select only numeric columns\n",
    "numeric_columns = films_exploded_merged.select_dtypes(include=['number']).columns\n",
    "\n",
    "# Print all the numerical columns\n",
    "print(\"Numerical Features in the Dataset:\")\n",
    "for i, col in enumerate(numeric_columns, 1):\n",
    "    print(f\"{i}. {col}\")"
   ]
  },
  {
   "cell_type": "code",
   "execution_count": null,
   "metadata": {},
   "outputs": [],
   "source": [
    "\n",
    "# numeric columns for correlation\n",
    "numeric_columns = ['release_year', 'letterboxd_rating', 'runtime']\n",
    "\n",
    "correlation_matrix = films_exploded_merged[numeric_columns].corr()\n",
    "\n",
    "fig = go.Figure(data=go.Heatmap(\n",
    "    z=correlation_matrix.values, \n",
    "    x=correlation_matrix.columns,  \n",
    "    y=correlation_matrix.columns, \n",
    "    colorscale='Viridis', \n",
    "    colorbar=dict(title=\"Correlation\"), \n",
    "))\n",
    "\n",
    "fig.update_layout(\n",
    "    title=\"Correlation Matrix of Numerical Features\",\n",
    "    xaxis_title=\"Features\",\n",
    "    yaxis_title=\"Features\",\n",
    "    xaxis=dict(tickmode='array', tickvals=list(range(len(correlation_matrix.columns))), ticktext=correlation_matrix.columns),\n",
    "    yaxis=dict(tickmode='array', tickvals=list(range(len(correlation_matrix.columns))), ticktext=correlation_matrix.columns),\n",
    "    height=800,\n",
    ")\n",
    "\n",
    "fig.show()"
   ]
  },
  {
   "cell_type": "code",
   "execution_count": null,
   "metadata": {},
   "outputs": [],
   "source": []
  }
 ],
 "metadata": {
  "kernelspec": {
   "display_name": "movie_env",
   "language": "python",
   "name": "python3"
  },
  "language_info": {
   "codemirror_mode": {
    "name": "ipython",
    "version": 3
   },
   "file_extension": ".py",
   "mimetype": "text/x-python",
   "name": "python",
   "nbconvert_exporter": "python",
   "pygments_lexer": "ipython3",
   "version": "3.12.3"
  }
 },
 "nbformat": 4,
 "nbformat_minor": 2
}
